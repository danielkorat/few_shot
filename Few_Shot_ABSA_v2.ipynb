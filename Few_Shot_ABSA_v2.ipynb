{
 "cells": [
  {
   "cell_type": "code",
   "execution_count": 1,
   "metadata": {},
   "outputs": [],
   "source": [
    "from sys import executable as python\n",
    "\n",
    "# !{python} -m pip install -q -U pip seqeval plotly plotly_utils spacy matplotlib spacy datasets\n",
    "# !{python} -m spacy download en_core_web_sm\n",
    "# !git clone https://github.com/huggingface/transformers.git\n",
    "#!{python} -m pip install -e transformers"
   ]
  },
  {
   "cell_type": "code",
   "execution_count": 6,
   "metadata": {},
   "outputs": [
    {
     "name": "stdout",
     "output_type": "stream",
     "text": [
      "argon2-cffi==20.1.0\r\n",
      "async-generator==1.10\r\n",
      "attrs==20.3.0\r\n",
      "backcall==0.2.0\r\n",
      "bleach==3.2.2\r\n",
      "blis==0.7.4\r\n",
      "catalogue==2.0.1\r\n",
      "certifi==2020.12.5\r\n",
      "cffi==1.14.4\r\n",
      "chardet==4.0.0\r\n",
      "click==7.1.2\r\n",
      "contextvars==2.4\r\n",
      "cycler==0.10.0\r\n",
      "cymem==2.0.5\r\n",
      "dataclasses==0.8\r\n",
      "datasets==1.2.1\r\n",
      "decorator==4.4.2\r\n",
      "defusedxml==0.6.0\r\n",
      "dill==0.3.3\r\n",
      "en-core-web-sm @ https://github.com/explosion/spacy-models/releases/download/en_core_web_sm-3.0.0/en_core_web_sm-3.0.0-py3-none-any.whl\r\n",
      "entrypoints==0.3\r\n",
      "filelock==3.0.12\r\n",
      "idna==2.10\r\n",
      "immutables==0.14\r\n",
      "importlib-metadata==3.4.0\r\n",
      "ipykernel==5.4.3\r\n",
      "ipython==7.16.1\r\n",
      "ipython-genutils==0.2.0\r\n",
      "ipywidgets==7.6.3\r\n",
      "jedi==0.18.0\r\n",
      "Jinja2==2.11.2\r\n",
      "joblib==1.0.0\r\n",
      "jsonschema==3.2.0\r\n",
      "jupyter==1.0.0\r\n",
      "jupyter-client==6.1.11\r\n",
      "jupyter-console==6.2.0\r\n",
      "jupyter-core==4.7.0\r\n",
      "jupyter-http-over-ws==0.0.8\r\n",
      "jupyterlab-pygments==0.1.2\r\n",
      "jupyterlab-widgets==1.0.0\r\n",
      "kiwisolver==1.3.1\r\n",
      "MarkupSafe==1.1.1\r\n",
      "matplotlib==3.3.4\r\n",
      "mistune==0.8.4\r\n",
      "multiprocess==0.70.11.1\r\n",
      "murmurhash==1.0.5\r\n",
      "nbclient==0.5.1\r\n",
      "nbconvert==6.0.7\r\n",
      "nbformat==5.1.2\r\n",
      "nest-asyncio==1.4.3\r\n",
      "notebook==6.2.0\r\n",
      "numpy==1.19.5\r\n",
      "packaging==20.8\r\n",
      "pandas==1.1.5\r\n",
      "pandocfilters==1.4.3\r\n",
      "parso==0.8.1\r\n",
      "pathy==0.3.4\r\n",
      "patsy==0.5.1\r\n",
      "pexpect==4.8.0\r\n",
      "pickleshare==0.7.5\r\n",
      "Pillow==8.1.0\r\n",
      "plac==1.1.3\r\n",
      "plotly==4.14.3\r\n",
      "plotly-utils==0.0.3\r\n",
      "preshed==3.0.5\r\n",
      "prometheus-client==0.9.0\r\n",
      "prompt-toolkit==3.0.13\r\n",
      "ptyprocess==0.7.0\r\n",
      "pyarrow==3.0.0\r\n",
      "pycparser==2.20\r\n",
      "pydantic==1.7.3\r\n",
      "Pygments==2.7.4\r\n",
      "pyparsing==2.4.7\r\n",
      "pyrsistent==0.17.3\r\n",
      "python-dateutil==2.8.1\r\n",
      "pytz==2020.5\r\n",
      "pyzmq==21.0.1\r\n",
      "qtconsole==5.0.2\r\n",
      "QtPy==1.9.0\r\n",
      "regex==2020.11.13\r\n",
      "requests==2.25.1\r\n",
      "retrying==1.3.3\r\n",
      "sacremoses==0.0.43\r\n",
      "scikit-learn==0.24.1\r\n",
      "scipy==1.5.4\r\n",
      "Send2Trash==1.5.0\r\n",
      "seqeval==1.2.2\r\n",
      "six==1.15.0\r\n",
      "smart-open==3.0.0\r\n",
      "spacy==3.0.1\r\n",
      "spacy-legacy==3.0.1\r\n",
      "srsly==2.4.0\r\n",
      "statsmodels==0.12.1\r\n",
      "terminado==0.9.2\r\n",
      "testpath==0.4.4\r\n",
      "thinc==8.0.1\r\n",
      "threadpoolctl==2.1.0\r\n",
      "tokenizers==0.10.1rc1\r\n",
      "torch==1.7.1+cu110\r\n",
      "torchaudio==0.7.2\r\n",
      "torchvision==0.8.2+cu110\r\n",
      "tornado==6.1\r\n",
      "tqdm==4.49.0\r\n",
      "traitlets==4.3.3\r\n",
      "typer==0.3.2\r\n",
      "typing-extensions==3.7.4.3\r\n",
      "urllib3==1.26.2\r\n",
      "wasabi==0.8.1\r\n",
      "wcwidth==0.2.5\r\n",
      "webencodings==0.5.1\r\n",
      "widgetsnbextension==3.5.1\r\n",
      "xxhash==2.0.0\r\n",
      "zipp==3.4.0\r\n"
     ]
    }
   ],
   "source": [
    "!{python} -m pip freeze seqeval plotly plotly_utils spacy matplotlib spacy datasets"
   ]
  },
  {
   "cell_type": "code",
   "execution_count": 4,
   "metadata": {},
   "outputs": [],
   "source": [
    "!{python} -m pip freeze > requirements.txt"
   ]
  },
  {
   "cell_type": "code",
   "execution_count": 5,
   "metadata": {
    "colab": {
     "base_uri": "https://localhost:8080/"
    },
    "id": "rLAlgApN3qVR",
    "outputId": "ecfedbcb-b91a-461f-f0cd-116207de13ce"
   },
   "outputs": [],
   "source": [
    "from transformers import pipeline\n",
    "from seqeval.metrics import f1_score, precision_score, recall_score,\\\n",
    "                            performance_measure\n",
    "import csv, json, pickle, spacy, requests, logging\n",
    "import pandas as pd\n",
    "from urllib.request import urlopen\n",
    "from sys import stdout\n",
    "import plotly.express as px\n",
    "from matplotlib import pyplot as plt\n",
    "import numpy as np\n",
    "\n",
    "logging.disable(logging.WARNING)\n",
    "\n",
    "from tqdm import tqdm as tq\n",
    "def tqdm(iter, **kwargs):\n",
    "    return tq(list(iter), kwargs, position=0, leave=True, file=stdout)\n",
    "\n",
    "DATA_DIR = 'https://raw.githubusercontent.com/IntelLabs/nlp-architect/libert/nlp_architect/models/libert/data/'\n",
    "CSV_DATA_DIR = DATA_DIR + 'csv/spacy/domains_all/'\n",
    "JSON_DATA_DIR = DATA_DIR + 'Dai2019/semeval14/'\n",
    "\n",
    "def load_dataset(csv_url, json_url, multi_token=False):\n",
    "    json_rows = requests.get(JSON_DATA_DIR + json_url).text.splitlines()\n",
    "\n",
    "    row_break = \"\\r\\n_,_,_,_,_,_,_\\r\\n_,_,_,_,_,_,_\\r\\n\"\n",
    "    csv_text = requests.get(CSV_DATA_DIR + csv_url).text\n",
    "    csv_text = csv_text[csv_text.index('\\n') + 1:] # skip csv header\n",
    "    csv_sents = csv_text.split(row_break)[:len(json_rows)] # clip train data\n",
    "    ds, aspects = [], []\n",
    "\n",
    "    for json_row, csv_sent in zip(json_rows, csv_sents):\n",
    "        json_obj = json.loads(json_row)\n",
    "        text = json_obj['text']\n",
    "        tokens, labels, aspects = [], [], []\n",
    "        for token, label, *_ in csv.reader(csv_sent.splitlines()):\n",
    "            if label == 'I-ASP':\n",
    "                aspects = None\n",
    "                break\n",
    "            tokens.append(token)\n",
    "            if label == 'B-ASP':\n",
    "                aspects.append(token)\n",
    "                labels.append(label)\n",
    "            else:\n",
    "                labels.append('O')\n",
    "        if aspects == None and not multi_token:\n",
    "            continue\n",
    "        if multi_token and 'terms' in json_obj:\n",
    "            aspects = [t['term'] for t in json_obj['terms']]\n",
    "        ds.append((text, tokens, labels, aspects))\n",
    "    return ds\n",
    "\n",
    "# res_ds = load_dataset('restaurants.csv', \"restaurants/restaurants_train_sents.json\")\n",
    "# lap_ds = load_dataset('laptops.csv', \"laptops/laptops_train_sents.json\")\n",
    "# domain_ds = {'res': res_ds, 'lap': lap_ds}\n",
    "\n",
    "# print(f'RESTAURANTS (size={len(res_ds)}):\\n')\n",
    "# for ex in res_ds[:5]:\n",
    "#     print(ex[0], ex[3])\n",
    "\n",
    "# print(f'\\n\\nLAPTOPS (size={len(lap_ds)}):\\n')\n",
    "# for ex in lap_ds[:5]:\n",
    "#     print(ex[0], ex[3])\n",
    "\n",
    "# train_size = 100\n",
    "# res_train, res_test = res_ds[:train_size], res_ds[train_size:]\n",
    "# lap_train, lap_test = lap_ds[:train_size], lap_ds[train_size:]\n",
    "\n",
    "# models_dict = {}"
   ]
  },
  {
   "cell_type": "code",
   "execution_count": 6,
   "metadata": {},
   "outputs": [
    {
     "name": "stdout",
     "output_type": "stream",
     "text": [
      "RESTAURANTS (size=3044):\n",
      "\n",
      "Our agreed favorite is the orrechiete with sausage and chicken (usually the waiters are kind enough to split the dish in half so you get to sample both meats). ['orrechiete with sausage and chicken', 'waiters', 'meats', 'dish']\n",
      "All the money went into the interior decoration, none of it went to the chefs. ['interior decoration', 'chefs']\n",
      "I asked for seltzer with lime, no ice. ['seltzer with lime']\n",
      "this little place has a cute interior decor and affordable city prices. ['interior deco', 'prices']\n",
      "The fried rice is amazing here. ['fried rice']\n",
      "it's a perfect place to have a amanzing indian food. ['indian food']\n",
      "At the end you're left with a mild broth with noodles that you can slurp out of a cup. ['broth with noodles']\n",
      "The wine list is excellent. ['wine list']\n",
      "Ive been to many Thai restaurants in Manhattan before, and Toons is by far the best Thai food Ive had (except for my mom's of course). ['Thai food']\n",
      "They wouldnt even let me finish my glass of wine before offering another. ['glass of wine']\n",
      "Try the lasagnette appetizer. ['lasagnette appetizer']\n",
      "I liked the beer selection! ['beer selection']\n",
      "Wine list selection is good and wine-by-the-glass was generously filled to the top. ['Wine list selection', 'wine-by-the-glass']\n",
      "Not too crazy about their sake martini. ['sake martini']\n",
      "First went here to enjoy their garden terrace. ['garden terrace']\n",
      "We ordered the special, grilled branzino, that was so infused with bone, it was difficult to eat. ['grilled branzino']\n",
      "The wait staff is friendly, and the food has gotten better and better! ['wait staff', 'food']\n",
      "Le Pere Pinard has a $15 pre-theater menu that is outstanding. ['pre-theater menu']\n",
      "We had the lobster sandwich and it was FANTASTIC. ['lobster sandwich']\n",
      "Though the Spider Roll may look like a challenge to eat, with soft shell crab hanging out of the roll, it is well worth the price you pay for them. ['Spider Roll', 'price', 'shell crab']\n",
      "Deep Fried Skewers are good and still rare to find in NYC. ['Deep Fried Skewers']\n",
      "I also recommend the rice dishes or the different varieties of congee (rice porridge). ['rice dishes', 'congee (rice porridge)']\n",
      "Their tuna tartar appetizer is to die for. ['tuna tartar appetizer']\n",
      "I love Indian food and consider myself to be quite an expert on it. ['Indian food']\n",
      "Some baby pizzas get their wish. ['baby pizzas']\n",
      "The lava cake dessert was incredible and I recommend it. ['lava cake dessert']\n",
      "VT is what baby pizzas hope to be when they grow up. ['baby pizzas']\n",
      "good selection of wines ranging from affordable to high end. ['selection of wines']\n",
      "Nice restaurant overall, with classic upscale Italian decor. ['Italian decor']\n",
      "The entire dining experience was wonderful! ['dining experience']\n",
      "The wine selection (by the glass and bottle) is wonderful and I always recommend that friends make a reservation if they're going to be in town. ['wine selection', 'reservation']\n",
      "Order the panang duck, it's fantastic. ['panang duck']\n",
      "Luckily we saved room for the BBQ Salmon, Sea Bass and Crispy Duck. ['BBQ Salmon', 'Sea Bass', 'Crispy Duck']\n",
      "A glass of Leaping Lizard, a glass of prosecco, and the mussels had everything happy. ['glass of prosecco', 'mussels', 'glass of Leaping Lizard']\n",
      "For great chinese food nearby, you have Wu Liang Ye and Grand Sichuan just a block away. ['chinese food']\n",
      "Our favorite meal is a pesto pizza, the house salad, and a good bottle of wine. ['pesto pizza', 'house salad', 'bottle of wine', 'meal']\n",
      "Try the tandoori salmon! ['tandoori salmon']\n",
      "The other night we had the $30 three course meal and everything was delicious - if I could of licked the plate clean I would of. ['three course meal']\n",
      "We had crawfish boiled and despite making a mess, it was a ton of fun and quite tasty as well. ['crawfish boiled']\n",
      "I had the Pad Thai and the noodles were sticky. ['Pad Thai', 'noodles']\n",
      "Among all of the new 5th avenue restaurants, this offers by far one of the best values for your money. ['values for your money']\n",
      "even the wine by the glass was good. ['wine by the glass']\n",
      "I also ordered the Change Mojito, which was out of this world. ['Change Mojito']\n",
      "The soup for the udon was soy sauce and water. ['soup for the udon', 'soy sauce', 'water']\n",
      "Try their plain pizza with fresh garlic or eggplant. ['plain pizza', 'garlic', 'eggplant']\n",
      "Good luck getting a table. ['getting a table']\n",
      "The takeout menu says to keep an eye out for an expanded menu offering more italian dishes, I can't wait! ['takeout menu', 'menu', 'italian dishes']\n",
      "I am not the most experienced person when it comes to Thai food, but my friend who took me there is. ['Thai food']\n",
      "bottles of wine are cheap and good. ['bottles of wine']\n",
      "They didn't give us the dinner special until we asked for it. ['dinner special']\n",
      "You must have the crabmeat lasagna which is out of this world and the chocolate bread pudding for dessert. ['crabmeat lasagna', 'chocolate bread pudding', 'dessert']\n",
      "word of advice, save room for pasta dishes and never leave until you've had the tiramisu. ['pasta dishes', 'tiramisu']\n",
      "Please try the Filet Mignon, its just the most tender piece ever. ['Filet Mignon']\n",
      "The sake menu should not be overlooked! ['sake menu']\n",
      "i've been back to nha trang literally a hundred times for the beef cubes - they're that good. ['beef cubes']\n",
      "It is set far from the small street it's on, and there is no traffic noise. ['traffic noise']\n",
      "This is a nice restaurant if you are looking for a good place to host an intimate dinner meeting with business associates. ['dinner meeting']\n",
      "The Prix Fixe menu is worth every penny and you get more than enough (both in quantity AND quality). ['Prix Fixe menu', 'quantity', 'quality']\n",
      "I had their eggs benedict for brunch, which were the worst in my entire life, I tried removing the hollondaise sauce completely that was how failed it was. ['eggs benedict', 'hollondaise sauce', 'brunch']\n",
      "Based on the reviews for dinner, this is a place I would reconsider revisiting for that, but definitely not for Dim Sum again. ['Dim Sum', 'dinner']\n",
      "When he finally did, he was unable to make a gin and tonic -- couldn't find tonic. ['gin and tonic', 'tonic']\n",
      "The dim sum is ok but doesn't taste that fresh, and the little dishes don't look steamy hot as they should (also note lack of Chinese here). ['dim sum', 'little dishes']\n",
      "The only thing I moderately enjoyed was their Grilled Chicken special with Edamame Puree. ['Grilled Chicken special with Edamame Puree']\n",
      "If you want some roast duck, pork or chicken on rice with ginger, try them out! ['roast duck', 'pork', 'chicken on rice with ginger']\n",
      "This is an amazing place to try some roti rolls. ['roti rolls']\n",
      "Try the hot dogs too, they're snappy and delicious. ['hot dogs']\n",
      "The noise level was unbearable, conversation impossible. ['noise level']\n",
      "Personal pans are the perfect size for those hungry nights. ['Personal pans']\n",
      "Highly recommended is the Spicy Fried Clam Rolls and Spider Rolls. ['Spicy Fried Clam Rolls', 'Spider Rolls']\n",
      "head and shoulders above its neighboors on east 6 st, taj mahal is also very comparable, in food quality, to the much overpraised (and underdeserving) baluchi's. ['food quality']\n",
      "Great Indian food and the service is incredible. ['Indian food', 'service']\n",
      "I had the salmon dish and while it was fine, for the price paid, I expected it to have some type of flavor. ['salmon dish', 'flavor', 'price']\n",
      "We ordered a tuna melt - it came with out cheese which just made it a tuna sandwich. ['tuna melt', 'cheese', 'tuna sandwich']\n",
      "Especially liked chicken tikka and the naan, and the dals. ['chicken tikka', 'naan', 'dals']\n",
      "Don't eat here unless you're starving for thai food and you work next door. ['thai food']\n",
      "The overall price tag was very very expensive, something I did expect. ['price tag']\n",
      "Spice is great Thai food, love the inexpensive appetizers. ['Thai food', 'appetizers']\n",
      "When you're sitting in their main dining room (which has a spectacular, hand-painted high ceiling) you'd never know there was a world outside. ['main dining room', 'ceiling']\n",
      "We visited Bread Bar during January restaurant week and were so pleased with the menu selections and service. ['menu selections', 'service']\n",
      "The rest of the dim sum, though pricey by Chinatown standards, is worth it. ['dim sum']\n",
      "The wait staff is very friendly, if not overly efficient. ['wait staff']\n",
      "The dim sum however was very good. ['dim sum']\n",
      "Went there and had a combination of different seafood dishes and appetizers. ['seafood dishes', 'appetizers']\n",
      "The table next to us asked if he crushed the grapes himself when their long overdue bottle of wine finally arrived. ['bottle of wine', 'grapes']\n",
      "Plain and simple it's bad thai food. ['thai food']\n",
      "The Dim Sum was so-so, but not spectacular. ['Dim Sum']\n",
      "The lobster sandwich is $24 and although it was good it was not nearly enough to warrant that price. ['lobster sandwich', 'price']\n",
      "Next time, we wouldn't dare ordering anything else other than some simple Asian appetizers and drinks. ['Asian appetizers', 'drinks']\n",
      "black white shakes came out good also. ['black white shakes']\n",
      "I ordered the chu chu curry and my friend ordered the pad thai chicken. ['chu chu curry', 'pad thai chicken']\n",
      "my personal favorite is an everything bagel with lox spread, but all the bagles are unbeliavably good. ['bagel with lox spread', 'bagles']\n",
      "For the next hour and a half we stood in the crowded lobby area of this touristy restaurant listening to all types of explanations of why we were not being seated. ['lobby area', 'seated']\n",
      "Also good for client lunch meetings, esp. ['lunch meetings']\n",
      "The Italian food has flavor (that can be sort of surprising on the UES), and the service turns from a nightmare to attentive,they sort of remind me of the NY Yankees of the late 90's, no matter how bad it look, you knew that there was a rally just around the corner... ['Italian food', 'service']\n",
      "Pastrami or corned beef are juicy and piled high (ask for extra rye bread). ['Pastrami or corned beef', 'rye bread']\n",
      "($200 for 2 glasses of champagne, not too expensive bottle of wine and 2 after dinner drinks). ['glasses of champagne', 'bottle of wine', 'after dinner drinks']\n",
      "Solid wine list, knowledgeable staff, friendly owners and an adventurous, ever-changing menu keep us coming back. ['wine list', 'staff', 'owners', 'menu']\n",
      "I love and I know gourmet food by excellence! ['gourmet food']\n",
      "Try green curry with vegetables. ['green curry with vegetables']\n",
      "The Pad Thai is excellent here, as well. ['Pad Thai']\n",
      "I do not recommend lunch specials just because it tasts the same with other regular chinese restaurant. ['lunch specials']\n",
      "Orsay, is without a doubt one of the best values for authentic French food in NYC. ['French food']\n",
      "I ordered the smoked salmon and roe appetizer and it was off flavor. ['smoked salmon and roe appetizer']\n",
      "I recommend the garlic shrimp, okra (bindi), and anything with lamb. ['garlic shrimp', 'lamb', 'okra (bindi)']\n",
      "Good for casual dinner with jeans and sneakers. ['casual dinner']\n",
      "This place has many different styles of pizza and they are all amazing. ['styles of pizza']\n",
      "But the coconut rice was good. ['coconut rice']\n",
      "Quality of food is excellent and price is cheap, stick to pork, fish, chicken, lamb and vegetables. ['Quality of food', 'price', 'pork', 'fish', 'chicken', 'lamb', 'vegetables']\n",
      "Raga stands out with an interesting fusion of French and Indian cooking. ['fusion of French and Indian cooking']\n",
      "A few tips: skip the turnip cake, roast pork buns and egg custards. ['turnip cake', 'roast pork buns', 'egg custards']\n",
      "Oh yes, and they lie on the phone, claiming they have seating in the garden, then of course the seats are not available. ['seating in the garden', 'seats']\n",
      "The food options rule. ['food options']\n",
      "We ate here in March, 2006 and ordered the pre-theatre 3-course dinner with wine flight. ['pre-theatre 3-course dinner', 'wine flight']\n",
      "Check out the secret back room. ['secret back room']\n",
      "Stick to the gulab jamun. ['gulab jamun']\n",
      "By far this is the only chinese desserts place I know in NY or anywhere close in the Northeastern America that serves desserts with frog jelly in a couple of varieties and pig feet ginger simmered in black vinegar. ['pig feet ginger simmered in black vinegar', 'desserts with frog jelly']\n",
      "I would definitely recommend SEA if you like thai cuisine! ['thai cuisine']\n",
      "The restuarant itself is not large, but seems to have several round tables to accomodate large groups hoping to save a buck to eat authentic Taiwanese. ['round tables', 'Taiwanese']\n",
      "The combination of fresh tomato sauce, fresh mozz cheese, basil and the dough they make with imported flour, makes this is one of the better pizza's in NY. ['fresh tomato sauce', 'fresh mozz cheese', 'basil', 'dough', 'pizza', 'flour']\n",
      "For all of you new to Indian food, try the Paneer Roll, it is a piece of heaven. ['Indian food', 'Paneer Roll']\n",
      "Both the fresh mozzerella slices and the Plain Cheese slice are phenomenal. ['fresh mozzerella slices', 'Plain Cheese slice']\n",
      "I had Filet Mignon with garlic mash. ['Filet Mignon with garlic mash']\n",
      "I went at 6:00 PM specifically for the pre-theater menu ($19.95 for roasted tomato soup with chevre, steak frites, creme brulee) and it was marvelous. ['pre-theater menu', 'roasted tomato soup with chevre', 'steak frites', 'creme brulee']\n",
      "I cannot imagine better Indian food in all of the city. ['Indian food']\n",
      "This is a wonderful place on all stand points especially value ofr money. ['value ofr money']\n",
      "From beginning appetizers, the scallops were incredible, to the delicious chocolate souffle with rasberry mint sorbet, we were delighted by the taste sensations. ['beginning appetizers', 'scallops', 'chocolate souffle with rasberry mint sorbet', 'taste']\n",
      "Consistently good Japanese Tapas. ['Japanese Tapas']\n",
      "We recently decided to try this location, and to our delight, they have outdoor seating, perfect since I had my yorkie with me. ['outdoor seating']\n",
      "The table service could have been a little more attentive but as someone who also works in the service industry, I understood they were busy. ['table service', 'service']\n",
      "It's not mind-blowing, but to me, thai food never is and never will be. ['thai food']\n",
      "I haven't eat a lamb chop as delicious as that,the salads are really nice dressed with lemon and extra virgnin olive oil. ['lamb chop', 'salads', 'lemon', 'extra virgnin olive oil']\n",
      "The Pastrami sandwich was like buttah and with pickles and an icy cold beer to wash it down, it was a pleasurable experience. ['Pastrami sandwich', 'beer', 'pickles']\n",
      "The plain pizza was soggy and the creative wild mushroom(third generation-Fornini) pizza we had was drenched with truffle oil in the middle( again making it soggy) and nothingon the rest. ['plain pizza', 'truffle oil', 'wild mushroom(third generation-Fornini) pizza']\n",
      "Went there with my wife and we had to wait for a table even though you could see there many that were empty with not reservation sigh on them. ['reservation sigh', 'table']\n",
      "The outdoor atmosphere of sitting on the sidewalk watching the world go by 50 feet away on 6th avenue on a cool evening was wonderful. ['outdoor atmosphere']\n",
      "For many people, this may not seem like Aunthentic Thai food because most places in NYC arent quite authentic. ['Thai food']\n",
      "The scallion pancakes and fried dumplings were nothing out of the ordinary. ['scallion pancakes', 'fried dumplings']\n",
      "I was pretty much full after our fondue appetizer. ['fondue appetizer']\n",
      "The octopus eaters were floored by the Octopus salad. ['Octopus salad']\n",
      "And the Tom Kha soup was pathetic. ['Tom Kha soup']\n",
      "I started out with a Bombay beer which was big enough for two. ['Bombay beer']\n",
      "Went there for an office lunch. ['office lunch']\n",
      "The sweet lassi was excellent as was the lamb chettinad and the garlic naan but the rasamalai was forgettable. ['sweet lassi', 'lamb chettinad', 'garlic naan', 'rasamalai']\n",
      "We've been following chef Lyle's food around New York for 15 years and while remaining classic, his innovations with bistro fare have made us return and return. ['bistro fare', 'chef', 'food']\n",
      "The spicy tuna and salmon are the best we've ever had. ['spicy tuna', 'salmon']\n",
      "Been going here since it opened have seen the quality value decrease considerably. ['quality value']\n",
      "Meat dishes now adorn the selections, although there's still a large number of vegetarian-friendly choices. ['Meat dishes', 'vegetarian-friendly choices']\n",
      "they bring service up a notch by offerng complementary amuse bouche to all tables and gave us a small dessert for our celebration. ['amuse bouche', 'dessert', 'tables', 'service']\n",
      "Try the crunchy tuna, it is to die for. ['crunchy tuna']\n",
      "It is a lot of fun with live entertainment and all kinds of Disney type special effects. ['live entertainment', 'special effects']\n",
      "No refills on fountain drinks, though. ['fountain drinks']\n",
      "The Steak Tartare is a great bet, they fix it for you at the table. ['Steak Tartare']\n",
      "My first time there I happened not to like the Crab Croquette apt that i ordered and they were happy to change it for me without making no big deal. ['Crab Croquette apt']\n",
      "Plus, on Wednesday nights the house wine is unlimited! ['house wine']\n",
      "The dim sum servings here are a bit larger than I'm used to. ['dim sum servings']\n",
      "Barbecued codfish was gorgeously moist - as if poached - yet the fabulous texture was let down by curiously bland seasoning - a spice rub might have overwhelmed, however herb mix or other sauce would have done much to enhance. ['Barbecued codfish', 'seasoning', 'texture', 'spice rub', 'herb mix', 'sauce']\n",
      "After dinner, take your date to the HUGE dance floor, probably one of the biggest you'll see in NY. ['dance floor', 'dinner']\n",
      "Best Italian food I ever had (and being Italian, that means alot). ['Italian food']\n",
      "I will recommend Scopa to all of my friends for a place to go for wonderful Italian food. ['Italian food']\n",
      "They don't walk around with the trays of Dim Sum. ['trays of Dim Sum']\n",
      "But the main hit was the whole grilled fish. ['whole grilled fish']\n",
      "I had the tuna tartare with sake, mushroom ravioli with pinot noir, and the chocolate sampler with a dessert wine for $49. ['tuna tartare', 'sake', 'mushroom ravioli', 'pinot noir', 'chocolate sampler', 'dessert wine']\n",
      "But after last night, Spice Grill is the only place I'm eating indian cuisine. ['indian cuisine']\n",
      "We both opted for a pasta dish and they were served timely and fresh. ['pasta dish', 'served']\n",
      "In an area sadly lacking in decent Thai food, this is one of the best spots. ['Thai food']\n",
      "Make reservations but expect to be delayed 15-20 minutes as the hosting staff was having difficulty seating guests who arrived with a reservation because they probably had a lot of walk ins being so close to Time Square. ['hosting staff', 'reservations', 'reservation', 'seating']\n",
      "The noodle and rices dishes taste great. ['noodle and rices dishes']\n",
      "And the fried clams had just enough kick to them to make 'em worth eating. ['fried clams']\n",
      "The secret is the lunch menu which offers a complimentary appetizer with every entree ordered. ['lunch menu', 'appetizer', 'entree']\n",
      "The shrimp scampi was excellent and the antipasti were plentiful. ['shrimp scampi', 'antipasti']\n",
      "I got the $10 10-piece dim sum combo, every bite of which was great. ['dim sum combo']\n",
      "If you like spicy food get the chicken vindaloo. ['chicken vindaloo', 'spicy food']\n",
      "I have never been disappointed but their true strength lays in their amazingly delicious and cheap lunch specials. ['lunch specials']\n",
      "So much more than the usual bar food, go there to enjoy the menu while sampling one of their hand-crafted beers. ['bar food', 'menu', 'hand-crafted beers']\n",
      "They also have a back garden open in the summer - cute and French with outdoor seating - what more could you ask for? ['back garden', 'outdoor seatin']\n",
      "My friend got the mushroom pizza which tasted better. ['mushroom pizza']\n",
      "I had the cod with paella (spicy and very filling, I'm a big eater and could only eat half) while my boyfriend had the classic fish and chips (again, a big serving - at least 5 pieces of fish and a basketful of fries). ['cod with paella', 'fish and chips', 'serving', 'fish', 'fries']\n",
      "The porcini mushroom pasta special was tasteless, so was the seafood tagliatelle. ['porcini mushroom pasta special', 'seafood tagliatelle']\n",
      "Try the spicy wontons and the salt pepper shrimps. ['spicy wontons', 'salt pepper shrimps']\n",
      "THE FOOD PORTIONS ARE REALLY LARGE. ['FOOD PORTIONS']\n",
      "Best Taiwanese food in NY! ['Taiwanese food']\n",
      "We laughed when he finally offered us a dessert menu and we left a 10 percent tip, which was generous, I feel. ['dessert menu', 'tip']\n",
      "Great wine list, reasonably priced.--Sara ['wine list', 'priced']\n",
      "The hot dogs were cold in the middle and the buns were stale. ['hot dogs', 'buns']\n",
      "Beef noodle soup is good as well. ['Beef noodle soup']\n",
      "Delivery service is great too. ['Delivery service']\n",
      "It looked like shredded cheese partly done - still in strips. ['shredded cheese']\n",
      "I have never better enjoyed humble root vegetables or a mushroom consomme - and this chef accomplishes without fats. ['root vegetables', 'mushroom consomme', 'chef']\n",
      "I always get the Shabu-Shabu dinner and the beef is always fresh. ['Shabu-Shabu dinner', 'beef']\n",
      "I live in the neighborhood and my friends meet me down here not only for the bar scene but also the promise of The Pizza Place at 3am. ['bar scene']\n",
      "I tend to judge a sushi restaurant by its sea urchin, which was heavenly at sushi rose. ['sea urchin']\n",
      "If your favorite Chinese food is General Tao chicken, then this is NOT your place. ['General Tao chicken', 'Chinese food']\n",
      "You must try the shrimp appetizers. ['shrimp appetizers']\n",
      "The cold appetizer dishes taste like the way I remember them to taste when I was growing up in Taiwan. ['cold appetizer dishes']\n",
      "Whether it's the parmesean porcini souffle or the lamb glazed with balsamic vinegar, you will surely be transported to Northern Italy with one bite. ['parmesean porcini souffle', 'lamb glazed with balsamic vinegar']\n",
      "While there are plenty of places to go for a good corned beef sandwich, Katz's has a charm about it. ['corned beef sandwich']\n",
      "Try the olive cream cheese or the lox spread on a whole wheat everything bagel. ['olive cream cheese', 'lox spread', 'bagel']\n",
      "The rice to fish ration was also good--they didn't try to overpack the rice. ['rice to fish ration', 'rice']\n",
      "They used shredded cheese on top! ['shredded cheese']\n",
      "The only positive was the wait staff, which was prompt, knowledgable, and likeable. ['wait staff']\n",
      "I couldn't reccommend their Godmother pizza any higher. ['Godmother pizza']\n",
      "I was very impressed by this low-key upper eastsider and their authentically thai cuisine!!! ['thai cuisine']\n",
      "I ordered the crab cocktail and it was soaked in a lime juice concoction where all you could taste was the lime. ['crab cocktail', 'lime juice concoction', 'lime']\n",
      "I would like to return and try some of the other menu items when I don't have to rush off to a show. ['menu items']\n",
      "The corned beef was tender and melted in my mouth. ['corned beef']\n",
      "The best Chicken pad tai, I've ever had. ['Chicken pad tai']\n",
      "Warm and friendly in the winter and terrific outdoor seating in the warmer months. ['outdoor seating']\n",
      "My turkey burger was not cooked at all, my friends salmon was completely raw. ['turkey burger', 'salmon']\n",
      "This isn't your corner Chinese food takeout. ['Chinese food']\n",
      "The crispy chicken wasn't for us, though. ['crispy chicken']\n",
      "I've been to several places for Dim Sum and this has got to be the WORST. ['Dim Sum']\n",
      "The fried rice is really good too. ['fried rice']\n",
      "Made my dining experience uncomfortable. ['dining experience']\n",
      "I was with a party of 7 (close but not next the the front doors) and we were eating with our coats on. ['front doors']\n",
      "THe back garden sitting area is very pleasant, where you can see their personal herb garden. ['back garden sitting area', 'personal herb garden']\n",
      "Good French restaurant in an area devoid of decent restaurants unless you're into eating 4 pound pastrami sandwiches at Katz' Deli, or Mexican food which is supplied by capable restaurants. ['pastrami sandwiches', 'Mexican food']\n",
      "We also had shared a house salad that was fresh. ['house salad']\n",
      "Not a small feat for good french food in the area. ['french food']\n",
      "The space is a bit too small for live music, so on  jazz nights, it can be loud and cramped. ['live music', 'space', 'jazz nights']\n",
      "The Pad thai, lad nar and various other dishes all look good on paper but, I've had better thai food in less asthetically pleasing places. ['Pad thai', 'lad nar', 'dishes', 'places', 'thai food']\n",
      "my picks: Guizhou chicken, fish with hot bean source, fish fillet in spicy source (special menu). ['Guizhou chicken', 'fish with hot bean source', 'fish fillet in spicy source', 'special menu']\n",
      "Admittedly some nights inside the restaurant were rather warm, but the open kitchen is part of the charm. ['open kitchen']\n",
      "The Singapore Mai Fun had NO curry flavor whatsoever. ['Singapore Mai Fun', 'curry flavor']\n",
      "The wine list is interesting and has many good values. ['wine list']\n",
      "This restaurant used to be our regular Thursday night dinner location. ['dinner location']\n",
      "Definite go if you're used to good Indian restaurant food from abroad. ['Indian restaurant food']\n",
      "THR AT MOSHPHERE IS COMPACT, MODERN, YET COZY. ['AT MOSHPHERE']\n",
      "Decent Thai food in cute - though a bit dank - little Nolita hangout, BUT service terrible. ['Thai food', 'service']\n",
      "Try the sea bass. ['sea bass']\n",
      "The exotic food is beautifully presented and is a delight in delicious combinations. ['exotic food']\n",
      "Try the mediterranean salad, it is a true experience for your taste buds!! ['mediterranean salad']\n",
      "The cream cheeses are out of this world and I love that coffee!! ['cream cheeses', 'coffee']\n",
      "It was not above ordinary and the beef version had cheap (undercooked) beef. ['beef version', 'beef']\n",
      "Got club soda, filled with ice, no lime. ['club soda, filled with ice, no lime']\n",
      "Oh, and the complimentary pudding dessert was just enough- yummy! ['pudding dessert']\n",
      "we split a tasty vegetable samosa and the malai tikka wrap. ['vegetable samosa', 'malai tikka wrap']\n",
      "Decent wine selection too. ['wine selection']\n",
      "Mine was a little burnt but still delicious with goat cheese and panchetta (raddichio was kind of bitter though). ['goat cheese', 'panchetta', 'raddichio']\n",
      "great place to go for a drink too because they have 100 kinds of beer. ['kinds of beer', 'drink']\n",
      "Our friendly server made great food suggestions and also sent both the sommelier and the fromager to the table to help suggest different pairings for wine and cheese. ['food suggestions', 'server', 'sommelier', 'fromager', 'wine', 'cheese']\n",
      "Because we didn't have a reservation, we could only sit in the back garden, but it was great, secluded and perfect in nice weather. ['back garden', 'reservation']\n",
      "Stuffing yourself with Japanese food is a rare thing. ['Japanese food']\n",
      "I LOVE their spicy scallop roll, and my boyfriend consistently gets the sesame chicken. ['scallop roll', 'sesame chicken']\n",
      "Best dish is nori-wrapped tuna. ['nori-wrapped tuna', 'dish']\n",
      "An excellent alternative to fast food joints and ordering in but, the food was slightly disappointing. ['fast food', 'food']\n",
      "The all you can eat deal is truly amazing here. ['all you can eat deal']\n",
      "They were such a rip-off ($8.95 for four small meat patties in steamed buns) and not worth trying. ['meat patties in steamed buns']\n",
      "The dining room is quietly elegant with no music to shout over -- how refreshing! ['dining room', 'music']\n",
      "The white bean brushetta to start was incredible and the pasta was phenomenal. ['white bean brushetta', 'pasta']\n",
      "Ive asked a cart attendant for a lotus leaf wrapped rice and she replied back rice and just walked away. ['cart attendant', 'lotus leaf wrapped rice', 'rice']\n",
      "The wait staff is very freindly, they make it feel like you're eating in a freindly little european town. ['wait staff']\n",
      "I found the variety of the sashimi plate to be satisfying - fresh and yummy. ['sashimi plate']\n",
      "After complaining about the chicken dish, the manager came over to tell us that, no one had ever complained before, and that we just didn't know what the dish was supposed to taste like. ['chicken dish', 'manager', 'dish']\n",
      "Dahkin also offers prix fixe lunch and buffet. ['prix fixe lunch', 'buffet']\n",
      "Great place to grab a hot bagel on the way to work. ['hot bagel']\n",
      "We were looking forward to nice glass of Sangria when we arrived. ['glass of Sangria']\n",
      "I would highly recommand requesting a table by the window. ['table by the window']\n",
      "Tried the pad see ew on the recommendation of the last reviewer since it's one of my favorite dishes. ['pad see ew', 'dishes']\n",
      "We ate out in the back patio, which is worth it as it's cool and the music is hear well there. ['back patio', 'music']\n",
      "Guacamole+shrimp appetizer was really great, we both had the filet, very good, didn't much like the frites that came with, but the filet was so good, neither of us cared. ['Guacamole+shrimp appetizer', 'filet', 'frites', 'filet']\n",
      "The lunch special is an asbolute steal. ['lunch special']\n",
      "The chicken pot pie is excpetiona, the cheeseburger huge and delictable, and the service professional wan warm. ['The chicken pot pie', 'cheeseburger', 'service']\n",
      "being a fan of spicy ethnic foods, indian included, i made friends with this place long ago. ['spicy ethnic foods']\n",
      "The quality of food at this restaurant accompanied  by fantastic live jazz makes this place a perfect 10! ['quality of food', 'live jazz']\n",
      "(Always ask the bartender for the SEASONAL beer!!! ['SEASONAL beer', 'bartender']\n",
      "I ate clams oreganta and spectacular salad with perfectly marinated cucumbers and tomatoes with lots of shrimp and basil. ['clams oreganta', 'salad with perfectly marinated cucumbers and tomatoes with lots of shrimp and basil']\n",
      "Patroon features a nice cigar bar and has great staff. ['cigar bar', 'staff']\n",
      "Fluke sashimi drizzled with jalapeno-lime olive oil, the fruit of the oil nicely highlighting the fish's sweetness. ['Fluke sashimi', 'jalapeno-lime olive oil', 'fruit of the oil', 'fish']\n",
      "My steak au poivre was one of the worst I've had. ['steak au poivre']\n",
      "My friend ordered some of their special sushi rolls which had excellent presentation and tasted great! ['sushi rolls']\n",
      "my picks are:  - Scallion Pancake (fried with vegetable juice, very special and tasty)  - Guizhou Chicken  - Shredded Squid Family Style (one of my personal favorites)  - Sichuan Spicy Soft Shell Crab  - Shuizhu Fish (this one is for hardcore Sichuan food fans, I wouldn't recommend to my American friends as it's very spicy. ['Scallion Pancake', 'vegetable juice', 'Guizhou Chicken', 'Shredded Squid Family Style', 'Sichuan Spicy Soft Shell Crab', 'Shuizhu Fish', 'Sichuan food']\n",
      "They smell like they stuff them with old canned vegetables like the spinach mushroom calzone. ['spinach mushroom calzone', 'canned vegetables']\n",
      "There was a great deal for 6 Blue Point oysters and a beer or glass of wine for $8! ['Blue Point oysters', 'beer', 'glass of wine']\n",
      "I really liked the noodle dishes at Rice Avenue compared to their Green Curry dish. ['noodle dishes', 'Green Curry dish']\n",
      "The spicy tuna roll was unusually good and the rock shrimp tempura was awesome, great appetizer to share! ['spicy tuna roll', 'rock shrimp tempura', 'appetizer']\n",
      "The banana tower is an amazing dessert as well. ['banana tower', 'dessert']\n",
      "But that wasn't the icing on the cake: a tiramisu that resembled nothing I have ever had. ['icing on the cake', 'tiramisu']\n",
      "Wine list is not huge but def well selected. ['Wine list']\n",
      "Fresh, authentic, french cuisine in substantial portions. ['french cuisine', 'portions']\n",
      "The one vegetarian entree (Abby's treasure) was actually quite a surprise - it was delicious and had wintermelon covering an assortment of fresh mushrooms and vegetables. ['vegetarian entree', \"Abby's treasure\", 'wintermelon', 'assortment of fresh mushrooms and vegetables']\n",
      "Even better, they know how to cook French classics like Steak au Poivre and Onglet without burning it to death or overcooking it. ['Steak au Poivre', 'Onglet']\n",
      "My chow fun and chow see was really bland and oily. ['chow fun and chow see']\n",
      "The grilled cheese at home afterwards was better.!! ['grilled cheese']\n",
      "It is obvious that no one in the restaurant has any idea about or experience with Japanese cuisine. ['Japanese cuisin']\n",
      "Love the Jazz bands on Fri and Sat. ['Jazz bands']\n",
      "it's the only place you can get yummy authentic japanese comfort food. ['japanese comfort food']\n",
      "We took advanatage of the half price sushi deal on saturday so it was well worth it. ['half price sushi deal']\n",
      "We were fast to order the appetizer platter since we were very hungry. ['appetizer platter']\n",
      "No dress codes, no attitudes, plenty of comfort companionship, a great place to relax in an always busy Midtown. ['dress codes', 'attitudes', 'place']\n",
      "Largest and freshest pieces of sushi, and delicious! ['pieces of sushi']\n",
      "Maybe I say so because it looked promising for people who like artery-clogging jewish deli food, but turns out to be poorly run and awful. ['jewish deli food']\n",
      "When he's not making authentic Neapolitan pizza in the open brick oven or lightly frying zucchini blossoms, he's visiting the regulars (a growing legion) and checking on newcomers. ['Neapolitan pizza', 'zucchini blossoms']\n",
      "Wait staff is blantently unappreciative of your business but its the best pie on the UWS! ['Wait staff', 'pie']\n",
      "Top spot in town for Vietnamese classics, better than places that cost a lot more. ['Vietnamese classics']\n",
      "less wait time for me! ['wait time']\n",
      "Having discovered Ping's on the internet, we entered with qualms but were instantly put to ease by the fish tanks that greet you as u walk in. ['fish tanks']\n",
      "They have a huge selection of different cream cheeses and all of their salads are great. ['cream cheeses', 'salads']\n",
      "The lobster sandwich is good and the spaghetti with Scallops and Shrimp is great. ['lobster sandwich', 'spaghetti with Scallops and Shrimp']\n",
      "The dim sum is delectable while the prices are quite easy on the wallet. ['dim sum', 'prices']\n",
      "I only tried a simple dish of spinach ravioli in a light oil and garlic sauce, but it actually faired better than most NYC Italian joints I've tried similar dishes at. ['spinach ravioli in a light oil and garlic sauce', 'dish', 'dishes']\n",
      "The worst excuse for Japanese food I've ever encountered. ['Japanese food']\n",
      "I ordered a Chicken Teriyaki dish and found that the chicken was extremely dry. ['Chicken Teriyaki dish', 'chicken']\n",
      "We had Pam's special fried fish and it was amazing. [\"Pam's special fried fish\"]\n",
      "My boyfriend had the New England Chowder it was good but I think the award should go to the Lobster Bisque. ['New England Chowder', 'Lobster Bisque']\n",
      "Not enough wines by the glass either. ['wines by the glass']\n",
      "I had the duck breast special on my last visit and it was incredible. ['duck breast special']\n",
      "These innovators of french indian fusion do a great job of making dishes as interesting as possible while still being accessible. ['french indian fusion', 'dishes']\n",
      "My wife had the fried shrimp which are huge and loved it. ['fried shrimp']\n",
      "Try the green curry!!! ['green curry']\n",
      "Great wine selection, Gigondas is worth the price, and the house champagne is a great value. ['wine selection', 'Gigondas', 'house champagne', 'price']\n",
      "I particularly love their yellowfun tuna and their mussel selection. ['yellowfun tuna', 'mussel selection']\n",
      "Cheese plate is a varied delight and great bargain at $10. ['Cheese plate']\n",
      "I could have drank 4 glasses of water and still been parched - so watch out. ['glasses of water']\n",
      "But they've done a really nice job of offering all the typical pizzeria faves plus some terrific specials like the Godmother pizza (a sort of traditional flat pizza with an olive oil-brushed crust and less tomato sauce than usual). ['Godmother pizza (a sort of traditional flat pizza with an olive oil-brushed crust and less tomato sauce than usual)', 'specials']\n",
      "We ended the dinner with a surprisingly light and flaky apple tarte tatin. ['apple tarte tatin', 'dinner']\n",
      "Our first time in New York and we had to try a New York Bagel. ['New York Bagel']\n",
      "The miso soup lacked flavor and the fish was unfortunately not as well prepared as in the past. ['miso soup', 'fish', 'flavor']\n",
      "The wine list is extensive and impressive. ['wine list']\n",
      "Make sure you have the Spicy Scallop roll.. . ['Spicy Scallop roll']\n",
      "I would highly recommend this place to anyone who is looking for a fine Indian dining experience that is definitely a value for your dollar. ['Indian dining experience']\n",
      "And even with it's Pub atmosphere they were great to my kids too! ['Pub atmosphere']\n",
      "Try the chocolate mud cake (warmed) with 2 scoops of dulce de leche gelato. ['chocolate mud cake (warmed)', 'dulce de leche gelato']\n",
      "While the new restaurant still features much of the same classical furniture that made Tiffin so attractive, the menu has been overhauled. ['classical furniture', 'menu']\n",
      "I would have gotten some cole slaw and a knish if my stomach had more space. ['cole slaw', 'knish']\n",
      "The blond wood decor is very soothing, the premium sake is excellent and the service is great. ['blond wood decor', 'sake', 'service']\n",
      "As always we had a great glass of wine while we waited. ['glass of wine']\n",
      "The wait staff is pleasant, fun, and for the most part gorgeous (in the wonderful aesthetic beautification way, not in that she's-way-cuter-than-me-that-b@#$* way). ['wait staff']\n",
      "For dinner I had the chicken tikka-masala and some garlic naan. ['chicken tikka-masala', 'garlic naan', 'dinner']\n",
      "Try the Pad Se-Ew or Chicken with Cashew Nuts for a memorable and repeatable experience. ['Pad Se-Ew', 'Chicken with Cashew Nuts']\n",
      "Similar to other Indian restaurants, they use the dinner special to attract customers at the door. ['dinner special']\n",
      "The crackling calamari salad, which is usually a cheap disaster at many restaurants, is crispy and lightly dressed. ['crackling calamari salad']\n",
      "Not the greatest sushi place, but excellent for a $19.95 all you can eat. ['sushi place']\n",
      "Shockingly easy to throw a group dinner here: simple contract, deposit only to hold the date the entire 2nd fl mezz for our grp of 20. ['group dinner']\n",
      "The Thai ice tea was amazingly smooth and yummy! ['Thai ice tea']\n",
      "The main downside to the place is the nazi-like guy running it who constantly complains about the noise level. ['noise level', 'guy']\n",
      "one of the best Chicken Tikka Masala. ['Chicken Tikka Masala']\n",
      "The corned beef and pastrami are excellent, much less fatty than those big tourist places around Times Square. ['corned beef', 'pastrami']\n",
      "Cute place, nice wait staff but would never go there again. ['wait staff', 'place']\n",
      "The plain slice is great and if you get toppings, the whole slice is topped with them, not sparsely sprinkled on like some places. ['plain slice', 'toppings']\n",
      "For the quality of food, a little too expensive. ['quality of food']\n",
      "Here's to the fake fish tanks too... ['fish tanks']\n",
      "The first time I went, and was completely taken by the live jazz band and atmosphere, I ordered the Lobster Cobb Salad. ['live jazz band', 'atmosphere', 'Lobster Cobb Salad']\n",
      "we decided to eat in tea room which was small and cute. ['tea room']\n",
      "The Thai food is good. ['Thai food']\n",
      "Great selection of wine, and seafood. ['selection of wine', 'seafood']\n",
      "we were seated at the sushi bar in front of yasuda. ['sushi bar']\n",
      "Orsay, is a very pleasnt throw back to traditional French food, and French service as well. ['French food', 'service']\n",
      "I ordered tamarind duck and my wife ordered noodles with ground beef, and we were both delighted by the way the dishes evoked Thai flavors in unexpected ways. ['tamarind duck', 'noodles with ground beef', 'dishes', 'Thai flavors']\n",
      "I had the black cod with yuzu sauce, which was wonderful. ['black cod with yuzu sauce']\n",
      "Downstairs lounge is always a good attraction ['Downstairs lounge']\n",
      "The menu prices are a bit expensive for what you get in quality and portion size. ['menu prices', 'quality', 'portion size']\n",
      "Could be pricey without a prix fixe meal. ['prix fixe meal']\n",
      "i recommend the thai popcorn :) ['thai popcorn']\n",
      "The only disappointment was the coat check girls who didn't seem to know what a customer is on a realtively non-busy night (for the coat check girls). ['coat check girls', 'coat check girls']\n",
      "Good crowd, good outdoor seating, with a hip japanese vibe. ['outdoor seating', 'vibe']\n",
      "Even with the prix fixe pricing, this restaurant is not worth it. ['prix fixe pricing']\n",
      "We ordered the chicken casserole, but what we got were a few small pieces of chicken, all dark meat and on the bone. ['chicken casserole', 'chicken', 'meat']\n",
      "I went to DF for Valentines Day dinner. ['Valentines Day dinner']\n",
      "I recommend the jelly fish, drunken chicken and the soupy dumplings, certainly the stir fry blue crab. ['jelly fish', 'drunken chicken', 'soupy dumplings', 'stir fry blue crab']\n",
      "Then, get ripped on free box wine. ['box wine']\n",
      "The pesto pizza was excellent, thin-crust pizza with a nice amount of spicy Italian cheese that I'd never heard of before. ['pesto pizza', 'Italian chees', 'thin-crust pizza']\n",
      "try the spicy shrimp appetizer (again, not the greatest value in the world but worth the price) and the lamb vindaloo is great. ['shrimp appetizer', 'price', 'lamb vindaloo']\n",
      "As soon as I wake up on a saturday or sunday it is the first thing on my mind is when and how I will be getting to fried dumpling. ['fried dumpling']\n",
      "Delicious crab cakes too. ['crab cakes']\n",
      "This was the worst dining experience I've ever had. ['dining experience']\n",
      "It is run by the same Sichuan chef who started the chain in Chinatown. ['Sichuan chef']\n",
      "If the omakase is to showcase technique and variety, serving almost 40% of items BBQ-ed and a spicy tuna roll wrapped with not-so-fresh nori seems to be a rather limp performance. ['spicy tuna roll', 'serving', 'nori']\n",
      "We had a party in their private room and they made it truly memorable and were very helpful in the planning. ['private room']\n",
      "We were disappointed with the pre-fixe menu of only 2 choices per course (other restaurants offer 3 choices) and ended up ordering a la carte. ['pre-fixe menu', 'choices per course', 'ordering a la carte']\n",
      "Authentic Pakistani food. ['Pakistani food']\n",
      "The eggplant parmesan is also great, and my friend who grew up in Manhattan claims that no one serves a better baked ziti with meatsauce. ['eggplant parmesan', 'baked ziti with meatsauce', 'serves']\n",
      "My entree of hot pot with seafood was full of imitation crabmeat with a couple pieces of shrimp and squid, and was unnecessarily heated with a burner. ['hot pot with seafood', 'shrimp', 'squid', 'entree', 'crabmeat']\n",
      "We began with the cheese fondue (the artisanal blend) and added apples and kielbasa to dip. ['cheese fondue', 'kielbasa', 'apples']\n",
      "If you want Americanized Chinese food with your usual watery, generic white sauce, this is your place. ['white sauce', 'Chinese food']\n",
      "I LOVE their Thai noodles with shrimp and chicken and coconut juice is the MUST! ['Thai noodles with shrimp and chicken and coconut juice']\n",
      "The only possible drawback to this last point is that as of the date of this posting, the additional menu items are only written in Chinese. ['menu items']\n",
      "Kosher dills are the perfect compliment for your unforgetable sandwich and they give you plenty of them. ['Kosher dills', 'sandwich']\n",
      "For authentic Thai food, look no further than Toons. ['Thai food']\n",
      "I choose to go with one of the special, the braised lamb shank in red wine, which was excellent. ['braised lamb shank in red wine', 'special']\n",
      "Have the iced tea. ['iced tea']\n",
      "Obv caviar is top of the line but the rest of the menu is so diverse it gives you a chance to taste so manydifferent varietys. ['Obv caviar', 'menu']\n",
      "The spicy Tuna roll is huge and probably the best that I've had at this price range. ['Tuna roll', 'price range']\n",
      "This is one of the best comfort food places in the city. ['comfort food']\n",
      "I had a huge pastrami sandwich on a roll. ['pastrami sandwich']\n",
      "This is the pinnacle of Indian Fast Food (all fast foods in my opinion). ['Indian Fast Food']\n",
      "The wine list is also really nice. ['wine list']\n",
      "Ballato's is consistently delicious authentic italian food. ['italian food']\n",
      "After the main course came, we didn't see our waiter for at least 40 MINUTES! ['main course', 'waiter']\n",
      "Thalia is a beautiful restaurant with beautiful people serving you, but the food doesn't quite match up. ['people serving', 'food']\n",
      "The mussaman curry that I ordered was as thin as water and aside from the poorly fried tofu that I ordered in it, they graciously provided me with ONE piece of poorly cooked potato. ['mussaman curry', 'fried tofu', 'potato']\n",
      "Their sake martini is wonderful. ['sake martini']\n",
      "I've had the lunch buffet at Chennai a couple of times, when I have been in the neighborhood. ['lunch buffet']\n",
      "Best drumsticks over rice and sour spicy soup in town! ['drumsticks over rice', 'sour spicy soup']\n",
      "Their whitefish salad is excellent--all whitefish with a little mayo. ['whitefish salad', 'whitefish', 'mayo']\n",
      "The chicken parm was edible but had canned tomato sauce and boxed pasta and the chicken with portobello mushrooms consisted of dry, inedible chicken with terrible sauce. ['chicken parm', 'chicken with portobello mushrooms', 'chicken', 'tomato sauce', 'pasta', 'sauce']\n",
      "The only friendly staff member was the guy at the bar. ['staff member', 'bar', 'guy']\n",
      "The red curry is weak and tasteless, the pad thai is stuck together and lumpy, the rice is often overcooked, and the seafood is pretty sketchy. ['red curry', 'pad thai', 'rice', 'seafood']\n",
      "The wine list is extensive and can easily hike up an otherwise reasonably priced meal. ['wine list', 'meal', 'priced']\n",
      "Their pad penang is delicious and everything else is fantastic. ['pad penang']\n",
      "The hanger steak was like rubber and the tuna was flavorless not to mention it tasted like it had just been thawed. ['hanger steak', 'tuna']\n",
      "big and soft as well as good lunch food. ['lunch food']\n",
      "The barebecued salmon is elegantly spiced and not at all dry. ['barebecued salmon']\n",
      "The highly spiced chai tea was great too. ['chai tea']\n",
      "Seriously, this is the best all you can eat in town- As everyone says, the Spicy Tuna hand rolls are the best- have 4 of these, and you've broken even. ['Spicy Tuna hand rolls']\n",
      "The meat dishes were only so-so. ['meat dishes']\n",
      "Monday nights are a bargain at the $28 prix fix - this includes a three course meal plus *three* glasses of wine paired with each course. ['prix fix', 'three course meal', 'glasses of wine', 'course']\n",
      "From the complimentary chef app of a delicate butternut squash ravioli in a delicious truffle sauce to an amazing buttery and tender langostine entree to a dessert that I can't remember because of the fabulous Cakebread Cabernet we were drinking -- the whole evening was amazing. ['chef app', 'delicate butternut squash ravioli in a delicious truffle sauce', 'buttery and tender langostine entree', 'dessert', 'Cakebread Cabernet']\n",
      "So all I'm trying to say is this restaurant is by far the best thai food restaurant I've ever been to. ['thai food']\n",
      "We actually left hungry and went across the street to Wo Hop at 15 Mott street for some good chinese food. ['chinese food']\n",
      "The duck confit is always amazing and the foie gras terrine with figs was out of this world. ['foie gras terrine with figs', 'duck confit']\n",
      "We ended our great experience by having Gulab Jamun (dessert) recommended by the waiter. ['Gulab Jamun (dessert)', 'waiter']\n",
      "The brioche and lollies as party favors is a cute and sweet touch to a most memorable meal. ['brioche and lollies', 'meal']\n",
      "After being told that our party of three would be seated in 10 minutes and watching other parties (multiples of 2 and higher) seated for 40 minutes, the three of us were squished into a small 2-person table. ['2-person table']\n",
      "Kind, attentive wait staff. ['wait staff']\n",
      "A great way to make some money is to buy a case of snapple from Costco and sell it right outside for only $2.50. ['case of snapple']\n",
      "Try sushimi cucumber roll. ['sushimi cucumber roll']\n",
      "Their wines by the glass are a great accompaniment and you can eat like a king with wine for under $30. ['wines by the glass', 'wine']\n",
      "And they have these home made potato chips at the bar that are the most delicious things in the world! ['potato chips', 'bar']\n",
      "We all ate pasta entre'es, which were great. [\"pasta entre'es\"]\n",
      "I was here a few weeks back and we had the worst customer service experience at a restaurant ever. ['customer service']\n",
      "Took my mom for Mother's Day, and the maitre d' was pretty rude. [\"maitre d'\"]\n",
      "My husband and I have been there a couple of times and each time we sat at the sushi bar (chef Yoshi) and ordered everything ala carte. ['sushi bar', 'chef', 'ala carte']\n",
      "I recommend their Pad See Ew, Pork Chops or Tofu plates. ['Pad See Ew', 'Pork Chops', 'Tofu plates']\n",
      "The main course had an average portion, and was decent overall. ['main course', 'portion']\n",
      "The dinner menu is diverse and top-notch as well. ['dinner menu']\n",
      "I don't like Indian food too much and this was delicious, however you want to factor that into the equation. ['Indian food']\n",
      "Simple comfort food and what hot and lage portions. ['comfort food', 'portions']\n",
      "We didn't get drink refills and she didn't even offer us the option of dessert. ['drink refills', 'dessert']\n",
      "If you can handle that, it's a great place for a business dinner, fun with friends or simply a table for 2. ['business dinner', 'table']\n",
      "in an effort to increase turnover, the restaurant offers no desserts beyond the complimentary espresso cup filled with chocolate mousse. ['espresso cup filled with chocolate mousse', 'desserts']\n",
      "Even upon delivery, their juicy pork buns are quite good . . ['pork buns']\n",
      "Average to good Thai food, but terrible delivery. ['Thai food', 'delivery']\n",
      "I had Lobster Bisque it has 2 oz. of Maine Lobster in it. ['Lobster Bisque', 'Maine Lobster']\n",
      "Try the Pad Thai, it's fabulous and their prices are so cheap! ['Pad Thai', 'prices']\n",
      "- for dessert we split chocolate cake and vanilla gelato (with espresso), which were tasty, but I thought a bit overpriced. ['chocolate cake', 'vanilla gelato (with espresso)', 'dessert']\n",
      "We concluded with tiramisu chocolate cake, both were delicious. ['tiramisu chocolate cake']\n",
      "The counter service is bad. ['counter service']\n",
      "I had the mango chicken and i can't go on to tell you how delicious that was and the presentation was beatiful. ['mango chicken', 'presentation']\n",
      "The garlic mashed potatoes are hands down the best in the city! ['garlic mashed potatoes']\n",
      "The lamb meat was under-cooked and EXTRMELY CHEWY. ['lamb meat']\n",
      "The best pad thai i've ever had. ['pad thai']\n",
      "Over time, the food quality has decreased substantially, it is a lot less crowded than it used to, and the service must definitely be part of the reason. ['food quality', 'service']\n",
      "The wine list isn't great, and the desserts are shipped in from Bruno's down the street, which is not as good as it used to be. ['wine list', 'desserts']\n",
      "great wine list (italian), good food, service was INITIALLY fine. ['wine list', 'food', 'service']\n",
      "Southern Indian cuisine is still there, too. ['Southern Indian cuisine']\n",
      "Their sake list was extensive, but we were looking for Purple Haze, which wasn't listed but made for us upon request! ['sake list', 'Purple Haze']\n",
      "Several of the dim sum orders had about 6-8 pieces. ['dim sum orders']\n",
      "Three page wine menu, one page entree and horedevous. ['wine menu', 'entree', 'horedevous']\n",
      "Yes you have to wait to be seated and because its small there is no waiting area and the seat at the bar was all taken. ['waiting area', 'seat', 'bar', 'wait']\n",
      "The fried dumplings are GREAT! ['fried dumplings']\n",
      "This place has the best Chinese style BBQ ribs in the city. ['BBQ ribs']\n",
      "We figured we never had Argentinian Pizza before so we grabbed our lunch there, sharing a large Pelligrino, a pizza of two of their specials, one was goat cheese the other blue cheese, and both were excellent. ['Argentinian Pizza', 'lunch', 'Pelligrino', 'pizza', 'goat cheese', 'blue cheese']\n",
      "This is the perfect date spot for Williamsburg couples. ['date spot']\n",
      "The dim sum here is only so-so. ['dim sum']\n",
      "As a long-time patron of Mamoun's, I always figured that I had found the best late night food spot in the city. ['food spot']\n",
      "The palak paneer was standard, and I was not a fan of the malai kofta. ['palak paneer', 'malai kofta']\n",
      "Best Reuben sandwich ever! ['Reuben sandwich']\n",
      "Wonderful strawberry daiquiries as well! ['strawberry daiquiries']\n",
      "Here you get the zen feel without feeling rigid. ['zen feel']\n",
      "I fell in love with the egg noodles in the beef broth with shrimp dumplings and slices of BBQ roast pork. ['egg noodles in the beef broth with shrimp dumplings and slices of BBQ roast pork']\n",
      "Light, refreshing summer rolls (not fried) remind me of Vietnamese places in Paris. ['summer rolls']\n",
      "Excellent lunch buffet for only $6.95. ['lunch buffet']\n",
      "The portion sizes here are huge, and the sushi is good. ['portion sizes', 'sushi']\n",
      "For years, I thought Tuscan cuisine was the best, but Salvatore converted me to the hearty Neapolitan fare on my first visit. ['Tuscan cuisine', 'Neapolitan fare']\n",
      "Try the lobster teriyaki and the rose special roll. ['lobster teriyaki', 'rose special roll']\n",
      "I am a 100 lb girl, had a glass of wine and a glass of beer prior to the dinner, and I was still HUNGRY after my visit to this place! ['glass of wine', 'glass of beer', 'dinner']\n",
      "There is a downside if you're ordering in -- the delivery guys have MAJOR attitude. ['delivery guys']\n",
      "If you go here - your focus should be the Tamarind Margaritas. ['Tamarind Margaritas']\n",
      "The filet mignon dish was superb! ['filet mignon dish']\n",
      "I didn't expect to like Nosh as much as I did, but the pastrami on challah sandwich I had was otherworldly, the soups are like Mom's, and the knishes give Yonah Schimmel's a run for its money. ['pastrami on challah sandwich', 'soups', 'knishes']\n",
      "Do not get the Go Go Hamburgers, no matter what the reviews say. ['Go Go Hamburgers']\n",
      "If you live in Upper Manhattan, Siam Square is THE place for Thia food. ['Thia food']\n",
      "Really tasty spring rolls and noodles for a good price though. ['spring rolls', 'noodles', 'price']\n",
      "Good, because hey, it's more food, but bad because dim sum is supposed to be smaller portions so you can try out more dishes and smaller so that each dish is cheap. ['dim sum', 'food', 'portions', 'dishes', 'dish']\n",
      "If you go for the pre-theatre menu, it's an even greater deal. ['pre-theatre menu']\n",
      "We usually just get some of the dinner specials and they are very reasonably priced and very tasty. ['dinner specials', 'priced']\n",
      "Their exotic salad is basic ly a delcious little green salad with a peanut sauce that is perfect before their sweet basil fried tofu. ['exotic salad', 'green salad', 'sweet basil fried tofu', 'peanut sauce']\n",
      "We saw them heating up at least one frozen item though I'm not sure which dim sum dish it was. ['dim sum dish']\n",
      "Traditional French decour was pleasant though the hall was rather noisy - the restaurant was full and we had to raise our voices to be able to maintain a conversation. ['Traditional French decour', 'hall']\n",
      "I really recommend the very simple Unda (Egg) rolls. ['Unda (Egg) rolls']\n",
      "Very good wine choices. ['wine choices']\n",
      "If you are in a big group, this place is perfect because it recomends sharing - they have lazy susans on most tables - even families can feel comfortable here. ['lazy susans', 'tables']\n",
      "I had never had Edamame pureed before but I thought it was innovative and tasty (could've used a bit more salt). ['Edamame pureed']\n",
      "Don't dine at Tamarind for the vegetarian dishes, they are simply not up to par with the non-veg selections. ['vegetarian dishes', 'non-veg selections']\n",
      "The restaurant is dark and not very attractive and then you have spot lights shining on you putting you in the worst light possible, reaching for sunglasses. ['spot lights']\n",
      "Try the Times Square cocktail -- ginger lemonade with vodka (also available without vodka.) ['Times Square cocktail', 'ginger lemonade with vodka']\n",
      "Veal Parmigana - Better than Patsy's! ['Veal Parmigana']\n",
      "What makes this restaurant special are the authentic sichuan cooking and being the only one in NYC that offers authentic chongqing hotpot. ['sichuan cooking', 'chongqing hotpot']\n",
      "Sake collection was excellent (Try Nanbu Bijin), but pricy. ['Sake collection', 'Nanbu Bijin']\n",
      "One of my favorites though was the Angry Lobster, a cold lobster salad that was magnificent. ['Angry Lobster', 'cold lobster salad']\n",
      "We also ordered two hot dogs thinking they would be pretty good since there is a whole section on the menu devoted to them. ['hot dogs', 'menu']\n",
      "I've had the chicken with garlic sauce, chicken with black bean sauce, and hunan chicken. ['chicken with garlic sauce', 'chicken with black bean sauce', 'hunan chicken']\n",
      "Because of the delicate thin crust, take-out pies get soggy in their boxes. ['take-out pies', 'crust']\n",
      "We got in line and were served while in line a bannan fritter. ['bannan fritter', 'served']\n",
      "They should have called it mascarpone with chocolate chips-good but a far cry from what the name implies. ['mascarpone with chocolate chip']\n",
      "I wasn't there for the Half-Price Saturday Night Special, but Tuesday Night. ['Half-Price Saturday Night Special']\n",
      "My family and I ate here last night for our annual Christmas dinner with the family members who would rather spend the holidays with friends out-of-town. ['Christmas dinner']\n",
      "then we ordered a dinosaur rolls and white tuna sashimi. ['dinosaur rolls', 'white tuna sashimi']\n",
      "We shared a bottle of sake, an order of edamames, and she had the sushi plate while I had the sashimi. ['bottle of sake', 'edamames', 'sushi plat', 'sashimi']\n",
      "I can't believe people complain about no cheese sticks? ['cheese sticks']\n",
      "\n",
      "\n",
      "LAPTOPS (size=3048):\n",
      "\n",
      "The tech guy then said the service center does not do 1-to-1 exchange and I have to direct my concern to the \"sales\" team, which is the retail shop which I bought my netbook from. ['service center', '\"sales\" team', 'tech guy']\n",
      "Easy to start up and does not overheat as much as other laptops. ['start up']\n",
      "In the shop, these MacBooks are encased in a soft rubber enclosure - so you will never know about the razor edge until you buy it, get it home, break the seal and use it (very clever con). ['rubber enclosure', 'edge']\n",
      "However, the multi-touch gestures and large tracking area make having an external mouse unnecessary (unless you're gaming). ['multi-touch gestures', 'tracking area', 'external mouse', 'gaming']\n",
      "I love the way the entire suite of software works together. ['suite of software']\n",
      "This laptop meets every expectation and Windows 7 is great! ['Windows 7']\n",
      "I can barely use any usb devices because they will not stay connected properly. ['usb devices']\n",
      "One suggestion I do have, is to not bother getting Microsoft office for the mac expecting it will work just like you knew it to on a PC. ['Microsoft office for the mac']\n",
      "I also got the added bonus of a 30\" HD Monitor, which really helps to extend my screen and keep my eyes fresh! ['30\" HD Monitor', 'screen']\n",
      "The machine is slow to boot up and occasionally crashes completely. ['boot up']\n",
      "I love the operating system and the preloaded software. ['operating system', 'preloaded software']\n",
      "After numerous attempts of trying (including setting the clock in BIOS setup directly), I gave up(I am a techie). ['clock in BIOS setup']\n",
      "YOU WILL NOT BE ABLE TO TALK TO AN AMERICAN WARRANTY SERVICE IS OUT OF COUNTRY. ['WARRANTY SERVICE']\n",
      "In desparation, I called their Customer Service number and was told that my warranty had expired (2 days old) and that the priviledge of talking to a technician would cost me (\"have your credit card ready\"). ['Customer Service number', 'warranty', 'talking to a technician']\n",
      "There also seemed to be a problem with the hard disc as certain times windows loads but claims to not be able to find any drivers or files. ['hard disc', 'windows', 'drivers']\n",
      "Spent 2 hours on phone with HP Technical Support. ['HP Technical Support']\n",
      "Nightly my computer defrags itself and runs a virus scan. ['virus scan']\n",
      "It's like 9 punds, but if you can look past it, it's GREAT! ['9 punds']\n",
      "I was happy with My purchase of a Toshiba Satellite L305D-S5934 laptop until it came time to have it repaired under the Toshiba Warranty. ['Toshiba Warranty']\n",
      "If a website ever freezes (which is rare), its really easy to force quit. ['force quit']\n",
      "I also enjoy the fact that my MacBook Pro laptop allows me to run Windows 7 on it by using the VMWare program. ['Windows 7', 'VMWare program']\n",
      "It's so much easier to navigate through the operating system, to find files, and it runs a lot faster! ['operating system', 'runs', 'navigate', 'find files']\n",
      "I wanted to purchase the extended warranty and they refused, because they knew it was trouble. ['extended warranty']\n",
      "The reality was, it heated up very quickly, and took way too long to do simple things, like opening my Documents folder. ['opening my Documents folder']\n",
      "I had always used PCs and been constantly frustrated by the crashing and the poorly designed operating systems that were never very intuitive. ['operating systems']\n",
      "I love the glass touchpad. ['glass touchpad']\n",
      "  I continued to take the computer in AGAIN and they replaced the hard drive and mother board yet again. ['hard drive', 'mother board']\n",
      "I am using the external speaker- sound is good. ['external speaker', 'sound']\n",
      "still testing the battery life as i thought it would be better, but am very happy with the upgrade. ['battery life']\n",
      "Everything is so easy to use, Mac software is just so much simpler than Microsoft software. ['Mac software', 'Microsoft software', 'use']\n",
      "And if you do a lot of writing, editing is a problem since there is no  forward delete  key. ['delete  key', 'editing']\n",
      "It has a 10 hour battery life when you're doing web browsing and word editing, making it perfect for the classroom or office, and in terms of gaming and movie playing it'll have a battery life of just over 5 hours. ['battery life', 'battery life', 'gaming', 'movie playing', 'web browsing', 'word editing']\n",
      "Acer has set me up with FREE recovery discs, when they are available since I asked. ['recovery discs']\n",
      "I also purchased Office Max's \"Max Assurance\" with the \"no lemon\" clause. ['Office Max\\'s \"Max Assurance\"']\n",
      "I eventually did the migration from my iMac backup disc which uses USB. ['iMac backup disc', 'USB']\n",
      "The battery life seems to be very good, and have had no issues with it. ['battery life']\n",
      "Enabling the battery timer is useless. ['battery timer']\n",
      "There is no need to purchase virus protection for Mac, which saves me a lot of time and money. ['virus protection for Mac']\n",
      "So, I paid a visit to LG notebook service center at Alexandra Road, hoping they can make the hinge tighter. ['LG notebook service center', 'hinge']\n",
      "Also, if you need to talk to a representive at Microsoft, there is a charge, which I believe is robbery, since you are charged enormous amounts for a very badly designed system, which most people would have went with XP if they could. ['representive at Microsoft', 'system', 'XP']\n",
      "I love WIndows 7 which is a vast improvment over Vista. ['WIndows 7', 'Vista']\n",
      "Dell's customer disservice is an insult to it's customers who pay good money for shoddy products. [\"Dell's customer disservice\"]\n",
      "It had a cooling system malfunction after 10 minutes of general use, and would not move past this error. ['cooling system', 'use']\n",
      "I can render AVCHD movies with little effort, which was a problem for most pc's unless you had a quad core I7. ['quad core I7']\n",
      "After talking it over with the very knowledgeable sales associate, I chose the MacBook Pro over the white MacBook. ['sales associate']\n",
      "You won't have to spend gobs of money on some inefficient virus program that needs to be updated every month and that constantly drains your wallet. ['virus program']\n",
      "no complaints with their desktop, and maybe because it just sits on your desktop, and you don't carry it around, which could jar the hard drive, or the motherboard. ['hard drive', 'motherboard']\n",
      ") I also tried the touch pad and compared it to other netbooks in the store. ['touch pad']\n",
      "lots of preloaded software. ['preloaded software']\n",
      "My favorite part of this computer is that it has a vga port so I can connect it to a bigger screen. ['vga port', 'screen']\n",
      "Another thing I might add is the battery life is excellent. ['battery life']\n",
      "Granted, it's still a very new laptop but in comparison to my previous laptops and desktops, my Mac boots up noticeably quicker. ['boots up']\n",
      "It caught a virus that completely wiped out my hard drive in a matter of hours. ['hard drive']\n",
      "It is everything I'd hoped it would be from a look and feel standpoint, but somehow a bit more sturdy. ['look and feel standpoint']\n",
      "I've been impressed with the battery life and the performance for such a small amount of memory. ['battery life', 'performance', 'memory']\n",
      "I got it back and my built-in webcam and built-in mic were shorting out anytime I touched the lid, (mind you this was my means of communication with my fiance who was deployed) but I suffered thru it and would constandly have to reset the computer to be able to use my cam and mic anytime they went out. ['built-in webcam', 'built-in mic', 'cam', 'mic']\n",
      "Is this partially due to the fact that it is running Windows Vista? ['Windows Vista']\n",
      "Mostly I love the drag and drop feature. ['drag and drop feature']\n",
      "I ordered through MacMall, which saved me the sales tax I would have incurred buying locally. ['sales tax']\n",
      "Of course, I also have several great software packages that came for free including iWork, GarageBand, and iMovie. ['software packages', 'iWork', 'GarageBand', 'iMovie']\n",
      "Additional caveat: the base installation comes with some Toshiba-specific software that may or may not be to a user's liking. ['base installation', 'software']\n",
      "The AMD Turin processor seems to always perform so much better than Intel. ['AMD Turin processor', 'Intel']\n",
      "The start menu is not the easiest thing to navigate due to the stacking. ['start menu', 'navigate']\n",
      "Only thing I would want to add to this is an internal bluray read/write drive. ['bluray read/write drive']\n",
      "The service tech said he had tried to duplicate the damage and wasn't able to recreate it therefore it had to be their defect. ['service tech']\n",
      "The tech store I purchased this from sent it back,,,,,eventually I got a new or repaired machine approximately 3 weeks later. ['tech store']\n",
      "High price tag, however. ['price tag']\n",
      "I thought learning the Mac OS would be hard, but it is easily picked up if you are familiar with a PC. ['Mac OS']\n",
      "I had static in the output, and I had to reduce the sound output quality to \"FM\" as opposed to the default \"CD. ['sound output quality']\n",
      "I went to Toshiba online help and found some suggestions to fix it. ['Toshiba online help']\n",
      "They also have a longer service life than other computers (I have several friends who still use the older Apple PowerBooks). ['service life']\n",
      "For the not so good, I got the stock screen - which is VERY glossy. ['stock screen']\n",
      "The gray color was a good choice. ['gray color']\n",
      "I would like to have volume buttons rather than the adjustment that is on the front. ['volume buttons']\n",
      "The magnetic plug-in power charging power cord is great (I even put it to the test by accident)- excellent innovation! ['magnetic plug-in power charging power cord']\n",
      "I like how the Mac OS is so simple and easy to use. ['Mac OS', 'use']\n",
      "I was ready to take it back for a refund, but the Geek Squad camed through and pointed me in the right direction to get it fixed. ['Geek Squad']\n",
      "only good thing is the graphics quality. ['graphics quality']\n",
      "I had purchased it from a major electronics store and took it to their service department to find out what the problem was. ['service department']\n",
      "I always use a backup hard disk to store important files at all times. ['hard disk']\n",
      "They sent out the box right away for me to send in my computer, they paid postage and whatnot, but when I got my computer back it still wasn't running right, and now my CD drive wasn't reading anything! ['CD drive', 'running']\n",
      "But the screen size is not that bad for email and web browsing. ['screen size', 'web browsing']\n",
      "Yeah, of course smarty pants \"fix it now\")Software - Compared to the early 2011 edition I did see inbuilt applications crashing and it prompted me to send the report to Apple (which I promptly did). ['inbuilt applications', 'Software']\n",
      "With a mac you don't have to worry about antivirus software or firewall, it's so wonderful. ['antivirus software', 'firewall']\n",
      "The Apple team also assists you very nicely when choosing which computer is right for you :) ['Apple team']\n",
      "The video chat is the only thing that is iffy about it but im sure once they unpdate the next version on the macbook book the quality of it will be better. ['video chat', 'quality']\n",
      "Wasted me at least 8 hours of installation time. ['installation time']\n",
      "A great feature is the spotlight search: one can search for documents by simply typing a keyword, rather than parsing tens of file folders for a document. ['spotlight search', 'feature']\n",
      "My wireless system would not recognize Windows 7 and I couldn't get online to find out why. ['wireless system', 'Windows 7']\n",
      "Suffice it to say, my MacBook Pro keeps me going with its long battery life and blazing speed. ['battery life', 'speed']\n",
      "I've had to call Apple support to set up my new printer and have had wonderful experiences with helpful, english speaking (from Vancouver) techs that walked me through the processes to help me. ['Apple support', 'techs']\n",
      "But Sony said we could send it back and be charged for adding the bluetooth an additional seventy something dollars. ['adding the bluetooth']\n",
      "I need graphic power to run my Adobe Creative apps efficiently. ['graphic power', 'Adobe Creative apps']\n",
      "Tech support tells me the latter problem is a power supply problem and have offered to fix it if it happens again. ['Tech support', 'power supply']\n",
      "HOW DOES THE POWER SUPPLY NOT WORK!!! ['POWER SUPPLY']\n",
      "Windows XP SP2 caused many problems on the computer, so I had to remove it. ['Windows XP SP2']\n",
      "I reloaded with Windows 7 Ultimate, and the Bluetooth and Fingerprint reader (software) would not load. ['Windows 7 Ultimate', 'Bluetooth', 'Fingerprint reader', 'software']\n",
      "None of the techs at HP knew what they were doing. ['techs at HP']\n",
      "this is my second one and the same problem, bad video card  unreliable overall, this will be my second time returning this laptop back to best buy. ['video card']\n",
      "The laptop was very easy to set up. ['set up']\n",
      "I recommend for word processing and internet users. ['word processing', 'internet']\n",
      "A longer battery life would have been great - but it meets it's spec quite easily. ['battery life', 'spec']\n",
      "Its fast and another thing I like is that it has three USB ports. ['USB ports']\n",
      "Once open, the leading edge is razor sharp. ['leading edge']\n",
      "Maximum sound isn't nearly as loud as it should be. ['Maximum sound']\n",
      "I loaded windows 7 via Bootcamp and it works flawlessly! ['windows 7', 'Bootcamp']\n",
      "The Macbook arrived in a nice twin packing and sealed in the box, all the functions works great. ['twin packing', 'functions']\n",
      "So what if the laptops/mobile phones look chic and cool? The after sales support is terrible. ['after sales support', 'look']\n",
      "I hate the display screen and I have done everything I could do the change it. ['display screen']\n",
      "I also like the acer arcade but these were reallythe only two things I liked about this laptop. ['acer arcade']\n",
      "Have not yet needed any customer support with this yet so to me that is a great thing, which is leaps and bounds ahead of PC in my opinion. ['customer support']\n",
      "Three, the mac book has advantages over pcs' with linux based os there is very 'few problems with system performance when it comes to a mac. ['system performance', 'linux based os']\n",
      "It is so nice not to worry about that and the extra expense that comes along with the necessary virus protection on PC's. ['virus protection']\n",
      "I wanted something that had a new Intel Core processors and HDMI port so that we could hook it up directly to our TV. ['Intel Core processors', 'HDMI port']\n",
      "The Apple will run Internet Explorer, but at an amazingly slow rate. ['Internet Explorer']\n",
      "The price premium is a little much, but when you start looking at the features it is worth the added cash. ['price premium', 'features']\n",
      "I can't say enough of how satisfied I am with their product and help aftermarket. ['product and help aftermarket']\n",
      "Microsoft word was not on it andI had to buy it seperately. ['Microsoft word']\n",
      "it has 3 usb ports, 1 sd memory card reader and an sd memory car expansion. ['usb ports', 'sd memory card reader', 'sd memory car expansion']\n",
      "I connect a LaCie 2Big external drive via the firewire 800 interface, which is useful for Time Machine. ['LaCie 2Big external drive', 'firewire 800 interface', 'Time Machine']\n",
      "I am overall very pleased with my toshiba satellite, I like the extra features, I love the windows 7 home premium. ['extra features', 'windows 7 home premium']\n",
      "The Aspire wont even boot past the Acer screen with a Droid (I have tried both Motorola and HTC) plugged into the USB port. ['Acer screen', 'USB port', 'boot']\n",
      "The battery life was shorter than expected. ['battery life']\n",
      "It fires up in the morning in less than 30 seconds and I have never had any issues with it freezing. ['fires up']\n",
      "The online tutorial videos make it super easy to learn if you have always used a PC. ['online tutorial videos']\n",
      "It was very easy to just pick up and use-- It did not take long to get used to the Mac OS. ['Mac OS', 'use']\n",
      "Upgrading from Windows 7 Starter, thru Windows 7 Home Premium, to Windows 7 Professional was a snap; ['Windows 7 Starter', 'Windows 7 Home Premium', 'Windows 7 Professional']\n",
      "My kids (and dogs) destroyed two power cords by pulling on them. ['power cords']\n",
      "I had upgraded my old MacBook to Lion, so I kind of knew what I was getting, but hadn't been able to enjoy some of the awesome new multi-touch features. ['multi-touch features']\n",
      "Not to mention, the battery life is absolutely amazing. ['battery life']\n",
      "not using wired lan not sure what thats about. ['wired lan']\n",
      "The macbook rarely requires a hard reboot. ['hard reboot']\n",
      "Anyways I bought this two months ago and when I first brought it home it kept giving me a message about a vibration in the hard drive and it is putting it temporaly in save zone. ['hard drive']\n",
      "It's fast and has excellent battery life. ['battery life']\n",
      "Apple care included. ['Apple care']\n",
      "Finally, I should note that I took the 2GB RAM stick from my old EeePC and installed it before I even powered on for the first time. ['2GB RAM stick']\n",
      "After sending out documents via email and having recipients tell me they could not open the documents or they came through as gibberish, I broke down and spent another $100 to get Microsoft Word for Mac. ['Microsoft Word for Mac']\n",
      "DO NOT BUY GATEWAY COMPUTERS THEY ARE JUNK AND THE WARRANTY COMPANY IS HORRIBLE. ['WARRANTY COMPANY']\n",
      "then on top of it all their cusromer service center is in the middle east. ['cusromer service center']\n",
      "I liked the aluminum body. ['aluminum body']\n",
      "Its good for playing my apps on Facebook or watching movies. ['watching movies', 'playing']\n",
      "From the build quality to the performance, everything about it has been sub-par from what I would have expected from Apple. ['build quality', 'performance']\n",
      "Also, the extended warranty was a problem. ['extended warranty']\n",
      "Boots up fast and runs great! ['Boots up', 'runs']\n",
      "Call tech support, standard email the form and fax it back in to us. ['tech support']\n",
      " A coupla months later, they change my hard drive. ['hard drive']\n",
      "The Macbook arrived in a nice twin packing and sealed in the box, all the functions works great. ['twin packing', 'functions']\n",
      "I would recommend it just because of the internet speed probably because thats the only thing i really care about. ['internet speed']\n",
      "I have no idea how to burn cd's or to use the web cam, just for starters. ['web cam', \"burn cd's\"]\n",
      "The 17 inch screen is very large, but the computer is very light. ['17 inch screen']\n",
      "I also liked the glass screen. ['glass screen']\n",
      "The switchable graphic card is pretty sweet when you want gaming on the laptop. ['switchable graphic card', 'gaming']\n",
      "The battery life has not decreased since I bought it, so i'm thrilled with that. ['battery life']\n",
      "When I called Toshiba, they would not do anything and even tried to charge me $35 for the phone call, even though they didn't offer any technical support. ['technical support']\n",
      "I bought this notebook and only had it for 3 months If it is overload with updates the BOOT MGR. ['BOOT MGR']\n",
      "Oh and if thats not bad enough it doesn't come with a recovery cd so you can make one if you know how to or buy one if you buy it the cost is $25 for two cds. ['recovery cd']\n",
      "the mouse buttons are hard to push. ['mouse buttons']\n",
      "A great computer for light home use and business use. ['home use', 'business use']\n",
      "Even with virus protection, it always turned off when updates were needed and installed. ['virus protection', 'updates']\n",
      "Also consider the MS Office apps are all trial versions, hope you have your own copies. ['MS Office apps']\n",
      "The battery life is amazingly long at 7hrs and 5hrs if you use it. ['battery life']\n",
      "lightweight, long battery life, excellent transition from PC; ['battery life']\n",
      "The Nortons virus scan is only for a very short time unlike others that usually are good for a year. ['Nortons virus scan']\n",
      "I noticed windows has a new system called Windows 7, what about us Vista users?  They should get all the bugs out of Vista before investing in a new system. ['Windows 7', 'Vista', 'Vista', 'windows']\n",
      "When we bought our new HP comouter in Dec. of 2008, we wanted Windows XP, but were told it would cost an extra $159, so we went with Vista. ['Windows XP', 'Vista']\n",
      "The only thing that I have, is the key broad is a little dark to see the letters, would help if it was a little lighter then it is. ['key broad']\n",
      "  But I needed a laptop for school use. ['school use']\n",
      "I would like at least a 4 hr. battery life. ['battery life']\n",
      "MacBook Notebooks quickly die out because of their short battery life, as well as the many background programs that run without the user's knowlede. ['battery life', 'programs']\n",
      "Theres a built in camera with special effects- for video and photography. ['built in camera']\n",
      "Another thing is that after only a month the left mouse key broke and it costed $175 to send it in to fix it. ['left mouse key', 'costed']\n",
      "They said that my computer was covered on an extended warranty, and that products with  extended warranties are taken care of through third parties and not Sony itself anymore. ['extended warranty', 'extended warranties']\n",
      "The technical service for dell is so 3rd world it might as well not even bother. ['technical service for dell']\n",
      "When you call tech support you were routed to someone who was in another country and did not know what they were doing. ['tech support']\n",
      "Somehow the system clock got messed up after reboot. ['system clock']\n",
      "The driver updates don't fix the issue, very frustrating. ['driver updates']\n",
      "The built in camera is very useful when chatting with other techs in remote buildings on our campus. ['built in camera']\n",
      "Mine came at $1,700 w/o a DVD burner (!). ['DVD burner']\n",
      "The DVD burner broke after burning 3 DVD'd during that time! ['DVD burner']\n",
      "But you must get the 15 inch. ['15 inch']\n",
      "Product support very poor as each phone call costs me long distan ['Product support']\n",
      "  The casing of the power cord fried and shocked my husband when he pulled it out of the socket. ['casing of the power cord']\n",
      "It does not keep internet signals no matter where you bring it. ['internet signals']\n",
      "Again, the same problem, the right speaker did not work. ['right speaker']\n",
      "But see the macbook pro is different because it may have a huge price tag but it comes with the full software that you would actually need and most of it has free future updates. ['price tag', 'software', 'updates']\n",
      "and the multiple page viewer ( allows you to press one button to see every separate page currently opened at the same time in one screen) are great for those who are working non stop or just shopping online. ['multiple page viewer']\n",
      "I had to call HP and ask for a recovery disk because the computer does not come with one and completely redo it all. ['recovery disk']\n",
      "Although i do believe that Windows operating system may be to fault for some of the problems. ['Windows operating system']\n",
      "  The lcd screen stopped working on mine after 10 months. ['lcd screen']\n",
      "although its windows vista compared to windows xp sucks. ['windows vista', 'windows xp']\n",
      "One more tip, please purchase this model and get a 4GB stick of RAM to save you $10 ['4GB stick of RAM']\n",
      "The computer runs very fast with no problems and the iLife software that comes with it (iPhoto, iMovie, iWeb, iTunes, GarageBand) is all very helpful as well. ['iLife software', 'iPhoto', 'iMovie', 'iWeb', 'iTunes', 'GarageBand', 'runs']\n",
      "At first it worked well for a month or so then the system board failed and I send it in to toshiba some complaints and three weeks later I then receive my laptop back only to discover that it still has the same problem so now I have to send it back again to get it fixed again. ['system board']\n",
      "My problem was with DELL Customer Service. ['DELL Customer Service']\n",
      "Newegg's RMA service was great as always, I contacted them late Friday night, and they issued me an RMA number and a PrePaid UPS shipping label the very next morning on Saturday. ['RMA service']\n",
      "Has a 5-6 hour battery life. ['battery life']\n",
      "My ONLY issues are: 1) the screen/video resolution won't increase to a higher resolution then 1024 x 60 ['screen/video resolution', 'resolution']\n",
      "Ive had to call tech support many times. ['tech support']\n",
      "The Apple applications (ex.iPhoto) are fun, easy, and really cool to use (unlike the competition)! ['Apple applications', 'iPhoto']\n",
      "Its pretty fast and does not have hiccups while I am using it for web browsing, uploading photos, watching movies (720p) on occasion and creating presentations. ['web browsing', 'uploading photos', 'watching movies', 'creating presentations']\n",
      "Quality Display  I love HP,, it's the only computer/printer we will buy. ['Quality Display']\n",
      "     First it burned or fused the power adapter plug. ['power adapter plug']\n",
      "  Toshiba is aware of the issue but unless the extended warrenty is bought Toshiba will do nothing about it. ['extended warrenty']\n",
      "-Called headquarters again, they report that TFT panel is broken, should be fixed by the end of the week (week 3). ['TFT panel']\n",
      "Though the picture, video, and music software is nowhere close to professional grade software Im used to (CS5) but does the job for beginner and even intermediate media designers. ['music software', 'software', 'picture', 'video']\n",
      "The much lauded combined touch pad and clicker is a nightmare. ['combined touch pad and clicker']\n",
      "The Unibody construction is solid, sleek and beautiful. ['Unibody construction']\n",
      "No temporary replacement, they are out of replacements because \"many computers had problems with the Nvidia chipset\"-Inquired status of repair. ['Nvidia chipset']\n",
      "I took it to friend who temporarily fixed it and I finally paid about 1500 for the extended warranty. ['extended warranty']\n",
      "I BOUGHT THIS LAP TOP AND THE CHARGE TIME DOSEN'T LAST AS LONG AS THEY SAY IT WILL MORE LIKE 2 HOURS ['CHARGE TIME']\n",
      "the key bindings take a little getting used to, but have loved the Macbook Pro. ['key bindings']\n",
      "Finally, the biggest problem has been tech support. ['tech support']\n",
      "\" This isn't a big deal, I haven't noticed the issue with DVDs or other media, only through USB output. ['USB output']\n",
      "With Windows laptops a wireless mouse is an absolute must. ['wireless mouse']\n",
      "But if you're willing to pay another 200 dollar for a windows disc. ['windows disc']\n",
      "my niece and nephew have played a few web games and it runs anything that doesn't require a dedicated video card. ['video card']\n",
      "It had the full sized touch pad with 2 buttons instead of just one. ['touch pad']\n",
      "Typically, when I purchase a new laptop I always end up using an external mouse for convenience. ['external mouse']\n",
      "It was super easy to set up and Is really easy to get used to. ['set up']\n",
      "Then the hard drive failed; ['hard drive']\n",
      "(If you ever see the spinning beachball come up when you think it shouldn't, check the \"Activity Monitor\" app to see if the disk throughput has temporarily dropped to zero. ['disk throughput', 'spinning beachball']\n",
      "I have found also, it is very easy to be able to access wireless internet access; ['wireless internet access']\n",
      "The only problem is a lack of screen resolutions! ['screen resolutions']\n",
      "The screen resolution was exactly what I was looking for. ['screen resolution']\n",
      "Even though it is running Snow Leopard, 2.4 GHz C2D is a bit of an antiquated CPU and thus the occasional spinning wheel would appear when running Office Mac applications such as Word or Excel. ['Snow Leopard', 'CPU', 'Office Mac applications', 'Word', 'Excel', 'spinning wheel']\n",
      "If upgrade is possible to the full Windows 7, then I will truly be a very happy geek. ['Windows 7']\n",
      "It is a big big, but since it has a 18.4\" screen what would you expect! ['18.4\" screen']\n",
      "10 hours of battery life is really something else.... ['battery life']\n",
      "Runs fast and the regular layout keyboard is so much better. ['regular layout keyboard', 'Runs']\n",
      "Windows 7 Starter is terrific (no you can't change the background) but I don't need to, I use it just for school work. ['Windows 7 Starter']\n",
      ":-)If you buy this - don't go into it expecting 7 hrs of battery life, and you'll be perfectly satisfied. ['battery life']\n",
      "in May I started having problems with the USB ports not working. ['USB ports']\n",
      "The Mac version of Microsoft Office is cheaper than buying the actual and works just as well. ['Mac version of Microsoft Office']\n",
      "The Mac takes about the same amount of starting-up time as the average PC, but keeps itself cleaned up and ready to use. ['starting-up time']\n",
      "the touch pad is fine - again, it's a real touch pad. ['touch pad', 'touch pad']\n",
      "You have to toss out the wifi card and replace it just to have any sort of network capability. ['network capability', 'wifi card']\n",
      "The flaws are, this computer is not for computer gamers because of the OS X. ['OS X']\n",
      "They really do have the worlds very worst repair service. ['repair service']\n",
      "They need to stop outsoucing and send some complaint calls to US based customer service agents for those who live in the United states. ['customer service agents']\n",
      "I've owned this labtop for less then two months, already the mouse button has broke. ['mouse button']\n",
      "MY ONLY PROBLEM IS I CAN NOT REG. THE PRODUCT KEY. ['PRODUCT KEY']\n",
      "great battery life. ['battery life']\n",
      "And that probably explains why I've already had my SATA controller go bad within a year of buying it. ['SATA controller']\n",
      "It's also very capable of doing moderate video editing (although you may need the performance boost of the larger MacBook Pros for heavy duty mobile video editing). ['video editing', 'performance', 'mobile video editing']\n",
      "My main reason to convert was the imovie program. ['imovie program']\n",
      "I still have that stupid bluetooth mouse to! ['bluetooth mouse']\n",
      "It could be a perfect laptop if it would have faster system memory and its radeon 5850 would have DDR5 instead of DDR3. ['system memory', 'radeon 5850', 'DDR5', 'DDR3']\n",
      " A MONTH LATER, we reinstall the OS (Vista). ['OS (Vista)']\n",
      "My real problem with it? The statement of 7 hour battery life is not just mere exaggeration -- it's a lie. ['battery life']\n",
      "The battery life is also relatively good. ['battery life']\n",
      "  I definitely suggest getting an extended warranty, you will probably need it! ['extended warranty']\n",
      "I don't have stupid pop up windows (even when I have pop ups blocked), I don't have to wait 5 minutes for a webpage to download, and best of all I can run all the web programming software I need to use all at once without slowing me down. ['pop up windows', 'web programming software', 'pop ups']\n",
      "Web access through the 3G network is so slow, it's very frustrating and VERY DISAPPOINTING. ['3G network', 'Web access']\n",
      "This is my first Dell I heard their customer service was lacking and that they were working on improving it! ['customer service']\n",
      "Second HDD cover has walls inside that need to be broken if you what to install one. ['HDD cover']\n",
      "I will have to purchase Spy ware or Nortell for privacy protection. ['Spy ware', 'Nortell']\n",
      "It had some kind of pre installed software update that completely shut the computer down when you clicked it. ['pre installed software update']\n",
      "Ever since I bought this laptop, so far I've experience nothing but constant break downs of the laptop and bad customer services I received over the phone with toshiba customer services hotlines. ['customer services', 'toshiba customer services']\n",
      "Also, the space bar makes a noisy click every time you use it. ['space bar']\n",
      "The Computer itself is a good product but the repair depot stinks. ['repair depot']\n",
      "the only down fall is that it has no cd drive but i found that they are very cheap to by and also very portable making this the best friend to someone who is always looking for more space then they have. ['cd drive']\n",
      "So, the hard disk capacity really doesn't matter to me. ['hard disk capacity']\n",
      "I personally like the gaming look but needed a machine that delivered gaming performance while still looking professional in front of my customers. ['gaming look', 'gaming performance']\n",
      "This just keeps having it's hard drive replaced! ['hard drive']\n",
      "The only downfall is the volume control. ['volume control']\n",
      "Very fast boot up and shut down. ['boot up', 'shut down']\n",
      "If internet connectivity is important I would recommend going with a dell net book for 50 bucks more, or buy a USB wireless card. ['internet connectivity', 'USB wireless card']\n",
      "I am not much of a computer techie, so I can understand some of the internal problems, though I do have trend micro as an antiviral program. ['trend micro', 'antiviral program']\n",
      "I've haven't had any major problems with the laptop except that the plastic piece that covers the usb port wires have all come off. ['plastic piece', 'usb port wires']\n",
      "Wonderful sleek case design is only on the outside. ['case design']\n",
      "Connecting to my wireless router via built-in wireless took no time at all. ['built-in wireless']\n",
      "This computer is exceptionally thin for it's screen size and processing power. ['screen size', 'processing power']\n",
      "I hope to edit this in the next few hours, I am going to try to install my own copy of Windows 7. ['Windows 7']\n",
      "  This time the mouse pad and right click key wouldn't work! ['mouse pad', 'right click key']\n",
      "I bought a cordless mouse for it, but don't always take it out; ['cordless mouse']\n",
      "It took Toshiba tech support 4 calls and 4 different techs to correct the problem. ['Toshiba tech support', 'techs']\n",
      "The 4 USB ports are nice, but the two on the side only work now and then. ['USB ports']\n",
      "  I could not find a phone number anywhere to call an actual live person for tech support and had to result the their online chat. ['tech support', 'online chat']\n",
      "When I am next to my router on my HP I get full service, on my Eee PC I get 3 bars. ['full service']\n",
      "The letter A stopped working after the first week. ['letter A']\n",
      "This is what I call a good after sales service. ['after sales service.']\n",
      "Tried to make a recovey disk wouldnt get passed the first recovery disk. ['recovey disk', 'recovery disk']\n",
      "When it come time for warranty service to Toshiba you don't matter. ['warranty service to Toshiba']\n",
      "3) Horrible customer support ['customer support']\n",
      "The LED backlit display makes my pictures pop so much more. ['LED backlit display']\n",
      "The downside to this netbook is pretty much the same for any netbook: screen size is not something I'd stare at for the entire 10-11 hours of battery life five days a week. ['screen size', 'battery life']\n",
      "in 5 months the connect quality got worse and worse. ['connect quality']\n",
      "It is fast booting up , shutting down, and connection with the internet. ['connection with the internet', 'booting up', 'shutting down']\n",
      "The battery life is great. ['battery life']\n",
      "  They replaced my hard drive as well as my mother board. ['hard drive', 'mother board']\n",
      "when i called to have another one shipped or to get my money back they said the return policy is 23 twenty three days from the date of purchase. ['return policy']\n",
      "It's fast, it's easy easy easy to set up, easy to hook to my wireless network. ['set up', 'hook to my wireless network']\n",
      "I previously purchased a 13\" macbook (had pro specs and was aluminum style) which had a nvidia 9800 (If I am not mistaken) and it had major heating issues. ['aluminum style', 'specs', 'nvidia 9800']\n",
      "The people there just changed for me on the spot and I got a new arm piece and they didn't even request for a receipt. ['arm piece']\n",
      "I was looking too closely at the other performance specs and while comparing, I took it for granted that these features were standard. ['performance specs', 'features']\n",
      "I have no idea how this could have even gotten past quality control during production. ['quality control']\n",
      "Oh yea, has no numeric pad on the side. ['numeric pad']\n",
      "The cover for the DVD drive soon came off, too--a mark of poor construction quality. ['cover for the DVD drive', 'construction quality']\n",
      "But the arm velcro is torn after one use. ['arm velcro']\n",
      "The 2 GB of RAM is plenty, able to run Windows 7 and at least 2 or 3 other programs with next to no slowdown. ['2 GB of RAM', 'Windows 7', 'programs']\n",
      "The battery life is amazing, the versitility is outstanding. ['battery life', 'versitility']\n",
      "the hinge design forced you to place various connections all around the computer, left right and front. ['hinge design']\n",
      "The screen graphics and clarity, and sharpness are great. ['screen graphics', 'clarity', 'sharpness']\n",
      "So I called customer support (which is good too) and they went through it and it is just a safety feature and it does not affect performance at all, I just chose to hide the message. ['customer support', 'performance', 'safety feature']\n",
      "The unibody design is edgy and durable. ['unibody design']\n",
      "STOPPED BOOTING UP less than a week after my one-year warranty was up. ['BOOTING UP', 'one-year warranty']\n",
      "Unless you need the Bluetooth 3. ['Bluetooth 3']\n",
      "More times that not the screen pops up saying I have a bad internet connection, or the page can't be displayed. ['internet connection']\n",
      "Do yourself a favor and invest in a few external harddrives if you are planning on purchasing this laptop. ['external harddrives']\n",
      "I don't understand why only Windows 7 Starter is included. ['Windows 7 Starter']\n",
      "This system came loaded with Windows 7 Starter. ['Windows 7 Starter']\n",
      "-When battery life went to 4 hours or less, took it to the MacHouse Amsterdam for repair (26th of August). ['battery life']\n",
      "The only thing I would change about it is the mouse keys. ['mouse keys']\n",
      "It's still beautiful and has better color reproduction than I could ever expect from a notebook. ['color reproduction']\n",
      "u can do what u want in just few seconds, even to start up your computer takes few seconds. ['start up']\n",
      "They sent out a Sony 'Certified' technician. [\"Sony 'Certified' technician\"]\n",
      "They have developed excellent proprietary software for editing video and pictures and I'm looking forward to utilizing these tools on the regular. ['proprietary software']\n",
      "Getting the Apple Care plan is a must. ['Apple Care plan']\n",
      "overall i would recomend this to anybody and tell them that if they want to burn their music or play there video games to buy the cd drive. ['cd drive', 'video games']\n",
      "Aside from the trial software and the short battery life, lack of a webcam, its great. ['trial software', 'battery life', 'webcam']\n",
      "The newer black keyboard took a little bit away from the previous gray one which looked really slick, but it is still a great notebook! ['black keyboard']\n",
      "As with any laptop not purchased with software options, it comes with a lot of what I consider useless applications. ['software options', 'applications']\n",
      "Do you think I purposely \"destroy\" my netbook, so that I can demand a new set? Do you think it's fun to take public transport all the way to the service center and get a non-satisfactory solution? Or rather NO solution. ['service center']\n",
      "/ awesome cooling system/ much better grafics card (ATI 5870) / 8GB RAM/ LED backlit screen... ['cooling system', 'grafics card', 'LED backlit screen.', '8GB RAM']\n",
      "The track pad to me is what really stands out though, you can do several different things with it just depending on how many fingers you use on the track pad, awesome thinking Apple! ['track pad', 'track pad']\n",
      "  Now I had not tried to use this since the disc drive had been replaced and after taking it back to the Geek Squad I found out they had accidently not used the right drive when they replaced the first one, so back it went to get the correct drive. ['disc drive', 'drive', 'drive']\n",
      "Returned laptop for a 3rd repair and it came back with previous problems fixed (except for speaker grill) but the unit started locking up during use and eventually would not operate at all. ['speaker grill']\n",
      "It also came with a built it web cam which is great because I can see an communicate with my family members back home. ['built it web cam']\n",
      "I was a little weary at purchasing another 13\" macbook almost 2 years later but t looks like the newer macbooks have gotten its current line of graphics cards in order this time around. ['graphics cards']\n",
      "The machine has a bluray player the book has no mention of it or how to connect it to your HDTV. ['bluray player', 'book']\n",
      "The video card is great for media, and above average for gaming, but not a gamers first choice. ['video card', 'gaming', 'media']\n",
      "I had of course bought a 3 year warranty, so I sent it in to be replaced and (almost 2 months later) the dv4 is what the sent me as a replacement. ['3 year warranty,']\n",
      "Apparently there is a manufacturing defect, something with the amount of thermal paste. ['thermal paste']\n",
      "Took several hours with customer support before I could even start the PC out of the box. ['customer support']\n",
      "Asus facial recognition doesn't work and windows logon isn't either. ['facial recognition', 'windows logon']\n",
      "Windows Vista makes this computer almost unusable for online service. ['Windows Vista', 'online service']\n",
      "I contacted Acer and they are giving me FREE recovery DVDs, so don't go and pay for them, just ask for them and they should give them to you. ['recovery DVDs']\n",
      "I loved the netbook (minus the fact that it was windows OS) until this started happening. ['windows OS']\n",
      "The minute you fire it up it's all good, very easy user interface. ['user interface']\n",
      "After replacing the hard drive the battery stopped working  (3 months of use) which was frustrating. ['hard drive', 'battery']\n",
      "If what you need is a machine to do some surfing, email checking, word processing, and watching a movie or two, this is the machine you want. ['word processing', 'surfing']\n",
      "the mouse pad and buttons are the worst i've ever seen. ['mouse pad', 'buttons']\n",
      "The pro is a great product, I wish that the 13 inch models came with the Intel i processors and had a more comfortable edge (the edges hurt my wrists). ['Intel i processors', 'edge', 'edges']\n",
      "One drawback I noticed was sound quality via USB. ['sound quality via USB']\n",
      "The battery life sucked the juice from my laptop and when the extended life battery went out we were SOL there to, so much for that warranty covering all the products we purchased. ['battery life', 'warranty', 'extended life battery']\n",
      "I have had another Mac, but it got slow due to an older operating system. ['operating system']\n",
      "That's very possible, but since they don't make Windows XP drivers for the sound card in this machine, I was stuck until Windows 7 came out. ['Windows XP drivers', 'sound card', 'Windows 7']\n",
      "Well, I started using Google Chrome, which is a little better, but it freezes too sometimes. ['Google Chrome']\n",
      "A key contributor that led me to Mac is the art aspect. ['art aspect']\n",
      "My first problem was with the pre-loaded Norton Firewall/Security program. ['pre-loaded Norton Firewall/Security program']\n",
      "I had a USB connect but, i can't use it because it is not compatible. ['USB connect']\n",
      "Accordingly, I have decided to NEVER purchase another HP product (my five year old Compaq) lasted 5-years before the hard drive crashed. ['hard drive']\n",
      "I am not going to sit here and complain about it not having a cd drive and what not because it is a netbook, it is made to be compact and if you want all the other stuff get a laptop. ['cd drive']\n",
      "I love the multi-touch trackpad. ['multi-touch trackpad']\n",
      "HP is more interested in selling extended warranties (which cost more than the netbook new) then they are in helping or fixing. ['extended warranties', 'cost']\n",
      "The difference in the Apple keyboard from a PC's keyboard took a bit of tim to get used to, but overall it's worth it! ['Apple keyboard', \"PC's keyboard\"]\n",
      "The extended warranty for the $4000 and up computers was the only one available for purchase on the drop drown menu. ['extended warranty']\n",
      "  The hard drive crashed as well, and I had to buy a new  power cord. ['hard drive', 'power cord']\n",
      "After 2 months of complaints, Asus finally sent the right power supply to my techies. ['power supply', 'techies']\n",
      "That included the extra Sony Sonic Stage software, the speakers and the subwoofer I got (that WAS worth the money), the bluetooth mouse for my supposedly bluetooth enabled computer, the extended life battery and the Docking port. ['Sony Sonic Stage software', 'speakers', 'subwoofer', 'extended life battery', 'Docking port', 'bluetooth mouse', 'bluetooth enabled']\n",
      "Asked the customer service rep. ['customer service rep']\n",
      "So, I took it back to the apple store and they narcissist genius bar staff) fixed it by resetting the fan at boot up. ['genius bar staff)', 'fan', 'boot up']\n",
      "Needs Power and Mouse Cable to Plug in back instead of side, In the way of operating a mouse in small area. ['Mouse Cable', 'mouse']\n",
      "-4 RAM slots, 2 HDD Bays*, 16GB RAM support -No Wireless Issues, at least for me. ['RAM slots', 'HDD Bays', '16GB RAM support', 'Wireless']\n",
      "I agree with the previous comment that ASUS TECH SUPPORT IS HORRIBLE WHICH IS A CON IN MY OPINION. ['ASUS TECH SUPPORT']\n",
      "the mouse on the pad, the left button always sticks. ['mouse on the pad', 'left button']\n",
      "I would recommend this computer to anyone searching for the perfect laptop, and the battery life is amazing. ['battery life']\n",
      "We use the built in tools often, iTunes is open nearly every day and works great with my iPhone. ['built in tools', 'iTunes']\n",
      "So what am I supposed to do?  The LG service center cannot provide me the \"service\" when it is called the \"service center\". ['LG service center', 'service center', 'service']\n",
      "I am ADDICTED to photo booth! ['photo booth']\n",
      "The operating system and user interface is very intuitive, and the large multi-touch track pad is amazing. ['operating system', 'user interface', 'multi-touch track pad']\n",
      "Hard disk - The new editions gives you more hard disk space (500GB instead of 320GB) but time has taught me never to trust an internal hard disk. ['Hard disk', 'hard disk space', 'internal hard disk']\n",
      "It is extremely portable and easily connects to WIFI at the library and elsewhere. ['connects to WIFI']\n",
      "I don't use my laptop in a way though that needs a long battery life so it's perfect for me. ['battery life']\n",
      "Summary: I've had this laptop for 2 months, out of the blue the power adapter stops working. ['power adapter']\n",
      "2.The wireless card is low quality. ['wireless card']\n",
      "They also use two totally different operating systems. ['operating systems']\n",
      "You know, using the computer should be fun, not aggrevation, especially when you are playing games or working with photos. ['playing games']\n",
      "The difference is it's a whole lot of fun using the laptop now, still learning the Apple navigation, but is fun and comes with a lot of cool apps. ['Apple navigation', 'apps']\n",
      "-I propose that I can just swap the hard drives. ['hard drives']\n",
      "Sound card is limited though. ['Sound card']\n",
      "This is a nicely sized laptop with lots of processing power and long battery life. ['processing power', 'battery life', 'sized']\n",
      "-Computer crashed frequently and battery life decreased very quickly. ['battery life']\n",
      "-I propose that they can just swap the hard drives. ['hard drives']\n",
      "I called their repair depot as was told they would send Me a new box to return the computer to the repair depot. ['repair depot', 'repair depot']\n",
      "It's also fairly easy to use the Operating System. ['Operating System']\n",
      "So having the AC plug go out on me and get lose or I could actually here it inside my computer on two of the three times is not good. ['AC plug']\n",
      "Many of my classmates computers hard drives crashed. ['hard drives']\n",
      "I wouldn't play a first-person shooter with this, mind, but if you wanted to run MS Office, email, chat, download a video, listen to music from a certain fruit-named music store, and were looking for a highly portable yet powerful netbook to do that all in, I'd highly recommend checking this out. ['MS Office']\n",
      "The notebook is lacking a HDMI port and a S-video port that would enable one to hook it to a TV. ['HDMI port', 'S-video port']\n",
      "In early May I got it back and this time I only had it back for 1 day before it had a NEW issue so it was sent back in for the 6th time they \"expedited\" the repairs so I was only supposed to have to be without it for 3 days and it was supposed to be fixed, by a \"Senior Tech\". ['Senior Tech']\n",
      "Some features arent friendly ( volume wheel, sound quality, etc. ['volume wheel', 'sound quality', 'features']\n",
      "After a couple of years, my battery life began to diminish but was replaced for free due to a company-wide recall of my particular battery. ['battery life', 'battery']\n",
      "The system constantly overheats, the battery life is too short, the case is coming apart, and my core applications that I use every day in my work as a graphic artist run poorly. ['battery life', 'case', 'core applications', 'system']\n",
      "It's even easy to hook up to other wireless networks. ['hook up to other wireless networks']\n",
      "  Also, I have had alot of trouble with the shift key to go to other lines. ['shift key']\n",
      "can't reinstall with standard os cd because of proprietary hardware drivers. ['standard os cd', 'proprietary hardware drivers']\n",
      "I bought it for my mom and she reports that the battery life lasts all day for her, it's very lightweight, and the response for the computing she's doing (Internet focused activity: mail, research, etc.) is excellent; ['battery life', 'response', 'Internet focused activity']\n",
      "( The iBook backup also uses a firewire connection). ['iBook backup', 'firewire connectio']\n",
      "The computer was shipped to their repair depot  on june 24 and returned on July 2 seems like a short turn around time except the computer was not repaired when it was returned. ['repair depot']\n",
      "Learning all of the keyboard shortcuts only took a few minutes to get used to as some of the shortcuts are the same on Windows machines. ['keyboard shortcuts', 'shortcuts']\n",
      "I love a \"pc\" but I was ready for a change and tired of the windows system. ['windows system']\n",
      "It had a seventeen inch screen which I wanted, but I didn't realize at the time it would be such a monster! ['seventeen inch screen']\n",
      "  Then I've fixed the DC jack (inside the unit), rewired the DC jack to the OUTside of the laptop, replaced the power brick. ['DC jack', 'DC jack', 'power brick']\n",
      "It is easy to use, has great screen quality, and every so light weight. ['screen quality', 'use']\n",
      "The iLife software that comes with the computer is so simple to use and produces a great finished product. ['iLife software', 'use']\n",
      "The built-in webcam is great for Skype and similar video-chat services. ['built-in webcam']\n",
      "The shop will definitely push the problem to the service center. ['service center']\n",
      "This laptop looks great on the surface: 17\" inch screen, good  price-point, nice appearance, boots up quickly, runs fast etc. ['17\" inch screen', 'price-point', 'appearance', 'boots up', 'runs']\n",
      "pros:  the macbook pro notebook has a large battery life and you wont have to worry to charge your laptop every five hours or so. ['battery life']\n",
      "Hmmm - that high failure rate sure isn't reflected in the retail price. ['retail price']\n",
      "It was not clear that the Microsoft Student Edition that was loaded on the computer, was a six month trial. ['Microsoft Student Edition']\n",
      "Good for every day computing and web browsing. ['web browsing', 'every day computing']\n",
      "Excellent LED monitor and well equipped. ['LED monitor']\n",
      "  This process continued to repeat itself until the mother board had been replaced 4 times and the hard drive replaced 3 times. ['mother board', 'hard drive']\n",
      "This is the first time that I tried and owning a netbook although I have used 3 different laptops in the past 10 years, I find not much difference except of course for the screen size. ['screen size']\n",
      "But the biggest pain is that tech support is not available 24/7. ['tech support']\n",
      "The backlit keys are wonderful when you are working in the dark. ['backlit keys']\n",
      "The most recent being that my Safari internet browser is freaking out on me, but I have just been using firefox instead. ['Safari internet browser', 'firefox']\n",
      "I did not have to call the support line at all. ['support line']\n",
      "The laptop is outstanding in all aspects except that it has the Windows 7 starter and not the full Windows 7. ['Windows 7 starter', 'Windows 7']\n",
      "THE FIRST PROBLEM IS THAT THE KEYBOARD FUNCTION IS SIMPLY UNSATISFACTORY. ['KEYBOARD FUNCTION']\n",
      "The DVD drive randomly pops open when it is in my backpack as well, which is annoying. ['DVD drive']\n",
      "There was a little difficulty doing the migration as the firewire cable system can't be used with the iBook. ['firewire cable system', 'iBook']\n",
      "OS X is solid with lots of innovations such as quicklook which save heaps of time. ['OS X', 'quicklook']\n",
      "But guess what?  (you have to buy an external dvd drive it doesn't have a built in type) The notebook can't be used because it doesn't read anything for an external drive. ['external dvd drive', 'external drive']\n",
      "I use a cooling pad but it doesn't help. ['cooling pad']\n",
      "Supplied software: The software that comes with this machine is greatly welcomed compared to what Windows comes with. ['Supplied software', 'software', 'Windows']\n",
      "Because we did not purchase the extended warranty in time, we are on the hook for the repair. ['extended warranty']\n",
      "WIth the upgraded memory, the MacBook Pro never has an issue running many many applications at once! ['upgraded memory', 'applications', 'running']\n",
      "The internet speed is spectacular. ['internet speed']\n",
      "They claim call center is still down. ['call center']\n",
      "I had it four months when my disc drive refused to open. ['disc drive']\n",
      "So, after Apple replaced the hard drive I enjoyed another 4 months of my new computer, until it froze this morning--completely. ['hard drive']\n",
      "Once again, I was told it was the suspicious  power supply  problem. ['power supply']\n",
      "Unable to boot up this brand new laptop. ['boot up']\n",
      " I actually had the hard drive replaced twice, the mother board once, the dvd drive twice, then they FINALLY agreed to replace it, (ALL OF THIS IN LESS THAN 1 1/2 YEARS! ['hard drive', 'mother board', 'dvd drive']\n",
      "I love the feel of the key board, as well as the trackpad. ['key board', 'trackpad']\n",
      "Now the machine won't connect and Toshiba says that they did replace the connection card in May but they only warranty the repair for 30 days and now I'm out of warranty even though this has been a constant 5 month occurance since I bought the netbook. ['connection card', 'warranty', 'warranty']\n",
      "But, buy this model and just purchase 4GB of RAM (2x2GB for $92 or 1x4GB for $99), and save yourself $100 than the other model with 8GB of RAM. ['4GB of RAM', '8GB of RAM']\n",
      "  Toshiba customer services will indirectly deal with your problems by constantly tranferring you from one country to another, and I am not kidding you, I called different hours of the day and you'll get someone else from another country trying to get you to tell them your life story all over again, since they make it sound like they don't have your history list of your calls right in front of them. ['Toshiba customer services']\n",
      "Quality Display  I was surprised with the performance and quality of this HP Laptop. ['Quality Display', 'performance', 'quality']\n",
      "The battery life also doesn't keep up with the claim but still I think macbook is much ahead from the rest of the pack. ['battery life']\n",
      "The internet capabilities are also very strong and picks up signals very easily. ['internet capabilities']\n",
      "Its fast, has High definition quality in the videos. ['High definition quality']\n",
      "Another Great thing is the Beast graphics. ['Beast graphics']\n",
      "The ease of set up was terrific. ['set up']\n",
      "Everything I have tried has worked and I never have to carry the wall charger cause the battery is so awesome. ['wall charger', 'battery']\n",
      "The battery life is probably an hour at best. ['battery life']\n",
      "This is a review of windows vista system. ['windows vista system']\n",
      "cosmetically, the only thing they changed was 2 of the Function keys at the top. ['Function keys']\n",
      "Screen size is perfect for portable use in any environment. ['Screen size']\n",
      "First, it does not have a push button to open the lid. ['push button', 'lid']\n",
      "I used to build my own desktops from the component parts, and recently my 7 year old Pentium 4 with HT 1 GB ram SATA desktop stopped working (this was a rock star 7 years ago). ['Pentium 4', '1 GB ram']\n",
      ") And printing from either word processor is an adventure. ['word processor']\n",
      "After purchasing this thing, I find out that I need a special interface device to connect my camera, and that it cannot be purchased at the store - only on line. ['interface device']\n",
      "Another included program that is laughable is the chess game. ['included program']\n",
      "It works great for general internet use, Microsoft Office apps, home bookkeeping, etc. ['Microsoft Office apps', 'internet use']\n",
      "After replacing the hard drive the battery stopped working  (3 months of use) which was frustrating. ['hard drive', 'battery']\n",
      "I love the solid machined aluminum frame, and the keyboard is the best of any laptop I've used. ['machined aluminum frame', 'keyboard']\n",
      "You can even run a parallels type program easily and run any leftover PC software that you absolutely cannot be without. ['parallels type program', 'software']\n",
      "The ATI graphics card is a huge plus, definitely a good value if you need to be able to run some slightly older games that a Intel built-in card would have trouble with, such as Half-Life 2 or even World of Warcraft. ['ATI graphics card', 'Intel built-in card', 'games']\n",
      "My power supply cord developed exposed wires within the first year of ownership, so it was covered by the Applecare warranty plan. ['power supply cord', 'Applecare warranty plan']\n",
      "I preferred the fit and feel of the 13 inch. ['13 inch']\n",
      "power supply went bad after 2 weeks -- ['power supply']\n",
      "The right speaker did not work. ['right speaker']\n",
      "The Final Cut Pro on this laptop is so fast and easy, and I can use this to seemlessly transfer all my work to my home computer, which is also a mac. ['Final Cut Pro']\n",
      "The Mac Snow Leopard O/S is extremely easy to use, although very different than Win XP, Visa or Win7. ['Mac Snow Leopard O/S', 'Win XP', 'Visa', 'Win7', 'use']\n",
      "The only objection I have is that after you buy it the windows 7 system is a starter and charges for the upgrade. ['windows 7 system']\n",
      "I do transcription work on the side, and the flatline keyboard makes typing quick and easy as well. ['flatline keyboard']\n",
      "I love windows 7 but i can't give Toshiba any credit for that, unless y'all get serious about ergonomics and making required connections less obtrusive i will be looking to different manufacturer next time. ['windows 7', 'ergonomics', 'connections']\n",
      "After numerous calls to Applecare tech support, I was directed to send in my computer; ['Applecare tech support']\n",
      "The \"abuse\" is that I pushed the power plug in too hard. ['power plug']\n",
      "The resolution on the screen is almost pure HD. ['resolution on the screen']\n",
      "The Internet Explorer was very slow from the very beginning. ['Internet Explorer']\n",
      "The AC power port becomes loose over time ['AC power port']\n",
      "As a user of a PC, I will will admit that the macBook Pro has a better running system in which I found myself \"Getting the job done quicker. ['running system']\n",
      "and they replaced the awesome ergonomic small lightweight power supply with a power supply that weighed more than the machine itself. ['power supply', 'power supply']\n",
      "Which is great I am running Vista Business and scored a 5.X on the index I have never seen a windows machine have a total score in the 5's. ['Vista Business']\n",
      "I use the computer to basically check emails, surf the web, print coupons and for my college papers. ['surf the web']\n",
      "We love the size of the screen, although it is still lightweight and very easy to tote around. ['size of the screen', 'tote']\n",
      "If you want a little more custom ability, drop a few bucks and upgrade to one of the more robust versions of Win 7 and grab a 2GB stick of memory to spice it all up a bit more. ['Win 7', '2GB stick of memory']\n",
      "Could not keep up with me and finally the hard drive went out. ['hard drive']\n",
      "Battery life could be better but overall for the price and Toshiba's reputation for laptops it's great! ['Battery life', 'price']\n",
      "The Windows 7 Starter is, in my opinion, a great way to think about using your netbook: basics, basics, basics. ['Windows 7 Starter']\n",
      "The neat and organized icon list is a welcome change from cluttered and confusing desktop icons. ['icon list', 'desktop icons']\n",
      "The apple care has never failed me, and I expect it to be the same for this computer as well. ['apple care']\n",
      "After way too many times sending the thing in for repairs (delivery service was slow, and without the laptop I had no access to the internet, and thus no way of tracking it to find out when I might hope to see my computer again), it finally kicked the bucket after just over 2 years. ['delivery service']\n",
      "the i3 processor doesn't seem to run hot and the fan rarely turns on. ['i3 processor', 'fan']\n",
      "See when it comes to laptops you buy it and get just a normal operating system with trials of must need stuff that should come with it. ['operating system']\n",
      "The only thing I don't understand is that the resolution of the screen isn't high enough for some pages, such as Yahoo!Mail. ['resolution of the screen']\n",
      "very convenient when you travel and the battery life is excellent... ['battery life']\n",
      "  The machine is slow to boot up and occasionally crashes completely. ['boot up']\n",
      "the screen brightness automatically adjusts. ['screen brightness']\n",
      "I especially like the backlit keyboard. ['backlit keyboard']\n",
      "(The SATA controller is the motherboard chip that lets the CPU talk to the hard drive.) ['SATA controller', 'motherboard chip', 'CPU', 'hard drive']\n",
      "The battery life was supposed to be 6 hours, but even if I ran off the battery with the high effeciency setting the battery would only last me on average about 2.5 to 3 hours. ['battery life', 'battery', 'battery']\n",
      "The battery life also doesn't keep up with the claim but still I think macbook is much ahead from the rest of the pack. ['battery life']\n",
      "  It was loaded with Windows Vista Home Premium--delivered with only 1GB of RAM, and it was a *dog*. ['Windows Vista Home Premium', '1GB of RAM']\n",
      "My one complaint with this laptop is that I've noticed an electronic fuzz sound coming out of the headphone jack when headphones are plugged in. ['electronic fuzz sound', 'headphone jack']\n",
      "Was searching online for a power supply when I found this site. ['power supply']\n",
      "The one thing I wish it had was a detailed hardcopy manuel. ['hardcopy manuel']\n",
      "The only thing i can say is that the touch pad doesnt work like it should all the time. ['touch pad']\n",
      "Battery life needs more life. ['Battery life']\n",
      "For some odd reasons the computer doesn't reconize the operation system. ['operation system']\n",
      "I respond that I do not have the old computer and this way I would lose the data on my hard drive. ['hard drive']\n",
      "We paid for the three year warranty and the extended warranty after that one ended as well. ['three year warranty', 'extended warranty']\n",
      "I acually believe the issue is with the Nvidia grafics card, but still requires a return. ['Nvidia grafics card']\n",
      "Then just the other day, my left \"mouse\" button snapped! ['left \"mouse\" button']\n",
      "In due course, I'll remove the hard disc from this new MacBook Pro and dump it where it belongs - in the trash. ['hard disc']\n",
      "They break down just as often as PCs do, and the only reason they don't get viruses, is because no one makes viruses for them, they're not better in any way, they are worse, try finding virus protection programs for a Mac, they don't exist. ['virus protection programs for a Mac']\n",
      "The overall build quality of the unit is excellent and she'd recommend it to anyone else looking for a netbook. ['build quality']\n",
      "I guess he was the technical person. ['technical person']\n",
      "It is fast and i have not had a problem with internet connection or any other problems. ['internet connection']\n",
      "But when I received my replacement, I made BOTH recovery DVDs (4), and a driver/application DVD. ['recovery DVDs', 'driver/application DVD']\n",
      "In addition, there is photo detection software that will allow you to group all the photos together based upon the people in the picture. ['photo detection software']\n",
      "If this is an improvement in Customer Service then I would hate too see what it was before! ['Customer Service']\n",
      "There is no cd drive on the computer, which defeats the purpose of keeping files on a cd. ['cd drive']\n",
      "I would rate this computer at 5 stars, but considering it has a short life span I can only give it 1 and implore anyone looking at laptops to stay away from this machine. ['life span']\n",
      "Was not happy with one of the programs on it. ['one of the programs']\n",
      "The acer one computer that I bought is 17 ince screen and its hard to find lap top bags for it, but I like the big screen on it. ['17 ince screen', 'screen']\n",
      "Summary: They played games with me for the warranty period. ['warranty period']\n",
      "It is easy to navigate and update programs. ['update programs', 'navigate']\n",
      "All in all, a very disappointing experience except that I learned how good the Geek Squad is and also Customer Service. ['Customer Service']\n",
      "I had in the past a Dell laptop and they sent me the items it needed or they sent a repair technician to my house to fix it. ['repair technician']\n",
      "Unless you want to be inconvenienced with a non working power supply which you can't find a replacement for because they made the attachment so small. ['power supply']\n",
      "It is much faster than my desktop which is a Core2 Quad running at 2.83 GHz. ['Core2 Quad']\n",
      "It is good to know that I can mobilize without having to worry about the battery life. ['battery life']\n",
      "Not to mention sometimes the whole charger unit will decide not to work entirely. ['charger unit']\n",
      "Anyway, in early July of this year, the DVD burner stopped working, and the computer stared having issues with power supply. ['DVD burner', 'power supply']\n",
      "COMPUTER HAS BEEN AT SERVICE FACILITY MORE THAN IN MY HANDS. ['SERVICE FACILITY']\n",
      "When I called Sony the Customer Service was Great. ['Customer Service']\n",
      "Not even safe mode boots. ['safe mode']\n",
      "I had to pay $100 for a universal charger for this cheap $300 laptop. ['universal charger']\n",
      "1.You can not change your desktop background (window's 7 starter does NOT support that function). ['desktop background', \"window's 7 starter\", 'function']\n",
      "Took me 11 hours, 3 trips to different FedEx offices, and brutal conversations with 14 of the worse IT support technicians in the world. ['IT support technicians']\n",
      "As usual at customer service center, she asked me to hold for a moment while she went to the back-office and compare it with other same model netbooks and discussed it with her colleague (I could see them). ['customer service center']\n",
      "You can't even get a satellite card which is why I bought to begin with. ['satellite card']\n",
      "The battery life, before the battery completely died of course, left much to be desired. ['battery life', 'battery']\n",
      "No luck, although I waited for hours on the phone-Visited MacHouse, they stated the their call center is down due to too many phonecalls (difficult to believe). ['call center']\n",
      "There is a backlit keyboard which is perfect for typing in the dark. ['backlit keyboard']\n",
      "I spoke with a service rep at Micro Center and his girlfriend is having the same problem with her power adapter, so it's not just an isolated incident!!! ['service rep', 'power adapter']\n",
      "He has replaced his hard drive twice and (of course) has had to pay for antivirus software every year. ['hard drive', 'antivirus software']\n",
      "It seemed to be a very nice laptop except I was not able to load my Garmin GPS software or Microsoft Office 2003. ['Garmin GPS software', 'Microsoft Office 2003']\n",
      "All apple associates are always wiling to help you out with anything, no matter when you purchased the computer and how many years passed. ['apple associates']\n",
      "I had to adjust my mousepad sensitivity, because it is very sensitive. ['mousepad sensitivity']\n",
      "previous laptops were pc's, still have them, but the mac osx is a clean and smooth operating system. ['mac osx', 'operating system']\n",
      "You can do it all on this bad boy but the main thing this netbook was desinged for was surfing the web and boy o boy does it ever. ['surfing the web']\n",
      "With notes saying they replaced the hard drive. ['hard drive']\n",
      "Can't close the 2nd HDD bay since there are brackets you have to break off (even then, it still doesn't shut) That could be a major flaw for the dual HDD user. ['HDD bay']\n",
      "The leather carrying case, keyboard and mouse arrived in two days from Memphis warehouse. ['leather carrying case', 'keyboard', 'mouse']\n",
      "The touch pad is among the best. ['touch pad']\n",
      "It's now all commodity hardware. ['commodity hardwar']\n",
      "I would like to use a different operating system altogether. ['operating system']\n"
     ]
    }
   ],
   "source": [
    "res_ds_multi = load_dataset('restaurants.csv', \"restaurants/restaurants_train_sents.json\", multi_token=True)\n",
    "lap_ds_multi = load_dataset('laptops.csv', \"laptops/laptops_train_sents.json\", multi_token=True)\n",
    "\n",
    "print(f'RESTAURANTS (size={len(res_ds_multi)}):\\n')\n",
    "for ex in res_ds_multi:\n",
    "    if ex[3] and ' ' in ex[3][0]:\n",
    "        print(ex[0], ex[3])\n",
    "\n",
    "print(f'\\n\\nLAPTOPS (size={len(lap_ds_multi)}):\\n')\n",
    "for ex in lap_ds_multi:\n",
    "    if ex[3] and ' ' in ex[3][0]:\n",
    "        print(ex[0], ex[3])"
   ]
  },
  {
   "cell_type": "code",
   "execution_count": 7,
   "metadata": {},
   "outputs": [
    {
     "name": "stdout",
     "output_type": "stream",
     "text": [
      "RESTAURANTS (size=2358):\n",
      "\n",
      "But the staff was so horrible to us. ['staff']\n",
      "To be completely fair, the only redeeming factor was the food, which was above average, but couldn't make up for all the other deficiencies of Teodora. ['food']\n",
      "The food is uniformly exceptional, with a very capable kitchen which will proudly whip up whatever you feel like eating, whether it's on the menu or not. ['food', 'kitchen', 'menu']\n",
      "Where Gabriela personaly greets you and recommends you what to eat. []\n",
      "For those that go once and don't enjoy it, all I can say is that they just don't get it. []\n",
      "\n",
      "\n",
      "LAPTOPS (size=2361):\n",
      "\n",
      "I bought a HP Pavilion DV4-1222nr laptop and have had so many problems with the computer. []\n",
      "I investigated netbooks and saw the Toshiba NB305-N410BL. []\n",
      "The other day I had a presentation to do for a seminar at a large conference in town- lots of people, little time to prep and have to set up a computer to a projector, etc. []\n",
      "it is of high quality, has a killer GUI, is extremely stable, is highly expandable, is bundled with lots of very good applications, is easy to use, and is absolutely gorgeous. ['quality', 'GUI', 'applications', 'use']\n",
      "Sad very SAD. []\n"
     ]
    }
   ],
   "source": [
    "res_ds = load_dataset('restaurants.csv', \"restaurants/restaurants_train_sents.json\")\n",
    "lap_ds = load_dataset('laptops.csv', \"laptops/laptops_train_sents.json\")\n",
    "domain_ds = {'res': res_ds, 'lap': lap_ds, 'res_multi': res_ds_multi, 'lap_multi': lap_ds_multi}\n",
    "domain_names = {'res': 'Restaurants', 'lap': 'Laptops', 'res_multi': 'Restaurants (w/ multi-token aspects)',\n",
    "               'lap_multi': 'Laptops (w/ multi-token aspects)'}\n",
    "\n",
    "print(f'RESTAURANTS (size={len(res_ds)}):\\n')\n",
    "for ex in res_ds[:5]:\n",
    "    print(ex[0], ex[3])\n",
    "\n",
    "print(f'\\n\\nLAPTOPS (size={len(lap_ds)}):\\n')\n",
    "for ex in lap_ds[:5]:\n",
    "    print(ex[0], ex[3])\n",
    "\n",
    "train_size = 100\n",
    "res_train, res_test = res_ds[:train_size], res_ds[train_size:]\n",
    "lap_train, lap_test = lap_ds[:train_size], lap_ds[train_size:]\n",
    "\n",
    "models_dict = {}"
   ]
  },
  {
   "cell_type": "code",
   "execution_count": 8,
   "metadata": {},
   "outputs": [],
   "source": [
    "nlp = spacy.load(\"en_core_web_sm\", \\\n",
    "             disable=[\"parser\", \"ner\", \"entity_linker\", \"textcat\",\n",
    "                      \"entity_ruler\", \"sentencizer\",\n",
    "                      \"merge_noun_chunks\", \"merge_entities\",\n",
    "                      \"merge_subtokens\"])\n",
    "    \n",
    "def lemma(nlp, token):\n",
    "    return nlp(token)[0].lemma_.lower()\n",
    "    \n",
    "def aspect_dist(domain, percentiles=(0.9, 0.925, 0.95, 0.975), min_freq=10, lemmas=False):\n",
    "    aspects_list = [lemma(nlp, a) if lemmas else a for ex in domain_ds[domain] for a in ex[3]]\n",
    "    aspects_df = pd.DataFrame({'aspect': pd.Series(aspects_list).values})\n",
    "    \n",
    "#     px.histogram(aspects_df, log_y=True, width=1080, height=400)\\\n",
    "#         .update_xaxes(categoryorder=\"total descending\")\\\n",
    "#         .update_layout(\n",
    "#             title_text=f\"Aspect Distribution - {domain_names[domain]}\", title_x=.45,\n",
    "#             margin=dict(l=10, r=1, t=40, b=20),\n",
    "#             paper_bgcolor=\"LightSteelBlue\")\\\n",
    "#         .show()\n",
    "\n",
    "#     px.histogram(aspects_df.groupby('aspect').filter(lambda x : (x['aspect'].count()>=10).any()),\n",
    "#                  log_y=True, width=1080, height=400)\\\n",
    "#         .update_xaxes(categoryorder=\"total descending\")\\\n",
    "#         .update_layout(\n",
    "#             title_text=f\"Aspect Distribution - {domain_names[domain]}, frequency > 10\", title_x=.45,\n",
    "#             margin=dict(l=10, r=1, t=40, b=20),\n",
    "#             paper_bgcolor=\"LightSteelBlue\")\\\n",
    "#         .show()\n",
    "    df_other = aspects_df.copy()\n",
    "    series = pd.value_counts(aspects_df['aspect'])\n",
    "    mask = (series/series.sum() * 100).lt(1)\n",
    "    df_other['aspect'] = np.where(df_other['aspect'].isin(series[mask].index), 'Other', df_other['aspect'])\n",
    "    df_count = df_other.value_counts().reset_index(name='count')\n",
    "    px.pie(df_count, values='count', names='aspect')\\\n",
    "    .update_layout(\n",
    "            title_text=f\"Aspect Distribution - {domain_names[domain]} (Other < 2%)\", title_x=.45,\n",
    "            margin=dict(l=10, r=1, t=40, b=20),\n",
    "            paper_bgcolor=\"LightSteelBlue\")\\\n",
    "    .update_traces(textposition='inside').show()\n",
    "\n",
    "    return aspects_df.groupby('aspect').size().describe(percentiles=percentiles)"
   ]
  },
  {
   "cell_type": "code",
   "execution_count": 37,
   "metadata": {},
   "outputs": [
    {
     "data": {
      "application/vnd.plotly.v1+json": {
       "config": {
        "plotlyServerURL": "https://plot.ly"
       },
       "data": [
        {
         "domain": {
          "x": [
           0,
           1
          ],
          "y": [
           0,
           1
          ]
         },
         "hovertemplate": "aspect=%{label}<br>count=%{value}<extra></extra>",
         "labels": [
          "Other",
          "food",
          "service",
          "place",
          "prices",
          "menu",
          "staff",
          "dinner",
          "atmosphere",
          "pizza",
          "table",
          "price",
          "meal"
         ],
         "legendgroup": "",
         "name": "",
         "showlegend": true,
         "textposition": "inside",
         "type": "pie",
         "values": [
          2631,
          358,
          206,
          64,
          60,
          58,
          56,
          55,
          49,
          43,
          41,
          39,
          39
         ]
        }
       ],
       "layout": {
        "legend": {
         "tracegroupgap": 0
        },
        "margin": {
         "b": 20,
         "l": 10,
         "r": 1,
         "t": 40
        },
        "paper_bgcolor": "LightSteelBlue",
        "template": {
         "data": {
          "bar": [
           {
            "error_x": {
             "color": "#2a3f5f"
            },
            "error_y": {
             "color": "#2a3f5f"
            },
            "marker": {
             "line": {
              "color": "#E5ECF6",
              "width": 0.5
             }
            },
            "type": "bar"
           }
          ],
          "barpolar": [
           {
            "marker": {
             "line": {
              "color": "#E5ECF6",
              "width": 0.5
             }
            },
            "type": "barpolar"
           }
          ],
          "carpet": [
           {
            "aaxis": {
             "endlinecolor": "#2a3f5f",
             "gridcolor": "white",
             "linecolor": "white",
             "minorgridcolor": "white",
             "startlinecolor": "#2a3f5f"
            },
            "baxis": {
             "endlinecolor": "#2a3f5f",
             "gridcolor": "white",
             "linecolor": "white",
             "minorgridcolor": "white",
             "startlinecolor": "#2a3f5f"
            },
            "type": "carpet"
           }
          ],
          "choropleth": [
           {
            "colorbar": {
             "outlinewidth": 0,
             "ticks": ""
            },
            "type": "choropleth"
           }
          ],
          "contour": [
           {
            "colorbar": {
             "outlinewidth": 0,
             "ticks": ""
            },
            "colorscale": [
             [
              0,
              "#0d0887"
             ],
             [
              0.1111111111111111,
              "#46039f"
             ],
             [
              0.2222222222222222,
              "#7201a8"
             ],
             [
              0.3333333333333333,
              "#9c179e"
             ],
             [
              0.4444444444444444,
              "#bd3786"
             ],
             [
              0.5555555555555556,
              "#d8576b"
             ],
             [
              0.6666666666666666,
              "#ed7953"
             ],
             [
              0.7777777777777778,
              "#fb9f3a"
             ],
             [
              0.8888888888888888,
              "#fdca26"
             ],
             [
              1,
              "#f0f921"
             ]
            ],
            "type": "contour"
           }
          ],
          "contourcarpet": [
           {
            "colorbar": {
             "outlinewidth": 0,
             "ticks": ""
            },
            "type": "contourcarpet"
           }
          ],
          "heatmap": [
           {
            "colorbar": {
             "outlinewidth": 0,
             "ticks": ""
            },
            "colorscale": [
             [
              0,
              "#0d0887"
             ],
             [
              0.1111111111111111,
              "#46039f"
             ],
             [
              0.2222222222222222,
              "#7201a8"
             ],
             [
              0.3333333333333333,
              "#9c179e"
             ],
             [
              0.4444444444444444,
              "#bd3786"
             ],
             [
              0.5555555555555556,
              "#d8576b"
             ],
             [
              0.6666666666666666,
              "#ed7953"
             ],
             [
              0.7777777777777778,
              "#fb9f3a"
             ],
             [
              0.8888888888888888,
              "#fdca26"
             ],
             [
              1,
              "#f0f921"
             ]
            ],
            "type": "heatmap"
           }
          ],
          "heatmapgl": [
           {
            "colorbar": {
             "outlinewidth": 0,
             "ticks": ""
            },
            "colorscale": [
             [
              0,
              "#0d0887"
             ],
             [
              0.1111111111111111,
              "#46039f"
             ],
             [
              0.2222222222222222,
              "#7201a8"
             ],
             [
              0.3333333333333333,
              "#9c179e"
             ],
             [
              0.4444444444444444,
              "#bd3786"
             ],
             [
              0.5555555555555556,
              "#d8576b"
             ],
             [
              0.6666666666666666,
              "#ed7953"
             ],
             [
              0.7777777777777778,
              "#fb9f3a"
             ],
             [
              0.8888888888888888,
              "#fdca26"
             ],
             [
              1,
              "#f0f921"
             ]
            ],
            "type": "heatmapgl"
           }
          ],
          "histogram": [
           {
            "marker": {
             "colorbar": {
              "outlinewidth": 0,
              "ticks": ""
             }
            },
            "type": "histogram"
           }
          ],
          "histogram2d": [
           {
            "colorbar": {
             "outlinewidth": 0,
             "ticks": ""
            },
            "colorscale": [
             [
              0,
              "#0d0887"
             ],
             [
              0.1111111111111111,
              "#46039f"
             ],
             [
              0.2222222222222222,
              "#7201a8"
             ],
             [
              0.3333333333333333,
              "#9c179e"
             ],
             [
              0.4444444444444444,
              "#bd3786"
             ],
             [
              0.5555555555555556,
              "#d8576b"
             ],
             [
              0.6666666666666666,
              "#ed7953"
             ],
             [
              0.7777777777777778,
              "#fb9f3a"
             ],
             [
              0.8888888888888888,
              "#fdca26"
             ],
             [
              1,
              "#f0f921"
             ]
            ],
            "type": "histogram2d"
           }
          ],
          "histogram2dcontour": [
           {
            "colorbar": {
             "outlinewidth": 0,
             "ticks": ""
            },
            "colorscale": [
             [
              0,
              "#0d0887"
             ],
             [
              0.1111111111111111,
              "#46039f"
             ],
             [
              0.2222222222222222,
              "#7201a8"
             ],
             [
              0.3333333333333333,
              "#9c179e"
             ],
             [
              0.4444444444444444,
              "#bd3786"
             ],
             [
              0.5555555555555556,
              "#d8576b"
             ],
             [
              0.6666666666666666,
              "#ed7953"
             ],
             [
              0.7777777777777778,
              "#fb9f3a"
             ],
             [
              0.8888888888888888,
              "#fdca26"
             ],
             [
              1,
              "#f0f921"
             ]
            ],
            "type": "histogram2dcontour"
           }
          ],
          "mesh3d": [
           {
            "colorbar": {
             "outlinewidth": 0,
             "ticks": ""
            },
            "type": "mesh3d"
           }
          ],
          "parcoords": [
           {
            "line": {
             "colorbar": {
              "outlinewidth": 0,
              "ticks": ""
             }
            },
            "type": "parcoords"
           }
          ],
          "pie": [
           {
            "automargin": true,
            "type": "pie"
           }
          ],
          "scatter": [
           {
            "marker": {
             "colorbar": {
              "outlinewidth": 0,
              "ticks": ""
             }
            },
            "type": "scatter"
           }
          ],
          "scatter3d": [
           {
            "line": {
             "colorbar": {
              "outlinewidth": 0,
              "ticks": ""
             }
            },
            "marker": {
             "colorbar": {
              "outlinewidth": 0,
              "ticks": ""
             }
            },
            "type": "scatter3d"
           }
          ],
          "scattercarpet": [
           {
            "marker": {
             "colorbar": {
              "outlinewidth": 0,
              "ticks": ""
             }
            },
            "type": "scattercarpet"
           }
          ],
          "scattergeo": [
           {
            "marker": {
             "colorbar": {
              "outlinewidth": 0,
              "ticks": ""
             }
            },
            "type": "scattergeo"
           }
          ],
          "scattergl": [
           {
            "marker": {
             "colorbar": {
              "outlinewidth": 0,
              "ticks": ""
             }
            },
            "type": "scattergl"
           }
          ],
          "scattermapbox": [
           {
            "marker": {
             "colorbar": {
              "outlinewidth": 0,
              "ticks": ""
             }
            },
            "type": "scattermapbox"
           }
          ],
          "scatterpolar": [
           {
            "marker": {
             "colorbar": {
              "outlinewidth": 0,
              "ticks": ""
             }
            },
            "type": "scatterpolar"
           }
          ],
          "scatterpolargl": [
           {
            "marker": {
             "colorbar": {
              "outlinewidth": 0,
              "ticks": ""
             }
            },
            "type": "scatterpolargl"
           }
          ],
          "scatterternary": [
           {
            "marker": {
             "colorbar": {
              "outlinewidth": 0,
              "ticks": ""
             }
            },
            "type": "scatterternary"
           }
          ],
          "surface": [
           {
            "colorbar": {
             "outlinewidth": 0,
             "ticks": ""
            },
            "colorscale": [
             [
              0,
              "#0d0887"
             ],
             [
              0.1111111111111111,
              "#46039f"
             ],
             [
              0.2222222222222222,
              "#7201a8"
             ],
             [
              0.3333333333333333,
              "#9c179e"
             ],
             [
              0.4444444444444444,
              "#bd3786"
             ],
             [
              0.5555555555555556,
              "#d8576b"
             ],
             [
              0.6666666666666666,
              "#ed7953"
             ],
             [
              0.7777777777777778,
              "#fb9f3a"
             ],
             [
              0.8888888888888888,
              "#fdca26"
             ],
             [
              1,
              "#f0f921"
             ]
            ],
            "type": "surface"
           }
          ],
          "table": [
           {
            "cells": {
             "fill": {
              "color": "#EBF0F8"
             },
             "line": {
              "color": "white"
             }
            },
            "header": {
             "fill": {
              "color": "#C8D4E3"
             },
             "line": {
              "color": "white"
             }
            },
            "type": "table"
           }
          ]
         },
         "layout": {
          "annotationdefaults": {
           "arrowcolor": "#2a3f5f",
           "arrowhead": 0,
           "arrowwidth": 1
          },
          "autotypenumbers": "strict",
          "coloraxis": {
           "colorbar": {
            "outlinewidth": 0,
            "ticks": ""
           }
          },
          "colorscale": {
           "diverging": [
            [
             0,
             "#8e0152"
            ],
            [
             0.1,
             "#c51b7d"
            ],
            [
             0.2,
             "#de77ae"
            ],
            [
             0.3,
             "#f1b6da"
            ],
            [
             0.4,
             "#fde0ef"
            ],
            [
             0.5,
             "#f7f7f7"
            ],
            [
             0.6,
             "#e6f5d0"
            ],
            [
             0.7,
             "#b8e186"
            ],
            [
             0.8,
             "#7fbc41"
            ],
            [
             0.9,
             "#4d9221"
            ],
            [
             1,
             "#276419"
            ]
           ],
           "sequential": [
            [
             0,
             "#0d0887"
            ],
            [
             0.1111111111111111,
             "#46039f"
            ],
            [
             0.2222222222222222,
             "#7201a8"
            ],
            [
             0.3333333333333333,
             "#9c179e"
            ],
            [
             0.4444444444444444,
             "#bd3786"
            ],
            [
             0.5555555555555556,
             "#d8576b"
            ],
            [
             0.6666666666666666,
             "#ed7953"
            ],
            [
             0.7777777777777778,
             "#fb9f3a"
            ],
            [
             0.8888888888888888,
             "#fdca26"
            ],
            [
             1,
             "#f0f921"
            ]
           ],
           "sequentialminus": [
            [
             0,
             "#0d0887"
            ],
            [
             0.1111111111111111,
             "#46039f"
            ],
            [
             0.2222222222222222,
             "#7201a8"
            ],
            [
             0.3333333333333333,
             "#9c179e"
            ],
            [
             0.4444444444444444,
             "#bd3786"
            ],
            [
             0.5555555555555556,
             "#d8576b"
            ],
            [
             0.6666666666666666,
             "#ed7953"
            ],
            [
             0.7777777777777778,
             "#fb9f3a"
            ],
            [
             0.8888888888888888,
             "#fdca26"
            ],
            [
             1,
             "#f0f921"
            ]
           ]
          },
          "colorway": [
           "#636efa",
           "#EF553B",
           "#00cc96",
           "#ab63fa",
           "#FFA15A",
           "#19d3f3",
           "#FF6692",
           "#B6E880",
           "#FF97FF",
           "#FECB52"
          ],
          "font": {
           "color": "#2a3f5f"
          },
          "geo": {
           "bgcolor": "white",
           "lakecolor": "white",
           "landcolor": "#E5ECF6",
           "showlakes": true,
           "showland": true,
           "subunitcolor": "white"
          },
          "hoverlabel": {
           "align": "left"
          },
          "hovermode": "closest",
          "mapbox": {
           "style": "light"
          },
          "paper_bgcolor": "white",
          "plot_bgcolor": "#E5ECF6",
          "polar": {
           "angularaxis": {
            "gridcolor": "white",
            "linecolor": "white",
            "ticks": ""
           },
           "bgcolor": "#E5ECF6",
           "radialaxis": {
            "gridcolor": "white",
            "linecolor": "white",
            "ticks": ""
           }
          },
          "scene": {
           "xaxis": {
            "backgroundcolor": "#E5ECF6",
            "gridcolor": "white",
            "gridwidth": 2,
            "linecolor": "white",
            "showbackground": true,
            "ticks": "",
            "zerolinecolor": "white"
           },
           "yaxis": {
            "backgroundcolor": "#E5ECF6",
            "gridcolor": "white",
            "gridwidth": 2,
            "linecolor": "white",
            "showbackground": true,
            "ticks": "",
            "zerolinecolor": "white"
           },
           "zaxis": {
            "backgroundcolor": "#E5ECF6",
            "gridcolor": "white",
            "gridwidth": 2,
            "linecolor": "white",
            "showbackground": true,
            "ticks": "",
            "zerolinecolor": "white"
           }
          },
          "shapedefaults": {
           "line": {
            "color": "#2a3f5f"
           }
          },
          "ternary": {
           "aaxis": {
            "gridcolor": "white",
            "linecolor": "white",
            "ticks": ""
           },
           "baxis": {
            "gridcolor": "white",
            "linecolor": "white",
            "ticks": ""
           },
           "bgcolor": "#E5ECF6",
           "caxis": {
            "gridcolor": "white",
            "linecolor": "white",
            "ticks": ""
           }
          },
          "title": {
           "x": 0.05
          },
          "xaxis": {
           "automargin": true,
           "gridcolor": "white",
           "linecolor": "white",
           "ticks": "",
           "title": {
            "standoff": 15
           },
           "zerolinecolor": "white",
           "zerolinewidth": 2
          },
          "yaxis": {
           "automargin": true,
           "gridcolor": "white",
           "linecolor": "white",
           "ticks": "",
           "title": {
            "standoff": 15
           },
           "zerolinecolor": "white",
           "zerolinewidth": 2
          }
         }
        },
        "title": {
         "text": "Aspect Distribution - Restaurants (w/ multi-token aspects) (Other < 2%)",
         "x": 0.45
        }
       }
      },
      "text/html": [
       "<div>                            <div id=\"5ca0584c-8f95-4247-bae1-4ee0d78a6604\" class=\"plotly-graph-div\" style=\"height:525px; width:100%;\"></div>            <script type=\"text/javascript\">                require([\"plotly\"], function(Plotly) {                    window.PLOTLYENV=window.PLOTLYENV || {};                                    if (document.getElementById(\"5ca0584c-8f95-4247-bae1-4ee0d78a6604\")) {                    Plotly.newPlot(                        \"5ca0584c-8f95-4247-bae1-4ee0d78a6604\",                        [{\"domain\": {\"x\": [0.0, 1.0], \"y\": [0.0, 1.0]}, \"hovertemplate\": \"aspect=%{label}<br>count=%{value}<extra></extra>\", \"labels\": [\"Other\", \"food\", \"service\", \"place\", \"prices\", \"menu\", \"staff\", \"dinner\", \"atmosphere\", \"pizza\", \"table\", \"price\", \"meal\"], \"legendgroup\": \"\", \"name\": \"\", \"showlegend\": true, \"textposition\": \"inside\", \"type\": \"pie\", \"values\": [2631, 358, 206, 64, 60, 58, 56, 55, 49, 43, 41, 39, 39]}],                        {\"legend\": {\"tracegroupgap\": 0}, \"margin\": {\"b\": 20, \"l\": 10, \"r\": 1, \"t\": 40}, \"paper_bgcolor\": \"LightSteelBlue\", \"template\": {\"data\": {\"bar\": [{\"error_x\": {\"color\": \"#2a3f5f\"}, \"error_y\": {\"color\": \"#2a3f5f\"}, \"marker\": {\"line\": {\"color\": \"#E5ECF6\", \"width\": 0.5}}, \"type\": \"bar\"}], \"barpolar\": [{\"marker\": {\"line\": {\"color\": \"#E5ECF6\", \"width\": 0.5}}, \"type\": \"barpolar\"}], \"carpet\": [{\"aaxis\": {\"endlinecolor\": \"#2a3f5f\", \"gridcolor\": \"white\", \"linecolor\": \"white\", \"minorgridcolor\": \"white\", \"startlinecolor\": \"#2a3f5f\"}, \"baxis\": {\"endlinecolor\": \"#2a3f5f\", \"gridcolor\": \"white\", \"linecolor\": \"white\", \"minorgridcolor\": \"white\", \"startlinecolor\": \"#2a3f5f\"}, \"type\": \"carpet\"}], \"choropleth\": [{\"colorbar\": {\"outlinewidth\": 0, \"ticks\": \"\"}, \"type\": \"choropleth\"}], \"contour\": [{\"colorbar\": {\"outlinewidth\": 0, \"ticks\": \"\"}, \"colorscale\": [[0.0, \"#0d0887\"], [0.1111111111111111, \"#46039f\"], [0.2222222222222222, \"#7201a8\"], [0.3333333333333333, \"#9c179e\"], [0.4444444444444444, \"#bd3786\"], [0.5555555555555556, \"#d8576b\"], [0.6666666666666666, \"#ed7953\"], [0.7777777777777778, \"#fb9f3a\"], [0.8888888888888888, \"#fdca26\"], [1.0, \"#f0f921\"]], \"type\": \"contour\"}], \"contourcarpet\": [{\"colorbar\": {\"outlinewidth\": 0, \"ticks\": \"\"}, \"type\": \"contourcarpet\"}], \"heatmap\": [{\"colorbar\": {\"outlinewidth\": 0, \"ticks\": \"\"}, \"colorscale\": [[0.0, \"#0d0887\"], [0.1111111111111111, \"#46039f\"], [0.2222222222222222, \"#7201a8\"], [0.3333333333333333, \"#9c179e\"], [0.4444444444444444, \"#bd3786\"], [0.5555555555555556, \"#d8576b\"], [0.6666666666666666, \"#ed7953\"], [0.7777777777777778, \"#fb9f3a\"], [0.8888888888888888, \"#fdca26\"], [1.0, \"#f0f921\"]], \"type\": \"heatmap\"}], \"heatmapgl\": [{\"colorbar\": {\"outlinewidth\": 0, \"ticks\": \"\"}, \"colorscale\": [[0.0, \"#0d0887\"], [0.1111111111111111, \"#46039f\"], [0.2222222222222222, \"#7201a8\"], [0.3333333333333333, \"#9c179e\"], [0.4444444444444444, \"#bd3786\"], [0.5555555555555556, \"#d8576b\"], [0.6666666666666666, \"#ed7953\"], [0.7777777777777778, \"#fb9f3a\"], [0.8888888888888888, \"#fdca26\"], [1.0, \"#f0f921\"]], \"type\": \"heatmapgl\"}], \"histogram\": [{\"marker\": {\"colorbar\": {\"outlinewidth\": 0, \"ticks\": \"\"}}, \"type\": \"histogram\"}], \"histogram2d\": [{\"colorbar\": {\"outlinewidth\": 0, \"ticks\": \"\"}, \"colorscale\": [[0.0, \"#0d0887\"], [0.1111111111111111, \"#46039f\"], [0.2222222222222222, \"#7201a8\"], [0.3333333333333333, \"#9c179e\"], [0.4444444444444444, \"#bd3786\"], [0.5555555555555556, \"#d8576b\"], [0.6666666666666666, \"#ed7953\"], [0.7777777777777778, \"#fb9f3a\"], [0.8888888888888888, \"#fdca26\"], [1.0, \"#f0f921\"]], \"type\": \"histogram2d\"}], \"histogram2dcontour\": [{\"colorbar\": {\"outlinewidth\": 0, \"ticks\": \"\"}, \"colorscale\": [[0.0, \"#0d0887\"], [0.1111111111111111, \"#46039f\"], [0.2222222222222222, \"#7201a8\"], [0.3333333333333333, \"#9c179e\"], [0.4444444444444444, \"#bd3786\"], [0.5555555555555556, \"#d8576b\"], [0.6666666666666666, \"#ed7953\"], [0.7777777777777778, \"#fb9f3a\"], [0.8888888888888888, \"#fdca26\"], [1.0, \"#f0f921\"]], \"type\": \"histogram2dcontour\"}], \"mesh3d\": [{\"colorbar\": {\"outlinewidth\": 0, \"ticks\": \"\"}, \"type\": \"mesh3d\"}], \"parcoords\": [{\"line\": {\"colorbar\": {\"outlinewidth\": 0, \"ticks\": \"\"}}, \"type\": \"parcoords\"}], \"pie\": [{\"automargin\": true, \"type\": \"pie\"}], \"scatter\": [{\"marker\": {\"colorbar\": {\"outlinewidth\": 0, \"ticks\": \"\"}}, \"type\": \"scatter\"}], \"scatter3d\": [{\"line\": {\"colorbar\": {\"outlinewidth\": 0, \"ticks\": \"\"}}, \"marker\": {\"colorbar\": {\"outlinewidth\": 0, \"ticks\": \"\"}}, \"type\": \"scatter3d\"}], \"scattercarpet\": [{\"marker\": {\"colorbar\": {\"outlinewidth\": 0, \"ticks\": \"\"}}, \"type\": \"scattercarpet\"}], \"scattergeo\": [{\"marker\": {\"colorbar\": {\"outlinewidth\": 0, \"ticks\": \"\"}}, \"type\": \"scattergeo\"}], \"scattergl\": [{\"marker\": {\"colorbar\": {\"outlinewidth\": 0, \"ticks\": \"\"}}, \"type\": \"scattergl\"}], \"scattermapbox\": [{\"marker\": {\"colorbar\": {\"outlinewidth\": 0, \"ticks\": \"\"}}, \"type\": \"scattermapbox\"}], \"scatterpolar\": [{\"marker\": {\"colorbar\": {\"outlinewidth\": 0, \"ticks\": \"\"}}, \"type\": \"scatterpolar\"}], \"scatterpolargl\": [{\"marker\": {\"colorbar\": {\"outlinewidth\": 0, \"ticks\": \"\"}}, \"type\": \"scatterpolargl\"}], \"scatterternary\": [{\"marker\": {\"colorbar\": {\"outlinewidth\": 0, \"ticks\": \"\"}}, \"type\": \"scatterternary\"}], \"surface\": [{\"colorbar\": {\"outlinewidth\": 0, \"ticks\": \"\"}, \"colorscale\": [[0.0, \"#0d0887\"], [0.1111111111111111, \"#46039f\"], [0.2222222222222222, \"#7201a8\"], [0.3333333333333333, \"#9c179e\"], [0.4444444444444444, \"#bd3786\"], [0.5555555555555556, \"#d8576b\"], [0.6666666666666666, \"#ed7953\"], [0.7777777777777778, \"#fb9f3a\"], [0.8888888888888888, \"#fdca26\"], [1.0, \"#f0f921\"]], \"type\": \"surface\"}], \"table\": [{\"cells\": {\"fill\": {\"color\": \"#EBF0F8\"}, \"line\": {\"color\": \"white\"}}, \"header\": {\"fill\": {\"color\": \"#C8D4E3\"}, \"line\": {\"color\": \"white\"}}, \"type\": \"table\"}]}, \"layout\": {\"annotationdefaults\": {\"arrowcolor\": \"#2a3f5f\", \"arrowhead\": 0, \"arrowwidth\": 1}, \"autotypenumbers\": \"strict\", \"coloraxis\": {\"colorbar\": {\"outlinewidth\": 0, \"ticks\": \"\"}}, \"colorscale\": {\"diverging\": [[0, \"#8e0152\"], [0.1, \"#c51b7d\"], [0.2, \"#de77ae\"], [0.3, \"#f1b6da\"], [0.4, \"#fde0ef\"], [0.5, \"#f7f7f7\"], [0.6, \"#e6f5d0\"], [0.7, \"#b8e186\"], [0.8, \"#7fbc41\"], [0.9, \"#4d9221\"], [1, \"#276419\"]], \"sequential\": [[0.0, \"#0d0887\"], [0.1111111111111111, \"#46039f\"], [0.2222222222222222, \"#7201a8\"], [0.3333333333333333, \"#9c179e\"], [0.4444444444444444, \"#bd3786\"], [0.5555555555555556, \"#d8576b\"], [0.6666666666666666, \"#ed7953\"], [0.7777777777777778, \"#fb9f3a\"], [0.8888888888888888, \"#fdca26\"], [1.0, \"#f0f921\"]], \"sequentialminus\": [[0.0, \"#0d0887\"], [0.1111111111111111, \"#46039f\"], [0.2222222222222222, \"#7201a8\"], [0.3333333333333333, \"#9c179e\"], [0.4444444444444444, \"#bd3786\"], [0.5555555555555556, \"#d8576b\"], [0.6666666666666666, \"#ed7953\"], [0.7777777777777778, \"#fb9f3a\"], [0.8888888888888888, \"#fdca26\"], [1.0, \"#f0f921\"]]}, \"colorway\": [\"#636efa\", \"#EF553B\", \"#00cc96\", \"#ab63fa\", \"#FFA15A\", \"#19d3f3\", \"#FF6692\", \"#B6E880\", \"#FF97FF\", \"#FECB52\"], \"font\": {\"color\": \"#2a3f5f\"}, \"geo\": {\"bgcolor\": \"white\", \"lakecolor\": \"white\", \"landcolor\": \"#E5ECF6\", \"showlakes\": true, \"showland\": true, \"subunitcolor\": \"white\"}, \"hoverlabel\": {\"align\": \"left\"}, \"hovermode\": \"closest\", \"mapbox\": {\"style\": \"light\"}, \"paper_bgcolor\": \"white\", \"plot_bgcolor\": \"#E5ECF6\", \"polar\": {\"angularaxis\": {\"gridcolor\": \"white\", \"linecolor\": \"white\", \"ticks\": \"\"}, \"bgcolor\": \"#E5ECF6\", \"radialaxis\": {\"gridcolor\": \"white\", \"linecolor\": \"white\", \"ticks\": \"\"}}, \"scene\": {\"xaxis\": {\"backgroundcolor\": \"#E5ECF6\", \"gridcolor\": \"white\", \"gridwidth\": 2, \"linecolor\": \"white\", \"showbackground\": true, \"ticks\": \"\", \"zerolinecolor\": \"white\"}, \"yaxis\": {\"backgroundcolor\": \"#E5ECF6\", \"gridcolor\": \"white\", \"gridwidth\": 2, \"linecolor\": \"white\", \"showbackground\": true, \"ticks\": \"\", \"zerolinecolor\": \"white\"}, \"zaxis\": {\"backgroundcolor\": \"#E5ECF6\", \"gridcolor\": \"white\", \"gridwidth\": 2, \"linecolor\": \"white\", \"showbackground\": true, \"ticks\": \"\", \"zerolinecolor\": \"white\"}}, \"shapedefaults\": {\"line\": {\"color\": \"#2a3f5f\"}}, \"ternary\": {\"aaxis\": {\"gridcolor\": \"white\", \"linecolor\": \"white\", \"ticks\": \"\"}, \"baxis\": {\"gridcolor\": \"white\", \"linecolor\": \"white\", \"ticks\": \"\"}, \"bgcolor\": \"#E5ECF6\", \"caxis\": {\"gridcolor\": \"white\", \"linecolor\": \"white\", \"ticks\": \"\"}}, \"title\": {\"x\": 0.05}, \"xaxis\": {\"automargin\": true, \"gridcolor\": \"white\", \"linecolor\": \"white\", \"ticks\": \"\", \"title\": {\"standoff\": 15}, \"zerolinecolor\": \"white\", \"zerolinewidth\": 2}, \"yaxis\": {\"automargin\": true, \"gridcolor\": \"white\", \"linecolor\": \"white\", \"ticks\": \"\", \"title\": {\"standoff\": 15}, \"zerolinecolor\": \"white\", \"zerolinewidth\": 2}}}, \"title\": {\"text\": \"Aspect Distribution - Restaurants (w/ multi-token aspects) (Other < 2%)\", \"x\": 0.45}},                        {\"responsive\": true}                    ).then(function(){\n",
       "                            \n",
       "var gd = document.getElementById('5ca0584c-8f95-4247-bae1-4ee0d78a6604');\n",
       "var x = new MutationObserver(function (mutations, observer) {{\n",
       "        var display = window.getComputedStyle(gd).display;\n",
       "        if (!display || display === 'none') {{\n",
       "            console.log([gd, 'removed!']);\n",
       "            Plotly.purge(gd);\n",
       "            observer.disconnect();\n",
       "        }}\n",
       "}});\n",
       "\n",
       "// Listen for the removal of the full notebook cells\n",
       "var notebookContainer = gd.closest('#notebook-container');\n",
       "if (notebookContainer) {{\n",
       "    x.observe(notebookContainer, {childList: true});\n",
       "}}\n",
       "\n",
       "// Listen for the clearing of the current output cell\n",
       "var outputEl = gd.closest('.output');\n",
       "if (outputEl) {{\n",
       "    x.observe(outputEl, {childList: true});\n",
       "}}\n",
       "\n",
       "                        })                };                });            </script>        </div>"
      ]
     },
     "metadata": {},
     "output_type": "display_data"
    },
    {
     "data": {
      "text/plain": [
       "count    1295.000000\n",
       "mean        2.856371\n",
       "std        12.657029\n",
       "min         1.000000\n",
       "50%         1.000000\n",
       "90%         4.000000\n",
       "92.5%       5.000000\n",
       "95%         8.300000\n",
       "97.5%      16.650000\n",
       "max       358.000000\n",
       "dtype: float64"
      ]
     },
     "execution_count": 37,
     "metadata": {},
     "output_type": "execute_result"
    }
   ],
   "source": [
    "aspect_dist(\"res_multi\", lemmas=False)"
   ]
  },
  {
   "cell_type": "code",
   "execution_count": 38,
   "metadata": {},
   "outputs": [
    {
     "data": {
      "application/vnd.plotly.v1+json": {
       "config": {
        "plotlyServerURL": "https://plot.ly"
       },
       "data": [
        {
         "domain": {
          "x": [
           0,
           1
          ],
          "y": [
           0,
           1
          ]
         },
         "hovertemplate": "aspect=%{label}<br>count=%{value}<extra></extra>",
         "labels": [
          "Other",
          "screen",
          "price",
          "use",
          "battery life",
          "battery",
          "keyboard",
          "programs",
          "software",
          "warranty",
          "features",
          "hard drive",
          "quality"
         ],
         "legendgroup": "",
         "name": "",
         "showlegend": true,
         "textposition": "inside",
         "type": "pie",
         "values": [
          1877,
          59,
          55,
          54,
          53,
          45,
          43,
          36,
          33,
          32,
          32,
          30,
          24
         ]
        }
       ],
       "layout": {
        "legend": {
         "tracegroupgap": 0
        },
        "margin": {
         "b": 20,
         "l": 10,
         "r": 1,
         "t": 40
        },
        "paper_bgcolor": "LightSteelBlue",
        "template": {
         "data": {
          "bar": [
           {
            "error_x": {
             "color": "#2a3f5f"
            },
            "error_y": {
             "color": "#2a3f5f"
            },
            "marker": {
             "line": {
              "color": "#E5ECF6",
              "width": 0.5
             }
            },
            "type": "bar"
           }
          ],
          "barpolar": [
           {
            "marker": {
             "line": {
              "color": "#E5ECF6",
              "width": 0.5
             }
            },
            "type": "barpolar"
           }
          ],
          "carpet": [
           {
            "aaxis": {
             "endlinecolor": "#2a3f5f",
             "gridcolor": "white",
             "linecolor": "white",
             "minorgridcolor": "white",
             "startlinecolor": "#2a3f5f"
            },
            "baxis": {
             "endlinecolor": "#2a3f5f",
             "gridcolor": "white",
             "linecolor": "white",
             "minorgridcolor": "white",
             "startlinecolor": "#2a3f5f"
            },
            "type": "carpet"
           }
          ],
          "choropleth": [
           {
            "colorbar": {
             "outlinewidth": 0,
             "ticks": ""
            },
            "type": "choropleth"
           }
          ],
          "contour": [
           {
            "colorbar": {
             "outlinewidth": 0,
             "ticks": ""
            },
            "colorscale": [
             [
              0,
              "#0d0887"
             ],
             [
              0.1111111111111111,
              "#46039f"
             ],
             [
              0.2222222222222222,
              "#7201a8"
             ],
             [
              0.3333333333333333,
              "#9c179e"
             ],
             [
              0.4444444444444444,
              "#bd3786"
             ],
             [
              0.5555555555555556,
              "#d8576b"
             ],
             [
              0.6666666666666666,
              "#ed7953"
             ],
             [
              0.7777777777777778,
              "#fb9f3a"
             ],
             [
              0.8888888888888888,
              "#fdca26"
             ],
             [
              1,
              "#f0f921"
             ]
            ],
            "type": "contour"
           }
          ],
          "contourcarpet": [
           {
            "colorbar": {
             "outlinewidth": 0,
             "ticks": ""
            },
            "type": "contourcarpet"
           }
          ],
          "heatmap": [
           {
            "colorbar": {
             "outlinewidth": 0,
             "ticks": ""
            },
            "colorscale": [
             [
              0,
              "#0d0887"
             ],
             [
              0.1111111111111111,
              "#46039f"
             ],
             [
              0.2222222222222222,
              "#7201a8"
             ],
             [
              0.3333333333333333,
              "#9c179e"
             ],
             [
              0.4444444444444444,
              "#bd3786"
             ],
             [
              0.5555555555555556,
              "#d8576b"
             ],
             [
              0.6666666666666666,
              "#ed7953"
             ],
             [
              0.7777777777777778,
              "#fb9f3a"
             ],
             [
              0.8888888888888888,
              "#fdca26"
             ],
             [
              1,
              "#f0f921"
             ]
            ],
            "type": "heatmap"
           }
          ],
          "heatmapgl": [
           {
            "colorbar": {
             "outlinewidth": 0,
             "ticks": ""
            },
            "colorscale": [
             [
              0,
              "#0d0887"
             ],
             [
              0.1111111111111111,
              "#46039f"
             ],
             [
              0.2222222222222222,
              "#7201a8"
             ],
             [
              0.3333333333333333,
              "#9c179e"
             ],
             [
              0.4444444444444444,
              "#bd3786"
             ],
             [
              0.5555555555555556,
              "#d8576b"
             ],
             [
              0.6666666666666666,
              "#ed7953"
             ],
             [
              0.7777777777777778,
              "#fb9f3a"
             ],
             [
              0.8888888888888888,
              "#fdca26"
             ],
             [
              1,
              "#f0f921"
             ]
            ],
            "type": "heatmapgl"
           }
          ],
          "histogram": [
           {
            "marker": {
             "colorbar": {
              "outlinewidth": 0,
              "ticks": ""
             }
            },
            "type": "histogram"
           }
          ],
          "histogram2d": [
           {
            "colorbar": {
             "outlinewidth": 0,
             "ticks": ""
            },
            "colorscale": [
             [
              0,
              "#0d0887"
             ],
             [
              0.1111111111111111,
              "#46039f"
             ],
             [
              0.2222222222222222,
              "#7201a8"
             ],
             [
              0.3333333333333333,
              "#9c179e"
             ],
             [
              0.4444444444444444,
              "#bd3786"
             ],
             [
              0.5555555555555556,
              "#d8576b"
             ],
             [
              0.6666666666666666,
              "#ed7953"
             ],
             [
              0.7777777777777778,
              "#fb9f3a"
             ],
             [
              0.8888888888888888,
              "#fdca26"
             ],
             [
              1,
              "#f0f921"
             ]
            ],
            "type": "histogram2d"
           }
          ],
          "histogram2dcontour": [
           {
            "colorbar": {
             "outlinewidth": 0,
             "ticks": ""
            },
            "colorscale": [
             [
              0,
              "#0d0887"
             ],
             [
              0.1111111111111111,
              "#46039f"
             ],
             [
              0.2222222222222222,
              "#7201a8"
             ],
             [
              0.3333333333333333,
              "#9c179e"
             ],
             [
              0.4444444444444444,
              "#bd3786"
             ],
             [
              0.5555555555555556,
              "#d8576b"
             ],
             [
              0.6666666666666666,
              "#ed7953"
             ],
             [
              0.7777777777777778,
              "#fb9f3a"
             ],
             [
              0.8888888888888888,
              "#fdca26"
             ],
             [
              1,
              "#f0f921"
             ]
            ],
            "type": "histogram2dcontour"
           }
          ],
          "mesh3d": [
           {
            "colorbar": {
             "outlinewidth": 0,
             "ticks": ""
            },
            "type": "mesh3d"
           }
          ],
          "parcoords": [
           {
            "line": {
             "colorbar": {
              "outlinewidth": 0,
              "ticks": ""
             }
            },
            "type": "parcoords"
           }
          ],
          "pie": [
           {
            "automargin": true,
            "type": "pie"
           }
          ],
          "scatter": [
           {
            "marker": {
             "colorbar": {
              "outlinewidth": 0,
              "ticks": ""
             }
            },
            "type": "scatter"
           }
          ],
          "scatter3d": [
           {
            "line": {
             "colorbar": {
              "outlinewidth": 0,
              "ticks": ""
             }
            },
            "marker": {
             "colorbar": {
              "outlinewidth": 0,
              "ticks": ""
             }
            },
            "type": "scatter3d"
           }
          ],
          "scattercarpet": [
           {
            "marker": {
             "colorbar": {
              "outlinewidth": 0,
              "ticks": ""
             }
            },
            "type": "scattercarpet"
           }
          ],
          "scattergeo": [
           {
            "marker": {
             "colorbar": {
              "outlinewidth": 0,
              "ticks": ""
             }
            },
            "type": "scattergeo"
           }
          ],
          "scattergl": [
           {
            "marker": {
             "colorbar": {
              "outlinewidth": 0,
              "ticks": ""
             }
            },
            "type": "scattergl"
           }
          ],
          "scattermapbox": [
           {
            "marker": {
             "colorbar": {
              "outlinewidth": 0,
              "ticks": ""
             }
            },
            "type": "scattermapbox"
           }
          ],
          "scatterpolar": [
           {
            "marker": {
             "colorbar": {
              "outlinewidth": 0,
              "ticks": ""
             }
            },
            "type": "scatterpolar"
           }
          ],
          "scatterpolargl": [
           {
            "marker": {
             "colorbar": {
              "outlinewidth": 0,
              "ticks": ""
             }
            },
            "type": "scatterpolargl"
           }
          ],
          "scatterternary": [
           {
            "marker": {
             "colorbar": {
              "outlinewidth": 0,
              "ticks": ""
             }
            },
            "type": "scatterternary"
           }
          ],
          "surface": [
           {
            "colorbar": {
             "outlinewidth": 0,
             "ticks": ""
            },
            "colorscale": [
             [
              0,
              "#0d0887"
             ],
             [
              0.1111111111111111,
              "#46039f"
             ],
             [
              0.2222222222222222,
              "#7201a8"
             ],
             [
              0.3333333333333333,
              "#9c179e"
             ],
             [
              0.4444444444444444,
              "#bd3786"
             ],
             [
              0.5555555555555556,
              "#d8576b"
             ],
             [
              0.6666666666666666,
              "#ed7953"
             ],
             [
              0.7777777777777778,
              "#fb9f3a"
             ],
             [
              0.8888888888888888,
              "#fdca26"
             ],
             [
              1,
              "#f0f921"
             ]
            ],
            "type": "surface"
           }
          ],
          "table": [
           {
            "cells": {
             "fill": {
              "color": "#EBF0F8"
             },
             "line": {
              "color": "white"
             }
            },
            "header": {
             "fill": {
              "color": "#C8D4E3"
             },
             "line": {
              "color": "white"
             }
            },
            "type": "table"
           }
          ]
         },
         "layout": {
          "annotationdefaults": {
           "arrowcolor": "#2a3f5f",
           "arrowhead": 0,
           "arrowwidth": 1
          },
          "autotypenumbers": "strict",
          "coloraxis": {
           "colorbar": {
            "outlinewidth": 0,
            "ticks": ""
           }
          },
          "colorscale": {
           "diverging": [
            [
             0,
             "#8e0152"
            ],
            [
             0.1,
             "#c51b7d"
            ],
            [
             0.2,
             "#de77ae"
            ],
            [
             0.3,
             "#f1b6da"
            ],
            [
             0.4,
             "#fde0ef"
            ],
            [
             0.5,
             "#f7f7f7"
            ],
            [
             0.6,
             "#e6f5d0"
            ],
            [
             0.7,
             "#b8e186"
            ],
            [
             0.8,
             "#7fbc41"
            ],
            [
             0.9,
             "#4d9221"
            ],
            [
             1,
             "#276419"
            ]
           ],
           "sequential": [
            [
             0,
             "#0d0887"
            ],
            [
             0.1111111111111111,
             "#46039f"
            ],
            [
             0.2222222222222222,
             "#7201a8"
            ],
            [
             0.3333333333333333,
             "#9c179e"
            ],
            [
             0.4444444444444444,
             "#bd3786"
            ],
            [
             0.5555555555555556,
             "#d8576b"
            ],
            [
             0.6666666666666666,
             "#ed7953"
            ],
            [
             0.7777777777777778,
             "#fb9f3a"
            ],
            [
             0.8888888888888888,
             "#fdca26"
            ],
            [
             1,
             "#f0f921"
            ]
           ],
           "sequentialminus": [
            [
             0,
             "#0d0887"
            ],
            [
             0.1111111111111111,
             "#46039f"
            ],
            [
             0.2222222222222222,
             "#7201a8"
            ],
            [
             0.3333333333333333,
             "#9c179e"
            ],
            [
             0.4444444444444444,
             "#bd3786"
            ],
            [
             0.5555555555555556,
             "#d8576b"
            ],
            [
             0.6666666666666666,
             "#ed7953"
            ],
            [
             0.7777777777777778,
             "#fb9f3a"
            ],
            [
             0.8888888888888888,
             "#fdca26"
            ],
            [
             1,
             "#f0f921"
            ]
           ]
          },
          "colorway": [
           "#636efa",
           "#EF553B",
           "#00cc96",
           "#ab63fa",
           "#FFA15A",
           "#19d3f3",
           "#FF6692",
           "#B6E880",
           "#FF97FF",
           "#FECB52"
          ],
          "font": {
           "color": "#2a3f5f"
          },
          "geo": {
           "bgcolor": "white",
           "lakecolor": "white",
           "landcolor": "#E5ECF6",
           "showlakes": true,
           "showland": true,
           "subunitcolor": "white"
          },
          "hoverlabel": {
           "align": "left"
          },
          "hovermode": "closest",
          "mapbox": {
           "style": "light"
          },
          "paper_bgcolor": "white",
          "plot_bgcolor": "#E5ECF6",
          "polar": {
           "angularaxis": {
            "gridcolor": "white",
            "linecolor": "white",
            "ticks": ""
           },
           "bgcolor": "#E5ECF6",
           "radialaxis": {
            "gridcolor": "white",
            "linecolor": "white",
            "ticks": ""
           }
          },
          "scene": {
           "xaxis": {
            "backgroundcolor": "#E5ECF6",
            "gridcolor": "white",
            "gridwidth": 2,
            "linecolor": "white",
            "showbackground": true,
            "ticks": "",
            "zerolinecolor": "white"
           },
           "yaxis": {
            "backgroundcolor": "#E5ECF6",
            "gridcolor": "white",
            "gridwidth": 2,
            "linecolor": "white",
            "showbackground": true,
            "ticks": "",
            "zerolinecolor": "white"
           },
           "zaxis": {
            "backgroundcolor": "#E5ECF6",
            "gridcolor": "white",
            "gridwidth": 2,
            "linecolor": "white",
            "showbackground": true,
            "ticks": "",
            "zerolinecolor": "white"
           }
          },
          "shapedefaults": {
           "line": {
            "color": "#2a3f5f"
           }
          },
          "ternary": {
           "aaxis": {
            "gridcolor": "white",
            "linecolor": "white",
            "ticks": ""
           },
           "baxis": {
            "gridcolor": "white",
            "linecolor": "white",
            "ticks": ""
           },
           "bgcolor": "#E5ECF6",
           "caxis": {
            "gridcolor": "white",
            "linecolor": "white",
            "ticks": ""
           }
          },
          "title": {
           "x": 0.05
          },
          "xaxis": {
           "automargin": true,
           "gridcolor": "white",
           "linecolor": "white",
           "ticks": "",
           "title": {
            "standoff": 15
           },
           "zerolinecolor": "white",
           "zerolinewidth": 2
          },
          "yaxis": {
           "automargin": true,
           "gridcolor": "white",
           "linecolor": "white",
           "ticks": "",
           "title": {
            "standoff": 15
           },
           "zerolinecolor": "white",
           "zerolinewidth": 2
          }
         }
        },
        "title": {
         "text": "Aspect Distribution - Laptops (w/ multi-token aspects) (Other < 2%)",
         "x": 0.45
        }
       }
      },
      "text/html": [
       "<div>                            <div id=\"dba2b32e-b33b-4d9d-b2f0-5537d35bef9a\" class=\"plotly-graph-div\" style=\"height:525px; width:100%;\"></div>            <script type=\"text/javascript\">                require([\"plotly\"], function(Plotly) {                    window.PLOTLYENV=window.PLOTLYENV || {};                                    if (document.getElementById(\"dba2b32e-b33b-4d9d-b2f0-5537d35bef9a\")) {                    Plotly.newPlot(                        \"dba2b32e-b33b-4d9d-b2f0-5537d35bef9a\",                        [{\"domain\": {\"x\": [0.0, 1.0], \"y\": [0.0, 1.0]}, \"hovertemplate\": \"aspect=%{label}<br>count=%{value}<extra></extra>\", \"labels\": [\"Other\", \"screen\", \"price\", \"use\", \"battery life\", \"battery\", \"keyboard\", \"programs\", \"software\", \"warranty\", \"features\", \"hard drive\", \"quality\"], \"legendgroup\": \"\", \"name\": \"\", \"showlegend\": true, \"textposition\": \"inside\", \"type\": \"pie\", \"values\": [1877, 59, 55, 54, 53, 45, 43, 36, 33, 32, 32, 30, 24]}],                        {\"legend\": {\"tracegroupgap\": 0}, \"margin\": {\"b\": 20, \"l\": 10, \"r\": 1, \"t\": 40}, \"paper_bgcolor\": \"LightSteelBlue\", \"template\": {\"data\": {\"bar\": [{\"error_x\": {\"color\": \"#2a3f5f\"}, \"error_y\": {\"color\": \"#2a3f5f\"}, \"marker\": {\"line\": {\"color\": \"#E5ECF6\", \"width\": 0.5}}, \"type\": \"bar\"}], \"barpolar\": [{\"marker\": {\"line\": {\"color\": \"#E5ECF6\", \"width\": 0.5}}, \"type\": \"barpolar\"}], \"carpet\": [{\"aaxis\": {\"endlinecolor\": \"#2a3f5f\", \"gridcolor\": \"white\", \"linecolor\": \"white\", \"minorgridcolor\": \"white\", \"startlinecolor\": \"#2a3f5f\"}, \"baxis\": {\"endlinecolor\": \"#2a3f5f\", \"gridcolor\": \"white\", \"linecolor\": \"white\", \"minorgridcolor\": \"white\", \"startlinecolor\": \"#2a3f5f\"}, \"type\": \"carpet\"}], \"choropleth\": [{\"colorbar\": {\"outlinewidth\": 0, \"ticks\": \"\"}, \"type\": \"choropleth\"}], \"contour\": [{\"colorbar\": {\"outlinewidth\": 0, \"ticks\": \"\"}, \"colorscale\": [[0.0, \"#0d0887\"], [0.1111111111111111, \"#46039f\"], [0.2222222222222222, \"#7201a8\"], [0.3333333333333333, \"#9c179e\"], [0.4444444444444444, \"#bd3786\"], [0.5555555555555556, \"#d8576b\"], [0.6666666666666666, \"#ed7953\"], [0.7777777777777778, \"#fb9f3a\"], [0.8888888888888888, \"#fdca26\"], [1.0, \"#f0f921\"]], \"type\": \"contour\"}], \"contourcarpet\": [{\"colorbar\": {\"outlinewidth\": 0, \"ticks\": \"\"}, \"type\": \"contourcarpet\"}], \"heatmap\": [{\"colorbar\": {\"outlinewidth\": 0, \"ticks\": \"\"}, \"colorscale\": [[0.0, \"#0d0887\"], [0.1111111111111111, \"#46039f\"], [0.2222222222222222, \"#7201a8\"], [0.3333333333333333, \"#9c179e\"], [0.4444444444444444, \"#bd3786\"], [0.5555555555555556, \"#d8576b\"], [0.6666666666666666, \"#ed7953\"], [0.7777777777777778, \"#fb9f3a\"], [0.8888888888888888, \"#fdca26\"], [1.0, \"#f0f921\"]], \"type\": \"heatmap\"}], \"heatmapgl\": [{\"colorbar\": {\"outlinewidth\": 0, \"ticks\": \"\"}, \"colorscale\": [[0.0, \"#0d0887\"], [0.1111111111111111, \"#46039f\"], [0.2222222222222222, \"#7201a8\"], [0.3333333333333333, \"#9c179e\"], [0.4444444444444444, \"#bd3786\"], [0.5555555555555556, \"#d8576b\"], [0.6666666666666666, \"#ed7953\"], [0.7777777777777778, \"#fb9f3a\"], [0.8888888888888888, \"#fdca26\"], [1.0, \"#f0f921\"]], \"type\": \"heatmapgl\"}], \"histogram\": [{\"marker\": {\"colorbar\": {\"outlinewidth\": 0, \"ticks\": \"\"}}, \"type\": \"histogram\"}], \"histogram2d\": [{\"colorbar\": {\"outlinewidth\": 0, \"ticks\": \"\"}, \"colorscale\": [[0.0, \"#0d0887\"], [0.1111111111111111, \"#46039f\"], [0.2222222222222222, \"#7201a8\"], [0.3333333333333333, \"#9c179e\"], [0.4444444444444444, \"#bd3786\"], [0.5555555555555556, \"#d8576b\"], [0.6666666666666666, \"#ed7953\"], [0.7777777777777778, \"#fb9f3a\"], [0.8888888888888888, \"#fdca26\"], [1.0, \"#f0f921\"]], \"type\": \"histogram2d\"}], \"histogram2dcontour\": [{\"colorbar\": {\"outlinewidth\": 0, \"ticks\": \"\"}, \"colorscale\": [[0.0, \"#0d0887\"], [0.1111111111111111, \"#46039f\"], [0.2222222222222222, \"#7201a8\"], [0.3333333333333333, \"#9c179e\"], [0.4444444444444444, \"#bd3786\"], [0.5555555555555556, \"#d8576b\"], [0.6666666666666666, \"#ed7953\"], [0.7777777777777778, \"#fb9f3a\"], [0.8888888888888888, \"#fdca26\"], [1.0, \"#f0f921\"]], \"type\": \"histogram2dcontour\"}], \"mesh3d\": [{\"colorbar\": {\"outlinewidth\": 0, \"ticks\": \"\"}, \"type\": \"mesh3d\"}], \"parcoords\": [{\"line\": {\"colorbar\": {\"outlinewidth\": 0, \"ticks\": \"\"}}, \"type\": \"parcoords\"}], \"pie\": [{\"automargin\": true, \"type\": \"pie\"}], \"scatter\": [{\"marker\": {\"colorbar\": {\"outlinewidth\": 0, \"ticks\": \"\"}}, \"type\": \"scatter\"}], \"scatter3d\": [{\"line\": {\"colorbar\": {\"outlinewidth\": 0, \"ticks\": \"\"}}, \"marker\": {\"colorbar\": {\"outlinewidth\": 0, \"ticks\": \"\"}}, \"type\": \"scatter3d\"}], \"scattercarpet\": [{\"marker\": {\"colorbar\": {\"outlinewidth\": 0, \"ticks\": \"\"}}, \"type\": \"scattercarpet\"}], \"scattergeo\": [{\"marker\": {\"colorbar\": {\"outlinewidth\": 0, \"ticks\": \"\"}}, \"type\": \"scattergeo\"}], \"scattergl\": [{\"marker\": {\"colorbar\": {\"outlinewidth\": 0, \"ticks\": \"\"}}, \"type\": \"scattergl\"}], \"scattermapbox\": [{\"marker\": {\"colorbar\": {\"outlinewidth\": 0, \"ticks\": \"\"}}, \"type\": \"scattermapbox\"}], \"scatterpolar\": [{\"marker\": {\"colorbar\": {\"outlinewidth\": 0, \"ticks\": \"\"}}, \"type\": \"scatterpolar\"}], \"scatterpolargl\": [{\"marker\": {\"colorbar\": {\"outlinewidth\": 0, \"ticks\": \"\"}}, \"type\": \"scatterpolargl\"}], \"scatterternary\": [{\"marker\": {\"colorbar\": {\"outlinewidth\": 0, \"ticks\": \"\"}}, \"type\": \"scatterternary\"}], \"surface\": [{\"colorbar\": {\"outlinewidth\": 0, \"ticks\": \"\"}, \"colorscale\": [[0.0, \"#0d0887\"], [0.1111111111111111, \"#46039f\"], [0.2222222222222222, \"#7201a8\"], [0.3333333333333333, \"#9c179e\"], [0.4444444444444444, \"#bd3786\"], [0.5555555555555556, \"#d8576b\"], [0.6666666666666666, \"#ed7953\"], [0.7777777777777778, \"#fb9f3a\"], [0.8888888888888888, \"#fdca26\"], [1.0, \"#f0f921\"]], \"type\": \"surface\"}], \"table\": [{\"cells\": {\"fill\": {\"color\": \"#EBF0F8\"}, \"line\": {\"color\": \"white\"}}, \"header\": {\"fill\": {\"color\": \"#C8D4E3\"}, \"line\": {\"color\": \"white\"}}, \"type\": \"table\"}]}, \"layout\": {\"annotationdefaults\": {\"arrowcolor\": \"#2a3f5f\", \"arrowhead\": 0, \"arrowwidth\": 1}, \"autotypenumbers\": \"strict\", \"coloraxis\": {\"colorbar\": {\"outlinewidth\": 0, \"ticks\": \"\"}}, \"colorscale\": {\"diverging\": [[0, \"#8e0152\"], [0.1, \"#c51b7d\"], [0.2, \"#de77ae\"], [0.3, \"#f1b6da\"], [0.4, \"#fde0ef\"], [0.5, \"#f7f7f7\"], [0.6, \"#e6f5d0\"], [0.7, \"#b8e186\"], [0.8, \"#7fbc41\"], [0.9, \"#4d9221\"], [1, \"#276419\"]], \"sequential\": [[0.0, \"#0d0887\"], [0.1111111111111111, \"#46039f\"], [0.2222222222222222, \"#7201a8\"], [0.3333333333333333, \"#9c179e\"], [0.4444444444444444, \"#bd3786\"], [0.5555555555555556, \"#d8576b\"], [0.6666666666666666, \"#ed7953\"], [0.7777777777777778, \"#fb9f3a\"], [0.8888888888888888, \"#fdca26\"], [1.0, \"#f0f921\"]], \"sequentialminus\": [[0.0, \"#0d0887\"], [0.1111111111111111, \"#46039f\"], [0.2222222222222222, \"#7201a8\"], [0.3333333333333333, \"#9c179e\"], [0.4444444444444444, \"#bd3786\"], [0.5555555555555556, \"#d8576b\"], [0.6666666666666666, \"#ed7953\"], [0.7777777777777778, \"#fb9f3a\"], [0.8888888888888888, \"#fdca26\"], [1.0, \"#f0f921\"]]}, \"colorway\": [\"#636efa\", \"#EF553B\", \"#00cc96\", \"#ab63fa\", \"#FFA15A\", \"#19d3f3\", \"#FF6692\", \"#B6E880\", \"#FF97FF\", \"#FECB52\"], \"font\": {\"color\": \"#2a3f5f\"}, \"geo\": {\"bgcolor\": \"white\", \"lakecolor\": \"white\", \"landcolor\": \"#E5ECF6\", \"showlakes\": true, \"showland\": true, \"subunitcolor\": \"white\"}, \"hoverlabel\": {\"align\": \"left\"}, \"hovermode\": \"closest\", \"mapbox\": {\"style\": \"light\"}, \"paper_bgcolor\": \"white\", \"plot_bgcolor\": \"#E5ECF6\", \"polar\": {\"angularaxis\": {\"gridcolor\": \"white\", \"linecolor\": \"white\", \"ticks\": \"\"}, \"bgcolor\": \"#E5ECF6\", \"radialaxis\": {\"gridcolor\": \"white\", \"linecolor\": \"white\", \"ticks\": \"\"}}, \"scene\": {\"xaxis\": {\"backgroundcolor\": \"#E5ECF6\", \"gridcolor\": \"white\", \"gridwidth\": 2, \"linecolor\": \"white\", \"showbackground\": true, \"ticks\": \"\", \"zerolinecolor\": \"white\"}, \"yaxis\": {\"backgroundcolor\": \"#E5ECF6\", \"gridcolor\": \"white\", \"gridwidth\": 2, \"linecolor\": \"white\", \"showbackground\": true, \"ticks\": \"\", \"zerolinecolor\": \"white\"}, \"zaxis\": {\"backgroundcolor\": \"#E5ECF6\", \"gridcolor\": \"white\", \"gridwidth\": 2, \"linecolor\": \"white\", \"showbackground\": true, \"ticks\": \"\", \"zerolinecolor\": \"white\"}}, \"shapedefaults\": {\"line\": {\"color\": \"#2a3f5f\"}}, \"ternary\": {\"aaxis\": {\"gridcolor\": \"white\", \"linecolor\": \"white\", \"ticks\": \"\"}, \"baxis\": {\"gridcolor\": \"white\", \"linecolor\": \"white\", \"ticks\": \"\"}, \"bgcolor\": \"#E5ECF6\", \"caxis\": {\"gridcolor\": \"white\", \"linecolor\": \"white\", \"ticks\": \"\"}}, \"title\": {\"x\": 0.05}, \"xaxis\": {\"automargin\": true, \"gridcolor\": \"white\", \"linecolor\": \"white\", \"ticks\": \"\", \"title\": {\"standoff\": 15}, \"zerolinecolor\": \"white\", \"zerolinewidth\": 2}, \"yaxis\": {\"automargin\": true, \"gridcolor\": \"white\", \"linecolor\": \"white\", \"ticks\": \"\", \"title\": {\"standoff\": 15}, \"zerolinecolor\": \"white\", \"zerolinewidth\": 2}}}, \"title\": {\"text\": \"Aspect Distribution - Laptops (w/ multi-token aspects) (Other < 2%)\", \"x\": 0.45}},                        {\"responsive\": true}                    ).then(function(){\n",
       "                            \n",
       "var gd = document.getElementById('dba2b32e-b33b-4d9d-b2f0-5537d35bef9a');\n",
       "var x = new MutationObserver(function (mutations, observer) {{\n",
       "        var display = window.getComputedStyle(gd).display;\n",
       "        if (!display || display === 'none') {{\n",
       "            console.log([gd, 'removed!']);\n",
       "            Plotly.purge(gd);\n",
       "            observer.disconnect();\n",
       "        }}\n",
       "}});\n",
       "\n",
       "// Listen for the removal of the full notebook cells\n",
       "var notebookContainer = gd.closest('#notebook-container');\n",
       "if (notebookContainer) {{\n",
       "    x.observe(notebookContainer, {childList: true});\n",
       "}}\n",
       "\n",
       "// Listen for the clearing of the current output cell\n",
       "var outputEl = gd.closest('.output');\n",
       "if (outputEl) {{\n",
       "    x.observe(outputEl, {childList: true});\n",
       "}}\n",
       "\n",
       "                        })                };                });            </script>        </div>"
      ]
     },
     "metadata": {},
     "output_type": "display_data"
    },
    {
     "data": {
      "text/plain": [
       "count    1048.000000\n",
       "mean        2.264313\n",
       "std         4.978635\n",
       "min         1.000000\n",
       "50%         1.000000\n",
       "90%         3.300000\n",
       "92.5%       4.475000\n",
       "95%         7.000000\n",
       "97.5%      12.825000\n",
       "max        59.000000\n",
       "dtype: float64"
      ]
     },
     "execution_count": 38,
     "metadata": {},
     "output_type": "execute_result"
    }
   ],
   "source": [
    "aspect_dist(\"lap_multi\", lemmas=False)"
   ]
  },
  {
   "cell_type": "code",
   "execution_count": 39,
   "metadata": {},
   "outputs": [
    {
     "data": {
      "application/vnd.plotly.v1+json": {
       "config": {
        "plotlyServerURL": "https://plot.ly"
       },
       "data": [
        {
         "domain": {
          "x": [
           0,
           1
          ],
          "y": [
           0,
           1
          ]
         },
         "hovertemplate": "aspect=%{label}<br>count=%{value}<extra></extra>",
         "labels": [
          "Other",
          "food",
          "service",
          "price",
          "dinner",
          "menu",
          "place",
          "wine",
          "staff",
          "table",
          "pizza",
          "dish",
          "atmosphere",
          "sushi",
          "drink",
          "meal",
          "wait",
          "waiter",
          "lunch",
          "portion",
          "bar"
         ],
         "legendgroup": "",
         "name": "",
         "showlegend": true,
         "textposition": "inside",
         "type": "pie",
         "values": [
          2077,
          393,
          239,
          129,
          67,
          66,
          65,
          61,
          59,
          58,
          54,
          49,
          49,
          48,
          46,
          43,
          43,
          39,
          39,
          38,
          37
         ]
        }
       ],
       "layout": {
        "legend": {
         "tracegroupgap": 0
        },
        "margin": {
         "b": 20,
         "l": 10,
         "r": 1,
         "t": 40
        },
        "paper_bgcolor": "LightSteelBlue",
        "template": {
         "data": {
          "bar": [
           {
            "error_x": {
             "color": "#2a3f5f"
            },
            "error_y": {
             "color": "#2a3f5f"
            },
            "marker": {
             "line": {
              "color": "#E5ECF6",
              "width": 0.5
             }
            },
            "type": "bar"
           }
          ],
          "barpolar": [
           {
            "marker": {
             "line": {
              "color": "#E5ECF6",
              "width": 0.5
             }
            },
            "type": "barpolar"
           }
          ],
          "carpet": [
           {
            "aaxis": {
             "endlinecolor": "#2a3f5f",
             "gridcolor": "white",
             "linecolor": "white",
             "minorgridcolor": "white",
             "startlinecolor": "#2a3f5f"
            },
            "baxis": {
             "endlinecolor": "#2a3f5f",
             "gridcolor": "white",
             "linecolor": "white",
             "minorgridcolor": "white",
             "startlinecolor": "#2a3f5f"
            },
            "type": "carpet"
           }
          ],
          "choropleth": [
           {
            "colorbar": {
             "outlinewidth": 0,
             "ticks": ""
            },
            "type": "choropleth"
           }
          ],
          "contour": [
           {
            "colorbar": {
             "outlinewidth": 0,
             "ticks": ""
            },
            "colorscale": [
             [
              0,
              "#0d0887"
             ],
             [
              0.1111111111111111,
              "#46039f"
             ],
             [
              0.2222222222222222,
              "#7201a8"
             ],
             [
              0.3333333333333333,
              "#9c179e"
             ],
             [
              0.4444444444444444,
              "#bd3786"
             ],
             [
              0.5555555555555556,
              "#d8576b"
             ],
             [
              0.6666666666666666,
              "#ed7953"
             ],
             [
              0.7777777777777778,
              "#fb9f3a"
             ],
             [
              0.8888888888888888,
              "#fdca26"
             ],
             [
              1,
              "#f0f921"
             ]
            ],
            "type": "contour"
           }
          ],
          "contourcarpet": [
           {
            "colorbar": {
             "outlinewidth": 0,
             "ticks": ""
            },
            "type": "contourcarpet"
           }
          ],
          "heatmap": [
           {
            "colorbar": {
             "outlinewidth": 0,
             "ticks": ""
            },
            "colorscale": [
             [
              0,
              "#0d0887"
             ],
             [
              0.1111111111111111,
              "#46039f"
             ],
             [
              0.2222222222222222,
              "#7201a8"
             ],
             [
              0.3333333333333333,
              "#9c179e"
             ],
             [
              0.4444444444444444,
              "#bd3786"
             ],
             [
              0.5555555555555556,
              "#d8576b"
             ],
             [
              0.6666666666666666,
              "#ed7953"
             ],
             [
              0.7777777777777778,
              "#fb9f3a"
             ],
             [
              0.8888888888888888,
              "#fdca26"
             ],
             [
              1,
              "#f0f921"
             ]
            ],
            "type": "heatmap"
           }
          ],
          "heatmapgl": [
           {
            "colorbar": {
             "outlinewidth": 0,
             "ticks": ""
            },
            "colorscale": [
             [
              0,
              "#0d0887"
             ],
             [
              0.1111111111111111,
              "#46039f"
             ],
             [
              0.2222222222222222,
              "#7201a8"
             ],
             [
              0.3333333333333333,
              "#9c179e"
             ],
             [
              0.4444444444444444,
              "#bd3786"
             ],
             [
              0.5555555555555556,
              "#d8576b"
             ],
             [
              0.6666666666666666,
              "#ed7953"
             ],
             [
              0.7777777777777778,
              "#fb9f3a"
             ],
             [
              0.8888888888888888,
              "#fdca26"
             ],
             [
              1,
              "#f0f921"
             ]
            ],
            "type": "heatmapgl"
           }
          ],
          "histogram": [
           {
            "marker": {
             "colorbar": {
              "outlinewidth": 0,
              "ticks": ""
             }
            },
            "type": "histogram"
           }
          ],
          "histogram2d": [
           {
            "colorbar": {
             "outlinewidth": 0,
             "ticks": ""
            },
            "colorscale": [
             [
              0,
              "#0d0887"
             ],
             [
              0.1111111111111111,
              "#46039f"
             ],
             [
              0.2222222222222222,
              "#7201a8"
             ],
             [
              0.3333333333333333,
              "#9c179e"
             ],
             [
              0.4444444444444444,
              "#bd3786"
             ],
             [
              0.5555555555555556,
              "#d8576b"
             ],
             [
              0.6666666666666666,
              "#ed7953"
             ],
             [
              0.7777777777777778,
              "#fb9f3a"
             ],
             [
              0.8888888888888888,
              "#fdca26"
             ],
             [
              1,
              "#f0f921"
             ]
            ],
            "type": "histogram2d"
           }
          ],
          "histogram2dcontour": [
           {
            "colorbar": {
             "outlinewidth": 0,
             "ticks": ""
            },
            "colorscale": [
             [
              0,
              "#0d0887"
             ],
             [
              0.1111111111111111,
              "#46039f"
             ],
             [
              0.2222222222222222,
              "#7201a8"
             ],
             [
              0.3333333333333333,
              "#9c179e"
             ],
             [
              0.4444444444444444,
              "#bd3786"
             ],
             [
              0.5555555555555556,
              "#d8576b"
             ],
             [
              0.6666666666666666,
              "#ed7953"
             ],
             [
              0.7777777777777778,
              "#fb9f3a"
             ],
             [
              0.8888888888888888,
              "#fdca26"
             ],
             [
              1,
              "#f0f921"
             ]
            ],
            "type": "histogram2dcontour"
           }
          ],
          "mesh3d": [
           {
            "colorbar": {
             "outlinewidth": 0,
             "ticks": ""
            },
            "type": "mesh3d"
           }
          ],
          "parcoords": [
           {
            "line": {
             "colorbar": {
              "outlinewidth": 0,
              "ticks": ""
             }
            },
            "type": "parcoords"
           }
          ],
          "pie": [
           {
            "automargin": true,
            "type": "pie"
           }
          ],
          "scatter": [
           {
            "marker": {
             "colorbar": {
              "outlinewidth": 0,
              "ticks": ""
             }
            },
            "type": "scatter"
           }
          ],
          "scatter3d": [
           {
            "line": {
             "colorbar": {
              "outlinewidth": 0,
              "ticks": ""
             }
            },
            "marker": {
             "colorbar": {
              "outlinewidth": 0,
              "ticks": ""
             }
            },
            "type": "scatter3d"
           }
          ],
          "scattercarpet": [
           {
            "marker": {
             "colorbar": {
              "outlinewidth": 0,
              "ticks": ""
             }
            },
            "type": "scattercarpet"
           }
          ],
          "scattergeo": [
           {
            "marker": {
             "colorbar": {
              "outlinewidth": 0,
              "ticks": ""
             }
            },
            "type": "scattergeo"
           }
          ],
          "scattergl": [
           {
            "marker": {
             "colorbar": {
              "outlinewidth": 0,
              "ticks": ""
             }
            },
            "type": "scattergl"
           }
          ],
          "scattermapbox": [
           {
            "marker": {
             "colorbar": {
              "outlinewidth": 0,
              "ticks": ""
             }
            },
            "type": "scattermapbox"
           }
          ],
          "scatterpolar": [
           {
            "marker": {
             "colorbar": {
              "outlinewidth": 0,
              "ticks": ""
             }
            },
            "type": "scatterpolar"
           }
          ],
          "scatterpolargl": [
           {
            "marker": {
             "colorbar": {
              "outlinewidth": 0,
              "ticks": ""
             }
            },
            "type": "scatterpolargl"
           }
          ],
          "scatterternary": [
           {
            "marker": {
             "colorbar": {
              "outlinewidth": 0,
              "ticks": ""
             }
            },
            "type": "scatterternary"
           }
          ],
          "surface": [
           {
            "colorbar": {
             "outlinewidth": 0,
             "ticks": ""
            },
            "colorscale": [
             [
              0,
              "#0d0887"
             ],
             [
              0.1111111111111111,
              "#46039f"
             ],
             [
              0.2222222222222222,
              "#7201a8"
             ],
             [
              0.3333333333333333,
              "#9c179e"
             ],
             [
              0.4444444444444444,
              "#bd3786"
             ],
             [
              0.5555555555555556,
              "#d8576b"
             ],
             [
              0.6666666666666666,
              "#ed7953"
             ],
             [
              0.7777777777777778,
              "#fb9f3a"
             ],
             [
              0.8888888888888888,
              "#fdca26"
             ],
             [
              1,
              "#f0f921"
             ]
            ],
            "type": "surface"
           }
          ],
          "table": [
           {
            "cells": {
             "fill": {
              "color": "#EBF0F8"
             },
             "line": {
              "color": "white"
             }
            },
            "header": {
             "fill": {
              "color": "#C8D4E3"
             },
             "line": {
              "color": "white"
             }
            },
            "type": "table"
           }
          ]
         },
         "layout": {
          "annotationdefaults": {
           "arrowcolor": "#2a3f5f",
           "arrowhead": 0,
           "arrowwidth": 1
          },
          "autotypenumbers": "strict",
          "coloraxis": {
           "colorbar": {
            "outlinewidth": 0,
            "ticks": ""
           }
          },
          "colorscale": {
           "diverging": [
            [
             0,
             "#8e0152"
            ],
            [
             0.1,
             "#c51b7d"
            ],
            [
             0.2,
             "#de77ae"
            ],
            [
             0.3,
             "#f1b6da"
            ],
            [
             0.4,
             "#fde0ef"
            ],
            [
             0.5,
             "#f7f7f7"
            ],
            [
             0.6,
             "#e6f5d0"
            ],
            [
             0.7,
             "#b8e186"
            ],
            [
             0.8,
             "#7fbc41"
            ],
            [
             0.9,
             "#4d9221"
            ],
            [
             1,
             "#276419"
            ]
           ],
           "sequential": [
            [
             0,
             "#0d0887"
            ],
            [
             0.1111111111111111,
             "#46039f"
            ],
            [
             0.2222222222222222,
             "#7201a8"
            ],
            [
             0.3333333333333333,
             "#9c179e"
            ],
            [
             0.4444444444444444,
             "#bd3786"
            ],
            [
             0.5555555555555556,
             "#d8576b"
            ],
            [
             0.6666666666666666,
             "#ed7953"
            ],
            [
             0.7777777777777778,
             "#fb9f3a"
            ],
            [
             0.8888888888888888,
             "#fdca26"
            ],
            [
             1,
             "#f0f921"
            ]
           ],
           "sequentialminus": [
            [
             0,
             "#0d0887"
            ],
            [
             0.1111111111111111,
             "#46039f"
            ],
            [
             0.2222222222222222,
             "#7201a8"
            ],
            [
             0.3333333333333333,
             "#9c179e"
            ],
            [
             0.4444444444444444,
             "#bd3786"
            ],
            [
             0.5555555555555556,
             "#d8576b"
            ],
            [
             0.6666666666666666,
             "#ed7953"
            ],
            [
             0.7777777777777778,
             "#fb9f3a"
            ],
            [
             0.8888888888888888,
             "#fdca26"
            ],
            [
             1,
             "#f0f921"
            ]
           ]
          },
          "colorway": [
           "#636efa",
           "#EF553B",
           "#00cc96",
           "#ab63fa",
           "#FFA15A",
           "#19d3f3",
           "#FF6692",
           "#B6E880",
           "#FF97FF",
           "#FECB52"
          ],
          "font": {
           "color": "#2a3f5f"
          },
          "geo": {
           "bgcolor": "white",
           "lakecolor": "white",
           "landcolor": "#E5ECF6",
           "showlakes": true,
           "showland": true,
           "subunitcolor": "white"
          },
          "hoverlabel": {
           "align": "left"
          },
          "hovermode": "closest",
          "mapbox": {
           "style": "light"
          },
          "paper_bgcolor": "white",
          "plot_bgcolor": "#E5ECF6",
          "polar": {
           "angularaxis": {
            "gridcolor": "white",
            "linecolor": "white",
            "ticks": ""
           },
           "bgcolor": "#E5ECF6",
           "radialaxis": {
            "gridcolor": "white",
            "linecolor": "white",
            "ticks": ""
           }
          },
          "scene": {
           "xaxis": {
            "backgroundcolor": "#E5ECF6",
            "gridcolor": "white",
            "gridwidth": 2,
            "linecolor": "white",
            "showbackground": true,
            "ticks": "",
            "zerolinecolor": "white"
           },
           "yaxis": {
            "backgroundcolor": "#E5ECF6",
            "gridcolor": "white",
            "gridwidth": 2,
            "linecolor": "white",
            "showbackground": true,
            "ticks": "",
            "zerolinecolor": "white"
           },
           "zaxis": {
            "backgroundcolor": "#E5ECF6",
            "gridcolor": "white",
            "gridwidth": 2,
            "linecolor": "white",
            "showbackground": true,
            "ticks": "",
            "zerolinecolor": "white"
           }
          },
          "shapedefaults": {
           "line": {
            "color": "#2a3f5f"
           }
          },
          "ternary": {
           "aaxis": {
            "gridcolor": "white",
            "linecolor": "white",
            "ticks": ""
           },
           "baxis": {
            "gridcolor": "white",
            "linecolor": "white",
            "ticks": ""
           },
           "bgcolor": "#E5ECF6",
           "caxis": {
            "gridcolor": "white",
            "linecolor": "white",
            "ticks": ""
           }
          },
          "title": {
           "x": 0.05
          },
          "xaxis": {
           "automargin": true,
           "gridcolor": "white",
           "linecolor": "white",
           "ticks": "",
           "title": {
            "standoff": 15
           },
           "zerolinecolor": "white",
           "zerolinewidth": 2
          },
          "yaxis": {
           "automargin": true,
           "gridcolor": "white",
           "linecolor": "white",
           "ticks": "",
           "title": {
            "standoff": 15
           },
           "zerolinecolor": "white",
           "zerolinewidth": 2
          }
         }
        },
        "title": {
         "text": "Aspect Distribution - Restaurants (w/ multi-token aspects) (Other < 2%)",
         "x": 0.45
        }
       }
      },
      "text/html": [
       "<div>                            <div id=\"94fa729c-fbaf-435d-87f8-55220db15437\" class=\"plotly-graph-div\" style=\"height:525px; width:100%;\"></div>            <script type=\"text/javascript\">                require([\"plotly\"], function(Plotly) {                    window.PLOTLYENV=window.PLOTLYENV || {};                                    if (document.getElementById(\"94fa729c-fbaf-435d-87f8-55220db15437\")) {                    Plotly.newPlot(                        \"94fa729c-fbaf-435d-87f8-55220db15437\",                        [{\"domain\": {\"x\": [0.0, 1.0], \"y\": [0.0, 1.0]}, \"hovertemplate\": \"aspect=%{label}<br>count=%{value}<extra></extra>\", \"labels\": [\"Other\", \"food\", \"service\", \"price\", \"dinner\", \"menu\", \"place\", \"wine\", \"staff\", \"table\", \"pizza\", \"dish\", \"atmosphere\", \"sushi\", \"drink\", \"meal\", \"wait\", \"waiter\", \"lunch\", \"portion\", \"bar\"], \"legendgroup\": \"\", \"name\": \"\", \"showlegend\": true, \"textposition\": \"inside\", \"type\": \"pie\", \"values\": [2077, 393, 239, 129, 67, 66, 65, 61, 59, 58, 54, 49, 49, 48, 46, 43, 43, 39, 39, 38, 37]}],                        {\"legend\": {\"tracegroupgap\": 0}, \"margin\": {\"b\": 20, \"l\": 10, \"r\": 1, \"t\": 40}, \"paper_bgcolor\": \"LightSteelBlue\", \"template\": {\"data\": {\"bar\": [{\"error_x\": {\"color\": \"#2a3f5f\"}, \"error_y\": {\"color\": \"#2a3f5f\"}, \"marker\": {\"line\": {\"color\": \"#E5ECF6\", \"width\": 0.5}}, \"type\": \"bar\"}], \"barpolar\": [{\"marker\": {\"line\": {\"color\": \"#E5ECF6\", \"width\": 0.5}}, \"type\": \"barpolar\"}], \"carpet\": [{\"aaxis\": {\"endlinecolor\": \"#2a3f5f\", \"gridcolor\": \"white\", \"linecolor\": \"white\", \"minorgridcolor\": \"white\", \"startlinecolor\": \"#2a3f5f\"}, \"baxis\": {\"endlinecolor\": \"#2a3f5f\", \"gridcolor\": \"white\", \"linecolor\": \"white\", \"minorgridcolor\": \"white\", \"startlinecolor\": \"#2a3f5f\"}, \"type\": \"carpet\"}], \"choropleth\": [{\"colorbar\": {\"outlinewidth\": 0, \"ticks\": \"\"}, \"type\": \"choropleth\"}], \"contour\": [{\"colorbar\": {\"outlinewidth\": 0, \"ticks\": \"\"}, \"colorscale\": [[0.0, \"#0d0887\"], [0.1111111111111111, \"#46039f\"], [0.2222222222222222, \"#7201a8\"], [0.3333333333333333, \"#9c179e\"], [0.4444444444444444, \"#bd3786\"], [0.5555555555555556, \"#d8576b\"], [0.6666666666666666, \"#ed7953\"], [0.7777777777777778, \"#fb9f3a\"], [0.8888888888888888, \"#fdca26\"], [1.0, \"#f0f921\"]], \"type\": \"contour\"}], \"contourcarpet\": [{\"colorbar\": {\"outlinewidth\": 0, \"ticks\": \"\"}, \"type\": \"contourcarpet\"}], \"heatmap\": [{\"colorbar\": {\"outlinewidth\": 0, \"ticks\": \"\"}, \"colorscale\": [[0.0, \"#0d0887\"], [0.1111111111111111, \"#46039f\"], [0.2222222222222222, \"#7201a8\"], [0.3333333333333333, \"#9c179e\"], [0.4444444444444444, \"#bd3786\"], [0.5555555555555556, \"#d8576b\"], [0.6666666666666666, \"#ed7953\"], [0.7777777777777778, \"#fb9f3a\"], [0.8888888888888888, \"#fdca26\"], [1.0, \"#f0f921\"]], \"type\": \"heatmap\"}], \"heatmapgl\": [{\"colorbar\": {\"outlinewidth\": 0, \"ticks\": \"\"}, \"colorscale\": [[0.0, \"#0d0887\"], [0.1111111111111111, \"#46039f\"], [0.2222222222222222, \"#7201a8\"], [0.3333333333333333, \"#9c179e\"], [0.4444444444444444, \"#bd3786\"], [0.5555555555555556, \"#d8576b\"], [0.6666666666666666, \"#ed7953\"], [0.7777777777777778, \"#fb9f3a\"], [0.8888888888888888, \"#fdca26\"], [1.0, \"#f0f921\"]], \"type\": \"heatmapgl\"}], \"histogram\": [{\"marker\": {\"colorbar\": {\"outlinewidth\": 0, \"ticks\": \"\"}}, \"type\": \"histogram\"}], \"histogram2d\": [{\"colorbar\": {\"outlinewidth\": 0, \"ticks\": \"\"}, \"colorscale\": [[0.0, \"#0d0887\"], [0.1111111111111111, \"#46039f\"], [0.2222222222222222, \"#7201a8\"], [0.3333333333333333, \"#9c179e\"], [0.4444444444444444, \"#bd3786\"], [0.5555555555555556, \"#d8576b\"], [0.6666666666666666, \"#ed7953\"], [0.7777777777777778, \"#fb9f3a\"], [0.8888888888888888, \"#fdca26\"], [1.0, \"#f0f921\"]], \"type\": \"histogram2d\"}], \"histogram2dcontour\": [{\"colorbar\": {\"outlinewidth\": 0, \"ticks\": \"\"}, \"colorscale\": [[0.0, \"#0d0887\"], [0.1111111111111111, \"#46039f\"], [0.2222222222222222, \"#7201a8\"], [0.3333333333333333, \"#9c179e\"], [0.4444444444444444, \"#bd3786\"], [0.5555555555555556, \"#d8576b\"], [0.6666666666666666, \"#ed7953\"], [0.7777777777777778, \"#fb9f3a\"], [0.8888888888888888, \"#fdca26\"], [1.0, \"#f0f921\"]], \"type\": \"histogram2dcontour\"}], \"mesh3d\": [{\"colorbar\": {\"outlinewidth\": 0, \"ticks\": \"\"}, \"type\": \"mesh3d\"}], \"parcoords\": [{\"line\": {\"colorbar\": {\"outlinewidth\": 0, \"ticks\": \"\"}}, \"type\": \"parcoords\"}], \"pie\": [{\"automargin\": true, \"type\": \"pie\"}], \"scatter\": [{\"marker\": {\"colorbar\": {\"outlinewidth\": 0, \"ticks\": \"\"}}, \"type\": \"scatter\"}], \"scatter3d\": [{\"line\": {\"colorbar\": {\"outlinewidth\": 0, \"ticks\": \"\"}}, \"marker\": {\"colorbar\": {\"outlinewidth\": 0, \"ticks\": \"\"}}, \"type\": \"scatter3d\"}], \"scattercarpet\": [{\"marker\": {\"colorbar\": {\"outlinewidth\": 0, \"ticks\": \"\"}}, \"type\": \"scattercarpet\"}], \"scattergeo\": [{\"marker\": {\"colorbar\": {\"outlinewidth\": 0, \"ticks\": \"\"}}, \"type\": \"scattergeo\"}], \"scattergl\": [{\"marker\": {\"colorbar\": {\"outlinewidth\": 0, \"ticks\": \"\"}}, \"type\": \"scattergl\"}], \"scattermapbox\": [{\"marker\": {\"colorbar\": {\"outlinewidth\": 0, \"ticks\": \"\"}}, \"type\": \"scattermapbox\"}], \"scatterpolar\": [{\"marker\": {\"colorbar\": {\"outlinewidth\": 0, \"ticks\": \"\"}}, \"type\": \"scatterpolar\"}], \"scatterpolargl\": [{\"marker\": {\"colorbar\": {\"outlinewidth\": 0, \"ticks\": \"\"}}, \"type\": \"scatterpolargl\"}], \"scatterternary\": [{\"marker\": {\"colorbar\": {\"outlinewidth\": 0, \"ticks\": \"\"}}, \"type\": \"scatterternary\"}], \"surface\": [{\"colorbar\": {\"outlinewidth\": 0, \"ticks\": \"\"}, \"colorscale\": [[0.0, \"#0d0887\"], [0.1111111111111111, \"#46039f\"], [0.2222222222222222, \"#7201a8\"], [0.3333333333333333, \"#9c179e\"], [0.4444444444444444, \"#bd3786\"], [0.5555555555555556, \"#d8576b\"], [0.6666666666666666, \"#ed7953\"], [0.7777777777777778, \"#fb9f3a\"], [0.8888888888888888, \"#fdca26\"], [1.0, \"#f0f921\"]], \"type\": \"surface\"}], \"table\": [{\"cells\": {\"fill\": {\"color\": \"#EBF0F8\"}, \"line\": {\"color\": \"white\"}}, \"header\": {\"fill\": {\"color\": \"#C8D4E3\"}, \"line\": {\"color\": \"white\"}}, \"type\": \"table\"}]}, \"layout\": {\"annotationdefaults\": {\"arrowcolor\": \"#2a3f5f\", \"arrowhead\": 0, \"arrowwidth\": 1}, \"autotypenumbers\": \"strict\", \"coloraxis\": {\"colorbar\": {\"outlinewidth\": 0, \"ticks\": \"\"}}, \"colorscale\": {\"diverging\": [[0, \"#8e0152\"], [0.1, \"#c51b7d\"], [0.2, \"#de77ae\"], [0.3, \"#f1b6da\"], [0.4, \"#fde0ef\"], [0.5, \"#f7f7f7\"], [0.6, \"#e6f5d0\"], [0.7, \"#b8e186\"], [0.8, \"#7fbc41\"], [0.9, \"#4d9221\"], [1, \"#276419\"]], \"sequential\": [[0.0, \"#0d0887\"], [0.1111111111111111, \"#46039f\"], [0.2222222222222222, \"#7201a8\"], [0.3333333333333333, \"#9c179e\"], [0.4444444444444444, \"#bd3786\"], [0.5555555555555556, \"#d8576b\"], [0.6666666666666666, \"#ed7953\"], [0.7777777777777778, \"#fb9f3a\"], [0.8888888888888888, \"#fdca26\"], [1.0, \"#f0f921\"]], \"sequentialminus\": [[0.0, \"#0d0887\"], [0.1111111111111111, \"#46039f\"], [0.2222222222222222, \"#7201a8\"], [0.3333333333333333, \"#9c179e\"], [0.4444444444444444, \"#bd3786\"], [0.5555555555555556, \"#d8576b\"], [0.6666666666666666, \"#ed7953\"], [0.7777777777777778, \"#fb9f3a\"], [0.8888888888888888, \"#fdca26\"], [1.0, \"#f0f921\"]]}, \"colorway\": [\"#636efa\", \"#EF553B\", \"#00cc96\", \"#ab63fa\", \"#FFA15A\", \"#19d3f3\", \"#FF6692\", \"#B6E880\", \"#FF97FF\", \"#FECB52\"], \"font\": {\"color\": \"#2a3f5f\"}, \"geo\": {\"bgcolor\": \"white\", \"lakecolor\": \"white\", \"landcolor\": \"#E5ECF6\", \"showlakes\": true, \"showland\": true, \"subunitcolor\": \"white\"}, \"hoverlabel\": {\"align\": \"left\"}, \"hovermode\": \"closest\", \"mapbox\": {\"style\": \"light\"}, \"paper_bgcolor\": \"white\", \"plot_bgcolor\": \"#E5ECF6\", \"polar\": {\"angularaxis\": {\"gridcolor\": \"white\", \"linecolor\": \"white\", \"ticks\": \"\"}, \"bgcolor\": \"#E5ECF6\", \"radialaxis\": {\"gridcolor\": \"white\", \"linecolor\": \"white\", \"ticks\": \"\"}}, \"scene\": {\"xaxis\": {\"backgroundcolor\": \"#E5ECF6\", \"gridcolor\": \"white\", \"gridwidth\": 2, \"linecolor\": \"white\", \"showbackground\": true, \"ticks\": \"\", \"zerolinecolor\": \"white\"}, \"yaxis\": {\"backgroundcolor\": \"#E5ECF6\", \"gridcolor\": \"white\", \"gridwidth\": 2, \"linecolor\": \"white\", \"showbackground\": true, \"ticks\": \"\", \"zerolinecolor\": \"white\"}, \"zaxis\": {\"backgroundcolor\": \"#E5ECF6\", \"gridcolor\": \"white\", \"gridwidth\": 2, \"linecolor\": \"white\", \"showbackground\": true, \"ticks\": \"\", \"zerolinecolor\": \"white\"}}, \"shapedefaults\": {\"line\": {\"color\": \"#2a3f5f\"}}, \"ternary\": {\"aaxis\": {\"gridcolor\": \"white\", \"linecolor\": \"white\", \"ticks\": \"\"}, \"baxis\": {\"gridcolor\": \"white\", \"linecolor\": \"white\", \"ticks\": \"\"}, \"bgcolor\": \"#E5ECF6\", \"caxis\": {\"gridcolor\": \"white\", \"linecolor\": \"white\", \"ticks\": \"\"}}, \"title\": {\"x\": 0.05}, \"xaxis\": {\"automargin\": true, \"gridcolor\": \"white\", \"linecolor\": \"white\", \"ticks\": \"\", \"title\": {\"standoff\": 15}, \"zerolinecolor\": \"white\", \"zerolinewidth\": 2}, \"yaxis\": {\"automargin\": true, \"gridcolor\": \"white\", \"linecolor\": \"white\", \"ticks\": \"\", \"title\": {\"standoff\": 15}, \"zerolinecolor\": \"white\", \"zerolinewidth\": 2}}}, \"title\": {\"text\": \"Aspect Distribution - Restaurants (w/ multi-token aspects) (Other < 2%)\", \"x\": 0.45}},                        {\"responsive\": true}                    ).then(function(){\n",
       "                            \n",
       "var gd = document.getElementById('94fa729c-fbaf-435d-87f8-55220db15437');\n",
       "var x = new MutationObserver(function (mutations, observer) {{\n",
       "        var display = window.getComputedStyle(gd).display;\n",
       "        if (!display || display === 'none') {{\n",
       "            console.log([gd, 'removed!']);\n",
       "            Plotly.purge(gd);\n",
       "            observer.disconnect();\n",
       "        }}\n",
       "}});\n",
       "\n",
       "// Listen for the removal of the full notebook cells\n",
       "var notebookContainer = gd.closest('#notebook-container');\n",
       "if (notebookContainer) {{\n",
       "    x.observe(notebookContainer, {childList: true});\n",
       "}}\n",
       "\n",
       "// Listen for the clearing of the current output cell\n",
       "var outputEl = gd.closest('.output');\n",
       "if (outputEl) {{\n",
       "    x.observe(outputEl, {childList: true});\n",
       "}}\n",
       "\n",
       "                        })                };                });            </script>        </div>"
      ]
     },
     "metadata": {},
     "output_type": "display_data"
    },
    {
     "data": {
      "text/plain": [
       "count    684.000000\n",
       "mean       5.407895\n",
       "std       20.052391\n",
       "min        1.000000\n",
       "50%        1.000000\n",
       "90%       10.000000\n",
       "92.5%     13.775000\n",
       "95%       18.700000\n",
       "97.5%     38.925000\n",
       "max      393.000000\n",
       "dtype: float64"
      ]
     },
     "execution_count": 39,
     "metadata": {},
     "output_type": "execute_result"
    }
   ],
   "source": [
    "aspect_dist(\"res_multi\", lemmas=True)"
   ]
  },
  {
   "cell_type": "code",
   "execution_count": 40,
   "metadata": {},
   "outputs": [
    {
     "data": {
      "application/vnd.plotly.v1+json": {
       "config": {
        "plotlyServerURL": "https://plot.ly"
       },
       "data": [
        {
         "domain": {
          "x": [
           0,
           1
          ],
          "y": [
           0,
           1
          ]
         },
         "hovertemplate": "aspect=%{label}<br>count=%{value}<extra></extra>",
         "labels": [
          "Other",
          "battery",
          "screen",
          "price",
          "use",
          "keyboard",
          "program",
          "window",
          "hard",
          "feature",
          "software",
          "warranty",
          "windows",
          "power",
          "quality",
          "run",
          "graphic",
          "size",
          "performance"
         ],
         "legendgroup": "",
         "name": "",
         "showlegend": true,
         "textposition": "inside",
         "type": "pie",
         "values": [
          1558,
          108,
          80,
          66,
          55,
          55,
          50,
          47,
          44,
          42,
          36,
          36,
          36,
          29,
          28,
          27,
          27,
          25,
          24
         ]
        }
       ],
       "layout": {
        "legend": {
         "tracegroupgap": 0
        },
        "margin": {
         "b": 20,
         "l": 10,
         "r": 1,
         "t": 40
        },
        "paper_bgcolor": "LightSteelBlue",
        "template": {
         "data": {
          "bar": [
           {
            "error_x": {
             "color": "#2a3f5f"
            },
            "error_y": {
             "color": "#2a3f5f"
            },
            "marker": {
             "line": {
              "color": "#E5ECF6",
              "width": 0.5
             }
            },
            "type": "bar"
           }
          ],
          "barpolar": [
           {
            "marker": {
             "line": {
              "color": "#E5ECF6",
              "width": 0.5
             }
            },
            "type": "barpolar"
           }
          ],
          "carpet": [
           {
            "aaxis": {
             "endlinecolor": "#2a3f5f",
             "gridcolor": "white",
             "linecolor": "white",
             "minorgridcolor": "white",
             "startlinecolor": "#2a3f5f"
            },
            "baxis": {
             "endlinecolor": "#2a3f5f",
             "gridcolor": "white",
             "linecolor": "white",
             "minorgridcolor": "white",
             "startlinecolor": "#2a3f5f"
            },
            "type": "carpet"
           }
          ],
          "choropleth": [
           {
            "colorbar": {
             "outlinewidth": 0,
             "ticks": ""
            },
            "type": "choropleth"
           }
          ],
          "contour": [
           {
            "colorbar": {
             "outlinewidth": 0,
             "ticks": ""
            },
            "colorscale": [
             [
              0,
              "#0d0887"
             ],
             [
              0.1111111111111111,
              "#46039f"
             ],
             [
              0.2222222222222222,
              "#7201a8"
             ],
             [
              0.3333333333333333,
              "#9c179e"
             ],
             [
              0.4444444444444444,
              "#bd3786"
             ],
             [
              0.5555555555555556,
              "#d8576b"
             ],
             [
              0.6666666666666666,
              "#ed7953"
             ],
             [
              0.7777777777777778,
              "#fb9f3a"
             ],
             [
              0.8888888888888888,
              "#fdca26"
             ],
             [
              1,
              "#f0f921"
             ]
            ],
            "type": "contour"
           }
          ],
          "contourcarpet": [
           {
            "colorbar": {
             "outlinewidth": 0,
             "ticks": ""
            },
            "type": "contourcarpet"
           }
          ],
          "heatmap": [
           {
            "colorbar": {
             "outlinewidth": 0,
             "ticks": ""
            },
            "colorscale": [
             [
              0,
              "#0d0887"
             ],
             [
              0.1111111111111111,
              "#46039f"
             ],
             [
              0.2222222222222222,
              "#7201a8"
             ],
             [
              0.3333333333333333,
              "#9c179e"
             ],
             [
              0.4444444444444444,
              "#bd3786"
             ],
             [
              0.5555555555555556,
              "#d8576b"
             ],
             [
              0.6666666666666666,
              "#ed7953"
             ],
             [
              0.7777777777777778,
              "#fb9f3a"
             ],
             [
              0.8888888888888888,
              "#fdca26"
             ],
             [
              1,
              "#f0f921"
             ]
            ],
            "type": "heatmap"
           }
          ],
          "heatmapgl": [
           {
            "colorbar": {
             "outlinewidth": 0,
             "ticks": ""
            },
            "colorscale": [
             [
              0,
              "#0d0887"
             ],
             [
              0.1111111111111111,
              "#46039f"
             ],
             [
              0.2222222222222222,
              "#7201a8"
             ],
             [
              0.3333333333333333,
              "#9c179e"
             ],
             [
              0.4444444444444444,
              "#bd3786"
             ],
             [
              0.5555555555555556,
              "#d8576b"
             ],
             [
              0.6666666666666666,
              "#ed7953"
             ],
             [
              0.7777777777777778,
              "#fb9f3a"
             ],
             [
              0.8888888888888888,
              "#fdca26"
             ],
             [
              1,
              "#f0f921"
             ]
            ],
            "type": "heatmapgl"
           }
          ],
          "histogram": [
           {
            "marker": {
             "colorbar": {
              "outlinewidth": 0,
              "ticks": ""
             }
            },
            "type": "histogram"
           }
          ],
          "histogram2d": [
           {
            "colorbar": {
             "outlinewidth": 0,
             "ticks": ""
            },
            "colorscale": [
             [
              0,
              "#0d0887"
             ],
             [
              0.1111111111111111,
              "#46039f"
             ],
             [
              0.2222222222222222,
              "#7201a8"
             ],
             [
              0.3333333333333333,
              "#9c179e"
             ],
             [
              0.4444444444444444,
              "#bd3786"
             ],
             [
              0.5555555555555556,
              "#d8576b"
             ],
             [
              0.6666666666666666,
              "#ed7953"
             ],
             [
              0.7777777777777778,
              "#fb9f3a"
             ],
             [
              0.8888888888888888,
              "#fdca26"
             ],
             [
              1,
              "#f0f921"
             ]
            ],
            "type": "histogram2d"
           }
          ],
          "histogram2dcontour": [
           {
            "colorbar": {
             "outlinewidth": 0,
             "ticks": ""
            },
            "colorscale": [
             [
              0,
              "#0d0887"
             ],
             [
              0.1111111111111111,
              "#46039f"
             ],
             [
              0.2222222222222222,
              "#7201a8"
             ],
             [
              0.3333333333333333,
              "#9c179e"
             ],
             [
              0.4444444444444444,
              "#bd3786"
             ],
             [
              0.5555555555555556,
              "#d8576b"
             ],
             [
              0.6666666666666666,
              "#ed7953"
             ],
             [
              0.7777777777777778,
              "#fb9f3a"
             ],
             [
              0.8888888888888888,
              "#fdca26"
             ],
             [
              1,
              "#f0f921"
             ]
            ],
            "type": "histogram2dcontour"
           }
          ],
          "mesh3d": [
           {
            "colorbar": {
             "outlinewidth": 0,
             "ticks": ""
            },
            "type": "mesh3d"
           }
          ],
          "parcoords": [
           {
            "line": {
             "colorbar": {
              "outlinewidth": 0,
              "ticks": ""
             }
            },
            "type": "parcoords"
           }
          ],
          "pie": [
           {
            "automargin": true,
            "type": "pie"
           }
          ],
          "scatter": [
           {
            "marker": {
             "colorbar": {
              "outlinewidth": 0,
              "ticks": ""
             }
            },
            "type": "scatter"
           }
          ],
          "scatter3d": [
           {
            "line": {
             "colorbar": {
              "outlinewidth": 0,
              "ticks": ""
             }
            },
            "marker": {
             "colorbar": {
              "outlinewidth": 0,
              "ticks": ""
             }
            },
            "type": "scatter3d"
           }
          ],
          "scattercarpet": [
           {
            "marker": {
             "colorbar": {
              "outlinewidth": 0,
              "ticks": ""
             }
            },
            "type": "scattercarpet"
           }
          ],
          "scattergeo": [
           {
            "marker": {
             "colorbar": {
              "outlinewidth": 0,
              "ticks": ""
             }
            },
            "type": "scattergeo"
           }
          ],
          "scattergl": [
           {
            "marker": {
             "colorbar": {
              "outlinewidth": 0,
              "ticks": ""
             }
            },
            "type": "scattergl"
           }
          ],
          "scattermapbox": [
           {
            "marker": {
             "colorbar": {
              "outlinewidth": 0,
              "ticks": ""
             }
            },
            "type": "scattermapbox"
           }
          ],
          "scatterpolar": [
           {
            "marker": {
             "colorbar": {
              "outlinewidth": 0,
              "ticks": ""
             }
            },
            "type": "scatterpolar"
           }
          ],
          "scatterpolargl": [
           {
            "marker": {
             "colorbar": {
              "outlinewidth": 0,
              "ticks": ""
             }
            },
            "type": "scatterpolargl"
           }
          ],
          "scatterternary": [
           {
            "marker": {
             "colorbar": {
              "outlinewidth": 0,
              "ticks": ""
             }
            },
            "type": "scatterternary"
           }
          ],
          "surface": [
           {
            "colorbar": {
             "outlinewidth": 0,
             "ticks": ""
            },
            "colorscale": [
             [
              0,
              "#0d0887"
             ],
             [
              0.1111111111111111,
              "#46039f"
             ],
             [
              0.2222222222222222,
              "#7201a8"
             ],
             [
              0.3333333333333333,
              "#9c179e"
             ],
             [
              0.4444444444444444,
              "#bd3786"
             ],
             [
              0.5555555555555556,
              "#d8576b"
             ],
             [
              0.6666666666666666,
              "#ed7953"
             ],
             [
              0.7777777777777778,
              "#fb9f3a"
             ],
             [
              0.8888888888888888,
              "#fdca26"
             ],
             [
              1,
              "#f0f921"
             ]
            ],
            "type": "surface"
           }
          ],
          "table": [
           {
            "cells": {
             "fill": {
              "color": "#EBF0F8"
             },
             "line": {
              "color": "white"
             }
            },
            "header": {
             "fill": {
              "color": "#C8D4E3"
             },
             "line": {
              "color": "white"
             }
            },
            "type": "table"
           }
          ]
         },
         "layout": {
          "annotationdefaults": {
           "arrowcolor": "#2a3f5f",
           "arrowhead": 0,
           "arrowwidth": 1
          },
          "autotypenumbers": "strict",
          "coloraxis": {
           "colorbar": {
            "outlinewidth": 0,
            "ticks": ""
           }
          },
          "colorscale": {
           "diverging": [
            [
             0,
             "#8e0152"
            ],
            [
             0.1,
             "#c51b7d"
            ],
            [
             0.2,
             "#de77ae"
            ],
            [
             0.3,
             "#f1b6da"
            ],
            [
             0.4,
             "#fde0ef"
            ],
            [
             0.5,
             "#f7f7f7"
            ],
            [
             0.6,
             "#e6f5d0"
            ],
            [
             0.7,
             "#b8e186"
            ],
            [
             0.8,
             "#7fbc41"
            ],
            [
             0.9,
             "#4d9221"
            ],
            [
             1,
             "#276419"
            ]
           ],
           "sequential": [
            [
             0,
             "#0d0887"
            ],
            [
             0.1111111111111111,
             "#46039f"
            ],
            [
             0.2222222222222222,
             "#7201a8"
            ],
            [
             0.3333333333333333,
             "#9c179e"
            ],
            [
             0.4444444444444444,
             "#bd3786"
            ],
            [
             0.5555555555555556,
             "#d8576b"
            ],
            [
             0.6666666666666666,
             "#ed7953"
            ],
            [
             0.7777777777777778,
             "#fb9f3a"
            ],
            [
             0.8888888888888888,
             "#fdca26"
            ],
            [
             1,
             "#f0f921"
            ]
           ],
           "sequentialminus": [
            [
             0,
             "#0d0887"
            ],
            [
             0.1111111111111111,
             "#46039f"
            ],
            [
             0.2222222222222222,
             "#7201a8"
            ],
            [
             0.3333333333333333,
             "#9c179e"
            ],
            [
             0.4444444444444444,
             "#bd3786"
            ],
            [
             0.5555555555555556,
             "#d8576b"
            ],
            [
             0.6666666666666666,
             "#ed7953"
            ],
            [
             0.7777777777777778,
             "#fb9f3a"
            ],
            [
             0.8888888888888888,
             "#fdca26"
            ],
            [
             1,
             "#f0f921"
            ]
           ]
          },
          "colorway": [
           "#636efa",
           "#EF553B",
           "#00cc96",
           "#ab63fa",
           "#FFA15A",
           "#19d3f3",
           "#FF6692",
           "#B6E880",
           "#FF97FF",
           "#FECB52"
          ],
          "font": {
           "color": "#2a3f5f"
          },
          "geo": {
           "bgcolor": "white",
           "lakecolor": "white",
           "landcolor": "#E5ECF6",
           "showlakes": true,
           "showland": true,
           "subunitcolor": "white"
          },
          "hoverlabel": {
           "align": "left"
          },
          "hovermode": "closest",
          "mapbox": {
           "style": "light"
          },
          "paper_bgcolor": "white",
          "plot_bgcolor": "#E5ECF6",
          "polar": {
           "angularaxis": {
            "gridcolor": "white",
            "linecolor": "white",
            "ticks": ""
           },
           "bgcolor": "#E5ECF6",
           "radialaxis": {
            "gridcolor": "white",
            "linecolor": "white",
            "ticks": ""
           }
          },
          "scene": {
           "xaxis": {
            "backgroundcolor": "#E5ECF6",
            "gridcolor": "white",
            "gridwidth": 2,
            "linecolor": "white",
            "showbackground": true,
            "ticks": "",
            "zerolinecolor": "white"
           },
           "yaxis": {
            "backgroundcolor": "#E5ECF6",
            "gridcolor": "white",
            "gridwidth": 2,
            "linecolor": "white",
            "showbackground": true,
            "ticks": "",
            "zerolinecolor": "white"
           },
           "zaxis": {
            "backgroundcolor": "#E5ECF6",
            "gridcolor": "white",
            "gridwidth": 2,
            "linecolor": "white",
            "showbackground": true,
            "ticks": "",
            "zerolinecolor": "white"
           }
          },
          "shapedefaults": {
           "line": {
            "color": "#2a3f5f"
           }
          },
          "ternary": {
           "aaxis": {
            "gridcolor": "white",
            "linecolor": "white",
            "ticks": ""
           },
           "baxis": {
            "gridcolor": "white",
            "linecolor": "white",
            "ticks": ""
           },
           "bgcolor": "#E5ECF6",
           "caxis": {
            "gridcolor": "white",
            "linecolor": "white",
            "ticks": ""
           }
          },
          "title": {
           "x": 0.05
          },
          "xaxis": {
           "automargin": true,
           "gridcolor": "white",
           "linecolor": "white",
           "ticks": "",
           "title": {
            "standoff": 15
           },
           "zerolinecolor": "white",
           "zerolinewidth": 2
          },
          "yaxis": {
           "automargin": true,
           "gridcolor": "white",
           "linecolor": "white",
           "ticks": "",
           "title": {
            "standoff": 15
           },
           "zerolinecolor": "white",
           "zerolinewidth": 2
          }
         }
        },
        "title": {
         "text": "Aspect Distribution - Laptops (w/ multi-token aspects) (Other < 2%)",
         "x": 0.45
        }
       }
      },
      "text/html": [
       "<div>                            <div id=\"d54428d3-be98-485e-8e2b-8aa62fbcb006\" class=\"plotly-graph-div\" style=\"height:525px; width:100%;\"></div>            <script type=\"text/javascript\">                require([\"plotly\"], function(Plotly) {                    window.PLOTLYENV=window.PLOTLYENV || {};                                    if (document.getElementById(\"d54428d3-be98-485e-8e2b-8aa62fbcb006\")) {                    Plotly.newPlot(                        \"d54428d3-be98-485e-8e2b-8aa62fbcb006\",                        [{\"domain\": {\"x\": [0.0, 1.0], \"y\": [0.0, 1.0]}, \"hovertemplate\": \"aspect=%{label}<br>count=%{value}<extra></extra>\", \"labels\": [\"Other\", \"battery\", \"screen\", \"price\", \"use\", \"keyboard\", \"program\", \"window\", \"hard\", \"feature\", \"software\", \"warranty\", \"windows\", \"power\", \"quality\", \"run\", \"graphic\", \"size\", \"performance\"], \"legendgroup\": \"\", \"name\": \"\", \"showlegend\": true, \"textposition\": \"inside\", \"type\": \"pie\", \"values\": [1558, 108, 80, 66, 55, 55, 50, 47, 44, 42, 36, 36, 36, 29, 28, 27, 27, 25, 24]}],                        {\"legend\": {\"tracegroupgap\": 0}, \"margin\": {\"b\": 20, \"l\": 10, \"r\": 1, \"t\": 40}, \"paper_bgcolor\": \"LightSteelBlue\", \"template\": {\"data\": {\"bar\": [{\"error_x\": {\"color\": \"#2a3f5f\"}, \"error_y\": {\"color\": \"#2a3f5f\"}, \"marker\": {\"line\": {\"color\": \"#E5ECF6\", \"width\": 0.5}}, \"type\": \"bar\"}], \"barpolar\": [{\"marker\": {\"line\": {\"color\": \"#E5ECF6\", \"width\": 0.5}}, \"type\": \"barpolar\"}], \"carpet\": [{\"aaxis\": {\"endlinecolor\": \"#2a3f5f\", \"gridcolor\": \"white\", \"linecolor\": \"white\", \"minorgridcolor\": \"white\", \"startlinecolor\": \"#2a3f5f\"}, \"baxis\": {\"endlinecolor\": \"#2a3f5f\", \"gridcolor\": \"white\", \"linecolor\": \"white\", \"minorgridcolor\": \"white\", \"startlinecolor\": \"#2a3f5f\"}, \"type\": \"carpet\"}], \"choropleth\": [{\"colorbar\": {\"outlinewidth\": 0, \"ticks\": \"\"}, \"type\": \"choropleth\"}], \"contour\": [{\"colorbar\": {\"outlinewidth\": 0, \"ticks\": \"\"}, \"colorscale\": [[0.0, \"#0d0887\"], [0.1111111111111111, \"#46039f\"], [0.2222222222222222, \"#7201a8\"], [0.3333333333333333, \"#9c179e\"], [0.4444444444444444, \"#bd3786\"], [0.5555555555555556, \"#d8576b\"], [0.6666666666666666, \"#ed7953\"], [0.7777777777777778, \"#fb9f3a\"], [0.8888888888888888, \"#fdca26\"], [1.0, \"#f0f921\"]], \"type\": \"contour\"}], \"contourcarpet\": [{\"colorbar\": {\"outlinewidth\": 0, \"ticks\": \"\"}, \"type\": \"contourcarpet\"}], \"heatmap\": [{\"colorbar\": {\"outlinewidth\": 0, \"ticks\": \"\"}, \"colorscale\": [[0.0, \"#0d0887\"], [0.1111111111111111, \"#46039f\"], [0.2222222222222222, \"#7201a8\"], [0.3333333333333333, \"#9c179e\"], [0.4444444444444444, \"#bd3786\"], [0.5555555555555556, \"#d8576b\"], [0.6666666666666666, \"#ed7953\"], [0.7777777777777778, \"#fb9f3a\"], [0.8888888888888888, \"#fdca26\"], [1.0, \"#f0f921\"]], \"type\": \"heatmap\"}], \"heatmapgl\": [{\"colorbar\": {\"outlinewidth\": 0, \"ticks\": \"\"}, \"colorscale\": [[0.0, \"#0d0887\"], [0.1111111111111111, \"#46039f\"], [0.2222222222222222, \"#7201a8\"], [0.3333333333333333, \"#9c179e\"], [0.4444444444444444, \"#bd3786\"], [0.5555555555555556, \"#d8576b\"], [0.6666666666666666, \"#ed7953\"], [0.7777777777777778, \"#fb9f3a\"], [0.8888888888888888, \"#fdca26\"], [1.0, \"#f0f921\"]], \"type\": \"heatmapgl\"}], \"histogram\": [{\"marker\": {\"colorbar\": {\"outlinewidth\": 0, \"ticks\": \"\"}}, \"type\": \"histogram\"}], \"histogram2d\": [{\"colorbar\": {\"outlinewidth\": 0, \"ticks\": \"\"}, \"colorscale\": [[0.0, \"#0d0887\"], [0.1111111111111111, \"#46039f\"], [0.2222222222222222, \"#7201a8\"], [0.3333333333333333, \"#9c179e\"], [0.4444444444444444, \"#bd3786\"], [0.5555555555555556, \"#d8576b\"], [0.6666666666666666, \"#ed7953\"], [0.7777777777777778, \"#fb9f3a\"], [0.8888888888888888, \"#fdca26\"], [1.0, \"#f0f921\"]], \"type\": \"histogram2d\"}], \"histogram2dcontour\": [{\"colorbar\": {\"outlinewidth\": 0, \"ticks\": \"\"}, \"colorscale\": [[0.0, \"#0d0887\"], [0.1111111111111111, \"#46039f\"], [0.2222222222222222, \"#7201a8\"], [0.3333333333333333, \"#9c179e\"], [0.4444444444444444, \"#bd3786\"], [0.5555555555555556, \"#d8576b\"], [0.6666666666666666, \"#ed7953\"], [0.7777777777777778, \"#fb9f3a\"], [0.8888888888888888, \"#fdca26\"], [1.0, \"#f0f921\"]], \"type\": \"histogram2dcontour\"}], \"mesh3d\": [{\"colorbar\": {\"outlinewidth\": 0, \"ticks\": \"\"}, \"type\": \"mesh3d\"}], \"parcoords\": [{\"line\": {\"colorbar\": {\"outlinewidth\": 0, \"ticks\": \"\"}}, \"type\": \"parcoords\"}], \"pie\": [{\"automargin\": true, \"type\": \"pie\"}], \"scatter\": [{\"marker\": {\"colorbar\": {\"outlinewidth\": 0, \"ticks\": \"\"}}, \"type\": \"scatter\"}], \"scatter3d\": [{\"line\": {\"colorbar\": {\"outlinewidth\": 0, \"ticks\": \"\"}}, \"marker\": {\"colorbar\": {\"outlinewidth\": 0, \"ticks\": \"\"}}, \"type\": \"scatter3d\"}], \"scattercarpet\": [{\"marker\": {\"colorbar\": {\"outlinewidth\": 0, \"ticks\": \"\"}}, \"type\": \"scattercarpet\"}], \"scattergeo\": [{\"marker\": {\"colorbar\": {\"outlinewidth\": 0, \"ticks\": \"\"}}, \"type\": \"scattergeo\"}], \"scattergl\": [{\"marker\": {\"colorbar\": {\"outlinewidth\": 0, \"ticks\": \"\"}}, \"type\": \"scattergl\"}], \"scattermapbox\": [{\"marker\": {\"colorbar\": {\"outlinewidth\": 0, \"ticks\": \"\"}}, \"type\": \"scattermapbox\"}], \"scatterpolar\": [{\"marker\": {\"colorbar\": {\"outlinewidth\": 0, \"ticks\": \"\"}}, \"type\": \"scatterpolar\"}], \"scatterpolargl\": [{\"marker\": {\"colorbar\": {\"outlinewidth\": 0, \"ticks\": \"\"}}, \"type\": \"scatterpolargl\"}], \"scatterternary\": [{\"marker\": {\"colorbar\": {\"outlinewidth\": 0, \"ticks\": \"\"}}, \"type\": \"scatterternary\"}], \"surface\": [{\"colorbar\": {\"outlinewidth\": 0, \"ticks\": \"\"}, \"colorscale\": [[0.0, \"#0d0887\"], [0.1111111111111111, \"#46039f\"], [0.2222222222222222, \"#7201a8\"], [0.3333333333333333, \"#9c179e\"], [0.4444444444444444, \"#bd3786\"], [0.5555555555555556, \"#d8576b\"], [0.6666666666666666, \"#ed7953\"], [0.7777777777777778, \"#fb9f3a\"], [0.8888888888888888, \"#fdca26\"], [1.0, \"#f0f921\"]], \"type\": \"surface\"}], \"table\": [{\"cells\": {\"fill\": {\"color\": \"#EBF0F8\"}, \"line\": {\"color\": \"white\"}}, \"header\": {\"fill\": {\"color\": \"#C8D4E3\"}, \"line\": {\"color\": \"white\"}}, \"type\": \"table\"}]}, \"layout\": {\"annotationdefaults\": {\"arrowcolor\": \"#2a3f5f\", \"arrowhead\": 0, \"arrowwidth\": 1}, \"autotypenumbers\": \"strict\", \"coloraxis\": {\"colorbar\": {\"outlinewidth\": 0, \"ticks\": \"\"}}, \"colorscale\": {\"diverging\": [[0, \"#8e0152\"], [0.1, \"#c51b7d\"], [0.2, \"#de77ae\"], [0.3, \"#f1b6da\"], [0.4, \"#fde0ef\"], [0.5, \"#f7f7f7\"], [0.6, \"#e6f5d0\"], [0.7, \"#b8e186\"], [0.8, \"#7fbc41\"], [0.9, \"#4d9221\"], [1, \"#276419\"]], \"sequential\": [[0.0, \"#0d0887\"], [0.1111111111111111, \"#46039f\"], [0.2222222222222222, \"#7201a8\"], [0.3333333333333333, \"#9c179e\"], [0.4444444444444444, \"#bd3786\"], [0.5555555555555556, \"#d8576b\"], [0.6666666666666666, \"#ed7953\"], [0.7777777777777778, \"#fb9f3a\"], [0.8888888888888888, \"#fdca26\"], [1.0, \"#f0f921\"]], \"sequentialminus\": [[0.0, \"#0d0887\"], [0.1111111111111111, \"#46039f\"], [0.2222222222222222, \"#7201a8\"], [0.3333333333333333, \"#9c179e\"], [0.4444444444444444, \"#bd3786\"], [0.5555555555555556, \"#d8576b\"], [0.6666666666666666, \"#ed7953\"], [0.7777777777777778, \"#fb9f3a\"], [0.8888888888888888, \"#fdca26\"], [1.0, \"#f0f921\"]]}, \"colorway\": [\"#636efa\", \"#EF553B\", \"#00cc96\", \"#ab63fa\", \"#FFA15A\", \"#19d3f3\", \"#FF6692\", \"#B6E880\", \"#FF97FF\", \"#FECB52\"], \"font\": {\"color\": \"#2a3f5f\"}, \"geo\": {\"bgcolor\": \"white\", \"lakecolor\": \"white\", \"landcolor\": \"#E5ECF6\", \"showlakes\": true, \"showland\": true, \"subunitcolor\": \"white\"}, \"hoverlabel\": {\"align\": \"left\"}, \"hovermode\": \"closest\", \"mapbox\": {\"style\": \"light\"}, \"paper_bgcolor\": \"white\", \"plot_bgcolor\": \"#E5ECF6\", \"polar\": {\"angularaxis\": {\"gridcolor\": \"white\", \"linecolor\": \"white\", \"ticks\": \"\"}, \"bgcolor\": \"#E5ECF6\", \"radialaxis\": {\"gridcolor\": \"white\", \"linecolor\": \"white\", \"ticks\": \"\"}}, \"scene\": {\"xaxis\": {\"backgroundcolor\": \"#E5ECF6\", \"gridcolor\": \"white\", \"gridwidth\": 2, \"linecolor\": \"white\", \"showbackground\": true, \"ticks\": \"\", \"zerolinecolor\": \"white\"}, \"yaxis\": {\"backgroundcolor\": \"#E5ECF6\", \"gridcolor\": \"white\", \"gridwidth\": 2, \"linecolor\": \"white\", \"showbackground\": true, \"ticks\": \"\", \"zerolinecolor\": \"white\"}, \"zaxis\": {\"backgroundcolor\": \"#E5ECF6\", \"gridcolor\": \"white\", \"gridwidth\": 2, \"linecolor\": \"white\", \"showbackground\": true, \"ticks\": \"\", \"zerolinecolor\": \"white\"}}, \"shapedefaults\": {\"line\": {\"color\": \"#2a3f5f\"}}, \"ternary\": {\"aaxis\": {\"gridcolor\": \"white\", \"linecolor\": \"white\", \"ticks\": \"\"}, \"baxis\": {\"gridcolor\": \"white\", \"linecolor\": \"white\", \"ticks\": \"\"}, \"bgcolor\": \"#E5ECF6\", \"caxis\": {\"gridcolor\": \"white\", \"linecolor\": \"white\", \"ticks\": \"\"}}, \"title\": {\"x\": 0.05}, \"xaxis\": {\"automargin\": true, \"gridcolor\": \"white\", \"linecolor\": \"white\", \"ticks\": \"\", \"title\": {\"standoff\": 15}, \"zerolinecolor\": \"white\", \"zerolinewidth\": 2}, \"yaxis\": {\"automargin\": true, \"gridcolor\": \"white\", \"linecolor\": \"white\", \"ticks\": \"\", \"title\": {\"standoff\": 15}, \"zerolinecolor\": \"white\", \"zerolinewidth\": 2}}}, \"title\": {\"text\": \"Aspect Distribution - Laptops (w/ multi-token aspects) (Other < 2%)\", \"x\": 0.45}},                        {\"responsive\": true}                    ).then(function(){\n",
       "                            \n",
       "var gd = document.getElementById('d54428d3-be98-485e-8e2b-8aa62fbcb006');\n",
       "var x = new MutationObserver(function (mutations, observer) {{\n",
       "        var display = window.getComputedStyle(gd).display;\n",
       "        if (!display || display === 'none') {{\n",
       "            console.log([gd, 'removed!']);\n",
       "            Plotly.purge(gd);\n",
       "            observer.disconnect();\n",
       "        }}\n",
       "}});\n",
       "\n",
       "// Listen for the removal of the full notebook cells\n",
       "var notebookContainer = gd.closest('#notebook-container');\n",
       "if (notebookContainer) {{\n",
       "    x.observe(notebookContainer, {childList: true});\n",
       "}}\n",
       "\n",
       "// Listen for the clearing of the current output cell\n",
       "var outputEl = gd.closest('.output');\n",
       "if (outputEl) {{\n",
       "    x.observe(outputEl, {childList: true});\n",
       "}}\n",
       "\n",
       "                        })                };                });            </script>        </div>"
      ]
     },
     "metadata": {},
     "output_type": "display_data"
    },
    {
     "data": {
      "text/plain": [
       "count    523.000000\n",
       "mean       4.537285\n",
       "std        9.475925\n",
       "min        1.000000\n",
       "50%        1.000000\n",
       "90%       10.800000\n",
       "92.5%     13.000000\n",
       "95%       18.900000\n",
       "97.5%     27.950000\n",
       "max      108.000000\n",
       "dtype: float64"
      ]
     },
     "execution_count": 40,
     "metadata": {},
     "output_type": "execute_result"
    }
   ],
   "source": [
    "aspect_dist(\"lap_multi\", lemmas=True)"
   ]
  },
  {
   "cell_type": "code",
   "execution_count": 338,
   "metadata": {},
   "outputs": [
    {
     "data": {
      "application/vnd.plotly.v1+json": {
       "config": {
        "plotlyServerURL": "https://plot.ly"
       },
       "data": [
        {
         "domain": {
          "x": [
           0,
           1
          ],
          "y": [
           0,
           1
          ]
         },
         "hovertemplate": "aspect=%{label}<br>count=%{value}<extra></extra>",
         "labels": [
          "Other",
          "food",
          "service",
          "price",
          "staff",
          "place",
          "dinner",
          "atmosphere",
          "pizza"
         ],
         "legendgroup": "",
         "name": "",
         "showlegend": true,
         "textposition": "inside",
         "type": "pie",
         "values": [
          1194,
          329,
          206,
          96,
          51,
          50,
          47,
          43,
          42
         ]
        }
       ],
       "layout": {
        "legend": {
         "tracegroupgap": 0
        },
        "margin": {
         "b": 20,
         "l": 10,
         "r": 1,
         "t": 40
        },
        "paper_bgcolor": "LightSteelBlue",
        "template": {
         "data": {
          "bar": [
           {
            "error_x": {
             "color": "#2a3f5f"
            },
            "error_y": {
             "color": "#2a3f5f"
            },
            "marker": {
             "line": {
              "color": "#E5ECF6",
              "width": 0.5
             }
            },
            "type": "bar"
           }
          ],
          "barpolar": [
           {
            "marker": {
             "line": {
              "color": "#E5ECF6",
              "width": 0.5
             }
            },
            "type": "barpolar"
           }
          ],
          "carpet": [
           {
            "aaxis": {
             "endlinecolor": "#2a3f5f",
             "gridcolor": "white",
             "linecolor": "white",
             "minorgridcolor": "white",
             "startlinecolor": "#2a3f5f"
            },
            "baxis": {
             "endlinecolor": "#2a3f5f",
             "gridcolor": "white",
             "linecolor": "white",
             "minorgridcolor": "white",
             "startlinecolor": "#2a3f5f"
            },
            "type": "carpet"
           }
          ],
          "choropleth": [
           {
            "colorbar": {
             "outlinewidth": 0,
             "ticks": ""
            },
            "type": "choropleth"
           }
          ],
          "contour": [
           {
            "colorbar": {
             "outlinewidth": 0,
             "ticks": ""
            },
            "colorscale": [
             [
              0,
              "#0d0887"
             ],
             [
              0.1111111111111111,
              "#46039f"
             ],
             [
              0.2222222222222222,
              "#7201a8"
             ],
             [
              0.3333333333333333,
              "#9c179e"
             ],
             [
              0.4444444444444444,
              "#bd3786"
             ],
             [
              0.5555555555555556,
              "#d8576b"
             ],
             [
              0.6666666666666666,
              "#ed7953"
             ],
             [
              0.7777777777777778,
              "#fb9f3a"
             ],
             [
              0.8888888888888888,
              "#fdca26"
             ],
             [
              1,
              "#f0f921"
             ]
            ],
            "type": "contour"
           }
          ],
          "contourcarpet": [
           {
            "colorbar": {
             "outlinewidth": 0,
             "ticks": ""
            },
            "type": "contourcarpet"
           }
          ],
          "heatmap": [
           {
            "colorbar": {
             "outlinewidth": 0,
             "ticks": ""
            },
            "colorscale": [
             [
              0,
              "#0d0887"
             ],
             [
              0.1111111111111111,
              "#46039f"
             ],
             [
              0.2222222222222222,
              "#7201a8"
             ],
             [
              0.3333333333333333,
              "#9c179e"
             ],
             [
              0.4444444444444444,
              "#bd3786"
             ],
             [
              0.5555555555555556,
              "#d8576b"
             ],
             [
              0.6666666666666666,
              "#ed7953"
             ],
             [
              0.7777777777777778,
              "#fb9f3a"
             ],
             [
              0.8888888888888888,
              "#fdca26"
             ],
             [
              1,
              "#f0f921"
             ]
            ],
            "type": "heatmap"
           }
          ],
          "heatmapgl": [
           {
            "colorbar": {
             "outlinewidth": 0,
             "ticks": ""
            },
            "colorscale": [
             [
              0,
              "#0d0887"
             ],
             [
              0.1111111111111111,
              "#46039f"
             ],
             [
              0.2222222222222222,
              "#7201a8"
             ],
             [
              0.3333333333333333,
              "#9c179e"
             ],
             [
              0.4444444444444444,
              "#bd3786"
             ],
             [
              0.5555555555555556,
              "#d8576b"
             ],
             [
              0.6666666666666666,
              "#ed7953"
             ],
             [
              0.7777777777777778,
              "#fb9f3a"
             ],
             [
              0.8888888888888888,
              "#fdca26"
             ],
             [
              1,
              "#f0f921"
             ]
            ],
            "type": "heatmapgl"
           }
          ],
          "histogram": [
           {
            "marker": {
             "colorbar": {
              "outlinewidth": 0,
              "ticks": ""
             }
            },
            "type": "histogram"
           }
          ],
          "histogram2d": [
           {
            "colorbar": {
             "outlinewidth": 0,
             "ticks": ""
            },
            "colorscale": [
             [
              0,
              "#0d0887"
             ],
             [
              0.1111111111111111,
              "#46039f"
             ],
             [
              0.2222222222222222,
              "#7201a8"
             ],
             [
              0.3333333333333333,
              "#9c179e"
             ],
             [
              0.4444444444444444,
              "#bd3786"
             ],
             [
              0.5555555555555556,
              "#d8576b"
             ],
             [
              0.6666666666666666,
              "#ed7953"
             ],
             [
              0.7777777777777778,
              "#fb9f3a"
             ],
             [
              0.8888888888888888,
              "#fdca26"
             ],
             [
              1,
              "#f0f921"
             ]
            ],
            "type": "histogram2d"
           }
          ],
          "histogram2dcontour": [
           {
            "colorbar": {
             "outlinewidth": 0,
             "ticks": ""
            },
            "colorscale": [
             [
              0,
              "#0d0887"
             ],
             [
              0.1111111111111111,
              "#46039f"
             ],
             [
              0.2222222222222222,
              "#7201a8"
             ],
             [
              0.3333333333333333,
              "#9c179e"
             ],
             [
              0.4444444444444444,
              "#bd3786"
             ],
             [
              0.5555555555555556,
              "#d8576b"
             ],
             [
              0.6666666666666666,
              "#ed7953"
             ],
             [
              0.7777777777777778,
              "#fb9f3a"
             ],
             [
              0.8888888888888888,
              "#fdca26"
             ],
             [
              1,
              "#f0f921"
             ]
            ],
            "type": "histogram2dcontour"
           }
          ],
          "mesh3d": [
           {
            "colorbar": {
             "outlinewidth": 0,
             "ticks": ""
            },
            "type": "mesh3d"
           }
          ],
          "parcoords": [
           {
            "line": {
             "colorbar": {
              "outlinewidth": 0,
              "ticks": ""
             }
            },
            "type": "parcoords"
           }
          ],
          "pie": [
           {
            "automargin": true,
            "type": "pie"
           }
          ],
          "scatter": [
           {
            "marker": {
             "colorbar": {
              "outlinewidth": 0,
              "ticks": ""
             }
            },
            "type": "scatter"
           }
          ],
          "scatter3d": [
           {
            "line": {
             "colorbar": {
              "outlinewidth": 0,
              "ticks": ""
             }
            },
            "marker": {
             "colorbar": {
              "outlinewidth": 0,
              "ticks": ""
             }
            },
            "type": "scatter3d"
           }
          ],
          "scattercarpet": [
           {
            "marker": {
             "colorbar": {
              "outlinewidth": 0,
              "ticks": ""
             }
            },
            "type": "scattercarpet"
           }
          ],
          "scattergeo": [
           {
            "marker": {
             "colorbar": {
              "outlinewidth": 0,
              "ticks": ""
             }
            },
            "type": "scattergeo"
           }
          ],
          "scattergl": [
           {
            "marker": {
             "colorbar": {
              "outlinewidth": 0,
              "ticks": ""
             }
            },
            "type": "scattergl"
           }
          ],
          "scattermapbox": [
           {
            "marker": {
             "colorbar": {
              "outlinewidth": 0,
              "ticks": ""
             }
            },
            "type": "scattermapbox"
           }
          ],
          "scatterpolar": [
           {
            "marker": {
             "colorbar": {
              "outlinewidth": 0,
              "ticks": ""
             }
            },
            "type": "scatterpolar"
           }
          ],
          "scatterpolargl": [
           {
            "marker": {
             "colorbar": {
              "outlinewidth": 0,
              "ticks": ""
             }
            },
            "type": "scatterpolargl"
           }
          ],
          "scatterternary": [
           {
            "marker": {
             "colorbar": {
              "outlinewidth": 0,
              "ticks": ""
             }
            },
            "type": "scatterternary"
           }
          ],
          "surface": [
           {
            "colorbar": {
             "outlinewidth": 0,
             "ticks": ""
            },
            "colorscale": [
             [
              0,
              "#0d0887"
             ],
             [
              0.1111111111111111,
              "#46039f"
             ],
             [
              0.2222222222222222,
              "#7201a8"
             ],
             [
              0.3333333333333333,
              "#9c179e"
             ],
             [
              0.4444444444444444,
              "#bd3786"
             ],
             [
              0.5555555555555556,
              "#d8576b"
             ],
             [
              0.6666666666666666,
              "#ed7953"
             ],
             [
              0.7777777777777778,
              "#fb9f3a"
             ],
             [
              0.8888888888888888,
              "#fdca26"
             ],
             [
              1,
              "#f0f921"
             ]
            ],
            "type": "surface"
           }
          ],
          "table": [
           {
            "cells": {
             "fill": {
              "color": "#EBF0F8"
             },
             "line": {
              "color": "white"
             }
            },
            "header": {
             "fill": {
              "color": "#C8D4E3"
             },
             "line": {
              "color": "white"
             }
            },
            "type": "table"
           }
          ]
         },
         "layout": {
          "annotationdefaults": {
           "arrowcolor": "#2a3f5f",
           "arrowhead": 0,
           "arrowwidth": 1
          },
          "autotypenumbers": "strict",
          "coloraxis": {
           "colorbar": {
            "outlinewidth": 0,
            "ticks": ""
           }
          },
          "colorscale": {
           "diverging": [
            [
             0,
             "#8e0152"
            ],
            [
             0.1,
             "#c51b7d"
            ],
            [
             0.2,
             "#de77ae"
            ],
            [
             0.3,
             "#f1b6da"
            ],
            [
             0.4,
             "#fde0ef"
            ],
            [
             0.5,
             "#f7f7f7"
            ],
            [
             0.6,
             "#e6f5d0"
            ],
            [
             0.7,
             "#b8e186"
            ],
            [
             0.8,
             "#7fbc41"
            ],
            [
             0.9,
             "#4d9221"
            ],
            [
             1,
             "#276419"
            ]
           ],
           "sequential": [
            [
             0,
             "#0d0887"
            ],
            [
             0.1111111111111111,
             "#46039f"
            ],
            [
             0.2222222222222222,
             "#7201a8"
            ],
            [
             0.3333333333333333,
             "#9c179e"
            ],
            [
             0.4444444444444444,
             "#bd3786"
            ],
            [
             0.5555555555555556,
             "#d8576b"
            ],
            [
             0.6666666666666666,
             "#ed7953"
            ],
            [
             0.7777777777777778,
             "#fb9f3a"
            ],
            [
             0.8888888888888888,
             "#fdca26"
            ],
            [
             1,
             "#f0f921"
            ]
           ],
           "sequentialminus": [
            [
             0,
             "#0d0887"
            ],
            [
             0.1111111111111111,
             "#46039f"
            ],
            [
             0.2222222222222222,
             "#7201a8"
            ],
            [
             0.3333333333333333,
             "#9c179e"
            ],
            [
             0.4444444444444444,
             "#bd3786"
            ],
            [
             0.5555555555555556,
             "#d8576b"
            ],
            [
             0.6666666666666666,
             "#ed7953"
            ],
            [
             0.7777777777777778,
             "#fb9f3a"
            ],
            [
             0.8888888888888888,
             "#fdca26"
            ],
            [
             1,
             "#f0f921"
            ]
           ]
          },
          "colorway": [
           "#636efa",
           "#EF553B",
           "#00cc96",
           "#ab63fa",
           "#FFA15A",
           "#19d3f3",
           "#FF6692",
           "#B6E880",
           "#FF97FF",
           "#FECB52"
          ],
          "font": {
           "color": "#2a3f5f"
          },
          "geo": {
           "bgcolor": "white",
           "lakecolor": "white",
           "landcolor": "#E5ECF6",
           "showlakes": true,
           "showland": true,
           "subunitcolor": "white"
          },
          "hoverlabel": {
           "align": "left"
          },
          "hovermode": "closest",
          "mapbox": {
           "style": "light"
          },
          "paper_bgcolor": "white",
          "plot_bgcolor": "#E5ECF6",
          "polar": {
           "angularaxis": {
            "gridcolor": "white",
            "linecolor": "white",
            "ticks": ""
           },
           "bgcolor": "#E5ECF6",
           "radialaxis": {
            "gridcolor": "white",
            "linecolor": "white",
            "ticks": ""
           }
          },
          "scene": {
           "xaxis": {
            "backgroundcolor": "#E5ECF6",
            "gridcolor": "white",
            "gridwidth": 2,
            "linecolor": "white",
            "showbackground": true,
            "ticks": "",
            "zerolinecolor": "white"
           },
           "yaxis": {
            "backgroundcolor": "#E5ECF6",
            "gridcolor": "white",
            "gridwidth": 2,
            "linecolor": "white",
            "showbackground": true,
            "ticks": "",
            "zerolinecolor": "white"
           },
           "zaxis": {
            "backgroundcolor": "#E5ECF6",
            "gridcolor": "white",
            "gridwidth": 2,
            "linecolor": "white",
            "showbackground": true,
            "ticks": "",
            "zerolinecolor": "white"
           }
          },
          "shapedefaults": {
           "line": {
            "color": "#2a3f5f"
           }
          },
          "ternary": {
           "aaxis": {
            "gridcolor": "white",
            "linecolor": "white",
            "ticks": ""
           },
           "baxis": {
            "gridcolor": "white",
            "linecolor": "white",
            "ticks": ""
           },
           "bgcolor": "#E5ECF6",
           "caxis": {
            "gridcolor": "white",
            "linecolor": "white",
            "ticks": ""
           }
          },
          "title": {
           "x": 0.05
          },
          "xaxis": {
           "automargin": true,
           "gridcolor": "white",
           "linecolor": "white",
           "ticks": "",
           "title": {
            "standoff": 15
           },
           "zerolinecolor": "white",
           "zerolinewidth": 2
          },
          "yaxis": {
           "automargin": true,
           "gridcolor": "white",
           "linecolor": "white",
           "ticks": "",
           "title": {
            "standoff": 15
           },
           "zerolinecolor": "white",
           "zerolinewidth": 2
          }
         }
        },
        "title": {
         "text": "Aspect Distribution - Restaurants (Other < 2%)",
         "x": 0.45
        }
       }
      },
      "text/html": [
       "<div>                            <div id=\"df588e97-6d1a-425b-8c15-5b61d201589a\" class=\"plotly-graph-div\" style=\"height:525px; width:100%;\"></div>            <script type=\"text/javascript\">                require([\"plotly\"], function(Plotly) {                    window.PLOTLYENV=window.PLOTLYENV || {};                                    if (document.getElementById(\"df588e97-6d1a-425b-8c15-5b61d201589a\")) {                    Plotly.newPlot(                        \"df588e97-6d1a-425b-8c15-5b61d201589a\",                        [{\"domain\": {\"x\": [0.0, 1.0], \"y\": [0.0, 1.0]}, \"hovertemplate\": \"aspect=%{label}<br>count=%{value}<extra></extra>\", \"labels\": [\"Other\", \"food\", \"service\", \"price\", \"staff\", \"place\", \"dinner\", \"atmosphere\", \"pizza\"], \"legendgroup\": \"\", \"name\": \"\", \"showlegend\": true, \"textposition\": \"inside\", \"type\": \"pie\", \"values\": [1194, 329, 206, 96, 51, 50, 47, 43, 42]}],                        {\"legend\": {\"tracegroupgap\": 0}, \"margin\": {\"b\": 20, \"l\": 10, \"r\": 1, \"t\": 40}, \"paper_bgcolor\": \"LightSteelBlue\", \"template\": {\"data\": {\"bar\": [{\"error_x\": {\"color\": \"#2a3f5f\"}, \"error_y\": {\"color\": \"#2a3f5f\"}, \"marker\": {\"line\": {\"color\": \"#E5ECF6\", \"width\": 0.5}}, \"type\": \"bar\"}], \"barpolar\": [{\"marker\": {\"line\": {\"color\": \"#E5ECF6\", \"width\": 0.5}}, \"type\": \"barpolar\"}], \"carpet\": [{\"aaxis\": {\"endlinecolor\": \"#2a3f5f\", \"gridcolor\": \"white\", \"linecolor\": \"white\", \"minorgridcolor\": \"white\", \"startlinecolor\": \"#2a3f5f\"}, \"baxis\": {\"endlinecolor\": \"#2a3f5f\", \"gridcolor\": \"white\", \"linecolor\": \"white\", \"minorgridcolor\": \"white\", \"startlinecolor\": \"#2a3f5f\"}, \"type\": \"carpet\"}], \"choropleth\": [{\"colorbar\": {\"outlinewidth\": 0, \"ticks\": \"\"}, \"type\": \"choropleth\"}], \"contour\": [{\"colorbar\": {\"outlinewidth\": 0, \"ticks\": \"\"}, \"colorscale\": [[0.0, \"#0d0887\"], [0.1111111111111111, \"#46039f\"], [0.2222222222222222, \"#7201a8\"], [0.3333333333333333, \"#9c179e\"], [0.4444444444444444, \"#bd3786\"], [0.5555555555555556, \"#d8576b\"], [0.6666666666666666, \"#ed7953\"], [0.7777777777777778, \"#fb9f3a\"], [0.8888888888888888, \"#fdca26\"], [1.0, \"#f0f921\"]], \"type\": \"contour\"}], \"contourcarpet\": [{\"colorbar\": {\"outlinewidth\": 0, \"ticks\": \"\"}, \"type\": \"contourcarpet\"}], \"heatmap\": [{\"colorbar\": {\"outlinewidth\": 0, \"ticks\": \"\"}, \"colorscale\": [[0.0, \"#0d0887\"], [0.1111111111111111, \"#46039f\"], [0.2222222222222222, \"#7201a8\"], [0.3333333333333333, \"#9c179e\"], [0.4444444444444444, \"#bd3786\"], [0.5555555555555556, \"#d8576b\"], [0.6666666666666666, \"#ed7953\"], [0.7777777777777778, \"#fb9f3a\"], [0.8888888888888888, \"#fdca26\"], [1.0, \"#f0f921\"]], \"type\": \"heatmap\"}], \"heatmapgl\": [{\"colorbar\": {\"outlinewidth\": 0, \"ticks\": \"\"}, \"colorscale\": [[0.0, \"#0d0887\"], [0.1111111111111111, \"#46039f\"], [0.2222222222222222, \"#7201a8\"], [0.3333333333333333, \"#9c179e\"], [0.4444444444444444, \"#bd3786\"], [0.5555555555555556, \"#d8576b\"], [0.6666666666666666, \"#ed7953\"], [0.7777777777777778, \"#fb9f3a\"], [0.8888888888888888, \"#fdca26\"], [1.0, \"#f0f921\"]], \"type\": \"heatmapgl\"}], \"histogram\": [{\"marker\": {\"colorbar\": {\"outlinewidth\": 0, \"ticks\": \"\"}}, \"type\": \"histogram\"}], \"histogram2d\": [{\"colorbar\": {\"outlinewidth\": 0, \"ticks\": \"\"}, \"colorscale\": [[0.0, \"#0d0887\"], [0.1111111111111111, \"#46039f\"], [0.2222222222222222, \"#7201a8\"], [0.3333333333333333, \"#9c179e\"], [0.4444444444444444, \"#bd3786\"], [0.5555555555555556, \"#d8576b\"], [0.6666666666666666, \"#ed7953\"], [0.7777777777777778, \"#fb9f3a\"], [0.8888888888888888, \"#fdca26\"], [1.0, \"#f0f921\"]], \"type\": \"histogram2d\"}], \"histogram2dcontour\": [{\"colorbar\": {\"outlinewidth\": 0, \"ticks\": \"\"}, \"colorscale\": [[0.0, \"#0d0887\"], [0.1111111111111111, \"#46039f\"], [0.2222222222222222, \"#7201a8\"], [0.3333333333333333, \"#9c179e\"], [0.4444444444444444, \"#bd3786\"], [0.5555555555555556, \"#d8576b\"], [0.6666666666666666, \"#ed7953\"], [0.7777777777777778, \"#fb9f3a\"], [0.8888888888888888, \"#fdca26\"], [1.0, \"#f0f921\"]], \"type\": \"histogram2dcontour\"}], \"mesh3d\": [{\"colorbar\": {\"outlinewidth\": 0, \"ticks\": \"\"}, \"type\": \"mesh3d\"}], \"parcoords\": [{\"line\": {\"colorbar\": {\"outlinewidth\": 0, \"ticks\": \"\"}}, \"type\": \"parcoords\"}], \"pie\": [{\"automargin\": true, \"type\": \"pie\"}], \"scatter\": [{\"marker\": {\"colorbar\": {\"outlinewidth\": 0, \"ticks\": \"\"}}, \"type\": \"scatter\"}], \"scatter3d\": [{\"line\": {\"colorbar\": {\"outlinewidth\": 0, \"ticks\": \"\"}}, \"marker\": {\"colorbar\": {\"outlinewidth\": 0, \"ticks\": \"\"}}, \"type\": \"scatter3d\"}], \"scattercarpet\": [{\"marker\": {\"colorbar\": {\"outlinewidth\": 0, \"ticks\": \"\"}}, \"type\": \"scattercarpet\"}], \"scattergeo\": [{\"marker\": {\"colorbar\": {\"outlinewidth\": 0, \"ticks\": \"\"}}, \"type\": \"scattergeo\"}], \"scattergl\": [{\"marker\": {\"colorbar\": {\"outlinewidth\": 0, \"ticks\": \"\"}}, \"type\": \"scattergl\"}], \"scattermapbox\": [{\"marker\": {\"colorbar\": {\"outlinewidth\": 0, \"ticks\": \"\"}}, \"type\": \"scattermapbox\"}], \"scatterpolar\": [{\"marker\": {\"colorbar\": {\"outlinewidth\": 0, \"ticks\": \"\"}}, \"type\": \"scatterpolar\"}], \"scatterpolargl\": [{\"marker\": {\"colorbar\": {\"outlinewidth\": 0, \"ticks\": \"\"}}, \"type\": \"scatterpolargl\"}], \"scatterternary\": [{\"marker\": {\"colorbar\": {\"outlinewidth\": 0, \"ticks\": \"\"}}, \"type\": \"scatterternary\"}], \"surface\": [{\"colorbar\": {\"outlinewidth\": 0, \"ticks\": \"\"}, \"colorscale\": [[0.0, \"#0d0887\"], [0.1111111111111111, \"#46039f\"], [0.2222222222222222, \"#7201a8\"], [0.3333333333333333, \"#9c179e\"], [0.4444444444444444, \"#bd3786\"], [0.5555555555555556, \"#d8576b\"], [0.6666666666666666, \"#ed7953\"], [0.7777777777777778, \"#fb9f3a\"], [0.8888888888888888, \"#fdca26\"], [1.0, \"#f0f921\"]], \"type\": \"surface\"}], \"table\": [{\"cells\": {\"fill\": {\"color\": \"#EBF0F8\"}, \"line\": {\"color\": \"white\"}}, \"header\": {\"fill\": {\"color\": \"#C8D4E3\"}, \"line\": {\"color\": \"white\"}}, \"type\": \"table\"}]}, \"layout\": {\"annotationdefaults\": {\"arrowcolor\": \"#2a3f5f\", \"arrowhead\": 0, \"arrowwidth\": 1}, \"autotypenumbers\": \"strict\", \"coloraxis\": {\"colorbar\": {\"outlinewidth\": 0, \"ticks\": \"\"}}, \"colorscale\": {\"diverging\": [[0, \"#8e0152\"], [0.1, \"#c51b7d\"], [0.2, \"#de77ae\"], [0.3, \"#f1b6da\"], [0.4, \"#fde0ef\"], [0.5, \"#f7f7f7\"], [0.6, \"#e6f5d0\"], [0.7, \"#b8e186\"], [0.8, \"#7fbc41\"], [0.9, \"#4d9221\"], [1, \"#276419\"]], \"sequential\": [[0.0, \"#0d0887\"], [0.1111111111111111, \"#46039f\"], [0.2222222222222222, \"#7201a8\"], [0.3333333333333333, \"#9c179e\"], [0.4444444444444444, \"#bd3786\"], [0.5555555555555556, \"#d8576b\"], [0.6666666666666666, \"#ed7953\"], [0.7777777777777778, \"#fb9f3a\"], [0.8888888888888888, \"#fdca26\"], [1.0, \"#f0f921\"]], \"sequentialminus\": [[0.0, \"#0d0887\"], [0.1111111111111111, \"#46039f\"], [0.2222222222222222, \"#7201a8\"], [0.3333333333333333, \"#9c179e\"], [0.4444444444444444, \"#bd3786\"], [0.5555555555555556, \"#d8576b\"], [0.6666666666666666, \"#ed7953\"], [0.7777777777777778, \"#fb9f3a\"], [0.8888888888888888, \"#fdca26\"], [1.0, \"#f0f921\"]]}, \"colorway\": [\"#636efa\", \"#EF553B\", \"#00cc96\", \"#ab63fa\", \"#FFA15A\", \"#19d3f3\", \"#FF6692\", \"#B6E880\", \"#FF97FF\", \"#FECB52\"], \"font\": {\"color\": \"#2a3f5f\"}, \"geo\": {\"bgcolor\": \"white\", \"lakecolor\": \"white\", \"landcolor\": \"#E5ECF6\", \"showlakes\": true, \"showland\": true, \"subunitcolor\": \"white\"}, \"hoverlabel\": {\"align\": \"left\"}, \"hovermode\": \"closest\", \"mapbox\": {\"style\": \"light\"}, \"paper_bgcolor\": \"white\", \"plot_bgcolor\": \"#E5ECF6\", \"polar\": {\"angularaxis\": {\"gridcolor\": \"white\", \"linecolor\": \"white\", \"ticks\": \"\"}, \"bgcolor\": \"#E5ECF6\", \"radialaxis\": {\"gridcolor\": \"white\", \"linecolor\": \"white\", \"ticks\": \"\"}}, \"scene\": {\"xaxis\": {\"backgroundcolor\": \"#E5ECF6\", \"gridcolor\": \"white\", \"gridwidth\": 2, \"linecolor\": \"white\", \"showbackground\": true, \"ticks\": \"\", \"zerolinecolor\": \"white\"}, \"yaxis\": {\"backgroundcolor\": \"#E5ECF6\", \"gridcolor\": \"white\", \"gridwidth\": 2, \"linecolor\": \"white\", \"showbackground\": true, \"ticks\": \"\", \"zerolinecolor\": \"white\"}, \"zaxis\": {\"backgroundcolor\": \"#E5ECF6\", \"gridcolor\": \"white\", \"gridwidth\": 2, \"linecolor\": \"white\", \"showbackground\": true, \"ticks\": \"\", \"zerolinecolor\": \"white\"}}, \"shapedefaults\": {\"line\": {\"color\": \"#2a3f5f\"}}, \"ternary\": {\"aaxis\": {\"gridcolor\": \"white\", \"linecolor\": \"white\", \"ticks\": \"\"}, \"baxis\": {\"gridcolor\": \"white\", \"linecolor\": \"white\", \"ticks\": \"\"}, \"bgcolor\": \"#E5ECF6\", \"caxis\": {\"gridcolor\": \"white\", \"linecolor\": \"white\", \"ticks\": \"\"}}, \"title\": {\"x\": 0.05}, \"xaxis\": {\"automargin\": true, \"gridcolor\": \"white\", \"linecolor\": \"white\", \"ticks\": \"\", \"title\": {\"standoff\": 15}, \"zerolinecolor\": \"white\", \"zerolinewidth\": 2}, \"yaxis\": {\"automargin\": true, \"gridcolor\": \"white\", \"linecolor\": \"white\", \"ticks\": \"\", \"title\": {\"standoff\": 15}, \"zerolinecolor\": \"white\", \"zerolinewidth\": 2}}}, \"title\": {\"text\": \"Aspect Distribution - Restaurants (Other < 2%)\", \"x\": 0.45}},                        {\"responsive\": true}                    ).then(function(){\n",
       "                            \n",
       "var gd = document.getElementById('df588e97-6d1a-425b-8c15-5b61d201589a');\n",
       "var x = new MutationObserver(function (mutations, observer) {{\n",
       "        var display = window.getComputedStyle(gd).display;\n",
       "        if (!display || display === 'none') {{\n",
       "            console.log([gd, 'removed!']);\n",
       "            Plotly.purge(gd);\n",
       "            observer.disconnect();\n",
       "        }}\n",
       "}});\n",
       "\n",
       "// Listen for the removal of the full notebook cells\n",
       "var notebookContainer = gd.closest('#notebook-container');\n",
       "if (notebookContainer) {{\n",
       "    x.observe(notebookContainer, {childList: true});\n",
       "}}\n",
       "\n",
       "// Listen for the clearing of the current output cell\n",
       "var outputEl = gd.closest('.output');\n",
       "if (outputEl) {{\n",
       "    x.observe(outputEl, {childList: true});\n",
       "}}\n",
       "\n",
       "                        })                };                });            </script>        </div>"
      ]
     },
     "metadata": {},
     "output_type": "display_data"
    },
    {
     "data": {
      "text/plain": [
       "count    310.000000\n",
       "mean       6.638710\n",
       "std       23.745927\n",
       "min        1.000000\n",
       "50%        1.000000\n",
       "90%       13.100000\n",
       "92.5%     17.000000\n",
       "95%       28.100000\n",
       "97.5%     38.375000\n",
       "max      329.000000\n",
       "dtype: float64"
      ]
     },
     "execution_count": 338,
     "metadata": {},
     "output_type": "execute_result"
    }
   ],
   "source": [
    "aspect_dist(\"res\", lemmas=False)"
   ]
  },
  {
   "cell_type": "code",
   "execution_count": 325,
   "metadata": {},
   "outputs": [
    {
     "data": {
      "application/vnd.plotly.v1+json": {
       "config": {
        "plotlyServerURL": "https://plot.ly"
       },
       "data": [
        {
         "domain": {
          "x": [
           0,
           1
          ],
          "y": [
           0,
           1
          ]
         },
         "hovertemplate": "aspect=%{label}<br>count=%{value}<extra></extra>",
         "labels": [
          "Other",
          "price",
          "screen",
          "program",
          "keyboard",
          "battery",
          "use",
          "feature",
          "warranty",
          "software"
         ],
         "legendgroup": "",
         "name": "",
         "showlegend": true,
         "type": "pie",
         "values": [
          717,
          54,
          50,
          40,
          40,
          40,
          34,
          28,
          23,
          23
         ]
        }
       ],
       "layout": {
        "legend": {
         "tracegroupgap": 0
        },
        "margin": {
         "t": 60
        },
        "template": {
         "data": {
          "bar": [
           {
            "error_x": {
             "color": "#2a3f5f"
            },
            "error_y": {
             "color": "#2a3f5f"
            },
            "marker": {
             "line": {
              "color": "#E5ECF6",
              "width": 0.5
             }
            },
            "type": "bar"
           }
          ],
          "barpolar": [
           {
            "marker": {
             "line": {
              "color": "#E5ECF6",
              "width": 0.5
             }
            },
            "type": "barpolar"
           }
          ],
          "carpet": [
           {
            "aaxis": {
             "endlinecolor": "#2a3f5f",
             "gridcolor": "white",
             "linecolor": "white",
             "minorgridcolor": "white",
             "startlinecolor": "#2a3f5f"
            },
            "baxis": {
             "endlinecolor": "#2a3f5f",
             "gridcolor": "white",
             "linecolor": "white",
             "minorgridcolor": "white",
             "startlinecolor": "#2a3f5f"
            },
            "type": "carpet"
           }
          ],
          "choropleth": [
           {
            "colorbar": {
             "outlinewidth": 0,
             "ticks": ""
            },
            "type": "choropleth"
           }
          ],
          "contour": [
           {
            "colorbar": {
             "outlinewidth": 0,
             "ticks": ""
            },
            "colorscale": [
             [
              0,
              "#0d0887"
             ],
             [
              0.1111111111111111,
              "#46039f"
             ],
             [
              0.2222222222222222,
              "#7201a8"
             ],
             [
              0.3333333333333333,
              "#9c179e"
             ],
             [
              0.4444444444444444,
              "#bd3786"
             ],
             [
              0.5555555555555556,
              "#d8576b"
             ],
             [
              0.6666666666666666,
              "#ed7953"
             ],
             [
              0.7777777777777778,
              "#fb9f3a"
             ],
             [
              0.8888888888888888,
              "#fdca26"
             ],
             [
              1,
              "#f0f921"
             ]
            ],
            "type": "contour"
           }
          ],
          "contourcarpet": [
           {
            "colorbar": {
             "outlinewidth": 0,
             "ticks": ""
            },
            "type": "contourcarpet"
           }
          ],
          "heatmap": [
           {
            "colorbar": {
             "outlinewidth": 0,
             "ticks": ""
            },
            "colorscale": [
             [
              0,
              "#0d0887"
             ],
             [
              0.1111111111111111,
              "#46039f"
             ],
             [
              0.2222222222222222,
              "#7201a8"
             ],
             [
              0.3333333333333333,
              "#9c179e"
             ],
             [
              0.4444444444444444,
              "#bd3786"
             ],
             [
              0.5555555555555556,
              "#d8576b"
             ],
             [
              0.6666666666666666,
              "#ed7953"
             ],
             [
              0.7777777777777778,
              "#fb9f3a"
             ],
             [
              0.8888888888888888,
              "#fdca26"
             ],
             [
              1,
              "#f0f921"
             ]
            ],
            "type": "heatmap"
           }
          ],
          "heatmapgl": [
           {
            "colorbar": {
             "outlinewidth": 0,
             "ticks": ""
            },
            "colorscale": [
             [
              0,
              "#0d0887"
             ],
             [
              0.1111111111111111,
              "#46039f"
             ],
             [
              0.2222222222222222,
              "#7201a8"
             ],
             [
              0.3333333333333333,
              "#9c179e"
             ],
             [
              0.4444444444444444,
              "#bd3786"
             ],
             [
              0.5555555555555556,
              "#d8576b"
             ],
             [
              0.6666666666666666,
              "#ed7953"
             ],
             [
              0.7777777777777778,
              "#fb9f3a"
             ],
             [
              0.8888888888888888,
              "#fdca26"
             ],
             [
              1,
              "#f0f921"
             ]
            ],
            "type": "heatmapgl"
           }
          ],
          "histogram": [
           {
            "marker": {
             "colorbar": {
              "outlinewidth": 0,
              "ticks": ""
             }
            },
            "type": "histogram"
           }
          ],
          "histogram2d": [
           {
            "colorbar": {
             "outlinewidth": 0,
             "ticks": ""
            },
            "colorscale": [
             [
              0,
              "#0d0887"
             ],
             [
              0.1111111111111111,
              "#46039f"
             ],
             [
              0.2222222222222222,
              "#7201a8"
             ],
             [
              0.3333333333333333,
              "#9c179e"
             ],
             [
              0.4444444444444444,
              "#bd3786"
             ],
             [
              0.5555555555555556,
              "#d8576b"
             ],
             [
              0.6666666666666666,
              "#ed7953"
             ],
             [
              0.7777777777777778,
              "#fb9f3a"
             ],
             [
              0.8888888888888888,
              "#fdca26"
             ],
             [
              1,
              "#f0f921"
             ]
            ],
            "type": "histogram2d"
           }
          ],
          "histogram2dcontour": [
           {
            "colorbar": {
             "outlinewidth": 0,
             "ticks": ""
            },
            "colorscale": [
             [
              0,
              "#0d0887"
             ],
             [
              0.1111111111111111,
              "#46039f"
             ],
             [
              0.2222222222222222,
              "#7201a8"
             ],
             [
              0.3333333333333333,
              "#9c179e"
             ],
             [
              0.4444444444444444,
              "#bd3786"
             ],
             [
              0.5555555555555556,
              "#d8576b"
             ],
             [
              0.6666666666666666,
              "#ed7953"
             ],
             [
              0.7777777777777778,
              "#fb9f3a"
             ],
             [
              0.8888888888888888,
              "#fdca26"
             ],
             [
              1,
              "#f0f921"
             ]
            ],
            "type": "histogram2dcontour"
           }
          ],
          "mesh3d": [
           {
            "colorbar": {
             "outlinewidth": 0,
             "ticks": ""
            },
            "type": "mesh3d"
           }
          ],
          "parcoords": [
           {
            "line": {
             "colorbar": {
              "outlinewidth": 0,
              "ticks": ""
             }
            },
            "type": "parcoords"
           }
          ],
          "pie": [
           {
            "automargin": true,
            "type": "pie"
           }
          ],
          "scatter": [
           {
            "marker": {
             "colorbar": {
              "outlinewidth": 0,
              "ticks": ""
             }
            },
            "type": "scatter"
           }
          ],
          "scatter3d": [
           {
            "line": {
             "colorbar": {
              "outlinewidth": 0,
              "ticks": ""
             }
            },
            "marker": {
             "colorbar": {
              "outlinewidth": 0,
              "ticks": ""
             }
            },
            "type": "scatter3d"
           }
          ],
          "scattercarpet": [
           {
            "marker": {
             "colorbar": {
              "outlinewidth": 0,
              "ticks": ""
             }
            },
            "type": "scattercarpet"
           }
          ],
          "scattergeo": [
           {
            "marker": {
             "colorbar": {
              "outlinewidth": 0,
              "ticks": ""
             }
            },
            "type": "scattergeo"
           }
          ],
          "scattergl": [
           {
            "marker": {
             "colorbar": {
              "outlinewidth": 0,
              "ticks": ""
             }
            },
            "type": "scattergl"
           }
          ],
          "scattermapbox": [
           {
            "marker": {
             "colorbar": {
              "outlinewidth": 0,
              "ticks": ""
             }
            },
            "type": "scattermapbox"
           }
          ],
          "scatterpolar": [
           {
            "marker": {
             "colorbar": {
              "outlinewidth": 0,
              "ticks": ""
             }
            },
            "type": "scatterpolar"
           }
          ],
          "scatterpolargl": [
           {
            "marker": {
             "colorbar": {
              "outlinewidth": 0,
              "ticks": ""
             }
            },
            "type": "scatterpolargl"
           }
          ],
          "scatterternary": [
           {
            "marker": {
             "colorbar": {
              "outlinewidth": 0,
              "ticks": ""
             }
            },
            "type": "scatterternary"
           }
          ],
          "surface": [
           {
            "colorbar": {
             "outlinewidth": 0,
             "ticks": ""
            },
            "colorscale": [
             [
              0,
              "#0d0887"
             ],
             [
              0.1111111111111111,
              "#46039f"
             ],
             [
              0.2222222222222222,
              "#7201a8"
             ],
             [
              0.3333333333333333,
              "#9c179e"
             ],
             [
              0.4444444444444444,
              "#bd3786"
             ],
             [
              0.5555555555555556,
              "#d8576b"
             ],
             [
              0.6666666666666666,
              "#ed7953"
             ],
             [
              0.7777777777777778,
              "#fb9f3a"
             ],
             [
              0.8888888888888888,
              "#fdca26"
             ],
             [
              1,
              "#f0f921"
             ]
            ],
            "type": "surface"
           }
          ],
          "table": [
           {
            "cells": {
             "fill": {
              "color": "#EBF0F8"
             },
             "line": {
              "color": "white"
             }
            },
            "header": {
             "fill": {
              "color": "#C8D4E3"
             },
             "line": {
              "color": "white"
             }
            },
            "type": "table"
           }
          ]
         },
         "layout": {
          "annotationdefaults": {
           "arrowcolor": "#2a3f5f",
           "arrowhead": 0,
           "arrowwidth": 1
          },
          "autotypenumbers": "strict",
          "coloraxis": {
           "colorbar": {
            "outlinewidth": 0,
            "ticks": ""
           }
          },
          "colorscale": {
           "diverging": [
            [
             0,
             "#8e0152"
            ],
            [
             0.1,
             "#c51b7d"
            ],
            [
             0.2,
             "#de77ae"
            ],
            [
             0.3,
             "#f1b6da"
            ],
            [
             0.4,
             "#fde0ef"
            ],
            [
             0.5,
             "#f7f7f7"
            ],
            [
             0.6,
             "#e6f5d0"
            ],
            [
             0.7,
             "#b8e186"
            ],
            [
             0.8,
             "#7fbc41"
            ],
            [
             0.9,
             "#4d9221"
            ],
            [
             1,
             "#276419"
            ]
           ],
           "sequential": [
            [
             0,
             "#0d0887"
            ],
            [
             0.1111111111111111,
             "#46039f"
            ],
            [
             0.2222222222222222,
             "#7201a8"
            ],
            [
             0.3333333333333333,
             "#9c179e"
            ],
            [
             0.4444444444444444,
             "#bd3786"
            ],
            [
             0.5555555555555556,
             "#d8576b"
            ],
            [
             0.6666666666666666,
             "#ed7953"
            ],
            [
             0.7777777777777778,
             "#fb9f3a"
            ],
            [
             0.8888888888888888,
             "#fdca26"
            ],
            [
             1,
             "#f0f921"
            ]
           ],
           "sequentialminus": [
            [
             0,
             "#0d0887"
            ],
            [
             0.1111111111111111,
             "#46039f"
            ],
            [
             0.2222222222222222,
             "#7201a8"
            ],
            [
             0.3333333333333333,
             "#9c179e"
            ],
            [
             0.4444444444444444,
             "#bd3786"
            ],
            [
             0.5555555555555556,
             "#d8576b"
            ],
            [
             0.6666666666666666,
             "#ed7953"
            ],
            [
             0.7777777777777778,
             "#fb9f3a"
            ],
            [
             0.8888888888888888,
             "#fdca26"
            ],
            [
             1,
             "#f0f921"
            ]
           ]
          },
          "colorway": [
           "#636efa",
           "#EF553B",
           "#00cc96",
           "#ab63fa",
           "#FFA15A",
           "#19d3f3",
           "#FF6692",
           "#B6E880",
           "#FF97FF",
           "#FECB52"
          ],
          "font": {
           "color": "#2a3f5f"
          },
          "geo": {
           "bgcolor": "white",
           "lakecolor": "white",
           "landcolor": "#E5ECF6",
           "showlakes": true,
           "showland": true,
           "subunitcolor": "white"
          },
          "hoverlabel": {
           "align": "left"
          },
          "hovermode": "closest",
          "mapbox": {
           "style": "light"
          },
          "paper_bgcolor": "white",
          "plot_bgcolor": "#E5ECF6",
          "polar": {
           "angularaxis": {
            "gridcolor": "white",
            "linecolor": "white",
            "ticks": ""
           },
           "bgcolor": "#E5ECF6",
           "radialaxis": {
            "gridcolor": "white",
            "linecolor": "white",
            "ticks": ""
           }
          },
          "scene": {
           "xaxis": {
            "backgroundcolor": "#E5ECF6",
            "gridcolor": "white",
            "gridwidth": 2,
            "linecolor": "white",
            "showbackground": true,
            "ticks": "",
            "zerolinecolor": "white"
           },
           "yaxis": {
            "backgroundcolor": "#E5ECF6",
            "gridcolor": "white",
            "gridwidth": 2,
            "linecolor": "white",
            "showbackground": true,
            "ticks": "",
            "zerolinecolor": "white"
           },
           "zaxis": {
            "backgroundcolor": "#E5ECF6",
            "gridcolor": "white",
            "gridwidth": 2,
            "linecolor": "white",
            "showbackground": true,
            "ticks": "",
            "zerolinecolor": "white"
           }
          },
          "shapedefaults": {
           "line": {
            "color": "#2a3f5f"
           }
          },
          "ternary": {
           "aaxis": {
            "gridcolor": "white",
            "linecolor": "white",
            "ticks": ""
           },
           "baxis": {
            "gridcolor": "white",
            "linecolor": "white",
            "ticks": ""
           },
           "bgcolor": "#E5ECF6",
           "caxis": {
            "gridcolor": "white",
            "linecolor": "white",
            "ticks": ""
           }
          },
          "title": {
           "x": 0.05
          },
          "xaxis": {
           "automargin": true,
           "gridcolor": "white",
           "linecolor": "white",
           "ticks": "",
           "title": {
            "standoff": 15
           },
           "zerolinecolor": "white",
           "zerolinewidth": 2
          },
          "yaxis": {
           "automargin": true,
           "gridcolor": "white",
           "linecolor": "white",
           "ticks": "",
           "title": {
            "standoff": 15
           },
           "zerolinecolor": "white",
           "zerolinewidth": 2
          }
         }
        }
       }
      },
      "text/html": [
       "<div>                            <div id=\"8a759599-8d02-4ff4-86c9-a917a2c4fe16\" class=\"plotly-graph-div\" style=\"height:525px; width:100%;\"></div>            <script type=\"text/javascript\">                require([\"plotly\"], function(Plotly) {                    window.PLOTLYENV=window.PLOTLYENV || {};                                    if (document.getElementById(\"8a759599-8d02-4ff4-86c9-a917a2c4fe16\")) {                    Plotly.newPlot(                        \"8a759599-8d02-4ff4-86c9-a917a2c4fe16\",                        [{\"domain\": {\"x\": [0.0, 1.0], \"y\": [0.0, 1.0]}, \"hovertemplate\": \"aspect=%{label}<br>count=%{value}<extra></extra>\", \"labels\": [\"Other\", \"price\", \"screen\", \"program\", \"keyboard\", \"battery\", \"use\", \"feature\", \"warranty\", \"software\"], \"legendgroup\": \"\", \"name\": \"\", \"showlegend\": true, \"type\": \"pie\", \"values\": [717, 54, 50, 40, 40, 40, 34, 28, 23, 23]}],                        {\"legend\": {\"tracegroupgap\": 0}, \"margin\": {\"t\": 60}, \"template\": {\"data\": {\"bar\": [{\"error_x\": {\"color\": \"#2a3f5f\"}, \"error_y\": {\"color\": \"#2a3f5f\"}, \"marker\": {\"line\": {\"color\": \"#E5ECF6\", \"width\": 0.5}}, \"type\": \"bar\"}], \"barpolar\": [{\"marker\": {\"line\": {\"color\": \"#E5ECF6\", \"width\": 0.5}}, \"type\": \"barpolar\"}], \"carpet\": [{\"aaxis\": {\"endlinecolor\": \"#2a3f5f\", \"gridcolor\": \"white\", \"linecolor\": \"white\", \"minorgridcolor\": \"white\", \"startlinecolor\": \"#2a3f5f\"}, \"baxis\": {\"endlinecolor\": \"#2a3f5f\", \"gridcolor\": \"white\", \"linecolor\": \"white\", \"minorgridcolor\": \"white\", \"startlinecolor\": \"#2a3f5f\"}, \"type\": \"carpet\"}], \"choropleth\": [{\"colorbar\": {\"outlinewidth\": 0, \"ticks\": \"\"}, \"type\": \"choropleth\"}], \"contour\": [{\"colorbar\": {\"outlinewidth\": 0, \"ticks\": \"\"}, \"colorscale\": [[0.0, \"#0d0887\"], [0.1111111111111111, \"#46039f\"], [0.2222222222222222, \"#7201a8\"], [0.3333333333333333, \"#9c179e\"], [0.4444444444444444, \"#bd3786\"], [0.5555555555555556, \"#d8576b\"], [0.6666666666666666, \"#ed7953\"], [0.7777777777777778, \"#fb9f3a\"], [0.8888888888888888, \"#fdca26\"], [1.0, \"#f0f921\"]], \"type\": \"contour\"}], \"contourcarpet\": [{\"colorbar\": {\"outlinewidth\": 0, \"ticks\": \"\"}, \"type\": \"contourcarpet\"}], \"heatmap\": [{\"colorbar\": {\"outlinewidth\": 0, \"ticks\": \"\"}, \"colorscale\": [[0.0, \"#0d0887\"], [0.1111111111111111, \"#46039f\"], [0.2222222222222222, \"#7201a8\"], [0.3333333333333333, \"#9c179e\"], [0.4444444444444444, \"#bd3786\"], [0.5555555555555556, \"#d8576b\"], [0.6666666666666666, \"#ed7953\"], [0.7777777777777778, \"#fb9f3a\"], [0.8888888888888888, \"#fdca26\"], [1.0, \"#f0f921\"]], \"type\": \"heatmap\"}], \"heatmapgl\": [{\"colorbar\": {\"outlinewidth\": 0, \"ticks\": \"\"}, \"colorscale\": [[0.0, \"#0d0887\"], [0.1111111111111111, \"#46039f\"], [0.2222222222222222, \"#7201a8\"], [0.3333333333333333, \"#9c179e\"], [0.4444444444444444, \"#bd3786\"], [0.5555555555555556, \"#d8576b\"], [0.6666666666666666, \"#ed7953\"], [0.7777777777777778, \"#fb9f3a\"], [0.8888888888888888, \"#fdca26\"], [1.0, \"#f0f921\"]], \"type\": \"heatmapgl\"}], \"histogram\": [{\"marker\": {\"colorbar\": {\"outlinewidth\": 0, \"ticks\": \"\"}}, \"type\": \"histogram\"}], \"histogram2d\": [{\"colorbar\": {\"outlinewidth\": 0, \"ticks\": \"\"}, \"colorscale\": [[0.0, \"#0d0887\"], [0.1111111111111111, \"#46039f\"], [0.2222222222222222, \"#7201a8\"], [0.3333333333333333, \"#9c179e\"], [0.4444444444444444, \"#bd3786\"], [0.5555555555555556, \"#d8576b\"], [0.6666666666666666, \"#ed7953\"], [0.7777777777777778, \"#fb9f3a\"], [0.8888888888888888, \"#fdca26\"], [1.0, \"#f0f921\"]], \"type\": \"histogram2d\"}], \"histogram2dcontour\": [{\"colorbar\": {\"outlinewidth\": 0, \"ticks\": \"\"}, \"colorscale\": [[0.0, \"#0d0887\"], [0.1111111111111111, \"#46039f\"], [0.2222222222222222, \"#7201a8\"], [0.3333333333333333, \"#9c179e\"], [0.4444444444444444, \"#bd3786\"], [0.5555555555555556, \"#d8576b\"], [0.6666666666666666, \"#ed7953\"], [0.7777777777777778, \"#fb9f3a\"], [0.8888888888888888, \"#fdca26\"], [1.0, \"#f0f921\"]], \"type\": \"histogram2dcontour\"}], \"mesh3d\": [{\"colorbar\": {\"outlinewidth\": 0, \"ticks\": \"\"}, \"type\": \"mesh3d\"}], \"parcoords\": [{\"line\": {\"colorbar\": {\"outlinewidth\": 0, \"ticks\": \"\"}}, \"type\": \"parcoords\"}], \"pie\": [{\"automargin\": true, \"type\": \"pie\"}], \"scatter\": [{\"marker\": {\"colorbar\": {\"outlinewidth\": 0, \"ticks\": \"\"}}, \"type\": \"scatter\"}], \"scatter3d\": [{\"line\": {\"colorbar\": {\"outlinewidth\": 0, \"ticks\": \"\"}}, \"marker\": {\"colorbar\": {\"outlinewidth\": 0, \"ticks\": \"\"}}, \"type\": \"scatter3d\"}], \"scattercarpet\": [{\"marker\": {\"colorbar\": {\"outlinewidth\": 0, \"ticks\": \"\"}}, \"type\": \"scattercarpet\"}], \"scattergeo\": [{\"marker\": {\"colorbar\": {\"outlinewidth\": 0, \"ticks\": \"\"}}, \"type\": \"scattergeo\"}], \"scattergl\": [{\"marker\": {\"colorbar\": {\"outlinewidth\": 0, \"ticks\": \"\"}}, \"type\": \"scattergl\"}], \"scattermapbox\": [{\"marker\": {\"colorbar\": {\"outlinewidth\": 0, \"ticks\": \"\"}}, \"type\": \"scattermapbox\"}], \"scatterpolar\": [{\"marker\": {\"colorbar\": {\"outlinewidth\": 0, \"ticks\": \"\"}}, \"type\": \"scatterpolar\"}], \"scatterpolargl\": [{\"marker\": {\"colorbar\": {\"outlinewidth\": 0, \"ticks\": \"\"}}, \"type\": \"scatterpolargl\"}], \"scatterternary\": [{\"marker\": {\"colorbar\": {\"outlinewidth\": 0, \"ticks\": \"\"}}, \"type\": \"scatterternary\"}], \"surface\": [{\"colorbar\": {\"outlinewidth\": 0, \"ticks\": \"\"}, \"colorscale\": [[0.0, \"#0d0887\"], [0.1111111111111111, \"#46039f\"], [0.2222222222222222, \"#7201a8\"], [0.3333333333333333, \"#9c179e\"], [0.4444444444444444, \"#bd3786\"], [0.5555555555555556, \"#d8576b\"], [0.6666666666666666, \"#ed7953\"], [0.7777777777777778, \"#fb9f3a\"], [0.8888888888888888, \"#fdca26\"], [1.0, \"#f0f921\"]], \"type\": \"surface\"}], \"table\": [{\"cells\": {\"fill\": {\"color\": \"#EBF0F8\"}, \"line\": {\"color\": \"white\"}}, \"header\": {\"fill\": {\"color\": \"#C8D4E3\"}, \"line\": {\"color\": \"white\"}}, \"type\": \"table\"}]}, \"layout\": {\"annotationdefaults\": {\"arrowcolor\": \"#2a3f5f\", \"arrowhead\": 0, \"arrowwidth\": 1}, \"autotypenumbers\": \"strict\", \"coloraxis\": {\"colorbar\": {\"outlinewidth\": 0, \"ticks\": \"\"}}, \"colorscale\": {\"diverging\": [[0, \"#8e0152\"], [0.1, \"#c51b7d\"], [0.2, \"#de77ae\"], [0.3, \"#f1b6da\"], [0.4, \"#fde0ef\"], [0.5, \"#f7f7f7\"], [0.6, \"#e6f5d0\"], [0.7, \"#b8e186\"], [0.8, \"#7fbc41\"], [0.9, \"#4d9221\"], [1, \"#276419\"]], \"sequential\": [[0.0, \"#0d0887\"], [0.1111111111111111, \"#46039f\"], [0.2222222222222222, \"#7201a8\"], [0.3333333333333333, \"#9c179e\"], [0.4444444444444444, \"#bd3786\"], [0.5555555555555556, \"#d8576b\"], [0.6666666666666666, \"#ed7953\"], [0.7777777777777778, \"#fb9f3a\"], [0.8888888888888888, \"#fdca26\"], [1.0, \"#f0f921\"]], \"sequentialminus\": [[0.0, \"#0d0887\"], [0.1111111111111111, \"#46039f\"], [0.2222222222222222, \"#7201a8\"], [0.3333333333333333, \"#9c179e\"], [0.4444444444444444, \"#bd3786\"], [0.5555555555555556, \"#d8576b\"], [0.6666666666666666, \"#ed7953\"], [0.7777777777777778, \"#fb9f3a\"], [0.8888888888888888, \"#fdca26\"], [1.0, \"#f0f921\"]]}, \"colorway\": [\"#636efa\", \"#EF553B\", \"#00cc96\", \"#ab63fa\", \"#FFA15A\", \"#19d3f3\", \"#FF6692\", \"#B6E880\", \"#FF97FF\", \"#FECB52\"], \"font\": {\"color\": \"#2a3f5f\"}, \"geo\": {\"bgcolor\": \"white\", \"lakecolor\": \"white\", \"landcolor\": \"#E5ECF6\", \"showlakes\": true, \"showland\": true, \"subunitcolor\": \"white\"}, \"hoverlabel\": {\"align\": \"left\"}, \"hovermode\": \"closest\", \"mapbox\": {\"style\": \"light\"}, \"paper_bgcolor\": \"white\", \"plot_bgcolor\": \"#E5ECF6\", \"polar\": {\"angularaxis\": {\"gridcolor\": \"white\", \"linecolor\": \"white\", \"ticks\": \"\"}, \"bgcolor\": \"#E5ECF6\", \"radialaxis\": {\"gridcolor\": \"white\", \"linecolor\": \"white\", \"ticks\": \"\"}}, \"scene\": {\"xaxis\": {\"backgroundcolor\": \"#E5ECF6\", \"gridcolor\": \"white\", \"gridwidth\": 2, \"linecolor\": \"white\", \"showbackground\": true, \"ticks\": \"\", \"zerolinecolor\": \"white\"}, \"yaxis\": {\"backgroundcolor\": \"#E5ECF6\", \"gridcolor\": \"white\", \"gridwidth\": 2, \"linecolor\": \"white\", \"showbackground\": true, \"ticks\": \"\", \"zerolinecolor\": \"white\"}, \"zaxis\": {\"backgroundcolor\": \"#E5ECF6\", \"gridcolor\": \"white\", \"gridwidth\": 2, \"linecolor\": \"white\", \"showbackground\": true, \"ticks\": \"\", \"zerolinecolor\": \"white\"}}, \"shapedefaults\": {\"line\": {\"color\": \"#2a3f5f\"}}, \"ternary\": {\"aaxis\": {\"gridcolor\": \"white\", \"linecolor\": \"white\", \"ticks\": \"\"}, \"baxis\": {\"gridcolor\": \"white\", \"linecolor\": \"white\", \"ticks\": \"\"}, \"bgcolor\": \"#E5ECF6\", \"caxis\": {\"gridcolor\": \"white\", \"linecolor\": \"white\", \"ticks\": \"\"}}, \"title\": {\"x\": 0.05}, \"xaxis\": {\"automargin\": true, \"gridcolor\": \"white\", \"linecolor\": \"white\", \"ticks\": \"\", \"title\": {\"standoff\": 15}, \"zerolinecolor\": \"white\", \"zerolinewidth\": 2}, \"yaxis\": {\"automargin\": true, \"gridcolor\": \"white\", \"linecolor\": \"white\", \"ticks\": \"\", \"title\": {\"standoff\": 15}, \"zerolinecolor\": \"white\", \"zerolinewidth\": 2}}}},                        {\"responsive\": true}                    ).then(function(){\n",
       "                            \n",
       "var gd = document.getElementById('8a759599-8d02-4ff4-86c9-a917a2c4fe16');\n",
       "var x = new MutationObserver(function (mutations, observer) {{\n",
       "        var display = window.getComputedStyle(gd).display;\n",
       "        if (!display || display === 'none') {{\n",
       "            console.log([gd, 'removed!']);\n",
       "            Plotly.purge(gd);\n",
       "            observer.disconnect();\n",
       "        }}\n",
       "}});\n",
       "\n",
       "// Listen for the removal of the full notebook cells\n",
       "var notebookContainer = gd.closest('#notebook-container');\n",
       "if (notebookContainer) {{\n",
       "    x.observe(notebookContainer, {childList: true});\n",
       "}}\n",
       "\n",
       "// Listen for the clearing of the current output cell\n",
       "var outputEl = gd.closest('.output');\n",
       "if (outputEl) {{\n",
       "    x.observe(outputEl, {childList: true});\n",
       "}}\n",
       "\n",
       "                        })                };                });            </script>        </div>"
      ]
     },
     "metadata": {},
     "output_type": "display_data"
    },
    {
     "data": {
      "text/plain": [
       "count    230.000000\n",
       "mean       4.560870\n",
       "std        7.878069\n",
       "min        1.000000\n",
       "50%        2.000000\n",
       "90%       10.100000\n",
       "92.5%     13.825000\n",
       "95%       19.100000\n",
       "97.5%     29.650000\n",
       "max       54.000000\n",
       "dtype: float64"
      ]
     },
     "execution_count": 325,
     "metadata": {},
     "output_type": "execute_result"
    }
   ],
   "source": [
    "aspect_dist(\"lap\", lemmas=True)"
   ]
  },
  {
   "cell_type": "code",
   "execution_count": 9,
   "metadata": {
    "id": "8xk9YDq6yFb1"
   },
   "outputs": [],
   "source": [
    "P1 = \"So, the <mask> is the interesting aspect.\"\n",
    "\n",
    "P2 = \"So, the interesting aspect is <mask>.\"\n",
    "\n",
    "P3 = \"So, the <mask> are the interesting aspect.\"\n",
    "\n",
    "P4 = \"So, this is my opinion on <mask>.\"\n",
    "\n",
    "P5 = \"So, my review focuses on the <mask>.\""
   ]
  },
  {
   "cell_type": "code",
   "execution_count": 10,
   "metadata": {
    "id": "kwVo8tmCZUUP"
   },
   "outputs": [],
   "source": [
    "def get_fm_pipeline(model, device=3):\n",
    "    if model in models_dict:\n",
    "        fm_model = models_dict[model]\n",
    "    else:\n",
    "        print(f\"\\nLoading {model} fill-mask pipeline...\\n\")\n",
    "        stdout.flush()\n",
    "        fm_model = pipeline('fill-mask', model=model, framework=\"pt\", device=device)\n",
    "        models_dict[model] = fm_model\n",
    "    return fm_model\n",
    "\n",
    "def run_example(text, tokens, model, pattern, top_k=10, thresh=-1, target=True, device=3):\n",
    "    hparams = locals()\n",
    "    hparams.pop('text')\n",
    "    hparams.pop('tokens')\n",
    "\n",
    "    delim = ' ' if text[-1] in ('.', '!', '?') else '. '\n",
    "    \n",
    "    fm_pipeline = get_fm_pipeline(model)\n",
    "    pattern = pattern.replace('<mask>', f\"{fm_pipeline.tokenizer.mask_token}\")\n",
    "    preds_meta = fm_pipeline(delim.join([text, pattern]), top_k=top_k,\n",
    "                         target=tokens if target else None)\n",
    "    preds, valid_preds, valid_idx = [], [], set()\n",
    "\n",
    "    for pred in preds_meta:\n",
    "        pred_token, score = pred['token_str'].lstrip(), pred['score']\n",
    "        preds.append(pred_token)\n",
    "\n",
    "        if score > thresh:\n",
    "            try:\n",
    "                idx = tokens.index(pred_token)\n",
    "                valid_idx.add(idx)\n",
    "                valid_preds.append((pred_token, f\"{score:.3f}\"))\n",
    "            except ValueError:\n",
    "                pass\n",
    "\n",
    "    pred_bio = ['B-ASP' if i in valid_idx else 'O' for i in range(len(tokens))]\n",
    "    return preds, valid_preds, pred_bio, preds_meta, hparams\n",
    "\n",
    "def run_ds_examples(ds, model, **kwargs):\n",
    "    print(f\"Pattern: {kwargs['pattern']}\\n\")\n",
    "    for i, (text, tokens, gold_bio, aspects) in tqdm(enumerate(ds)):\n",
    "        preds, valid_preds, pred_bio, _, _ = run_example(model=model, text=text, tokens=tokens, **kwargs)\n",
    "        print(i, text)\n",
    "        print(tokens)\n",
    "        print(f'gold: {aspects}\\ngold_bio: {gold_bio}\\nvalid_preds: {valid_preds}\\npreds: {preds}\\npred_bio: {pred_bio}\\n')\n",
    "    \n",
    "def eval_domain(domain, limit=None, **kwargs):\n",
    "    all_preds_bio, all_preds, all_preds_meta, all_gold_bio = [], [], [], []\n",
    "    for text, tokens, gold_bio, aspects in domain_ds[domain][:limit]:\n",
    "        preds, _, pred_bio, preds_meta, hparams = run_example(text=text, tokens=tokens, **kwargs)\n",
    "        all_preds.append(preds)\n",
    "        all_preds_bio.append(pred_bio)\n",
    "        all_preds_meta.append(preds_meta)\n",
    "        all_gold_bio.append(gold_bio)\n",
    "\n",
    "    with open(f'{domain}.pkl', 'wb') as f:\n",
    "        pickle.dump((all_preds, all_preds_meta), f)\n",
    "\n",
    "    return {'metrics': metrics(all_gold_bio, all_preds_bio, domain, **kwargs), 'hparams': hparams}\n",
    "\n",
    "def metrics(gold, preds, domain, verbose=False, **kwargs):\n",
    "    F, P, R, conf = (f(gold, preds) for f in (f1_score, precision_score,\\\n",
    "                     recall_score, performance_measure))\n",
    "    if verbose:\n",
    "        print(f'{domain}')\n",
    "        print(f'F1: {F:.3f}, P: {P:.3f}, R: {R:.3f}, {conf}')\n",
    "    return {'F1': F, 'Precision': P, 'Recall': R}\n",
    "\n",
    "def post_process(domain, limit=None, thresh=-1, **kwargs):\n",
    "    with open(f'{domain}.pkl', 'rb') as f:\n",
    "        _, all_preds_meta = pickle.load(f)\n",
    "\n",
    "    nlp = spacy.load(\"en_core_web_sm\", \\\n",
    "                     disable=[\"parser\", \"ner\", \"entity_linker\", \"textcat\",\n",
    "                              \"entity_ruler\", \"sentencizer\",\n",
    "                              \"merge_noun_chunks\", \"merge_entities\",\n",
    "                              \"merge_subtokens\"])\n",
    "    \n",
    "    # TODO: lemmatize sentences, not token lists\n",
    "\n",
    "    all_preds_bio, all_gold_bio = [], []\n",
    "    for (text, tokens, gold_bio, aspects), preds_meta in \\\n",
    "        zip(domain_ds[domain][:limit], all_preds_meta[:limit]):\n",
    "\n",
    "        pred_lems, valid_preds, token_lems = [], [], []\n",
    "        for t in tokens:\n",
    "            toks = list(nlp(t))\n",
    "            token_lems.append(toks[0].lemma_ if toks else [''])\n",
    "\n",
    "        valid_idx = set()\n",
    "        for pred in preds_meta:\n",
    "            pred_token = pred['token_str'].lstrip() #'Ġ'\n",
    "            score = pred['score']\n",
    "            if score > thresh:\n",
    "                pred_as_tokens = list(nlp(pred_token))\n",
    "                if pred_as_tokens:\n",
    "                    pred_lem = pred_as_tokens[0].lemma_\n",
    "                    try:\n",
    "                        valid_idx.add(token_lems.index(pred_lem))\n",
    "                    except ValueError:\n",
    "                        pass\n",
    "        pred_bio = ['B-ASP' if i in valid_idx else 'O' for i in range(len(tokens))]\n",
    "        all_preds_bio.append(pred_bio)\n",
    "        all_gold_bio.append(gold_bio)\n",
    "    return {'metrics': metrics(all_gold_bio, all_preds_bio, domain)}"
   ]
  },
  {
   "cell_type": "code",
   "execution_count": 13,
   "metadata": {
    "colab": {
     "base_uri": "https://localhost:8080/"
    },
    "id": "vW9teBjiYIwi",
    "outputId": "59df4a52-6b1f-429f-aedb-ba24d3d7e3b8"
   },
   "outputs": [
    {
     "name": "stdout",
     "output_type": "stream",
     "text": [
      "Pattern: So, my review focuses on the <mask>.\n",
      "\n",
      "  0%|          | 0/100 [00:00<?, ?it/s]\n",
      "Loading checkpoint-1000 fill-mask pipeline...\n",
      "\n",
      "0 But the staff was so horrible to us.\n",
      "['But', 'the', 'staff', 'was', 'so', 'horrible', 'to', 'us', '.']\n",
      "gold: ['staff']\n",
      "gold_bio: ['O', 'O', 'B-ASP', 'O', 'O', 'O', 'O', 'O', 'O']\n",
      "valid_preds: [('staff', '0.007')]\n",
      "preds: ['food', 'prices', 'price', 'service', 'staff', 'place', 'sushi', 'drinks', 'location', 'menu']\n",
      "pred_bio: ['O', 'O', 'B-ASP', 'O', 'O', 'O', 'O', 'O', 'O']\n",
      "\n",
      "  1%|          | 1/100 [00:05<08:22,  5.07s/it]1 To be completely fair, the only redeeming factor was the food, which was above average, but couldn't make up for all the other deficiencies of Teodora.\n",
      "['To', 'be', 'completely', 'fair', ',', 'the', 'only', 'redeeming', 'factor', 'was', 'the', 'food', ',', 'which', 'was', 'above', 'average', ',', 'but', 'could', \"n't\", 'make', 'up', 'for', 'all', 'the', 'other', 'deficiencies', 'of', 'Teodora', '.']\n",
      "gold: ['food']\n",
      "gold_bio: ['O', 'O', 'O', 'O', 'O', 'O', 'O', 'O', 'O', 'O', 'O', 'B-ASP', 'O', 'O', 'O', 'O', 'O', 'O', 'O', 'O', 'O', 'O', 'O', 'O', 'O', 'O', 'O', 'O', 'O', 'O', 'O']\n",
      "valid_preds: [('food', '0.265')]\n",
      "preds: ['food', 'prices', 'price', 'service', 'place', 'location', 'staff', 'drinks', 'menu', 'sushi']\n",
      "pred_bio: ['O', 'O', 'O', 'O', 'O', 'O', 'O', 'O', 'O', 'O', 'O', 'B-ASP', 'O', 'O', 'O', 'O', 'O', 'O', 'O', 'O', 'O', 'O', 'O', 'O', 'O', 'O', 'O', 'O', 'O', 'O', 'O']\n",
      "\n",
      "2 The food is uniformly exceptional, with a very capable kitchen which will proudly whip up whatever you feel like eating, whether it's on the menu or not.\n",
      "['The', 'food', 'is', 'uniformly', 'exceptional', ',', 'with', 'a', 'very', 'capable', 'kitchen', 'which', 'will', 'proudly', 'whip', 'up', 'whatever', 'you', 'feel', 'like', 'eating', ',', 'whether', 'it', \"'s\", 'on', 'the', 'menu', 'or', 'not', '.']\n",
      "gold: ['food', 'kitchen', 'menu']\n",
      "gold_bio: ['O', 'B-ASP', 'O', 'O', 'O', 'O', 'O', 'O', 'O', 'O', 'B-ASP', 'O', 'O', 'O', 'O', 'O', 'O', 'O', 'O', 'O', 'O', 'O', 'O', 'O', 'O', 'O', 'O', 'B-ASP', 'O', 'O', 'O']\n",
      "valid_preds: [('food', '0.369'), ('menu', '0.009')]\n",
      "preds: ['food', 'prices', 'price', 'service', 'place', 'selection', 'staff', 'location', 'fish', 'menu']\n",
      "pred_bio: ['O', 'B-ASP', 'O', 'O', 'O', 'O', 'O', 'O', 'O', 'O', 'O', 'O', 'O', 'O', 'O', 'O', 'O', 'O', 'O', 'O', 'O', 'O', 'O', 'O', 'O', 'O', 'O', 'B-ASP', 'O', 'O', 'O']\n",
      "\n",
      "3 Where Gabriela personaly greets you and recommends you what to eat.\n",
      "['Where', 'Gabriela', 'personaly', 'greets', 'you', 'and', 'recommends', 'you', 'what', 'to', 'eat', '.']\n",
      "gold: []\n",
      "gold_bio: ['O', 'O', 'O', 'O', 'O', 'O', 'O', 'O', 'O', 'O', 'O', 'O']\n",
      "valid_preds: []\n",
      "preds: ['food', 'prices', 'price', 'service', 'place', 'menu', 'location', 'staff', 'sushi', 'atmosphere']\n",
      "pred_bio: ['O', 'O', 'O', 'O', 'O', 'O', 'O', 'O', 'O', 'O', 'O', 'O']\n",
      "\n",
      "4 For those that go once and don't enjoy it, all I can say is that they just don't get it.\n",
      "['For', 'those', 'that', 'go', 'once', 'and', 'do', \"n't\", 'enjoy', 'it', ',', 'all', 'I', 'can', 'say', 'is', 'that', 'they', 'just', 'do', \"n't\", 'get', 'it', '.']\n",
      "gold: []\n",
      "gold_bio: ['O', 'O', 'O', 'O', 'O', 'O', 'O', 'O', 'O', 'O', 'O', 'O', 'O', 'O', 'O', 'O', 'O', 'O', 'O', 'O', 'O', 'O', 'O', 'O']\n",
      "valid_preds: []\n",
      "preds: ['food', 'prices', 'price', 'service', 'place', 'menu', 'staff', 'drinks', 'sushi', 'atmosphere']\n",
      "pred_bio: ['O', 'O', 'O', 'O', 'O', 'O', 'O', 'O', 'O', 'O', 'O', 'O', 'O', 'O', 'O', 'O', 'O', 'O', 'O', 'O', 'O', 'O', 'O', 'O']\n",
      "\n",
      "5 Not only was the food outstanding, but the little 'perks' were great.\n",
      "['Not', 'only', 'was', 'the', 'food', 'outstanding', ',', 'but', 'the', 'little', \"'\", 'perks', \"'\", 'were', 'great', '.']\n",
      "gold: ['food', 'perks']\n",
      "gold_bio: ['O', 'O', 'O', 'O', 'B-ASP', 'O', 'O', 'O', 'O', 'O', 'O', 'B-ASP', 'O', 'O', 'O', 'O']\n",
      "valid_preds: [('food', '0.586')]\n",
      "preds: ['food', 'price', 'prices', 'service', 'place', 'menu', 'location', 'fish', 'dishes', 'sushi']\n",
      "pred_bio: ['O', 'O', 'O', 'O', 'B-ASP', 'O', 'O', 'O', 'O', 'O', 'O', 'O', 'O', 'O', 'O', 'O']\n",
      "\n",
      "6 It is very overpriced and not very tasty.\n",
      "['It', 'is', 'very', 'overpriced', 'and', 'not', 'very', 'tasty', '.']\n",
      "gold: []\n",
      "gold_bio: ['O', 'O', 'O', 'O', 'O', 'O', 'O', 'O', 'O']\n",
      "valid_preds: []\n",
      "preds: ['food', 'price', 'prices', 'service', 'sushi', 'menu', 'staff', 'place', 'pizza', 'bread']\n",
      "pred_bio: ['O', 'O', 'O', 'O', 'O', 'O', 'O', 'O', 'O']\n",
      "\n",
      "  7%|▋         | 7/100 [00:05<05:30,  3.56s/it]7 The Bagels have an outstanding taste with a terrific texture, both chewy yet not gummy.\n",
      "['The', 'Bagels', 'have', 'an', 'outstanding', 'taste', 'with', 'a', 'terrific', 'texture', ',', 'both', 'chewy', 'yet', 'not', 'gummy', '.']\n",
      "gold: ['Bagels']\n",
      "gold_bio: ['O', 'B-ASP', 'O', 'O', 'O', 'O', 'O', 'O', 'O', 'O', 'O', 'O', 'O', 'O', 'O', 'O', 'O']\n",
      "valid_preds: [('taste', '0.016')]\n",
      "preds: ['food', 'price', 'prices', 'bread', 'cheese', 'ingredients', 'service', 'taste', 'presentation', 'selection']\n",
      "pred_bio: ['O', 'O', 'O', 'O', 'O', 'B-ASP', 'O', 'O', 'O', 'O', 'O', 'O', 'O', 'O', 'O', 'O', 'O']\n",
      "\n",
      "8 Nevertheless the food itself is pretty good.\n",
      "['Nevertheless', 'the', 'food', 'itself', 'is', 'pretty', 'good', '.']\n",
      "gold: ['food']\n",
      "gold_bio: ['O', 'O', 'B-ASP', 'O', 'O', 'O', 'O', 'O']\n",
      "valid_preds: [('food', '0.277')]\n",
      "preds: ['food', 'price', 'prices', 'service', 'place', 'location', 'portions', 'menu', 'sushi', 'fish']\n",
      "pred_bio: ['O', 'O', 'B-ASP', 'O', 'O', 'O', 'O', 'O']\n",
      "\n",
      "9 i've noticed megadeth, mr. scruff, st. germain, traditional vietnamese songs, black sabbath, jay-z, and daft punk all being played.\n",
      "['i', \"'ve\", 'noticed', 'megadeth', ',', 'mr.', 'scruff', ',', 'st.', 'germain', ',', 'traditional', 'vietnamese', 'songs', ',', 'black', 'sabbath', ',', 'jay-z', ',', 'and', 'daft', 'punk', 'all', 'being', 'played', '.']\n",
      "gold: ['songs']\n",
      "gold_bio: ['O', 'O', 'O', 'O', 'O', 'O', 'O', 'O', 'O', 'O', 'O', 'O', 'O', 'B-ASP', 'O', 'O', 'O', 'O', 'O', 'O', 'O', 'O', 'O', 'O', 'O', 'O', 'O']\n",
      "valid_preds: [('songs', '0.008')]\n",
      "preds: ['music', 'food', 'service', 'prices', 'price', 'place', 'atmosphere', 'songs', 'sound', 'drinks']\n",
      "pred_bio: ['O', 'O', 'O', 'O', 'O', 'O', 'O', 'O', 'O', 'O', 'O', 'O', 'O', 'B-ASP', 'O', 'O', 'O', 'O', 'O', 'O', 'O', 'O', 'O', 'O', 'O', 'O', 'O']\n",
      "\n",
      "10 They did not have mayonnaise, forgot our toast, left out ingredients (ie cheese in an omelet), below hot temperatures and the bacon was so over cooked it crumbled on the plate when you touched it.\n",
      "['They', 'did', 'not', 'have', 'mayonnaise', ',', 'forgot', 'our', 'toast', ',', 'left', 'out', 'ingredients', '(', 'ie', 'cheese', 'in', 'an', 'omelet', ')', ',', 'below', 'hot', 'temperatures', 'and', 'the', 'bacon', 'was', 'so', 'over', 'cooked', 'it', 'crumbled', 'on', 'the', 'plate', 'when', 'you', 'touched', 'it', '.']\n",
      "gold: ['toast']\n",
      "gold_bio: ['O', 'O', 'O', 'O', 'O', 'O', 'O', 'O', 'B-ASP', 'O', 'O', 'O', 'O', 'O', 'O', 'O', 'O', 'O', 'O', 'O', 'O', 'O', 'O', 'O', 'O', 'O', 'O', 'O', 'O', 'O', 'O', 'O', 'O', 'O', 'O', 'O', 'O', 'O', 'O', 'O', 'O']\n",
      "valid_preds: [('cheese', '0.033'), ('ingredients', '0.017')]\n",
      "preds: ['food', 'price', 'prices', 'bread', 'cheese', 'service', 'fish', 'taste', 'place', 'ingredients']\n",
      "pred_bio: ['O', 'O', 'O', 'O', 'O', 'O', 'O', 'O', 'O', 'O', 'O', 'O', 'B-ASP', 'O', 'O', 'B-ASP', 'O', 'O', 'O', 'O', 'O', 'O', 'O', 'O', 'O', 'O', 'O', 'O', 'O', 'O', 'O', 'O', 'O', 'O', 'O', 'O', 'O', 'O', 'O', 'O', 'O']\n",
      "\n",
      "11 It took half an hour to get our check, which was perfect since we could sit, have drinks and talk!\n",
      "['It', 'took', 'half', 'an', 'hour', 'to', 'get', 'our', 'check', ',', 'which', 'was', 'perfect', 'since', 'we', 'could', 'sit', ',', 'have', 'drinks', 'and', 'talk', '!']\n",
      "gold: ['drinks']\n",
      "gold_bio: ['O', 'O', 'O', 'O', 'O', 'O', 'O', 'O', 'O', 'O', 'O', 'O', 'O', 'O', 'O', 'O', 'O', 'O', 'O', 'B-ASP', 'O', 'O', 'O']\n",
      "valid_preds: [('drinks', '0.007')]\n",
      "preds: ['food', 'prices', 'price', 'service', 'drinks', 'place', 'location', 'menu', 'sushi', 'staff']\n",
      "pred_bio: ['O', 'O', 'O', 'O', 'O', 'O', 'O', 'O', 'O', 'O', 'O', 'O', 'O', 'O', 'O', 'O', 'O', 'O', 'O', 'B-ASP', 'O', 'O', 'O']\n",
      "\n",
      "12 The design and atmosphere is just as good.\n",
      "['The', 'design', 'and', 'atmosphere', 'is', 'just', 'as', 'good', '.']\n",
      "gold: ['design', 'atmosphere']\n",
      "gold_bio: ['O', 'B-ASP', 'O', 'B-ASP', 'O', 'O', 'O', 'O', 'O']\n",
      "valid_preds: []\n",
      "preds: ['food', 'prices', 'price', 'service', 'menu', 'place', 'staff', 'sushi', 'location', 'drinks']\n",
      "pred_bio: ['O', 'O', 'O', 'O', 'O', 'O', 'O', 'O', 'O']\n",
      "\n"
     ]
    },
    {
     "name": "stdout",
     "output_type": "stream",
     "text": [
      " 13%|█▎        | 13/100 [00:05<03:37,  2.50s/it]13 He has visited Thailand and is quite expert on the cuisine.\n",
      "['He', 'has', 'visited', 'Thailand', 'and', 'is', 'quite', 'expert', 'on', 'the', 'cuisine', '.']\n",
      "gold: ['cuisine']\n",
      "gold_bio: ['O', 'O', 'O', 'O', 'O', 'O', 'O', 'O', 'O', 'O', 'B-ASP', 'O']\n",
      "valid_preds: []\n",
      "preds: ['food', 'price', 'prices', 'service', 'place', 'sushi', 'dishes', 'staff', 'menu', 'fish']\n",
      "pred_bio: ['O', 'O', 'O', 'O', 'O', 'O', 'O', 'O', 'O', 'O', 'O', 'O']\n",
      "\n",
      "14 I would definitely recommend Mary's and am making it one of my regular neighborhood haunts.\n",
      "['I', 'would', 'definitely', 'recommend', 'Mary', \"'s\", 'and', 'am', 'making', 'it', 'one', 'of', 'my', 'regular', 'neighborhood', 'haunts', '.']\n",
      "gold: []\n",
      "gold_bio: ['O', 'O', 'O', 'O', 'O', 'O', 'O', 'O', 'O', 'O', 'O', 'O', 'O', 'O', 'O', 'O', 'O']\n",
      "valid_preds: []\n",
      "preds: ['food', 'prices', 'price', 'menu', 'service', 'drinks', 'staff', 'sushi', 'place', 'decor']\n",
      "pred_bio: ['O', 'O', 'O', 'O', 'O', 'O', 'O', 'O', 'O', 'O', 'O', 'O', 'O', 'O', 'O', 'O', 'O']\n",
      "\n",
      "15 My Girlfriend and I stumbled onto this hopping place the other night and had a great time!\n",
      "['My', 'Girlfriend', 'and', 'I', 'stumbled', 'onto', 'this', 'hopping', 'place', 'the', 'other', 'night', 'and', 'had', 'a', 'great', 'time', '!']\n",
      "gold: []\n",
      "gold_bio: ['O', 'O', 'O', 'O', 'O', 'O', 'O', 'O', 'O', 'O', 'O', 'O', 'O', 'O', 'O', 'O', 'O', 'O']\n",
      "valid_preds: [('place', '0.012')]\n",
      "preds: ['food', 'prices', 'price', 'drinks', 'menu', 'place', 'service', 'sushi', 'staff', 'atmosphere']\n",
      "pred_bio: ['O', 'O', 'O', 'O', 'O', 'O', 'O', 'O', 'B-ASP', 'O', 'O', 'O', 'O', 'O', 'O', 'O', 'O', 'O']\n",
      "\n",
      "16 He can't help, they're bought up so fast.\n",
      "['He', 'ca', \"n't\", 'help', ',', 'they', \"'re\", 'bought', 'up', 'so', 'fast', '.']\n",
      "gold: []\n",
      "gold_bio: ['O', 'O', 'O', 'O', 'O', 'O', 'O', 'O', 'O', 'O', 'O', 'O']\n",
      "valid_preds: []\n",
      "preds: ['food', 'prices', 'price', 'service', 'place', 'sushi', 'staff', 'pizza', 'drinks', 'bread']\n",
      "pred_bio: ['O', 'O', 'O', 'O', 'O', 'O', 'O', 'O', 'O', 'O', 'O', 'O']\n",
      "\n",
      "17 Secondly, on this night the place was overwhelmed by upper east side ladies perfume.\n",
      "['Secondly', ',', 'on', 'this', 'night', 'the', 'place', 'was', 'overwhelmed', 'by', 'upper', 'east', 'side', 'ladies', 'perfume', '.']\n",
      "gold: []\n",
      "gold_bio: ['O', 'O', 'O', 'O', 'O', 'O', 'O', 'O', 'O', 'O', 'O', 'O', 'O', 'O', 'O', 'O']\n",
      "valid_preds: [('place', '0.014')]\n",
      "preds: ['food', 'prices', 'price', 'service', 'place', 'drinks', 'menu', 'atmosphere', 'sushi', 'staff']\n",
      "pred_bio: ['O', 'O', 'O', 'O', 'O', 'O', 'B-ASP', 'O', 'O', 'O', 'O', 'O', 'O', 'O', 'O', 'O']\n",
      "\n",
      "18 i have eaten here a handful of times, for no reason besides sheer convenience.\n",
      "['i', 'have', 'eaten', 'here', 'a', 'handful', 'of', 'times', ',', 'for', 'no', 'reason', 'besides', 'sheer', 'convenience', '.']\n",
      "gold: []\n",
      "gold_bio: ['O', 'O', 'O', 'O', 'O', 'O', 'O', 'O', 'O', 'O', 'O', 'O', 'O', 'O', 'O', 'O']\n",
      "valid_preds: []\n",
      "preds: ['food', 'prices', 'price', 'service', 'menu', 'place', 'staff', 'sushi', 'atmosphere', 'location']\n",
      "pred_bio: ['O', 'O', 'O', 'O', 'O', 'O', 'O', 'O', 'O', 'O', 'O', 'O', 'O', 'O', 'O', 'O']\n",
      "\n",
      " 19%|█▉        | 19/100 [00:05<02:21,  1.75s/it]19 Obviously run by folks who know a pie.\n",
      "['Obviously', 'run', 'by', 'folks', 'who', 'know', 'a', 'pie', '.']\n",
      "gold: []\n",
      "gold_bio: ['O', 'O', 'O', 'O', 'O', 'O', 'O', 'O', 'O']\n",
      "valid_preds: []\n",
      "preds: ['food', 'prices', 'price', 'service', 'staff', 'menu', 'place', 'sushi', 'drinks', 'location']\n",
      "pred_bio: ['O', 'O', 'O', 'O', 'O', 'O', 'O', 'O', 'O']\n",
      "\n",
      "20 We were very disappointed.\n",
      "['We', 'were', 'very', 'disappointed', '.']\n",
      "gold: []\n",
      "gold_bio: ['O', 'O', 'O', 'O', 'O']\n",
      "valid_preds: []\n",
      "preds: ['food', 'prices', 'price', 'service', 'sushi', 'staff', 'place', 'menu', 'location', 'drinks']\n",
      "pred_bio: ['O', 'O', 'O', 'O', 'O']\n",
      "\n",
      "21 IT IS DEFINITELY SPECIAL AND AFFORDABLE.\n",
      "['IT', 'IS', 'DEFINITELY', 'SPECIAL', 'AND', 'AFFORDABLE', '.']\n",
      "gold: []\n",
      "gold_bio: ['O', 'O', 'O', 'O', 'O', 'O', 'O']\n",
      "valid_preds: []\n",
      "preds: ['food', 'prices', 'price', 'service', 'staff', 'place', 'menu', 'sushi', 'location', 'drinks']\n",
      "pred_bio: ['O', 'O', 'O', 'O', 'O', 'O', 'O']\n",
      "\n",
      "22 I really liked this place.\n",
      "['I', 'really', 'liked', 'this', 'place', '.']\n",
      "gold: []\n",
      "gold_bio: ['O', 'O', 'O', 'O', 'O', 'O']\n",
      "valid_preds: [('place', '0.006')]\n",
      "preds: ['food', 'prices', 'price', 'service', 'menu', 'staff', 'drinks', 'place', 'sushi', 'atmosphere']\n",
      "pred_bio: ['O', 'O', 'O', 'O', 'B-ASP', 'O']\n",
      "\n",
      "23 I will be going back very soon.\n",
      "['I', 'will', 'be', 'going', 'back', 'very', 'soon', '.']\n",
      "gold: []\n",
      "gold_bio: ['O', 'O', 'O', 'O', 'O', 'O', 'O', 'O']\n",
      "valid_preds: []\n",
      "preds: ['food', 'prices', 'price', 'service', 'sushi', 'menu', 'staff', 'drinks', 'place', 'location']\n",
      "pred_bio: ['O', 'O', 'O', 'O', 'O', 'O', 'O', 'O']\n",
      "\n",
      "24 The seats are uncomfortable if you are sitting against the wall on wooden benches.\n",
      "['The', 'seats', 'are', 'uncomfortable', 'if', 'you', 'are', 'sitting', 'against', 'the', 'wall', 'on', 'wooden', 'benches', '.']\n",
      "gold: ['seats']\n",
      "gold_bio: ['O', 'B-ASP', 'O', 'O', 'O', 'O', 'O', 'O', 'O', 'O', 'O', 'O', 'O', 'O', 'O']\n",
      "valid_preds: []\n",
      "preds: ['food', 'prices', 'price', 'service', 'menu', 'drinks', 'location', 'place', 'staff', 'sushi']\n",
      "pred_bio: ['O', 'O', 'O', 'O', 'O', 'O', 'O', 'O', 'O', 'O', 'O', 'O', 'O', 'O', 'O']\n",
      "\n",
      " 25%|██▌       | 25/100 [00:05<01:32,  1.23s/it]25 It was pretty inexpensive too.\n",
      "['It', 'was', 'pretty', 'inexpensive', 'too', '.']\n",
      "gold: []\n",
      "gold_bio: ['O', 'O', 'O', 'O', 'O', 'O']\n",
      "valid_preds: []\n",
      "preds: ['food', 'price', 'prices', 'service', 'sushi', 'menu', 'place', 'location', 'pizza', 'drinks']\n",
      "pred_bio: ['O', 'O', 'O', 'O', 'O', 'O']\n",
      "\n",
      "26 Will not be back.\n",
      "['Will', 'not', 'be', 'back', '.']\n",
      "gold: []\n",
      "gold_bio: ['O', 'O', 'O', 'O', 'O']\n",
      "valid_preds: []\n",
      "preds: ['food', 'prices', 'price', 'service', 'sushi', 'staff', 'place', 'menu', 'drinks', 'location']\n",
      "pred_bio: ['O', 'O', 'O', 'O', 'O']\n",
      "\n",
      "27 My suggestion is to eat family style because you'll want to try the other dishes.\n",
      "['My', 'suggestion', 'is', 'to', 'eat', 'family', 'style', 'because', 'you', \"'ll\", 'want', 'to', 'try', 'the', 'other', 'dishes', '.']\n",
      "gold: ['dishes']\n",
      "gold_bio: ['O', 'O', 'O', 'O', 'O', 'O', 'O', 'O', 'O', 'O', 'O', 'O', 'O', 'O', 'O', 'B-ASP', 'O']\n",
      "valid_preds: [('dishes', '0.010')]\n",
      "preds: ['food', 'price', 'prices', 'service', 'place', 'menu', 'ingredients', 'fish', 'sushi', 'dishes']\n",
      "pred_bio: ['O', 'O', 'O', 'O', 'O', 'O', 'O', 'O', 'O', 'O', 'O', 'O', 'O', 'O', 'O', 'B-ASP', 'O']\n",
      "\n",
      "28 Best of all is the warm vibe, the owner is super friendly and service is fast.\n",
      "['Best', 'of', 'all', 'is', 'the', 'warm', 'vibe', ',', 'the', 'owner', 'is', 'super', 'friendly', 'and', 'service', 'is', 'fast', '.']\n",
      "gold: ['vibe', 'owner', 'service']\n",
      "gold_bio: ['O', 'O', 'O', 'O', 'O', 'O', 'B-ASP', 'O', 'O', 'B-ASP', 'O', 'O', 'O', 'O', 'B-ASP', 'O', 'O', 'O']\n",
      "valid_preds: [('service', '0.011')]\n",
      "preds: ['food', 'prices', 'price', 'service', 'location', 'staff', 'place', 'menu', 'sushi', 'drinks']\n",
      "pred_bio: ['O', 'O', 'O', 'O', 'O', 'O', 'O', 'O', 'O', 'O', 'O', 'O', 'O', 'O', 'B-ASP', 'O', 'O', 'O']\n",
      "\n",
      "29 This isn't a value joint.\n",
      "['This', 'is', \"n't\", 'a', 'value', 'joint', '.']\n",
      "gold: []\n",
      "gold_bio: ['O', 'O', 'O', 'O', 'O', 'O', 'O']\n",
      "valid_preds: []\n",
      "preds: ['food', 'prices', 'price', 'menu', 'service', 'staff', 'drinks', 'sushi', 'place', 'selection']\n",
      "pred_bio: ['O', 'O', 'O', 'O', 'O', 'O', 'O']\n",
      "\n",
      "30 Faan's got a great concept but a little rough on the delivery.\n",
      "['Faan', \"'s\", 'got', 'a', 'great', 'concept', 'but', 'a', 'little', 'rough', 'on', 'the', 'delivery', '.']\n",
      "gold: ['delivery']\n",
      "gold_bio: ['O', 'O', 'O', 'O', 'O', 'O', 'O', 'O', 'O', 'O', 'O', 'O', 'B-ASP', 'O']\n",
      "valid_preds: []\n",
      "preds: ['food', 'prices', 'price', 'service', 'sushi', 'place', 'menu', 'staff', 'location', 'pizza']\n",
      "pred_bio: ['O', 'O', 'O', 'O', 'O', 'O', 'O', 'O', 'O', 'O', 'O', 'O', 'O', 'O']\n",
      "\n",
      " 31%|███       | 31/100 [00:05<00:59,  1.15it/s]31 From the incredible food, to the warm atmosphere, to the friendly service, this downtown neighborhood spot doesn't miss a beat.\n",
      "['From', 'the', 'incredible', 'food', ',', 'to', 'the', 'warm', 'atmosphere', ',', 'to', 'the', 'friendly', 'service', ',', 'this', 'downtown', 'neighborhood', 'spot', 'does', \"n't\", 'miss', 'a', 'beat', '.']\n",
      "gold: ['food', 'atmosphere', 'service']\n",
      "gold_bio: ['O', 'O', 'O', 'B-ASP', 'O', 'O', 'O', 'O', 'B-ASP', 'O', 'O', 'O', 'O', 'B-ASP', 'O', 'O', 'O', 'O', 'O', 'O', 'O', 'O', 'O', 'O', 'O']\n",
      "valid_preds: [('food', '0.582'), ('service', '0.017'), ('atmosphere', '0.007')]\n",
      "preds: ['food', 'prices', 'price', 'service', 'place', 'menu', 'drinks', 'staff', 'location', 'atmosphere']\n",
      "pred_bio: ['O', 'O', 'O', 'B-ASP', 'O', 'O', 'O', 'O', 'B-ASP', 'O', 'O', 'O', 'O', 'B-ASP', 'O', 'O', 'O', 'O', 'O', 'O', 'O', 'O', 'O', 'O', 'O']\n",
      "\n",
      "32 Great food at REASONABLE prices, makes for an evening that can't be beat!\n",
      "['Great', 'food', 'at', 'REASONABLE', 'prices', ',', 'makes', 'for', 'an', 'evening', 'that', 'ca', \"n't\", 'be', 'beat', '!']\n",
      "gold: ['food', 'prices']\n",
      "gold_bio: ['O', 'B-ASP', 'O', 'O', 'B-ASP', 'O', 'O', 'O', 'O', 'O', 'O', 'O', 'O', 'O', 'O', 'O']\n",
      "valid_preds: [('food', '0.569'), ('prices', '0.177')]\n",
      "preds: ['food', 'prices', 'price', 'place', 'service', 'menu', 'drinks', 'location', 'dishes', 'sushi']\n",
      "pred_bio: ['O', 'B-ASP', 'O', 'O', 'B-ASP', 'O', 'O', 'O', 'O', 'O', 'O', 'O', 'O', 'O', 'O', 'O']\n",
      "\n",
      "33 Look foward to trying the Ruben upon returning.\n",
      "['Look', 'foward', 'to', 'trying', 'the', 'Ruben', 'upon', 'returning', '.']\n",
      "gold: []\n",
      "gold_bio: ['O', 'O', 'O', 'O', 'O', 'O', 'O', 'O', 'O']\n",
      "valid_preds: []\n",
      "preds: ['food', 'price', 'prices', 'service', 'menu', 'staff', 'sushi', 'place', 'fish', 'dishes']\n",
      "pred_bio: ['O', 'O', 'O', 'O', 'O', 'O', 'O', 'O', 'O']\n",
      "\n",
      "34 The only other steakhouse that seems to hold a candle to Roth's is the Strip House.\n",
      "['The', 'only', 'other', 'steakhouse', 'that', 'seems', 'to', 'hold', 'a', 'candle', 'to', 'Roth', \"'s\", 'is', 'the', 'Strip', 'House', '.']\n",
      "gold: []\n",
      "gold_bio: ['O', 'O', 'O', 'O', 'O', 'O', 'O', 'O', 'O', 'O', 'O', 'O', 'O', 'O', 'O', 'O', 'O', 'O']\n",
      "valid_preds: []\n",
      "preds: ['food', 'prices', 'price', 'staff', 'menu', 'service', 'place', 'fish', 'location', 'sushi']\n",
      "pred_bio: ['O', 'O', 'O', 'O', 'O', 'O', 'O', 'O', 'O', 'O', 'O', 'O', 'O', 'O', 'O', 'O', 'O', 'O']\n",
      "\n"
     ]
    },
    {
     "name": "stdout",
     "output_type": "stream",
     "text": [
      "35 We usually go to the Chart House to celebrate a birthday or anniversary.\n",
      "['We', 'usually', 'go', 'to', 'the', 'Chart', 'House', 'to', 'celebrate', 'a', 'birthday', 'or', 'anniversary', '.']\n",
      "gold: []\n",
      "gold_bio: ['O', 'O', 'O', 'O', 'O', 'O', 'O', 'O', 'O', 'O', 'O', 'O', 'O', 'O']\n",
      "valid_preds: []\n",
      "preds: ['food', 'prices', 'price', 'service', 'staff', 'menu', 'place', 'drinks', 'sushi', 'location']\n",
      "pred_bio: ['O', 'O', 'O', 'O', 'O', 'O', 'O', 'O', 'O', 'O', 'O', 'O', 'O', 'O']\n",
      "\n",
      "36 You'll adore it.\n",
      "['You', \"'ll\", 'adore', 'it', '.']\n",
      "gold: []\n",
      "gold_bio: ['O', 'O', 'O', 'O', 'O']\n",
      "valid_preds: []\n",
      "preds: ['food', 'prices', 'price', 'service', 'menu', 'place', 'staff', 'drinks', 'sushi', 'location']\n",
      "pred_bio: ['O', 'O', 'O', 'O', 'O']\n",
      "\n",
      " 37%|███▋      | 37/100 [00:05<00:38,  1.63it/s]37 Two words: Free wine.\n",
      "['Two', 'words', ':', 'Free', 'wine', '.']\n",
      "gold: ['wine']\n",
      "gold_bio: ['O', 'O', 'O', 'O', 'B-ASP', 'O']\n",
      "valid_preds: [('wine', '0.007')]\n",
      "preds: ['food', 'price', 'prices', 'service', 'drinks', 'wine', 'menu', 'sushi', 'staff', 'location']\n",
      "pred_bio: ['O', 'O', 'O', 'O', 'B-ASP', 'O']\n",
      "\n",
      "38 The price is reasonable although the service is poor.\n",
      "['The', 'price', 'is', 'reasonable', 'although', 'the', 'service', 'is', 'poor', '.']\n",
      "gold: ['price', 'service']\n",
      "gold_bio: ['O', 'B-ASP', 'O', 'O', 'O', 'O', 'B-ASP', 'O', 'O', 'O']\n",
      "valid_preds: [('price', '0.081'), ('service', '0.005')]\n",
      "preds: ['food', 'prices', 'price', 'menu', 'service', 'location', 'sushi', 'place', 'staff', 'drinks']\n",
      "pred_bio: ['O', 'B-ASP', 'O', 'O', 'O', 'O', 'B-ASP', 'O', 'O', 'O']\n",
      "\n",
      "39 The quantity is also very good, you will come out satisfied.\n",
      "['The', 'quantity', 'is', 'also', 'very', 'good', ',', 'you', 'will', 'come', 'out', 'satisfied', '.']\n",
      "gold: ['quantity']\n",
      "gold_bio: ['O', 'B-ASP', 'O', 'O', 'O', 'O', 'O', 'O', 'O', 'O', 'O', 'O', 'O']\n",
      "valid_preds: []\n",
      "preds: ['food', 'price', 'prices', 'service', 'sushi', 'menu', 'place', 'cost', 'location', 'bread']\n",
      "pred_bio: ['O', 'O', 'O', 'O', 'O', 'O', 'O', 'O', 'O', 'O', 'O', 'O', 'O']\n",
      "\n",
      "40 I have been to Roth's twice and both times were very disappointing.\n",
      "['I', 'have', 'been', 'to', 'Roth', \"'s\", 'twice', 'and', 'both', 'times', 'were', 'very', 'disappointing', '.']\n",
      "gold: []\n",
      "gold_bio: ['O', 'O', 'O', 'O', 'O', 'O', 'O', 'O', 'O', 'O', 'O', 'O', 'O', 'O']\n",
      "valid_preds: []\n",
      "preds: ['food', 'prices', 'price', 'service', 'menu', 'staff', 'sushi', 'drinks', 'place', 'location']\n",
      "pred_bio: ['O', 'O', 'O', 'O', 'O', 'O', 'O', 'O', 'O', 'O', 'O', 'O', 'O', 'O']\n",
      "\n",
      "41 Worth visiting the 1st Ave spot because it is the original store.\n",
      "['Worth', 'visiting', 'the', '1st', 'Ave', 'spot', 'because', 'it', 'is', 'the', 'original', 'store', '.']\n",
      "gold: []\n",
      "gold_bio: ['O', 'O', 'O', 'O', 'O', 'O', 'O', 'O', 'O', 'O', 'O', 'O', 'O']\n",
      "valid_preds: []\n",
      "preds: ['food', 'prices', 'price', 'staff', 'menu', 'decor', 'sushi', 'service', 'drinks', 'atmosphere']\n",
      "pred_bio: ['O', 'O', 'O', 'O', 'O', 'O', 'O', 'O', 'O', 'O', 'O', 'O', 'O']\n",
      "\n",
      "42 Raga's is a romantic, cozy restaurant.\n",
      "['Raga', \"'s\", 'is', 'a', 'romantic', ',', 'cozy', 'restaurant', '.']\n",
      "gold: []\n",
      "gold_bio: ['O', 'O', 'O', 'O', 'O', 'O', 'O', 'O', 'O']\n",
      "valid_preds: []\n",
      "preds: ['food', 'prices', 'price', 'menu', 'service', 'drinks', 'decor', 'staff', 'atmosphere', 'place']\n",
      "pred_bio: ['O', 'O', 'O', 'O', 'O', 'O', 'O', 'O', 'O']\n",
      "\n",
      " 43%|████▎     | 43/100 [00:05<00:24,  2.30it/s]43 The place is so cool and the service is prompt and curtious.\n",
      "['The', 'place', 'is', 'so', 'cool', 'and', 'the', 'service', 'is', 'prompt', 'and', 'curtious', '.']\n",
      "gold: ['service']\n",
      "gold_bio: ['O', 'O', 'O', 'O', 'O', 'O', 'O', 'B-ASP', 'O', 'O', 'O', 'O', 'O']\n",
      "valid_preds: [('service', '0.008'), ('place', '0.006')]\n",
      "preds: ['food', 'prices', 'price', 'menu', 'service', 'place', 'staff', 'location', 'atmosphere', 'sushi']\n",
      "pred_bio: ['O', 'B-ASP', 'O', 'O', 'O', 'O', 'O', 'B-ASP', 'O', 'O', 'O', 'O', 'O']\n",
      "\n",
      "44 I just wonder how you can have such a delicious meal for such little money.\n",
      "['I', 'just', 'wonder', 'how', 'you', 'can', 'have', 'such', 'a', 'delicious', 'meal', 'for', 'such', 'little', 'money', '.']\n",
      "gold: ['meal', 'money']\n",
      "gold_bio: ['O', 'O', 'O', 'O', 'O', 'O', 'O', 'O', 'O', 'O', 'B-ASP', 'O', 'O', 'O', 'B-ASP', 'O']\n",
      "valid_preds: []\n",
      "preds: ['food', 'price', 'prices', 'service', 'menu', 'place', 'bread', 'dishes', 'fish', 'cost']\n",
      "pred_bio: ['O', 'O', 'O', 'O', 'O', 'O', 'O', 'O', 'O', 'O', 'O', 'O', 'O', 'O', 'O', 'O']\n",
      "\n",
      "45 The food was delicious but do not come here on a empty stomach.\n",
      "['The', 'food', 'was', 'delicious', 'but', 'do', 'not', 'come', 'here', 'on', 'a', 'empty', 'stomach', '.']\n",
      "gold: ['food']\n",
      "gold_bio: ['O', 'B-ASP', 'O', 'O', 'O', 'O', 'O', 'O', 'O', 'O', 'O', 'O', 'O', 'O']\n",
      "valid_preds: [('food', '0.509')]\n",
      "preds: ['food', 'prices', 'price', 'service', 'place', 'location', 'staff', 'sushi', 'menu', 'drinks']\n",
      "pred_bio: ['O', 'B-ASP', 'O', 'O', 'O', 'O', 'O', 'O', 'O', 'O', 'O', 'O', 'O', 'O']\n",
      "\n",
      "46 so garantuan that you can't fit them in a toaster.\n",
      "['so', 'garantuan', 'that', 'you', 'ca', \"n't\", 'fit', 'them', 'in', 'a', 'toaster', '.']\n",
      "gold: []\n",
      "gold_bio: ['O', 'O', 'O', 'O', 'O', 'O', 'O', 'O', 'O', 'O', 'O', 'O']\n",
      "valid_preds: []\n",
      "preds: ['food', 'prices', 'price', 'service', 'sushi', 'drinks', 'bread', 'place', 'fish', 'dishes']\n",
      "pred_bio: ['O', 'O', 'O', 'O', 'O', 'O', 'O', 'O', 'O', 'O', 'O', 'O']\n",
      "\n",
      "47 I highly recommend the Sophia pizza.\n",
      "['I', 'highly', 'recommend', 'the', 'Sophia', 'pizza', '.']\n",
      "gold: []\n",
      "gold_bio: ['O', 'O', 'O', 'O', 'O', 'O', 'O']\n",
      "valid_preds: [('pizza', '0.016')]\n",
      "preds: ['food', 'price', 'prices', 'service', 'pizza', 'cheese', 'fish', 'bread', 'place', 'location']\n",
      "pred_bio: ['O', 'O', 'O', 'O', 'O', 'B-ASP', 'O']\n",
      "\n",
      "48 Whem asked, we had to ask more detailed questions so that we knew what the specials were.\n",
      "['Whem', 'asked', ',', 'we', 'had', 'to', 'ask', 'more', 'detailed', 'questions', 'so', 'that', 'we', 'knew', 'what', 'the', 'specials', 'were', '.']\n",
      "gold: ['specials']\n",
      "gold_bio: ['O', 'O', 'O', 'O', 'O', 'O', 'O', 'O', 'O', 'O', 'O', 'O', 'O', 'O', 'O', 'O', 'B-ASP', 'O', 'O']\n",
      "valid_preds: []\n",
      "preds: ['food', 'prices', 'price', 'service', 'menu', 'sushi', 'drinks', 'staff', 'place', 'location']\n",
      "pred_bio: ['O', 'O', 'O', 'O', 'O', 'O', 'O', 'O', 'O', 'O', 'O', 'O', 'O', 'O', 'O', 'O', 'O', 'O', 'O']\n",
      "\n",
      " 49%|████▉     | 49/100 [00:05<00:15,  3.23it/s]49 This is a consistently great place to dine for lunch or dinner.\n",
      "['This', 'is', 'a', 'consistently', 'great', 'place', 'to', 'dine', 'for', 'lunch', 'or', 'dinner', '.']\n",
      "gold: ['lunch', 'dinner']\n",
      "gold_bio: ['O', 'O', 'O', 'O', 'O', 'O', 'O', 'O', 'O', 'B-ASP', 'O', 'B-ASP', 'O']\n",
      "valid_preds: [('place', '0.007')]\n",
      "preds: ['food', 'prices', 'price', 'menu', 'service', 'staff', 'place', 'location', 'drinks', 'selection']\n",
      "pred_bio: ['O', 'O', 'O', 'O', 'O', 'B-ASP', 'O', 'O', 'O', 'O', 'O', 'O', 'O']\n",
      "\n",
      "50 Nice atmosphere, the service was very pleasant and the desert was good.\n",
      "['Nice', 'atmosphere', ',', 'the', 'service', 'was', 'very', 'pleasant', 'and', 'the', 'desert', 'was', 'good', '.']\n",
      "gold: ['atmosphere', 'service', 'desert']\n",
      "gold_bio: ['O', 'B-ASP', 'O', 'O', 'B-ASP', 'O', 'O', 'O', 'O', 'O', 'B-ASP', 'O', 'O', 'O']\n",
      "valid_preds: [('service', '0.013')]\n",
      "preds: ['food', 'prices', 'price', 'service', 'place', 'menu', 'location', 'sushi', 'staff', 'drinks']\n",
      "pred_bio: ['O', 'O', 'O', 'O', 'B-ASP', 'O', 'O', 'O', 'O', 'O', 'O', 'O', 'O', 'O']\n",
      "\n",
      "51 All the people that I bring there go back on their own and bring THEIR friends!\n",
      "['All', 'the', 'people', 'that', 'I', 'bring', 'there', 'go', 'back', 'on', 'their', 'own', 'and', 'bring', 'THEIR', 'friends', '!']\n",
      "gold: []\n",
      "gold_bio: ['O', 'O', 'O', 'O', 'O', 'O', 'O', 'O', 'O', 'O', 'O', 'O', 'O', 'O', 'O', 'O', 'O']\n",
      "valid_preds: []\n",
      "preds: ['food', 'prices', 'price', 'service', 'place', 'location', 'menu', 'drinks', 'sushi', 'staff']\n",
      "pred_bio: ['O', 'O', 'O', 'O', 'O', 'O', 'O', 'O', 'O', 'O', 'O', 'O', 'O', 'O', 'O', 'O', 'O']\n",
      "\n",
      "52 After really enjoying ourselves at the bar we sat down at a table and had dinner.\n",
      "['After', 'really', 'enjoying', 'ourselves', 'at', 'the', 'bar', 'we', 'sat', 'down', 'at', 'a', 'table', 'and', 'had', 'dinner', '.']\n",
      "gold: ['bar', 'table', 'dinner']\n",
      "gold_bio: ['O', 'O', 'O', 'O', 'O', 'O', 'B-ASP', 'O', 'O', 'O', 'O', 'O', 'B-ASP', 'O', 'O', 'B-ASP', 'O']\n",
      "valid_preds: []\n",
      "preds: ['food', 'price', 'prices', 'service', 'menu', 'place', 'drinks', 'sushi', 'dishes', 'location']\n",
      "pred_bio: ['O', 'O', 'O', 'O', 'O', 'O', 'O', 'O', 'O', 'O', 'O', 'O', 'O', 'O', 'O', 'O', 'O']\n",
      "\n",
      "53 Fabulous service, fantastic food, and a chilled out atmosphere and environment.\n",
      "['Fabulous', 'service', ',', 'fantastic', 'food', ',', 'and', 'a', 'chilled', 'out', 'atmosphere', 'and', 'environment', '.']\n",
      "gold: ['service', 'food', 'atmosphere', 'environment']\n",
      "gold_bio: ['O', 'B-ASP', 'O', 'O', 'B-ASP', 'O', 'O', 'O', 'O', 'O', 'B-ASP', 'O', 'B-ASP', 'O']\n",
      "valid_preds: [('food', '0.765'), ('service', '0.015'), ('atmosphere', '0.004')]\n",
      "preds: ['food', 'prices', 'price', 'service', 'place', 'menu', 'location', 'staff', 'drinks', 'atmosphere']\n",
      "pred_bio: ['O', 'B-ASP', 'O', 'O', 'B-ASP', 'O', 'O', 'O', 'O', 'O', 'B-ASP', 'O', 'O', 'O']\n",
      "\n"
     ]
    },
    {
     "name": "stdout",
     "output_type": "stream",
     "text": [
      "54 Not what I wanted to hear.\n",
      "['Not', 'what', 'I', 'wanted', 'to', 'hear', '.']\n",
      "gold: []\n",
      "gold_bio: ['O', 'O', 'O', 'O', 'O', 'O', 'O']\n",
      "valid_preds: []\n",
      "preds: ['food', 'prices', 'price', 'service', 'sushi', 'drinks', 'place', 'menu', 'staff', 'location']\n",
      "pred_bio: ['O', 'O', 'O', 'O', 'O', 'O', 'O']\n",
      "\n",
      " 55%|█████▌    | 55/100 [00:06<00:09,  4.50it/s]55 Pricey, but worth a try, at least once.\n",
      "['Pricey', ',', 'but', 'worth', 'a', 'try', ',', 'at', 'least', 'once', '.']\n",
      "gold: []\n",
      "gold_bio: ['O', 'O', 'O', 'O', 'O', 'O', 'O', 'O', 'O', 'O', 'O']\n",
      "valid_preds: []\n",
      "preds: ['food', 'price', 'prices', 'service', 'sushi', 'cost', 'menu', 'drinks', 'staff', 'place']\n",
      "pred_bio: ['O', 'O', 'O', 'O', 'O', 'O', 'O', 'O', 'O', 'O', 'O']\n",
      "\n",
      "56 I've been there a few times, and I usually end up sitting next to some pretty odd people.\n",
      "['I', \"'ve\", 'been', 'there', 'a', 'few', 'times', ',', 'and', 'I', 'usually', 'end', 'up', 'sitting', 'next', 'to', 'some', 'pretty', 'odd', 'people', '.']\n",
      "gold: []\n",
      "gold_bio: ['O', 'O', 'O', 'O', 'O', 'O', 'O', 'O', 'O', 'O', 'O', 'O', 'O', 'O', 'O', 'O', 'O', 'O', 'O', 'O', 'O']\n",
      "valid_preds: []\n",
      "preds: ['food', 'prices', 'price', 'service', 'place', 'drinks', 'staff', 'menu', 'location', 'sushi']\n",
      "pred_bio: ['O', 'O', 'O', 'O', 'O', 'O', 'O', 'O', 'O', 'O', 'O', 'O', 'O', 'O', 'O', 'O', 'O', 'O', 'O', 'O', 'O']\n",
      "\n",
      "57 Great food, good size menu, great service and an unpretensious setting.\n",
      "['Great', 'food', ',', 'good', 'size', 'menu', ',', 'great', 'service', 'and', 'an', 'unpretensious', 'setting', '.']\n",
      "gold: ['food', 'menu', 'service', 'setting']\n",
      "gold_bio: ['O', 'B-ASP', 'O', 'O', 'O', 'B-ASP', 'O', 'O', 'B-ASP', 'O', 'O', 'O', 'B-ASP', 'O']\n",
      "valid_preds: [('food', '0.704'), ('service', '0.010'), ('menu', '0.010')]\n",
      "preds: ['food', 'prices', 'price', 'place', 'service', 'menu', 'location', 'sushi', 'staff', 'pizza']\n",
      "pred_bio: ['O', 'B-ASP', 'O', 'O', 'O', 'B-ASP', 'O', 'O', 'B-ASP', 'O', 'O', 'O', 'O', 'O']\n",
      "\n",
      "58 Go here for a romantic dinner but not for an all out wow dining experience.\n",
      "['Go', 'here', 'for', 'a', 'romantic', 'dinner', 'but', 'not', 'for', 'an', 'all', 'out', 'wow', 'dining', 'experience', '.']\n",
      "gold: ['dinner', 'dining']\n",
      "gold_bio: ['O', 'O', 'O', 'O', 'O', 'B-ASP', 'O', 'O', 'O', 'O', 'O', 'O', 'O', 'B-ASP', 'O', 'O']\n",
      "valid_preds: []\n",
      "preds: ['food', 'prices', 'price', 'service', 'menu', 'place', 'location', 'drinks', 'sushi', 'atmosphere']\n",
      "pred_bio: ['O', 'O', 'O', 'O', 'O', 'O', 'O', 'O', 'O', 'O', 'O', 'O', 'O', 'O', 'O', 'O']\n",
      "\n",
      "59 Can't wait to go back.\n",
      "['Ca', \"n't\", 'wait', 'to', 'go', 'back', '.']\n",
      "gold: []\n",
      "gold_bio: ['O', 'O', 'O', 'O', 'O', 'O', 'O']\n",
      "valid_preds: []\n",
      "preds: ['food', 'prices', 'price', 'service', 'sushi', 'staff', 'menu', 'drinks', 'place', 'location']\n",
      "pred_bio: ['O', 'O', 'O', 'O', 'O', 'O', 'O']\n",
      "\n",
      "60 I grew up eating Dosa and have yet to find a place in NY to satisfy my taste buds.\n",
      "['I', 'grew', 'up', 'eating', 'Dosa', 'and', 'have', 'yet', 'to', 'find', 'a', 'place', 'in', 'NY', 'to', 'satisfy', 'my', 'taste', 'buds', '.']\n",
      "gold: ['Dosa']\n",
      "gold_bio: ['O', 'O', 'O', 'O', 'B-ASP', 'O', 'O', 'O', 'O', 'O', 'O', 'O', 'O', 'O', 'O', 'O', 'O', 'O', 'O', 'O']\n",
      "valid_preds: [('place', '0.011')]\n",
      "preds: ['food', 'prices', 'price', 'service', 'sushi', 'place', 'menu', 'staff', 'dishes', 'location']\n",
      "pred_bio: ['O', 'O', 'O', 'O', 'O', 'O', 'O', 'O', 'O', 'O', 'O', 'B-ASP', 'O', 'O', 'O', 'O', 'O', 'O', 'O', 'O']\n",
      "\n",
      " 61%|██████    | 61/100 [00:06<00:06,  6.22it/s]61 With the great variety on the menu , I eat here often and never get bored .\n",
      "['With', 'the', 'great', 'variety', 'on', 'the', 'menu', ',', 'I', 'eat', 'here', 'often', 'and', 'never', 'get', 'bored', '.']\n",
      "gold: ['menu']\n",
      "gold_bio: ['O', 'O', 'O', 'O', 'O', 'O', 'B-ASP', 'O', 'O', 'O', 'O', 'O', 'O', 'O', 'O', 'O', 'O']\n",
      "valid_preds: [('menu', '0.009')]\n",
      "preds: ['food', 'prices', 'price', 'service', 'menu', 'sushi', 'place', 'staff', 'selection', 'drinks']\n",
      "pred_bio: ['O', 'O', 'O', 'O', 'O', 'O', 'B-ASP', 'O', 'O', 'O', 'O', 'O', 'O', 'O', 'O', 'O', 'O']\n",
      "\n",
      "62 The menu is very limited - i think we counted 4 or 5 entrees.\n",
      "['The', 'menu', 'is', 'very', 'limited', '-', 'i', 'think', 'we', 'counted', '4', 'or', '5', 'entrees', '.']\n",
      "gold: ['menu', 'entrees']\n",
      "gold_bio: ['O', 'B-ASP', 'O', 'O', 'O', 'O', 'O', 'O', 'O', 'O', 'O', 'O', 'O', 'B-ASP', 'O']\n",
      "valid_preds: [('menu', '0.010')]\n",
      "preds: ['food', 'prices', 'price', 'service', 'menu', 'sushi', 'place', 'bread', 'fish', 'dishes']\n",
      "pred_bio: ['O', 'B-ASP', 'O', 'O', 'O', 'O', 'O', 'O', 'O', 'O', 'O', 'O', 'O', 'O', 'O']\n",
      "\n",
      "63 If you are a carnivore, come hungry and you will leave more satisfied than you have ever been.\n",
      "['If', 'you', 'are', 'a', 'carnivore', ',', 'come', 'hungry', 'and', 'you', 'will', 'leave', 'more', 'satisfied', 'than', 'you', 'have', 'ever', 'been', '.']\n",
      "gold: []\n",
      "gold_bio: ['O', 'O', 'O', 'O', 'O', 'O', 'O', 'O', 'O', 'O', 'O', 'O', 'O', 'O', 'O', 'O', 'O', 'O', 'O', 'O']\n",
      "valid_preds: []\n",
      "preds: ['food', 'price', 'prices', 'service', 'sushi', 'menu', 'place', 'staff', 'location', 'cost']\n",
      "pred_bio: ['O', 'O', 'O', 'O', 'O', 'O', 'O', 'O', 'O', 'O', 'O', 'O', 'O', 'O', 'O', 'O', 'O', 'O', 'O', 'O']\n",
      "\n",
      "64 The menu is limited but almost all of the dishes are excellent.\n",
      "['The', 'menu', 'is', 'limited', 'but', 'almost', 'all', 'of', 'the', 'dishes', 'are', 'excellent', '.']\n",
      "gold: ['menu', 'dishes']\n",
      "gold_bio: ['O', 'B-ASP', 'O', 'O', 'O', 'O', 'O', 'O', 'O', 'B-ASP', 'O', 'O', 'O']\n",
      "valid_preds: [('menu', '0.011')]\n",
      "preds: ['food', 'prices', 'price', 'service', 'menu', 'fish', 'sushi', 'place', 'selection', 'ingredients']\n",
      "pred_bio: ['O', 'B-ASP', 'O', 'O', 'O', 'O', 'O', 'O', 'O', 'O', 'O', 'O', 'O']\n",
      "\n",
      "65 Great bagels, spreads and a good place to hang out in.\n",
      "['Great', 'bagels', ',', 'spreads', 'and', 'a', 'good', 'place', 'to', 'hang', 'out', 'in', '.']\n",
      "gold: ['bagels', 'spreads']\n",
      "gold_bio: ['O', 'B-ASP', 'O', 'B-ASP', 'O', 'O', 'O', 'O', 'O', 'O', 'O', 'O', 'O']\n",
      "valid_preds: [('place', '0.013')]\n",
      "preds: ['food', 'prices', 'price', 'service', 'place', 'location', 'ingredients', 'bread', 'selection', 'staff']\n",
      "pred_bio: ['O', 'O', 'O', 'O', 'O', 'O', 'O', 'B-ASP', 'O', 'O', 'O', 'O', 'O']\n",
      "\n",
      "66 The service varys from day to day- sometimes they're very nice, and sometimes not.\n",
      "['The', 'service', 'varys', 'from', 'day', 'to', 'day', '-', 'sometimes', 'they', \"'re\", 'very', 'nice', ',', 'and', 'sometimes', 'not', '.']\n",
      "gold: ['service']\n",
      "gold_bio: ['O', 'B-ASP', 'O', 'O', 'O', 'O', 'O', 'O', 'O', 'O', 'O', 'O', 'O', 'O', 'O', 'O', 'O', 'O']\n",
      "valid_preds: [('service', '0.014')]\n",
      "preds: ['food', 'prices', 'price', 'service', 'staff', 'menu', 'place', 'location', 'sushi', 'drinks']\n",
      "pred_bio: ['O', 'B-ASP', 'O', 'O', 'O', 'O', 'O', 'O', 'O', 'O', 'O', 'O', 'O', 'O', 'O', 'O', 'O', 'O']\n",
      "\n",
      " 67%|██████▋   | 67/100 [00:06<00:03,  8.47it/s]67 whoever the jazz duo was, they were on POINT.\n",
      "['whoever', 'the', 'jazz', 'duo', 'was', ',', 'they', 'were', 'on', 'POINT', '.']\n",
      "gold: []\n",
      "gold_bio: ['O', 'O', 'O', 'O', 'O', 'O', 'O', 'O', 'O', 'O', 'O']\n",
      "valid_preds: []\n",
      "preds: ['food', 'prices', 'price', 'service', 'music', 'place', 'drinks', 'sushi', 'location', 'atmosphere']\n",
      "pred_bio: ['O', 'O', 'O', 'O', 'O', 'O', 'O', 'O', 'O', 'O', 'O']\n",
      "\n",
      "68 One thing I liked about this place is that I never felt rushed or pressured to give up my table ot incoming guests.\n",
      "['One', 'thing', 'I', 'liked', 'about', 'this', 'place', 'is', 'that', 'I', 'never', 'felt', 'rushed', 'or', 'pressured', 'to', 'give', 'up', 'my', 'table', 'ot', 'incoming', 'guests', '.']\n",
      "gold: ['table']\n",
      "gold_bio: ['O', 'O', 'O', 'O', 'O', 'O', 'O', 'O', 'O', 'O', 'O', 'O', 'O', 'O', 'O', 'O', 'O', 'O', 'O', 'B-ASP', 'O', 'O', 'O', 'O']\n",
      "valid_preds: [('place', '0.006')]\n",
      "preds: ['food', 'prices', 'price', 'service', 'menu', 'staff', 'drinks', 'atmosphere', 'place', 'location']\n",
      "pred_bio: ['O', 'O', 'O', 'O', 'O', 'O', 'B-ASP', 'O', 'O', 'O', 'O', 'O', 'O', 'O', 'O', 'O', 'O', 'O', 'O', 'O', 'O', 'O', 'O', 'O']\n",
      "\n",
      "69 This place is a great bargain.\n",
      "['This', 'place', 'is', 'a', 'great', 'bargain', '.']\n",
      "gold: []\n",
      "gold_bio: ['O', 'O', 'O', 'O', 'O', 'O', 'O']\n",
      "valid_preds: [('place', '0.004')]\n",
      "preds: ['food', 'prices', 'price', 'menu', 'service', 'sushi', 'drinks', 'staff', 'place', 'atmosphere']\n",
      "pred_bio: ['O', 'B-ASP', 'O', 'O', 'O', 'O', 'O']\n",
      "\n",
      "70 We happened upon this place purely by accident and were pleased with the results.\n",
      "['We', 'happened', 'upon', 'this', 'place', 'purely', 'by', 'accident', 'and', 'were', 'pleased', 'with', 'the', 'results', '.']\n",
      "gold: []\n",
      "gold_bio: ['O', 'O', 'O', 'O', 'O', 'O', 'O', 'O', 'O', 'O', 'O', 'O', 'O', 'O', 'O']\n",
      "valid_preds: [('place', '0.006')]\n",
      "preds: ['food', 'prices', 'price', 'service', 'menu', 'staff', 'place', 'sushi', 'drinks', 'atmosphere']\n",
      "pred_bio: ['O', 'O', 'O', 'O', 'B-ASP', 'O', 'O', 'O', 'O', 'O', 'O', 'O', 'O', 'O', 'O']\n",
      "\n"
     ]
    },
    {
     "name": "stdout",
     "output_type": "stream",
     "text": [
      "71 Unfortunately, the food is outstanding, but everything else about this restaurant is the pits.\n",
      "['Unfortunately', ',', 'the', 'food', 'is', 'outstanding', ',', 'but', 'everything', 'else', 'about', 'this', 'restaurant', 'is', 'the', 'pits', '.']\n",
      "gold: ['food']\n",
      "gold_bio: ['O', 'O', 'O', 'B-ASP', 'O', 'O', 'O', 'O', 'O', 'O', 'O', 'O', 'O', 'O', 'O', 'O', 'O']\n",
      "valid_preds: [('food', '0.588')]\n",
      "preds: ['food', 'prices', 'price', 'service', 'place', 'menu', 'location', 'staff', 'drinks', 'sushi']\n",
      "pred_bio: ['O', 'O', 'O', 'B-ASP', 'O', 'O', 'O', 'O', 'O', 'O', 'O', 'O', 'O', 'O', 'O', 'O', 'O']\n",
      "\n",
      "72 Deff recimmend Bukhara they also have opened two new locations guess ill try them out.\n",
      "['Deff', 'recimmend', 'Bukhara', 'they', 'also', 'have', 'opened', 'two', 'new', 'locations', 'guess', 'ill', 'try', 'them', 'out', '.']\n",
      "gold: []\n",
      "gold_bio: ['O', 'O', 'O', 'O', 'O', 'O', 'O', 'O', 'O', 'O', 'O', 'O', 'O', 'O', 'O', 'O']\n",
      "valid_preds: []\n",
      "preds: ['food', 'prices', 'price', 'service', 'menu', 'sushi', 'place', 'staff', 'drinks', 'atmosphere']\n",
      "pred_bio: ['O', 'O', 'O', 'O', 'O', 'O', 'O', 'O', 'O', 'O', 'O', 'O', 'O', 'O', 'O', 'O']\n",
      "\n",
      " 73%|███████▎  | 73/100 [00:06<00:02, 11.36it/s]73 We always have a delicious meal and always leave feeling satisfied.\n",
      "['We', 'always', 'have', 'a', 'delicious', 'meal', 'and', 'always', 'leave', 'feeling', 'satisfied', '.']\n",
      "gold: ['meal']\n",
      "gold_bio: ['O', 'O', 'O', 'O', 'O', 'B-ASP', 'O', 'O', 'O', 'O', 'O', 'O']\n",
      "valid_preds: []\n",
      "preds: ['food', 'price', 'prices', 'service', 'menu', 'place', 'location', 'sushi', 'staff', 'dishes']\n",
      "pred_bio: ['O', 'O', 'O', 'O', 'O', 'O', 'O', 'O', 'O', 'O', 'O', 'O']\n",
      "\n",
      "74 Dip the ingredients in with your chopsticks, swirl them around, and eat.\n",
      "['Dip', 'the', 'ingredients', 'in', 'with', 'your', 'chopsticks', ',', 'swirl', 'them', 'around', ',', 'and', 'eat', '.']\n",
      "gold: ['ingredients', 'chopsticks']\n",
      "gold_bio: ['O', 'O', 'B-ASP', 'O', 'O', 'O', 'B-ASP', 'O', 'O', 'O', 'O', 'O', 'O', 'O', 'O']\n",
      "valid_preds: [('ingredients', '0.011')]\n",
      "preds: ['food', 'price', 'prices', 'service', 'place', 'taste', 'sushi', 'bread', 'fish', 'ingredients']\n",
      "pred_bio: ['O', 'O', 'B-ASP', 'O', 'O', 'O', 'O', 'O', 'O', 'O', 'O', 'O', 'O', 'O', 'O']\n",
      "\n",
      "75 My husbands was perfect, my was well done and dry.\n",
      "['My', 'husbands', 'was', 'perfect', ',', 'my', 'was', 'well', 'done', 'and', 'dry', '.']\n",
      "gold: []\n",
      "gold_bio: ['O', 'O', 'O', 'O', 'O', 'O', 'O', 'O', 'O', 'O', 'O', 'O']\n",
      "valid_preds: []\n",
      "preds: ['food', 'prices', 'price', 'service', 'place', 'sushi', 'menu', 'dishes', 'pizza', 'staff']\n",
      "pred_bio: ['O', 'O', 'O', 'O', 'O', 'O', 'O', 'O', 'O', 'O', 'O', 'O']\n",
      "\n",
      "76 Everyone I have spoken too there is super friendly, helpful, and willing to the extra mile for a customer.\n",
      "['Everyone', 'I', 'have', 'spoken', 'too', 'there', 'is', 'super', 'friendly', ',', 'helpful', ',', 'and', 'willing', 'to', 'the', 'extra', 'mile', 'for', 'a', 'customer', '.']\n",
      "gold: []\n",
      "gold_bio: ['O', 'O', 'O', 'O', 'O', 'O', 'O', 'O', 'O', 'O', 'O', 'O', 'O', 'O', 'O', 'O', 'O', 'O', 'O', 'O', 'O', 'O']\n",
      "valid_preds: []\n",
      "preds: ['food', 'prices', 'price', 'service', 'staff', 'sushi', 'place', 'location', 'drinks', 'experience']\n",
      "pred_bio: ['O', 'O', 'O', 'O', 'O', 'O', 'O', 'O', 'O', 'O', 'O', 'O', 'O', 'O', 'O', 'O', 'O', 'O', 'O', 'O', 'O', 'O']\n",
      "\n",
      "77 The pizza was pretty good and huge.\n",
      "['The', 'pizza', 'was', 'pretty', 'good', 'and', 'huge', '.']\n",
      "gold: ['pizza']\n",
      "gold_bio: ['O', 'B-ASP', 'O', 'O', 'O', 'O', 'O', 'O']\n",
      "valid_preds: [('pizza', '0.014')]\n",
      "preds: ['food', 'price', 'prices', 'cheese', 'fish', 'pizza', 'service', 'bread', 'place', 'menu']\n",
      "pred_bio: ['O', 'B-ASP', 'O', 'O', 'O', 'O', 'O', 'O']\n",
      "\n",
      "78 Sapphire is the only Indian restaurant I go to when I'm in NYC.\n",
      "['Sapphire', 'is', 'the', 'only', 'Indian', 'restaurant', 'I', 'go', 'to', 'when', 'I', \"'m\", 'in', 'NYC', '.']\n",
      "gold: []\n",
      "gold_bio: ['O', 'O', 'O', 'O', 'O', 'O', 'O', 'O', 'O', 'O', 'O', 'O', 'O', 'O', 'O']\n",
      "valid_preds: []\n",
      "preds: ['food', 'prices', 'price', 'service', 'menu', 'sushi', 'place', 'staff', 'drinks', 'atmosphere']\n",
      "pred_bio: ['O', 'O', 'O', 'O', 'O', 'O', 'O', 'O', 'O', 'O', 'O', 'O', 'O', 'O', 'O']\n",
      "\n",
      " 79%|███████▉  | 79/100 [00:06<00:01, 14.89it/s]79 The cuisine from what I've gathered is authentic Taiwanese, though its very different from what I've been accustomed to in Taipei.\n",
      "['The', 'cuisine', 'from', 'what', 'I', \"'ve\", 'gathered', 'is', 'authentic', 'Taiwanese', ',', 'though', 'its', 'very', 'different', 'from', 'what', 'I', \"'ve\", 'been', 'accustomed', 'to', 'in', 'Taipei', '.']\n",
      "gold: ['cuisine']\n",
      "gold_bio: ['O', 'B-ASP', 'O', 'O', 'O', 'O', 'O', 'O', 'O', 'O', 'O', 'O', 'O', 'O', 'O', 'O', 'O', 'O', 'O', 'O', 'O', 'O', 'O', 'O', 'O']\n",
      "valid_preds: []\n",
      "preds: ['food', 'price', 'prices', 'service', 'place', 'sushi', 'dishes', 'bread', 'fish', 'menu']\n",
      "pred_bio: ['O', 'O', 'O', 'O', 'O', 'O', 'O', 'O', 'O', 'O', 'O', 'O', 'O', 'O', 'O', 'O', 'O', 'O', 'O', 'O', 'O', 'O', 'O', 'O', 'O']\n",
      "\n",
      "80 I heartily recommend.\n",
      "['I', 'heartily', 'recommend', '.']\n",
      "gold: []\n",
      "gold_bio: ['O', 'O', 'O', 'O']\n",
      "valid_preds: []\n",
      "preds: ['food', 'prices', 'price', 'service', 'sushi', 'menu', 'place', 'drinks', 'location', 'staff']\n",
      "pred_bio: ['O', 'O', 'O', 'O']\n",
      "\n",
      "81 Heartland Brewery is by far one of the best places in NYC to make new friends and catch up with old ones.\n",
      "['Heartland', 'Brewery', 'is', 'by', 'far', 'one', 'of', 'the', 'best', 'places', 'in', 'NYC', 'to', 'make', 'new', 'friends', 'and', 'catch', 'up', 'with', 'old', 'ones', '.']\n",
      "gold: []\n",
      "gold_bio: ['O', 'O', 'O', 'O', 'O', 'O', 'O', 'O', 'O', 'O', 'O', 'O', 'O', 'O', 'O', 'O', 'O', 'O', 'O', 'O', 'O', 'O', 'O']\n",
      "valid_preds: []\n",
      "preds: ['food', 'prices', 'price', 'service', 'drinks', 'staff', 'sushi', 'menu', 'place', 'location']\n",
      "pred_bio: ['O', 'O', 'O', 'O', 'O', 'O', 'O', 'O', 'O', 'O', 'O', 'O', 'O', 'O', 'O', 'O', 'O', 'O', 'O', 'O', 'O', 'O', 'O']\n",
      "\n",
      "82 I almost hesititate to write a review because the atmosphere was so great and I would hate for it too become to crowded.\n",
      "['I', 'almost', 'hesititate', 'to', 'write', 'a', 'review', 'because', 'the', 'atmosphere', 'was', 'so', 'great', 'and', 'I', 'would', 'hate', 'for', 'it', 'too', 'become', 'to', 'crowded', '.']\n",
      "gold: ['atmosphere']\n",
      "gold_bio: ['O', 'O', 'O', 'O', 'O', 'O', 'O', 'O', 'O', 'B-ASP', 'O', 'O', 'O', 'O', 'O', 'O', 'O', 'O', 'O', 'O', 'O', 'O', 'O', 'O']\n",
      "valid_preds: [('atmosphere', '0.006')]\n",
      "preds: ['food', 'prices', 'price', 'service', 'drinks', 'menu', 'place', 'atmosphere', 'staff', 'location']\n",
      "pred_bio: ['O', 'O', 'O', 'O', 'O', 'O', 'O', 'O', 'O', 'B-ASP', 'O', 'O', 'O', 'O', 'O', 'O', 'O', 'O', 'O', 'O', 'O', 'O', 'O', 'O']\n",
      "\n",
      "83 They are often crowded on the weekends but they are efficient and accurate with their service.\n",
      "['They', 'are', 'often', 'crowded', 'on', 'the', 'weekends', 'but', 'they', 'are', 'efficient', 'and', 'accurate', 'with', 'their', 'service', '.']\n",
      "gold: ['service']\n",
      "gold_bio: ['O', 'O', 'O', 'O', 'O', 'O', 'O', 'O', 'O', 'O', 'O', 'O', 'O', 'O', 'O', 'B-ASP', 'O']\n",
      "valid_preds: [('service', '0.013')]\n",
      "preds: ['food', 'prices', 'price', 'service', 'staff', 'location', 'menu', 'place', 'sushi', 'drinks']\n",
      "pred_bio: ['O', 'O', 'O', 'O', 'O', 'O', 'O', 'O', 'O', 'O', 'O', 'O', 'O', 'O', 'O', 'B-ASP', 'O']\n",
      "\n",
      "84 All my co-workers were amazed at how small the dish was.\n",
      "['All', 'my', 'co-workers', 'were', 'amazed', 'at', 'how', 'small', 'the', 'dish', 'was', '.']\n",
      "gold: ['dish']\n",
      "gold_bio: ['O', 'O', 'O', 'O', 'O', 'O', 'O', 'O', 'O', 'B-ASP', 'O', 'O']\n",
      "valid_preds: []\n",
      "preds: ['food', 'price', 'prices', 'fish', 'service', 'bread', 'menu', 'taste', 'dishes', 'place']\n",
      "pred_bio: ['O', 'O', 'O', 'O', 'O', 'O', 'O', 'O', 'O', 'O', 'O', 'O']\n",
      "\n",
      " 85%|████████▌ | 85/100 [00:06<00:00, 19.03it/s]85 The atmosphere is unheralded, the service impecible, and the food magnificant.\n",
      "['The', 'atmosphere', 'is', 'unheralded', ',', 'the', 'service', 'impecible', ',', 'and', 'the', 'food', 'magnificant', '.']\n",
      "gold: ['atmosphere', 'service', 'food']\n",
      "gold_bio: ['O', 'B-ASP', 'O', 'O', 'O', 'O', 'B-ASP', 'O', 'O', 'O', 'O', 'B-ASP', 'O', 'O']\n",
      "valid_preds: [('food', '0.386'), ('service', '0.035'), ('atmosphere', '0.008')]\n",
      "preds: ['food', 'prices', 'price', 'service', 'place', 'menu', 'drinks', 'location', 'atmosphere', 'staff']\n",
      "pred_bio: ['O', 'B-ASP', 'O', 'O', 'O', 'O', 'B-ASP', 'O', 'O', 'O', 'O', 'B-ASP', 'O', 'O']\n",
      "\n",
      "86 This place, which is only a few months old, is perhaps Queens' biggest secret!\n",
      "['This', 'place', ',', 'which', 'is', 'only', 'a', 'few', 'months', 'old', ',', 'is', 'perhaps', 'Queens', \"'\", 'biggest', 'secret', '!']\n",
      "gold: []\n",
      "gold_bio: ['O', 'O', 'O', 'O', 'O', 'O', 'O', 'O', 'O', 'O', 'O', 'O', 'O', 'O', 'O', 'O', 'O', 'O']\n",
      "valid_preds: [('place', '0.009')]\n",
      "preds: ['food', 'prices', 'price', 'menu', 'place', 'sushi', 'drinks', 'service', 'staff', 'decor']\n",
      "pred_bio: ['O', 'B-ASP', 'O', 'O', 'O', 'O', 'O', 'O', 'O', 'O', 'O', 'O', 'O', 'O', 'O', 'O', 'O', 'O']\n",
      "\n",
      "87 This place is so much fun.\n",
      "['This', 'place', 'is', 'so', 'much', 'fun', '.']\n",
      "gold: []\n",
      "gold_bio: ['O', 'O', 'O', 'O', 'O', 'O', 'O']\n",
      "valid_preds: [('place', '0.006')]\n",
      "preds: ['food', 'prices', 'price', 'menu', 'service', 'drinks', 'sushi', 'place', 'atmosphere', 'staff']\n",
      "pred_bio: ['O', 'B-ASP', 'O', 'O', 'O', 'O', 'O']\n",
      "\n",
      "88 I was glad I did.\n",
      "['I', 'was', 'glad', 'I', 'did', '.']\n",
      "gold: []\n",
      "gold_bio: ['O', 'O', 'O', 'O', 'O', 'O']\n",
      "valid_preds: []\n",
      "preds: ['food', 'price', 'prices', 'service', 'sushi', 'place', 'menu', 'drinks', 'staff', 'location']\n",
      "pred_bio: ['O', 'O', 'O', 'O', 'O', 'O']\n",
      "\n",
      "89 Right off the L in Brooklyn this is a nice cozy place with good pizza.\n",
      "['Right', 'off', 'the', 'L', 'in', 'Brooklyn', 'this', 'is', 'a', 'nice', 'cozy', 'place', 'with', 'good', 'pizza', '.']\n",
      "gold: ['pizza']\n",
      "gold_bio: ['O', 'O', 'O', 'O', 'O', 'O', 'O', 'O', 'O', 'O', 'O', 'O', 'O', 'O', 'B-ASP', 'O']\n",
      "valid_preds: [('place', '0.010')]\n",
      "preds: ['food', 'prices', 'price', 'service', 'menu', 'place', 'location', 'staff', 'drinks', 'decor']\n",
      "pred_bio: ['O', 'O', 'O', 'O', 'O', 'O', 'O', 'O', 'O', 'O', 'O', 'B-ASP', 'O', 'O', 'O', 'O']\n",
      "\n"
     ]
    },
    {
     "name": "stdout",
     "output_type": "stream",
     "text": [
      "90 I've never been treated so rudely.\n",
      "['I', \"'ve\", 'never', 'been', 'treated', 'so', 'rudely', '.']\n",
      "gold: []\n",
      "gold_bio: ['O', 'O', 'O', 'O', 'O', 'O', 'O', 'O']\n",
      "valid_preds: []\n",
      "preds: ['food', 'prices', 'price', 'service', 'sushi', 'staff', 'place', 'menu', 'drinks', 'location']\n",
      "pred_bio: ['O', 'O', 'O', 'O', 'O', 'O', 'O', 'O']\n",
      "\n",
      " 91%|█████████ | 91/100 [00:06<00:00, 23.77it/s]91 I'll be back soon.\n",
      "['I', \"'ll\", 'be', 'back', 'soon', '.']\n",
      "gold: []\n",
      "gold_bio: ['O', 'O', 'O', 'O', 'O', 'O']\n",
      "valid_preds: []\n",
      "preds: ['food', 'prices', 'price', 'service', 'sushi', 'staff', 'menu', 'drinks', 'place', 'location']\n",
      "pred_bio: ['O', 'O', 'O', 'O', 'O', 'O']\n",
      "\n",
      "92 Went inside and I started to get excited.\n",
      "['Went', 'inside', 'and', 'I', 'started', 'to', 'get', 'excited', '.']\n",
      "gold: []\n",
      "gold_bio: ['O', 'O', 'O', 'O', 'O', 'O', 'O', 'O', 'O']\n",
      "valid_preds: []\n",
      "preds: ['food', 'prices', 'price', 'service', 'sushi', 'menu', 'place', 'drinks', 'staff', 'location']\n",
      "pred_bio: ['O', 'O', 'O', 'O', 'O', 'O', 'O', 'O', 'O']\n",
      "\n",
      "93 I also ordered for delivery and the restaurant forgot half the order.\n",
      "['I', 'also', 'ordered', 'for', 'delivery', 'and', 'the', 'restaurant', 'forgot', 'half', 'the', 'order', '.']\n",
      "gold: ['delivery', 'order']\n",
      "gold_bio: ['O', 'O', 'O', 'O', 'B-ASP', 'O', 'O', 'O', 'O', 'O', 'O', 'B-ASP', 'O']\n",
      "valid_preds: []\n",
      "preds: ['food', 'prices', 'price', 'service', 'sushi', 'staff', 'menu', 'place', 'location', 'drinks']\n",
      "pred_bio: ['O', 'O', 'O', 'O', 'O', 'O', 'O', 'O', 'O', 'O', 'O', 'O', 'O']\n",
      "\n",
      "94 Our server checked on us maybe twice during the entire meal.\n",
      "['Our', 'server', 'checked', 'on', 'us', 'maybe', 'twice', 'during', 'the', 'entire', 'meal', '.']\n",
      "gold: ['server', 'meal']\n",
      "gold_bio: ['O', 'B-ASP', 'O', 'O', 'O', 'O', 'O', 'O', 'O', 'O', 'B-ASP', 'O']\n",
      "valid_preds: []\n",
      "preds: ['food', 'price', 'prices', 'service', 'menu', 'place', 'sushi', 'staff', 'location', 'drinks']\n",
      "pred_bio: ['O', 'O', 'O', 'O', 'O', 'O', 'O', 'O', 'O', 'O', 'O', 'O']\n",
      "\n",
      "95 However, it is jus too good to not praise it.\n",
      "['However', ',', 'it', 'is', 'jus', 'too', 'good', 'to', 'not', 'praise', 'it', '.']\n",
      "gold: []\n",
      "gold_bio: ['O', 'O', 'O', 'O', 'O', 'O', 'O', 'O', 'O', 'O', 'O', 'O']\n",
      "valid_preds: []\n",
      "preds: ['food', 'price', 'prices', 'service', 'place', 'menu', 'sushi', 'staff', 'bread', 'fish']\n",
      "pred_bio: ['O', 'O', 'O', 'O', 'O', 'O', 'O', 'O', 'O', 'O', 'O', 'O']\n",
      "\n",
      "96 We have been to Montparnasse many times and return often for good reason.\n",
      "['We', 'have', 'been', 'to', 'Montparnasse', 'many', 'times', 'and', 'return', 'often', 'for', 'good', 'reason', '.']\n",
      "gold: []\n",
      "gold_bio: ['O', 'O', 'O', 'O', 'O', 'O', 'O', 'O', 'O', 'O', 'O', 'O', 'O', 'O']\n",
      "valid_preds: []\n",
      "preds: ['food', 'prices', 'price', 'service', 'place', 'menu', 'sushi', 'staff', 'location', 'drinks']\n",
      "pred_bio: ['O', 'O', 'O', 'O', 'O', 'O', 'O', 'O', 'O', 'O', 'O', 'O', 'O', 'O']\n",
      "\n",
      " 97%|█████████▋| 97/100 [00:06<00:00, 28.72it/s]97 The strong scents coming from the left and right of me negatively affected my taste buds.\n",
      "['The', 'strong', 'scents', 'coming', 'from', 'the', 'left', 'and', 'right', 'of', 'me', 'negatively', 'affected', 'my', 'taste', 'buds', '.']\n",
      "gold: ['scents']\n",
      "gold_bio: ['O', 'O', 'B-ASP', 'O', 'O', 'O', 'O', 'O', 'O', 'O', 'O', 'O', 'O', 'O', 'O', 'O', 'O']\n",
      "valid_preds: [('taste', '0.026')]\n",
      "preds: ['food', 'price', 'prices', 'taste', 'service', 'bread', 'sushi', 'place', 'fish', 'atmosphere']\n",
      "pred_bio: ['O', 'O', 'O', 'O', 'O', 'O', 'O', 'O', 'O', 'O', 'O', 'O', 'O', 'O', 'B-ASP', 'O', 'O']\n",
      "\n",
      "98 It's somewhere you can eat and be happy.\n",
      "['It', \"'s\", 'somewhere', 'you', 'can', 'eat', 'and', 'be', 'happy', '.']\n",
      "gold: []\n",
      "gold_bio: ['O', 'O', 'O', 'O', 'O', 'O', 'O', 'O', 'O', 'O']\n",
      "valid_preds: []\n",
      "preds: ['food', 'prices', 'price', 'menu', 'service', 'place', 'sushi', 'staff', 'location', 'drinks']\n",
      "pred_bio: ['O', 'O', 'O', 'O', 'O', 'O', 'O', 'O', 'O', 'O']\n",
      "\n",
      "99 If you wrote a bad review, it's because you don't understand what Rao's is all about.\n",
      "['If', 'you', 'wrote', 'a', 'bad', 'review', ',', 'it', \"'s\", 'because', 'you', 'do', \"n't\", 'understand', 'what', 'Rao', \"'s\", 'is', 'all', 'about', '.']\n",
      "gold: []\n",
      "gold_bio: ['O', 'O', 'O', 'O', 'O', 'O', 'O', 'O', 'O', 'O', 'O', 'O', 'O', 'O', 'O', 'O', 'O', 'O', 'O', 'O', 'O']\n",
      "valid_preds: []\n",
      "preds: ['food', 'prices', 'price', 'service', 'sushi', 'menu', 'staff', 'drinks', 'place', 'pizza']\n",
      "pred_bio: ['O', 'O', 'O', 'O', 'O', 'O', 'O', 'O', 'O', 'O', 'O', 'O', 'O', 'O', 'O', 'O', 'O', 'O', 'O', 'O', 'O']\n",
      "\n",
      "100%|██████████| 100/100 [00:06<00:00, 14.55it/s]\n"
     ]
    }
   ],
   "source": [
    "for model in ('checkpoint-1000',):\n",
    "    run_ds_examples(res_train, \n",
    "                    model=model,\n",
    "                    pattern=P5,\n",
    "                    top_k=10);"
   ]
  },
  {
   "cell_type": "code",
   "execution_count": 10,
   "metadata": {
    "id": "CIDFInkuQSLf"
   },
   "outputs": [],
   "source": [
    "def eval_all(**kwargs):    \n",
    "    eval_res, post_res = {}, {}\n",
    "    hparams = None\n",
    "    for domain in tqdm(('res', 'lap')):\n",
    "        for res, func in tqdm(zip((eval_res, post_res), (eval_domain, post_process))):\n",
    "            func_res = func(domain, **kwargs)\n",
    "            hparams = func_res.get('hparams', hparams)\n",
    "            res[domain] = {'hparams': hparams, 'metrics': func_res['metrics']}\n",
    "    return {'eval_res': eval_res, 'post_res': post_res, 'hparams': hparams}\n",
    "\n",
    "def test_hparam(hparam, values, **kwargs):\n",
    "    kwargs_dict = dict(kwargs)\n",
    "    eval_res, post_res = [], []\n",
    "    for v in tqdm(values):\n",
    "        kwargs_dict[hparam] = v\n",
    "        res = eval_all(**kwargs_dict)\n",
    "        eval_res.append(res['eval_res'])\n",
    "        post_res.append(res['post_res'])\n",
    "    test_res = eval_res, post_res, hparam, values\n",
    "    plot_all(*test_res)\n",
    "    final_hparams = res['hparams']\n",
    "    final_hparams.pop(hparam)\n",
    "    print(final_hparams)\n",
    "\n",
    "def plot_per_domain(res_dicts, hparam, values, title):\n",
    "    fig, axs = plt.subplots(1, 2, figsize=(20, 6), sharey=True)\n",
    "    fig.suptitle(title, fontsize=20)\n",
    "\n",
    "    for i, domain in enumerate(['res', 'lap']):\n",
    "        data = [d[domain]['metrics'] for d in res_dicts]\n",
    "        df = pd.DataFrame(data, index=pd.Index(values, name=hparam))\n",
    "        axs[i].set_yticks(np.linspace(.1, .9, num=33))\n",
    "        axs[i].yaxis.set_tick_params(labelbottom=True)\n",
    "        sns.lineplot(data=df, ax=axs[i]).set_title(domain_names[domain])\n",
    "\n",
    "def plot_all(eval_res, post_res, hparam, values):\n",
    "    data = []\n",
    "    for res_dicts in eval_res, post_res:\n",
    "        for i, domain in enumerate(['res', 'lap']):\n",
    "            for res_dict, value in zip(res_dicts, values):\n",
    "                for metric, score in res_dict[domain]['metrics'].items():\n",
    "                    data.append({\n",
    "                                hparam: value,\n",
    "                                'domain': domain_names[domain],\n",
    "                                'Metric': metric,\n",
    "                                'score': score,\n",
    "                                'Lemmatized': res_dicts == post_res})\n",
    "                    \n",
    "    fig = px.line(data, x=hparam, y='score', facet_col='domain', \n",
    "            line_dash='Lemmatized', color='Metric', line_shape='spline', hover_data={\n",
    "                'Lemmatized': False,\n",
    "                hparam: False,\n",
    "                'domain': False,\n",
    "                'Metric': True,\n",
    "                'score': \":.3f\"}).update_layout(title_text=f\"Effect of '{hparam}' Value\", title_x=0.5, hoverlabel=dict(\n",
    "                    font_size=12,\n",
    "                    font_family=\"Rockwell\"),\n",
    "                    font=dict(family=\"Courier New, monospace\", size=18))\\\n",
    "            .update_traces(mode=\"markers+lines\", hovertemplate=\"%{customdata[2]}=%{y:.3f}<extra></extra>\")\\\n",
    "            .update_xaxes(showgrid=False, showspikes=True)\\\n",
    "            .show(\"notebook\")"
   ]
  },
  {
   "cell_type": "code",
   "execution_count": 11,
   "metadata": {},
   "outputs": [],
   "source": [
    "# test_hparam(hparam='model', values=('roberta-base', 'google/electra-small-generator', 'xlm-roberta-base'),\n",
    "#             pattern=P5)"
   ]
  },
  {
   "cell_type": "code",
   "execution_count": 12,
   "metadata": {},
   "outputs": [],
   "source": [
    "# test_hparam(hparam='model', values=('roberta-base', 'google/electra-small-generator', 'xlm-roberta-base'),\n",
    "#             pattern=P1)"
   ]
  },
  {
   "cell_type": "code",
   "execution_count": 13,
   "metadata": {},
   "outputs": [],
   "source": [
    "# test_hparam(hparam='top_k', values=(8, 13), model='roberta-base', pattern=P5, limit=100)"
   ]
  },
  {
   "cell_type": "code",
   "execution_count": 14,
   "metadata": {
    "colab": {
     "base_uri": "https://localhost:8080/"
    },
    "id": "AQLrLjqupgpA",
    "outputId": "44dcc9d5-2a7b-40e7-81e6-e904ee0cd472"
   },
   "outputs": [],
   "source": [
    "# test_hparam(hparam='pattern', values=(P1, P5), model='roberta-base', limit=10)"
   ]
  },
  {
   "cell_type": "code",
   "execution_count": 15,
   "metadata": {
    "id": "d8bjU45YhDQZ"
   },
   "outputs": [],
   "source": [
    "# test_thresh = test_hparam('thresh', (-.01, 0., 0.01, 0.02, 0.03, 0.04), pattern=P1, model=\"roberta-base\")"
   ]
  },
  {
   "cell_type": "markdown",
   "metadata": {},
   "source": [
    "## Masked Pattern Language Modeling"
   ]
  },
  {
   "cell_type": "code",
   "execution_count": 16,
   "metadata": {},
   "outputs": [],
   "source": [
    "def apply_pattern(P1):\n",
    "    def apply(text):\n",
    "        delim = ' ' if text[-1] in ('.', '!', '?') else '. '\n",
    "        return delim.join([text, P1])\n",
    "    return apply\n",
    "\n",
    "def mlm_splits(ds, pattern):\n",
    "    P = apply_pattern(pattern)\n",
    "    split_point = int(len(ds) * 0.7)\n",
    "    mlm_train = ds[:split_point]\n",
    "    mlm_test = ds[split_point:]\n",
    "    with open('train.txt', 'w') as f:\n",
    "        f.writelines(P(x) + '\\n' for x, *_ in mlm_train)\n",
    "    with open('test.txt', 'w') as f:\n",
    "        f.writelines(P(x) + '\\n' for x, *_ in mlm_test)    "
   ]
  },
  {
   "cell_type": "code",
   "execution_count": 17,
   "metadata": {},
   "outputs": [],
   "source": [
    "# mlm_splits(res_ds, P5)"
   ]
  },
  {
   "cell_type": "markdown",
   "metadata": {},
   "source": [
    "Get HF's MLM Script"
   ]
  },
  {
   "cell_type": "code",
   "execution_count": 18,
   "metadata": {},
   "outputs": [],
   "source": [
    "# !wget -q https://raw.githubusercontent.com/huggingface/transformers/master/examples/language-modeling/run_mlm.py"
   ]
  },
  {
   "cell_type": "code",
   "execution_count": 3,
   "metadata": {},
   "outputs": [
    {
     "name": "stdout",
     "output_type": "stream",
     "text": [
      "usage: run_mlm.py [-h] [--model_name_or_path MODEL_NAME_OR_PATH]\r\n",
      "                  [--model_type MODEL_TYPE] [--config_name CONFIG_NAME]\r\n",
      "                  [--tokenizer_name TOKENIZER_NAME] [--cache_dir CACHE_DIR]\r\n",
      "                  [--no_use_fast_tokenizer]\r\n",
      "                  [--use_fast_tokenizer [USE_FAST_TOKENIZER]]\r\n",
      "                  [--model_revision MODEL_REVISION]\r\n",
      "                  [--use_auth_token [USE_AUTH_TOKEN]]\r\n",
      "                  [--dataset_name DATASET_NAME]\r\n",
      "                  [--dataset_config_name DATASET_CONFIG_NAME]\r\n",
      "                  [--train_file TRAIN_FILE]\r\n",
      "                  [--validation_file VALIDATION_FILE]\r\n",
      "                  [--overwrite_cache [OVERWRITE_CACHE]]\r\n",
      "                  [--validation_split_percentage VALIDATION_SPLIT_PERCENTAGE]\r\n",
      "                  [--max_seq_length MAX_SEQ_LENGTH]\r\n",
      "                  [--preprocessing_num_workers PREPROCESSING_NUM_WORKERS]\r\n",
      "                  [--mlm_probability MLM_PROBABILITY]\r\n",
      "                  [--line_by_line [LINE_BY_LINE]]\r\n",
      "                  [--pad_to_max_length [PAD_TO_MAX_LENGTH]]\r\n",
      "                  [--output_dir OUTPUT_DIR]\r\n",
      "                  [--overwrite_output_dir [OVERWRITE_OUTPUT_DIR]]\r\n",
      "                  [--do_train [DO_TRAIN]] [--do_eval [DO_EVAL]]\r\n",
      "                  [--do_predict [DO_PREDICT]]\r\n",
      "                  [--evaluation_strategy {no,steps,epoch}]\r\n",
      "                  [--prediction_loss_only [PREDICTION_LOSS_ONLY]]\r\n",
      "                  [--per_device_train_batch_size PER_DEVICE_TRAIN_BATCH_SIZE]\r\n",
      "                  [--per_device_eval_batch_size PER_DEVICE_EVAL_BATCH_SIZE]\r\n",
      "                  [--per_gpu_train_batch_size PER_GPU_TRAIN_BATCH_SIZE]\r\n",
      "                  [--per_gpu_eval_batch_size PER_GPU_EVAL_BATCH_SIZE]\r\n",
      "                  [--gradient_accumulation_steps GRADIENT_ACCUMULATION_STEPS]\r\n",
      "                  [--eval_accumulation_steps EVAL_ACCUMULATION_STEPS]\r\n",
      "                  [--learning_rate LEARNING_RATE]\r\n",
      "                  [--weight_decay WEIGHT_DECAY] [--adam_beta1 ADAM_BETA1]\r\n",
      "                  [--adam_beta2 ADAM_BETA2] [--adam_epsilon ADAM_EPSILON]\r\n",
      "                  [--max_grad_norm MAX_GRAD_NORM]\r\n",
      "                  [--num_train_epochs NUM_TRAIN_EPOCHS]\r\n",
      "                  [--max_steps MAX_STEPS]\r\n",
      "                  [--lr_scheduler_type {linear,cosine,cosine_with_restarts,polynomial,constant,constant_with_warmup}]\r\n",
      "                  [--warmup_steps WARMUP_STEPS] [--logging_dir LOGGING_DIR]\r\n",
      "                  [--logging_first_step [LOGGING_FIRST_STEP]]\r\n",
      "                  [--logging_steps LOGGING_STEPS] [--save_steps SAVE_STEPS]\r\n",
      "                  [--save_total_limit SAVE_TOTAL_LIMIT] [--no_cuda [NO_CUDA]]\r\n",
      "                  [--seed SEED] [--fp16 [FP16]]\r\n",
      "                  [--fp16_opt_level FP16_OPT_LEVEL]\r\n",
      "                  [--fp16_backend {auto,amp,apex}] [--local_rank LOCAL_RANK]\r\n",
      "                  [--tpu_num_cores TPU_NUM_CORES]\r\n",
      "                  [--tpu_metrics_debug [TPU_METRICS_DEBUG]] [--debug [DEBUG]]\r\n",
      "                  [--dataloader_drop_last [DATALOADER_DROP_LAST]]\r\n",
      "                  [--eval_steps EVAL_STEPS]\r\n",
      "                  [--dataloader_num_workers DATALOADER_NUM_WORKERS]\r\n",
      "                  [--past_index PAST_INDEX] [--run_name RUN_NAME]\r\n",
      "                  [--disable_tqdm DISABLE_TQDM] [--no_remove_unused_columns]\r\n",
      "                  [--remove_unused_columns [REMOVE_UNUSED_COLUMNS]]\r\n",
      "                  [--label_names LABEL_NAMES [LABEL_NAMES ...]]\r\n",
      "                  [--load_best_model_at_end [LOAD_BEST_MODEL_AT_END]]\r\n",
      "                  [--metric_for_best_model METRIC_FOR_BEST_MODEL]\r\n",
      "                  [--greater_is_better GREATER_IS_BETTER]\r\n",
      "                  [--ignore_data_skip [IGNORE_DATA_SKIP]]\r\n",
      "                  [--sharded_ddp [SHARDED_DDP]] [--deepspeed DEEPSPEED]\r\n",
      "                  [--label_smoothing_factor LABEL_SMOOTHING_FACTOR]\r\n",
      "                  [--adafactor [ADAFACTOR]]\r\n",
      "                  [--group_by_length [GROUP_BY_LENGTH]]\r\n",
      "                  [--report_to REPORT_TO [REPORT_TO ...]]\r\n",
      "                  [--ddp_find_unused_parameters DDP_FIND_UNUSED_PARAMETERS]\r\n",
      "                  [--no_dataloader_pin_memory]\r\n",
      "                  [--dataloader_pin_memory [DATALOADER_PIN_MEMORY]]\r\n",
      "\r\n",
      "optional arguments:\r\n",
      "  -h, --help            show this help message and exit\r\n",
      "  --model_name_or_path MODEL_NAME_OR_PATH\r\n",
      "                        The model checkpoint for weights initialization.Don't\r\n",
      "                        set if you want to train a model from scratch.\r\n",
      "  --model_type MODEL_TYPE\r\n",
      "                        If training from scratch, pass a model type from the\r\n",
      "                        list: wav2vec2, convbert, layoutlm, distilbert,\r\n",
      "                        albert, bart, mbart, camembert, xlm-roberta,\r\n",
      "                        longformer, roberta, squeezebert, bert, mobilebert,\r\n",
      "                        flaubert, xlm, electra, reformer, funnel, mpnet,\r\n",
      "                        tapas, deberta\r\n",
      "  --config_name CONFIG_NAME\r\n",
      "                        Pretrained config name or path if not the same as\r\n",
      "                        model_name\r\n",
      "  --tokenizer_name TOKENIZER_NAME\r\n",
      "                        Pretrained tokenizer name or path if not the same as\r\n",
      "                        model_name\r\n",
      "  --cache_dir CACHE_DIR\r\n",
      "                        Where do you want to store the pretrained models\r\n",
      "                        downloaded from huggingface.co\r\n",
      "  --no_use_fast_tokenizer\r\n",
      "                        Whether to use one of the fast tokenizer (backed by\r\n",
      "                        the tokenizers library) or not.\r\n",
      "  --use_fast_tokenizer [USE_FAST_TOKENIZER]\r\n",
      "                        Whether to use one of the fast tokenizer (backed by\r\n",
      "                        the tokenizers library) or not.\r\n",
      "  --model_revision MODEL_REVISION\r\n",
      "                        The specific model version to use (can be a branch\r\n",
      "                        name, tag name or commit id).\r\n",
      "  --use_auth_token [USE_AUTH_TOKEN]\r\n",
      "                        Will use the token generated when running\r\n",
      "                        `transformers-cli login` (necessary to use this script\r\n",
      "                        with private models).\r\n",
      "  --dataset_name DATASET_NAME\r\n",
      "                        The name of the dataset to use (via the datasets\r\n",
      "                        library).\r\n",
      "  --dataset_config_name DATASET_CONFIG_NAME\r\n",
      "                        The configuration name of the dataset to use (via the\r\n",
      "                        datasets library).\r\n",
      "  --train_file TRAIN_FILE\r\n",
      "                        The input training data file (a text file).\r\n",
      "  --validation_file VALIDATION_FILE\r\n",
      "                        An optional input evaluation data file to evaluate the\r\n",
      "                        perplexity on (a text file).\r\n",
      "  --overwrite_cache [OVERWRITE_CACHE]\r\n",
      "                        Overwrite the cached training and evaluation sets\r\n",
      "  --validation_split_percentage VALIDATION_SPLIT_PERCENTAGE\r\n",
      "                        The percentage of the train set used as validation set\r\n",
      "                        in case there's no validation split\r\n",
      "  --max_seq_length MAX_SEQ_LENGTH\r\n",
      "                        The maximum total input sequence length after\r\n",
      "                        tokenization. Sequences longer than this will be\r\n",
      "                        truncated.\r\n",
      "  --preprocessing_num_workers PREPROCESSING_NUM_WORKERS\r\n",
      "                        The number of processes to use for the preprocessing.\r\n",
      "  --mlm_probability MLM_PROBABILITY\r\n",
      "                        Ratio of tokens to mask for masked language modeling\r\n",
      "                        loss\r\n",
      "  --line_by_line [LINE_BY_LINE]\r\n",
      "                        Whether distinct lines of text in the dataset are to\r\n",
      "                        be handled as distinct sequences.\r\n",
      "  --pad_to_max_length [PAD_TO_MAX_LENGTH]\r\n",
      "                        Whether to pad all samples to `max_seq_length`. If\r\n",
      "                        False, will pad the samples dynamically when batching\r\n",
      "                        to the maximum length in the batch.\r\n",
      "  --output_dir OUTPUT_DIR\r\n",
      "                        The output directory where the model predictions and\r\n",
      "                        checkpoints will be written.\r\n",
      "  --overwrite_output_dir [OVERWRITE_OUTPUT_DIR]\r\n",
      "                        Overwrite the content of the output directory.Use this\r\n",
      "                        to continue training if output_dir points to a\r\n",
      "                        checkpoint directory.\r\n",
      "  --do_train [DO_TRAIN]\r\n",
      "                        Whether to run training.\r\n",
      "  --do_eval [DO_EVAL]   Whether to run eval on the dev set.\r\n",
      "  --do_predict [DO_PREDICT]\r\n",
      "                        Whether to run predictions on the test set.\r\n",
      "  --evaluation_strategy {no,steps,epoch}\r\n",
      "                        The evaluation strategy to use.\r\n",
      "  --prediction_loss_only [PREDICTION_LOSS_ONLY]\r\n",
      "                        When performing evaluation and predictions, only\r\n",
      "                        returns the loss.\r\n",
      "  --per_device_train_batch_size PER_DEVICE_TRAIN_BATCH_SIZE\r\n",
      "                        Batch size per GPU/TPU core/CPU for training.\r\n",
      "  --per_device_eval_batch_size PER_DEVICE_EVAL_BATCH_SIZE\r\n",
      "                        Batch size per GPU/TPU core/CPU for evaluation.\r\n",
      "  --per_gpu_train_batch_size PER_GPU_TRAIN_BATCH_SIZE\r\n",
      "                        Deprecated, the use of `--per_device_train_batch_size`\r\n",
      "                        is preferred. Batch size per GPU/TPU core/CPU for\r\n",
      "                        training.\r\n",
      "  --per_gpu_eval_batch_size PER_GPU_EVAL_BATCH_SIZE\r\n",
      "                        Deprecated, the use of `--per_device_eval_batch_size`\r\n",
      "                        is preferred.Batch size per GPU/TPU core/CPU for\r\n",
      "                        evaluation.\r\n",
      "  --gradient_accumulation_steps GRADIENT_ACCUMULATION_STEPS\r\n",
      "                        Number of updates steps to accumulate before\r\n",
      "                        performing a backward/update pass.\r\n",
      "  --eval_accumulation_steps EVAL_ACCUMULATION_STEPS\r\n",
      "                        Number of predictions steps to accumulate before\r\n",
      "                        moving the tensors to the CPU.\r\n",
      "  --learning_rate LEARNING_RATE\r\n",
      "                        The initial learning rate for AdamW.\r\n",
      "  --weight_decay WEIGHT_DECAY\r\n",
      "                        Weight decay for AdamW if we apply some.\r\n",
      "  --adam_beta1 ADAM_BETA1\r\n",
      "                        Beta1 for AdamW optimizer\r\n",
      "  --adam_beta2 ADAM_BETA2\r\n",
      "                        Beta2 for AdamW optimizer\r\n",
      "  --adam_epsilon ADAM_EPSILON\r\n",
      "                        Epsilon for AdamW optimizer.\r\n",
      "  --max_grad_norm MAX_GRAD_NORM\r\n",
      "                        Max gradient norm.\r\n",
      "  --num_train_epochs NUM_TRAIN_EPOCHS\r\n",
      "                        Total number of training epochs to perform.\r\n",
      "  --max_steps MAX_STEPS\r\n",
      "                        If > 0: set total number of training steps to perform.\r\n",
      "                        Override num_train_epochs.\r\n",
      "  --lr_scheduler_type {linear,cosine,cosine_with_restarts,polynomial,constant,constant_with_warmup}\r\n",
      "                        The scheduler type to use.\r\n",
      "  --warmup_steps WARMUP_STEPS\r\n",
      "                        Linear warmup over warmup_steps.\r\n",
      "  --logging_dir LOGGING_DIR\r\n",
      "                        Tensorboard log dir.\r\n",
      "  --logging_first_step [LOGGING_FIRST_STEP]\r\n",
      "                        Log the first global_step\r\n",
      "  --logging_steps LOGGING_STEPS\r\n",
      "                        Log every X updates steps.\r\n",
      "  --save_steps SAVE_STEPS\r\n",
      "                        Save checkpoint every X updates steps.\r\n",
      "  --save_total_limit SAVE_TOTAL_LIMIT\r\n",
      "                        Limit the total amount of checkpoints.Deletes the\r\n",
      "                        older checkpoints in the output_dir. Default is\r\n",
      "                        unlimited checkpoints\r\n",
      "  --no_cuda [NO_CUDA]   Do not use CUDA even when it is available\r\n",
      "  --seed SEED           Random seed that will be set at the beginning of\r\n",
      "                        training.\r\n",
      "  --fp16 [FP16]         Whether to use 16-bit (mixed) precision (through\r\n",
      "                        NVIDIA Apex) instead of 32-bit\r\n",
      "  --fp16_opt_level FP16_OPT_LEVEL\r\n",
      "                        For fp16: Apex AMP optimization level selected in\r\n",
      "                        ['O0', 'O1', 'O2', and 'O3'].See details at\r\n",
      "                        https://nvidia.github.io/apex/amp.html\r\n",
      "  --fp16_backend {auto,amp,apex}\r\n",
      "                        The backend to be used for mixed precision.\r\n",
      "  --local_rank LOCAL_RANK\r\n",
      "                        For distributed training: local_rank\r\n",
      "  --tpu_num_cores TPU_NUM_CORES\r\n",
      "                        TPU: Number of TPU cores (automatically passed by\r\n",
      "                        launcher script)\r\n",
      "  --tpu_metrics_debug [TPU_METRICS_DEBUG]\r\n",
      "                        Deprecated, the use of `--debug` is preferred. TPU:\r\n",
      "                        Whether to print debug metrics\r\n",
      "  --debug [DEBUG]       Whether to print debug metrics on TPU\r\n",
      "  --dataloader_drop_last [DATALOADER_DROP_LAST]\r\n",
      "                        Drop the last incomplete batch if it is not divisible\r\n",
      "                        by the batch size.\r\n",
      "  --eval_steps EVAL_STEPS\r\n",
      "                        Run an evaluation every X steps.\r\n",
      "  --dataloader_num_workers DATALOADER_NUM_WORKERS\r\n",
      "                        Number of subprocesses to use for data loading\r\n",
      "                        (PyTorch only). 0 means that the data will be loaded\r\n",
      "                        in the main process.\r\n",
      "  --past_index PAST_INDEX\r\n",
      "                        If >=0, uses the corresponding part of the output as\r\n",
      "                        the past state for next step.\r\n",
      "  --run_name RUN_NAME   An optional descriptor for the run. Notably used for\r\n",
      "                        wandb logging.\r\n",
      "  --disable_tqdm DISABLE_TQDM\r\n",
      "                        Whether or not to disable the tqdm progress bars.\r\n",
      "  --no_remove_unused_columns\r\n",
      "                        Remove columns not required by the model when using an\r\n",
      "                        nlp.Dataset.\r\n",
      "  --remove_unused_columns [REMOVE_UNUSED_COLUMNS]\r\n",
      "                        Remove columns not required by the model when using an\r\n",
      "                        nlp.Dataset.\r\n",
      "  --label_names LABEL_NAMES [LABEL_NAMES ...]\r\n",
      "                        The list of keys in your dictionary of inputs that\r\n",
      "                        correspond to the labels.\r\n",
      "  --load_best_model_at_end [LOAD_BEST_MODEL_AT_END]\r\n",
      "                        Whether or not to load the best model found during\r\n",
      "                        training at the end of training.\r\n",
      "  --metric_for_best_model METRIC_FOR_BEST_MODEL\r\n",
      "                        The metric to use to compare two different models.\r\n",
      "  --greater_is_better GREATER_IS_BETTER\r\n",
      "                        Whether the `metric_for_best_model` should be\r\n",
      "                        maximized or not.\r\n",
      "  --ignore_data_skip [IGNORE_DATA_SKIP]\r\n",
      "                        When resuming training, whether or not to skip the\r\n",
      "                        first epochs and batches to get to the same training\r\n",
      "                        data.\r\n",
      "  --sharded_ddp [SHARDED_DDP]\r\n",
      "                        Whether or not to use sharded DDP training (in\r\n",
      "                        distributed training only).\r\n",
      "  --deepspeed DEEPSPEED\r\n",
      "                        Enable deepspeed and pass the path to deepspeed json\r\n",
      "                        config file (e.g. ds_config.json)\r\n",
      "  --label_smoothing_factor LABEL_SMOOTHING_FACTOR\r\n",
      "                        The label smoothing epsilon to apply (zero means no\r\n",
      "                        label smoothing).\r\n",
      "  --adafactor [ADAFACTOR]\r\n",
      "                        Whether or not to replace AdamW by Adafactor.\r\n",
      "  --group_by_length [GROUP_BY_LENGTH]\r\n",
      "                        Whether or not to group samples of roughly the same\r\n",
      "                        length together when batching.\r\n",
      "  --report_to REPORT_TO [REPORT_TO ...]\r\n",
      "                        The list of integrations to report the results and\r\n",
      "                        logs to.\r\n",
      "  --ddp_find_unused_parameters DDP_FIND_UNUSED_PARAMETERS\r\n",
      "                        When using distributed training, the value of the flag\r\n",
      "                        `find_unused_parameters` passed to\r\n",
      "                        `DistributedDataParallel`.\r\n",
      "  --no_dataloader_pin_memory\r\n",
      "                        Whether or not to pin memory for DataLoader.\r\n",
      "  --dataloader_pin_memory [DATALOADER_PIN_MEMORY]\r\n",
      "                        Whether or not to pin memory for DataLoader.\r\n"
     ]
    }
   ],
   "source": [
    "!{python} run_mlm.py --help\n",
    "# --validation_file test.txt --no_eval\n",
    "# --help #--seed=42 --num_train_epochs --validation_split_percentage "
   ]
  },
  {
   "cell_type": "code",
   "execution_count": 6,
   "metadata": {},
   "outputs": [
    {
     "name": "stdout",
     "output_type": "stream",
     "text": [
      "02/09/2021 16:01:01 - WARNING - __main__ -   Process rank: -1, device: cuda:0, n_gpu: 4distributed training: False, 16-bits training: False\n",
      "02/09/2021 16:01:01 - INFO - __main__ -   Training/evaluation parameters TrainingArguments(output_dir=., overwrite_output_dir=True, do_train=True, do_eval=True, do_predict=False, evaluation_strategy=EvaluationStrategy.EPOCH, prediction_loss_only=False, per_device_train_batch_size=1, per_device_eval_batch_size=8, gradient_accumulation_steps=1, eval_accumulation_steps=None, learning_rate=0.0005, weight_decay=0.0, adam_beta1=0.9, adam_beta2=0.999, adam_epsilon=1e-08, max_grad_norm=1.0, num_train_epochs=2.0, max_steps=-1, lr_scheduler_type=SchedulerType.LINEAR, warmup_steps=0, logging_dir=runs/Feb09_16-01-01_aipg-nlp01, logging_first_step=False, logging_steps=500, save_steps=500, save_total_limit=None, no_cuda=False, seed=42, fp16=False, fp16_opt_level=O1, fp16_backend=auto, local_rank=-1, tpu_num_cores=None, tpu_metrics_debug=False, debug=False, dataloader_drop_last=False, eval_steps=500, dataloader_num_workers=0, past_index=-1, run_name=., disable_tqdm=False, remove_unused_columns=True, label_names=None, load_best_model_at_end=False, metric_for_best_model=None, greater_is_better=None, ignore_data_skip=False, sharded_ddp=False, deepspeed=None, label_smoothing_factor=0.0, adafactor=False, group_by_length=False, report_to=[], ddp_find_unused_parameters=None, dataloader_pin_memory=True, _n_gpu=4)\n",
      "Using custom data configuration default\n",
      "Reusing dataset text (/home/daniel_nlp/.cache/huggingface/datasets/text/default-f50ef10dbdd2d730/0.0.0/daf90a707a433ac193b369c8cc1772139bb6cca21a9c7fe83bdd16aad9b9b6ab)\n",
      "&&&&&&&&&&&&&&&&&&&&&&&&&&&\n",
      "1650\n",
      "[INFO|configuration_utils.py:449] 2021-02-09 16:01:04,940 >> loading configuration file https://huggingface.co/roberta-base/resolve/main/config.json from cache at /home/daniel_nlp/.cache/huggingface/transformers/733bade19e5f0ce98e6531021dd5180994bb2f7b8bd7e80c7968805834ba351e.35205c6cfc956461d8515139f0f8dd5d207a2f336c0c3a83b4bc8dca3518e37b\n",
      "[INFO|configuration_utils.py:485] 2021-02-09 16:01:04,942 >> Model config RobertaConfig {\n",
      "  \"architectures\": [\n",
      "    \"RobertaForMaskedLM\"\n",
      "  ],\n",
      "  \"attention_probs_dropout_prob\": 0.1,\n",
      "  \"bos_token_id\": 0,\n",
      "  \"eos_token_id\": 2,\n",
      "  \"gradient_checkpointing\": false,\n",
      "  \"hidden_act\": \"gelu\",\n",
      "  \"hidden_dropout_prob\": 0.1,\n",
      "  \"hidden_size\": 768,\n",
      "  \"initializer_range\": 0.02,\n",
      "  \"intermediate_size\": 3072,\n",
      "  \"layer_norm_eps\": 1e-05,\n",
      "  \"max_position_embeddings\": 514,\n",
      "  \"model_type\": \"roberta\",\n",
      "  \"num_attention_heads\": 12,\n",
      "  \"num_hidden_layers\": 12,\n",
      "  \"pad_token_id\": 1,\n",
      "  \"position_embedding_type\": \"absolute\",\n",
      "  \"transformers_version\": \"4.4.0.dev0\",\n",
      "  \"type_vocab_size\": 1,\n",
      "  \"use_cache\": true,\n",
      "  \"vocab_size\": 50265\n",
      "}\n",
      "\n",
      "[INFO|configuration_utils.py:449] 2021-02-09 16:01:05,966 >> loading configuration file https://huggingface.co/roberta-base/resolve/main/config.json from cache at /home/daniel_nlp/.cache/huggingface/transformers/733bade19e5f0ce98e6531021dd5180994bb2f7b8bd7e80c7968805834ba351e.35205c6cfc956461d8515139f0f8dd5d207a2f336c0c3a83b4bc8dca3518e37b\n",
      "[INFO|configuration_utils.py:485] 2021-02-09 16:01:05,968 >> Model config RobertaConfig {\n",
      "  \"architectures\": [\n",
      "    \"RobertaForMaskedLM\"\n",
      "  ],\n",
      "  \"attention_probs_dropout_prob\": 0.1,\n",
      "  \"bos_token_id\": 0,\n",
      "  \"eos_token_id\": 2,\n",
      "  \"gradient_checkpointing\": false,\n",
      "  \"hidden_act\": \"gelu\",\n",
      "  \"hidden_dropout_prob\": 0.1,\n",
      "  \"hidden_size\": 768,\n",
      "  \"initializer_range\": 0.02,\n",
      "  \"intermediate_size\": 3072,\n",
      "  \"layer_norm_eps\": 1e-05,\n",
      "  \"max_position_embeddings\": 514,\n",
      "  \"model_type\": \"roberta\",\n",
      "  \"num_attention_heads\": 12,\n",
      "  \"num_hidden_layers\": 12,\n",
      "  \"pad_token_id\": 1,\n",
      "  \"position_embedding_type\": \"absolute\",\n",
      "  \"transformers_version\": \"4.4.0.dev0\",\n",
      "  \"type_vocab_size\": 1,\n",
      "  \"use_cache\": true,\n",
      "  \"vocab_size\": 50265\n",
      "}\n",
      "\n",
      "[INFO|tokenization_utils_base.py:1786] 2021-02-09 16:01:09,262 >> loading file https://huggingface.co/roberta-base/resolve/main/vocab.json from cache at /home/daniel_nlp/.cache/huggingface/transformers/d3ccdbfeb9aaa747ef20432d4976c32ee3fa69663b379deb253ccfce2bb1fdc5.d67d6b367eb24ab43b08ad55e014cf254076934f71d832bbab9ad35644a375ab\n",
      "[INFO|tokenization_utils_base.py:1786] 2021-02-09 16:01:09,262 >> loading file https://huggingface.co/roberta-base/resolve/main/merges.txt from cache at /home/daniel_nlp/.cache/huggingface/transformers/cafdecc90fcab17011e12ac813dd574b4b3fea39da6dd817813efa010262ff3f.5d12962c5ee615a4c803841266e9c3be9a691a924f72d395d3a6c6c81157788b\n",
      "[INFO|tokenization_utils_base.py:1786] 2021-02-09 16:01:09,263 >> loading file https://huggingface.co/roberta-base/resolve/main/tokenizer.json from cache at /home/daniel_nlp/.cache/huggingface/transformers/d53fc0fa09b8342651efd4073d75e19617b3e51287c2a535becda5808a8db287.fc9576039592f026ad76a1c231b89aee8668488c671dfbe6616bab2ed298d730\n",
      "[INFO|modeling_utils.py:1027] 2021-02-09 16:01:10,403 >> loading weights file https://huggingface.co/roberta-base/resolve/main/pytorch_model.bin from cache at /home/daniel_nlp/.cache/huggingface/transformers/51ba668f7ff34e7cdfa9561e8361747738113878850a7d717dbc69de8683aaad.c7efaa30a0d80b2958b876969faa180e485944a849deee4ad482332de65365a7\n",
      "[INFO|modeling_utils.py:1143] 2021-02-09 16:01:15,593 >> All model checkpoint weights were used when initializing RobertaForMaskedLM.\n",
      "\n",
      "[INFO|modeling_utils.py:1152] 2021-02-09 16:01:15,593 >> All the weights of RobertaForMaskedLM were initialized from the model checkpoint at roberta-base.\n",
      "If your task is similar to the task the model of the checkpoint was trained on, you can already use RobertaForMaskedLM for predictions without further training.\n",
      "100%|█████████████████████████████████████████████| 2/2 [00:00<00:00, 11.92ba/s]\n",
      "100%|█████████████████████████████████████████████| 1/1 [00:00<00:00, 24.15ba/s]\n",
      "[INFO|trainer.py:432] 2021-02-09 16:01:18,882 >> The following columns in the training set don't have a corresponding argument in `RobertaForMaskedLM.forward` and have been ignored: special_tokens_mask.\n",
      "[INFO|trainer.py:432] 2021-02-09 16:01:18,883 >> The following columns in the evaluation set don't have a corresponding argument in `RobertaForMaskedLM.forward` and have been ignored: special_tokens_mask.\n",
      "[INFO|trainer.py:837] 2021-02-09 16:01:18,889 >> ***** Running training *****\n",
      "[INFO|trainer.py:838] 2021-02-09 16:01:18,889 >>   Num examples = 1650\n",
      "[INFO|trainer.py:839] 2021-02-09 16:01:18,889 >>   Num Epochs = 2\n",
      "[INFO|trainer.py:840] 2021-02-09 16:01:18,889 >>   Instantaneous batch size per device = 1\n",
      "[INFO|trainer.py:841] 2021-02-09 16:01:18,889 >>   Total train batch size (w. parallel, distributed & accumulation) = 4\n",
      "[INFO|trainer.py:842] 2021-02-09 16:01:18,889 >>   Gradient Accumulation steps = 1\n",
      "[INFO|trainer.py:843] 2021-02-09 16:01:18,889 >>   Total optimization steps = 826\n",
      "  0%|                                                   | 0/826 [00:00<?, ?it/s]/data/home/daniel_nlp/jup/lib/python3.6/site-packages/torch/nn/parallel/_functions.py:64: UserWarning: Was asked to gather along dimension 0, but all input tensors were scalars; will instead unsqueeze and return a vector.\n",
      "  warnings.warn('Was asked to gather along dimension 0, but all '\n",
      " 50%|████████████████████▌                    | 413/826 [01:41<01:29,  4.60it/s][INFO|trainer.py:1600] 2021-02-09 16:03:00,056 >> ***** Running Evaluation *****\n",
      "[INFO|trainer.py:1601] 2021-02-09 16:03:00,056 >>   Num examples = 708\n",
      "[INFO|trainer.py:1602] 2021-02-09 16:03:00,056 >>   Batch size = 32\n",
      "\n",
      "  0%|                                                    | 0/23 [00:00<?, ?it/s]\u001b[A\n",
      "  9%|███▊                                        | 2/23 [00:00<00:01, 19.92it/s]\u001b[A\n",
      " 13%|█████▋                                      | 3/23 [00:00<00:01, 14.89it/s]\u001b[A\n",
      " 17%|███████▋                                    | 4/23 [00:00<00:01, 12.88it/s]\u001b[A\n",
      " 22%|█████████▌                                  | 5/23 [00:00<00:01, 11.49it/s]\u001b[A\n",
      " 26%|███████████▍                                | 6/23 [00:00<00:01, 10.73it/s]\u001b[A\n",
      " 30%|█████████████▍                              | 7/23 [00:00<00:01, 10.48it/s]\u001b[A\n",
      " 35%|███████████████▎                            | 8/23 [00:00<00:01, 10.32it/s]\u001b[A\n",
      " 39%|█████████████████▏                          | 9/23 [00:00<00:01,  9.87it/s]\u001b[A\n",
      " 43%|██████████████████▋                        | 10/23 [00:00<00:01,  9.57it/s]\u001b[A\n",
      " 48%|████████████████████▌                      | 11/23 [00:01<00:01,  9.52it/s]\u001b[A\n",
      " 52%|██████████████████████▍                    | 12/23 [00:01<00:01,  9.63it/s]\u001b[A\n",
      " 57%|████████████████████████▎                  | 13/23 [00:01<00:01,  9.65it/s]\u001b[A\n",
      " 61%|██████████████████████████▏                | 14/23 [00:01<00:00,  9.73it/s]\u001b[A\n",
      " 65%|████████████████████████████               | 15/23 [00:01<00:00,  9.72it/s]\u001b[A\n",
      " 70%|█████████████████████████████▉             | 16/23 [00:01<00:00,  8.32it/s]\u001b[A\n",
      " 74%|███████████████████████████████▊           | 17/23 [00:01<00:00,  8.73it/s]\u001b[A\n",
      " 83%|███████████████████████████████████▌       | 19/23 [00:01<00:00,  8.98it/s]\u001b[A\n",
      " 87%|█████████████████████████████████████▍     | 20/23 [00:02<00:00,  9.11it/s]\u001b[A\n",
      " 91%|███████████████████████████████████████▎   | 21/23 [00:02<00:00,  9.30it/s]\u001b[A\n",
      "                                                                                \u001b[A\n",
      "\u001b[A{'eval_loss': 5.832610607147217, 'eval_runtime': 2.4337, 'eval_samples_per_second': 290.911, 'epoch': 1.0}\n",
      " 50%|████████████████████▌                    | 413/826 [01:43<01:29,  4.60it/s]\n",
      "100%|███████████████████████████████████████████| 23/23 [00:02<00:00,  9.48it/s]\u001b[A\n",
      "{'loss': 5.4524, 'learning_rate': 0.00019733656174334143, 'epoch': 1.21}        \u001b[A\n",
      " 61%|████████████████████████▊                | 500/826 [02:03<01:13,  4.43it/s][INFO|trainer.py:1408] 2021-02-09 16:03:22,355 >> Saving model checkpoint to ./checkpoint-500\n",
      "[INFO|configuration_utils.py:304] 2021-02-09 16:03:22,357 >> Configuration saved in ./checkpoint-500/config.json\n",
      "[INFO|modeling_utils.py:817] 2021-02-09 16:03:23,762 >> Model weights saved in ./checkpoint-500/pytorch_model.bin\n",
      "/data/home/daniel_nlp/jup/lib/python3.6/site-packages/torch/nn/parallel/_functions.py:64: UserWarning: Was asked to gather along dimension 0, but all input tensors were scalars; will instead unsqueeze and return a vector.\n",
      "  warnings.warn('Was asked to gather along dimension 0, but all '\n",
      "100%|█████████████████████████████████████████| 826/826 [03:25<00:00,  4.51it/s][INFO|trainer.py:1600] 2021-02-09 16:04:43,949 >> ***** Running Evaluation *****\n",
      "[INFO|trainer.py:1601] 2021-02-09 16:04:43,949 >>   Num examples = 708\n",
      "[INFO|trainer.py:1602] 2021-02-09 16:04:43,950 >>   Batch size = 32\n",
      "\n",
      "  0%|                                                    | 0/23 [00:00<?, ?it/s]\u001b[A\n",
      "  9%|███▊                                        | 2/23 [00:00<00:01, 19.05it/s]\u001b[A\n",
      " 13%|█████▋                                      | 3/23 [00:00<00:01, 14.54it/s]\u001b[A\n",
      " 17%|███████▋                                    | 4/23 [00:00<00:01, 12.31it/s]\u001b[A\n",
      " 22%|█████████▌                                  | 5/23 [00:00<00:01, 11.13it/s]\u001b[A\n",
      " 26%|███████████▍                                | 6/23 [00:00<00:01, 10.39it/s]\u001b[A\n",
      " 30%|█████████████▍                              | 7/23 [00:00<00:01, 10.05it/s]\u001b[A\n",
      " 35%|███████████████▎                            | 8/23 [00:00<00:01,  8.40it/s]\u001b[A\n",
      " 39%|█████████████████▏                          | 9/23 [00:00<00:01,  8.49it/s]\u001b[A\n",
      " 43%|██████████████████▋                        | 10/23 [00:01<00:01,  8.49it/s]\u001b[A\n",
      " 48%|████████████████████▌                      | 11/23 [00:01<00:01,  8.65it/s]\u001b[A\n",
      " 52%|██████████████████████▍                    | 12/23 [00:01<00:01,  8.87it/s]\u001b[A\n",
      " 57%|████████████████████████▎                  | 13/23 [00:01<00:01,  8.96it/s]\u001b[A\n",
      " 61%|██████████████████████████▏                | 14/23 [00:01<00:00,  9.03it/s]\u001b[A\n",
      " 65%|████████████████████████████               | 15/23 [00:01<00:00,  9.07it/s]\u001b[A\n",
      " 70%|█████████████████████████████▉             | 16/23 [00:01<00:00,  9.10it/s]\u001b[A\n",
      " 74%|███████████████████████████████▊           | 17/23 [00:01<00:00,  9.13it/s]\u001b[A\n",
      " 78%|█████████████████████████████████▋         | 18/23 [00:01<00:00,  9.20it/s]\u001b[A\n",
      " 83%|███████████████████████████████████▌       | 19/23 [00:02<00:00,  9.14it/s]\u001b[A\n",
      " 87%|█████████████████████████████████████▍     | 20/23 [00:02<00:00,  9.12it/s]\u001b[A\n",
      " 91%|███████████████████████████████████████▎   | 21/23 [00:02<00:00,  9.23it/s]\u001b[A\n",
      " 96%|█████████████████████████████████████████▏ | 22/23 [00:02<00:00,  9.35it/s]\u001b[A\n",
      "                                                                                \u001b[A\n",
      "\u001b[A{'eval_loss': 5.787600517272949, 'eval_runtime': 2.5492, 'eval_samples_per_second': 277.73, 'epoch': 2.0}\n",
      "100%|█████████████████████████████████████████| 826/826 [03:27<00:00,  4.51it/s]\n",
      "100%|███████████████████████████████████████████| 23/23 [00:02<00:00,  9.26it/s]\u001b[A\n",
      "                                                                                \u001b[A[INFO|trainer.py:1007] 2021-02-09 16:04:46,499 >> \n",
      "\n",
      "Training completed. Do not forget to share your model on huggingface.co/models =)\n",
      "\n",
      "\n",
      "{'train_runtime': 207.6102, 'train_samples_per_second': 3.979, 'epoch': 2.0}    \n",
      "100%|█████████████████████████████████████████| 826/826 [03:27<00:00,  3.98it/s]\n",
      "[INFO|trainer.py:1408] 2021-02-09 16:04:46,501 >> Saving model checkpoint to .\n",
      "[INFO|configuration_utils.py:304] 2021-02-09 16:04:46,504 >> Configuration saved in ./config.json\n",
      "[INFO|modeling_utils.py:817] 2021-02-09 16:04:47,830 >> Model weights saved in ./pytorch_model.bin\n",
      "02/09/2021 16:04:47 - INFO - __main__ -   ***** Train results *****\n",
      "02/09/2021 16:04:47 - INFO - __main__ -     epoch = 2.0\n",
      "02/09/2021 16:04:47 - INFO - __main__ -     train_runtime = 207.6102\n",
      "02/09/2021 16:04:47 - INFO - __main__ -     train_samples_per_second = 3.979\n",
      "02/09/2021 16:04:47 - INFO - __main__ -   *** Evaluate ***\n",
      "[INFO|trainer.py:1600] 2021-02-09 16:04:47,931 >> ***** Running Evaluation *****\n",
      "[INFO|trainer.py:1601] 2021-02-09 16:04:47,931 >>   Num examples = 708\n",
      "[INFO|trainer.py:1602] 2021-02-09 16:04:47,931 >>   Batch size = 32\n",
      "100%|███████████████████████████████████████████| 23/23 [00:02<00:00,  9.56it/s]\n",
      "02/09/2021 16:04:50 - INFO - __main__ -   ***** Eval results *****\n",
      "02/09/2021 16:04:50 - INFO - __main__ -     perplexity = 338.2366260245238\n"
     ]
    }
   ],
   "source": [
    "# !export CUDA_VISIBLE_DEVICES=1\n",
    "from sys import executable as python\n",
    "!{python} run_mlm.py --seed=42 --num_train_epochs=2 --learning_rate=5e-04 --line_by_line \\\n",
    "    --output_dir=. --train_file=train.txt --validation_file=test.txt --per_device_train_batch_size=1 \\\n",
    "    --model_type=roberta --model_name_or_path=roberta-base --do_train --do_eval \\\n",
    "    --overwrite_output_dir --overwrite_cache --evaluation_strategy=epoch"
   ]
  },
  {
   "cell_type": "markdown",
   "metadata": {},
   "source": [
    "## QA Method Feasability"
   ]
  },
  {
   "cell_type": "code",
   "execution_count": 21,
   "metadata": {
    "id": "AnfoWJQokuKj"
   },
   "outputs": [],
   "source": [
    "# Q1 = 'Which aspect is being reviewed?'\n",
    "# run_qa(res_ds[:20], Q1)\n",
    "\n",
    "# def run_qa(ds, question):\n",
    "\n",
    "#     print(f'Question: {question}')\n",
    "#     for i, (text, tokens, gold_bio, aspects) in tqdm(enumerate(ds)):\n",
    "#         QA_input = {\n",
    "#             'question': question,\n",
    "#             'context': text\n",
    "#         }\n",
    "#         print()\n",
    "#         print(i, text)\n",
    "#         print(f\"gold: {aspects}\")\n",
    "#         print('\\n'.join([str((t['answer'], t['score'])) for t in qa_roberta(QA_input, topk=4)]))\n",
    "#         print()\n",
    "\n",
    "# qa_model = f'deepset/roberta-base-squad2'\n",
    "# qa_roberta = pipeline('question-answering', model=qa_model, framework=\"pt\", device=0)"
   ]
  },
  {
   "cell_type": "markdown",
   "metadata": {},
   "source": [
    "## DEBERTA - Not Working"
   ]
  },
  {
   "cell_type": "code",
   "execution_count": 23,
   "metadata": {},
   "outputs": [],
   "source": [
    "# from transformers import AutoModelForMaskedLM, AutoTokenizer\n",
    "# import torch\n",
    "# model_name = 'microsoft/deberta-base'\n",
    "# tokenizer = AutoTokenizer.from_pretrained(model_name)\n",
    "# # model = AutoModelForMaskedLM.from_pretrained(model_name)\n",
    "\n",
    "# # tokenizer = AutoTokenizer.from_pretrained('microsoft/deberta-base')\n",
    "# # ids = tokenizer.tokenize(\"I have a new GPU!\")\n",
    "# # print([tokenizer.gpt2_tokenizer.decode([i]) for i in ids])\n",
    "# # print(tokenizer.encode(\"I have a new GPU!\", return_tensors=\"pt\"))\n",
    "# # print(tokenizer.tokenize(\"I have a new GPU!\"))\n",
    "\n",
    "# def mlm(text, pattern, tokenizer, model):\n",
    "#     text += ' ' + pattern\n",
    "#     print(f\"Text: {text}\")\n",
    "#     tokenized = tokenizer.tokenize(text)\n",
    "#     input = torch.tensor([[int(i) if i != '[MASK]' else tokenizer.mask_token_id for i in tokenized]])\n",
    "\n",
    "# #     input = tokenizer.encode(text, return_tensors=\"pt\")\n",
    "#     print(f\"input: {input}\")\n",
    "#     print(f\"tokenizer.mask_token_id {tokenizer.mask_token_id}\")\n",
    "#     print(tokenizer.mask_token_id in input)\n",
    "#     what, mask_token_index = torch.where(input == tokenizer.mask_token_id)\n",
    "#     print(what, mask_token_index)\n",
    "#     print(f\"mask_token_index: {mask_token_index}\")\n",
    "#     token_logits = model(input).logits\n",
    "#     print(f\"token_logits: {token_logits}\")\n",
    "#     mask_token_logits = token_logits[0, mask_token_index, :]\n",
    "#     print(f\"mask_token_logits: {mask_token_logits}\")\n",
    "#     top_k = torch.topk(mask_token_logits, 5, dim=1).indices[0].tolist()\n",
    "#     print(f\"top_k: {top_k}\")\n",
    "\n",
    "#     for token in top_k:\n",
    "#         print(tokenizer.gpt2_tokenizer.decode([token]))\n",
    "\n",
    "# mlm(\"First sentence.\", \"[MASK] pattern.\", tokenizer, model)"
   ]
  },
  {
   "cell_type": "code",
   "execution_count": null,
   "metadata": {},
   "outputs": [],
   "source": [
    "# model_name = 'microsoft/deberta-base'\n",
    "# tokenizer = AutoTokenizer.from_pretrained(model_name)\n",
    "\n",
    "res = pipeline('fill-mask', model=model_name, tokenizer=tokenizer, framework=\"pt\", device=3)\\\n",
    "    (\"But the staff was so horrible to us. So, my review focuses on the  [MASK].\")\n",
    "\n",
    "gp2_tokenizer = tokenizer.gpt2_tokenizer\n",
    "\n",
    "[gp2_tokenizer.decode([d['token']]) for d in res]"
   ]
  }
 ],
 "metadata": {
  "accelerator": "GPU",
  "celltoolbar": "Raw Cell Format",
  "colab": {
   "collapsed_sections": [],
   "name": "Few_Shot_ABSA_v2.ipynb",
   "provenance": []
  },
  "kernelspec": {
   "display_name": "jup",
   "language": "python",
   "name": "jup"
  },
  "language_info": {
   "codemirror_mode": {
    "name": "ipython",
    "version": 3
   },
   "file_extension": ".py",
   "mimetype": "text/x-python",
   "name": "python",
   "nbconvert_exporter": "python",
   "pygments_lexer": "ipython3",
   "version": "3.6.8"
  },
  "widgets": {
   "application/vnd.jupyter.widget-state+json": {
    "07a87532d19543fbbbb5ab5473a6301c": {
     "model_module": "@jupyter-widgets/base",
     "model_name": "LayoutModel",
     "state": {
      "_model_module": "@jupyter-widgets/base",
      "_model_module_version": "1.2.0",
      "_model_name": "LayoutModel",
      "_view_count": null,
      "_view_module": "@jupyter-widgets/base",
      "_view_module_version": "1.2.0",
      "_view_name": "LayoutView",
      "align_content": null,
      "align_items": null,
      "align_self": null,
      "border": null,
      "bottom": null,
      "display": null,
      "flex": null,
      "flex_flow": null,
      "grid_area": null,
      "grid_auto_columns": null,
      "grid_auto_flow": null,
      "grid_auto_rows": null,
      "grid_column": null,
      "grid_gap": null,
      "grid_row": null,
      "grid_template_areas": null,
      "grid_template_columns": null,
      "grid_template_rows": null,
      "height": null,
      "justify_content": null,
      "justify_items": null,
      "left": null,
      "margin": null,
      "max_height": null,
      "max_width": null,
      "min_height": null,
      "min_width": null,
      "object_fit": null,
      "object_position": null,
      "order": null,
      "overflow": null,
      "overflow_x": null,
      "overflow_y": null,
      "padding": null,
      "right": null,
      "top": null,
      "visibility": null,
      "width": null
     }
    },
    "08bf4cd88d43479cac47241869943ebd": {
     "model_module": "@jupyter-widgets/base",
     "model_name": "LayoutModel",
     "state": {
      "_model_module": "@jupyter-widgets/base",
      "_model_module_version": "1.2.0",
      "_model_name": "LayoutModel",
      "_view_count": null,
      "_view_module": "@jupyter-widgets/base",
      "_view_module_version": "1.2.0",
      "_view_name": "LayoutView",
      "align_content": null,
      "align_items": null,
      "align_self": null,
      "border": null,
      "bottom": null,
      "display": null,
      "flex": null,
      "flex_flow": null,
      "grid_area": null,
      "grid_auto_columns": null,
      "grid_auto_flow": null,
      "grid_auto_rows": null,
      "grid_column": null,
      "grid_gap": null,
      "grid_row": null,
      "grid_template_areas": null,
      "grid_template_columns": null,
      "grid_template_rows": null,
      "height": null,
      "justify_content": null,
      "justify_items": null,
      "left": null,
      "margin": null,
      "max_height": null,
      "max_width": null,
      "min_height": null,
      "min_width": null,
      "object_fit": null,
      "object_position": null,
      "order": null,
      "overflow": null,
      "overflow_x": null,
      "overflow_y": null,
      "padding": null,
      "right": null,
      "top": null,
      "visibility": null,
      "width": null
     }
    },
    "14d47b1e75fe41a1908fdf0fecd508b1": {
     "model_module": "@jupyter-widgets/base",
     "model_name": "LayoutModel",
     "state": {
      "_model_module": "@jupyter-widgets/base",
      "_model_module_version": "1.2.0",
      "_model_name": "LayoutModel",
      "_view_count": null,
      "_view_module": "@jupyter-widgets/base",
      "_view_module_version": "1.2.0",
      "_view_name": "LayoutView",
      "align_content": null,
      "align_items": null,
      "align_self": null,
      "border": null,
      "bottom": null,
      "display": null,
      "flex": null,
      "flex_flow": null,
      "grid_area": null,
      "grid_auto_columns": null,
      "grid_auto_flow": null,
      "grid_auto_rows": null,
      "grid_column": null,
      "grid_gap": null,
      "grid_row": null,
      "grid_template_areas": null,
      "grid_template_columns": null,
      "grid_template_rows": null,
      "height": null,
      "justify_content": null,
      "justify_items": null,
      "left": null,
      "margin": null,
      "max_height": null,
      "max_width": null,
      "min_height": null,
      "min_width": null,
      "object_fit": null,
      "object_position": null,
      "order": null,
      "overflow": null,
      "overflow_x": null,
      "overflow_y": null,
      "padding": null,
      "right": null,
      "top": null,
      "visibility": null,
      "width": null
     }
    },
    "179965f10edb4ec9b4127ea44a76f6c4": {
     "model_module": "@jupyter-widgets/controls",
     "model_name": "HTMLModel",
     "state": {
      "_dom_classes": [],
      "_model_module": "@jupyter-widgets/controls",
      "_model_module_version": "1.5.0",
      "_model_name": "HTMLModel",
      "_view_count": null,
      "_view_module": "@jupyter-widgets/controls",
      "_view_module_version": "1.5.0",
      "_view_name": "HTMLView",
      "description": "",
      "description_tooltip": null,
      "layout": "IPY_MODEL_ec1b8883ccf54417aa63bfefd69b9e63",
      "placeholder": "​",
      "style": "IPY_MODEL_c04cfecb13c247b7807a64c800027df5",
      "value": " 899k/899k [00:01&lt;00:00, 564kB/s]"
     }
    },
    "1842c81784d94a60a2913cdd9285d1b1": {
     "model_module": "@jupyter-widgets/controls",
     "model_name": "ProgressStyleModel",
     "state": {
      "_model_module": "@jupyter-widgets/controls",
      "_model_module_version": "1.5.0",
      "_model_name": "ProgressStyleModel",
      "_view_count": null,
      "_view_module": "@jupyter-widgets/base",
      "_view_module_version": "1.2.0",
      "_view_name": "StyleView",
      "bar_color": null,
      "description_width": "initial"
     }
    },
    "19ba1e203a184f9589a90f7424b520be": {
     "model_module": "@jupyter-widgets/controls",
     "model_name": "FloatProgressModel",
     "state": {
      "_dom_classes": [],
      "_model_module": "@jupyter-widgets/controls",
      "_model_module_version": "1.5.0",
      "_model_name": "FloatProgressModel",
      "_view_count": null,
      "_view_module": "@jupyter-widgets/controls",
      "_view_module_version": "1.5.0",
      "_view_name": "ProgressView",
      "bar_style": "success",
      "description": "Downloading: 100%",
      "description_tooltip": null,
      "layout": "IPY_MODEL_c388af267a0f4be7aeb58769df49301c",
      "max": 898823,
      "min": 0,
      "orientation": "horizontal",
      "style": "IPY_MODEL_1cf2e983e6314c57a16dd66f63a298f6",
      "value": 898823
     }
    },
    "19bcd911dee54204811826e88b436912": {
     "model_module": "@jupyter-widgets/controls",
     "model_name": "HBoxModel",
     "state": {
      "_dom_classes": [],
      "_model_module": "@jupyter-widgets/controls",
      "_model_module_version": "1.5.0",
      "_model_name": "HBoxModel",
      "_view_count": null,
      "_view_module": "@jupyter-widgets/controls",
      "_view_module_version": "1.5.0",
      "_view_name": "HBoxView",
      "box_style": "",
      "children": [
       "IPY_MODEL_48ee1c4a38914fdd8528638dfd6ac9c6",
       "IPY_MODEL_d9711988746448feb3be7ce9f90d631e"
      ],
      "layout": "IPY_MODEL_3487664c30c142dea6e174eb32d72c4d"
     }
    },
    "1cf2e983e6314c57a16dd66f63a298f6": {
     "model_module": "@jupyter-widgets/controls",
     "model_name": "ProgressStyleModel",
     "state": {
      "_model_module": "@jupyter-widgets/controls",
      "_model_module_version": "1.5.0",
      "_model_name": "ProgressStyleModel",
      "_view_count": null,
      "_view_module": "@jupyter-widgets/base",
      "_view_module_version": "1.2.0",
      "_view_name": "StyleView",
      "bar_color": null,
      "description_width": "initial"
     }
    },
    "1dbb10f8202a4b7fb53a2c3ac3d01590": {
     "model_module": "@jupyter-widgets/controls",
     "model_name": "HBoxModel",
     "state": {
      "_dom_classes": [],
      "_model_module": "@jupyter-widgets/controls",
      "_model_module_version": "1.5.0",
      "_model_name": "HBoxModel",
      "_view_count": null,
      "_view_module": "@jupyter-widgets/controls",
      "_view_module_version": "1.5.0",
      "_view_name": "HBoxView",
      "box_style": "",
      "children": [
       "IPY_MODEL_19ba1e203a184f9589a90f7424b520be",
       "IPY_MODEL_179965f10edb4ec9b4127ea44a76f6c4"
      ],
      "layout": "IPY_MODEL_d519bf6c33ac42c69cd24d806c48869e"
     }
    },
    "212de0a64329480bb50cfd8d1433a4fe": {
     "model_module": "@jupyter-widgets/base",
     "model_name": "LayoutModel",
     "state": {
      "_model_module": "@jupyter-widgets/base",
      "_model_module_version": "1.2.0",
      "_model_name": "LayoutModel",
      "_view_count": null,
      "_view_module": "@jupyter-widgets/base",
      "_view_module_version": "1.2.0",
      "_view_name": "LayoutView",
      "align_content": null,
      "align_items": null,
      "align_self": null,
      "border": null,
      "bottom": null,
      "display": null,
      "flex": null,
      "flex_flow": null,
      "grid_area": null,
      "grid_auto_columns": null,
      "grid_auto_flow": null,
      "grid_auto_rows": null,
      "grid_column": null,
      "grid_gap": null,
      "grid_row": null,
      "grid_template_areas": null,
      "grid_template_columns": null,
      "grid_template_rows": null,
      "height": null,
      "justify_content": null,
      "justify_items": null,
      "left": null,
      "margin": null,
      "max_height": null,
      "max_width": null,
      "min_height": null,
      "min_width": null,
      "object_fit": null,
      "object_position": null,
      "order": null,
      "overflow": null,
      "overflow_x": null,
      "overflow_y": null,
      "padding": null,
      "right": null,
      "top": null,
      "visibility": null,
      "width": null
     }
    },
    "2732ffcd64b849aa893cde10b77f88bc": {
     "model_module": "@jupyter-widgets/base",
     "model_name": "LayoutModel",
     "state": {
      "_model_module": "@jupyter-widgets/base",
      "_model_module_version": "1.2.0",
      "_model_name": "LayoutModel",
      "_view_count": null,
      "_view_module": "@jupyter-widgets/base",
      "_view_module_version": "1.2.0",
      "_view_name": "LayoutView",
      "align_content": null,
      "align_items": null,
      "align_self": null,
      "border": null,
      "bottom": null,
      "display": null,
      "flex": null,
      "flex_flow": null,
      "grid_area": null,
      "grid_auto_columns": null,
      "grid_auto_flow": null,
      "grid_auto_rows": null,
      "grid_column": null,
      "grid_gap": null,
      "grid_row": null,
      "grid_template_areas": null,
      "grid_template_columns": null,
      "grid_template_rows": null,
      "height": null,
      "justify_content": null,
      "justify_items": null,
      "left": null,
      "margin": null,
      "max_height": null,
      "max_width": null,
      "min_height": null,
      "min_width": null,
      "object_fit": null,
      "object_position": null,
      "order": null,
      "overflow": null,
      "overflow_x": null,
      "overflow_y": null,
      "padding": null,
      "right": null,
      "top": null,
      "visibility": null,
      "width": null
     }
    },
    "3487664c30c142dea6e174eb32d72c4d": {
     "model_module": "@jupyter-widgets/base",
     "model_name": "LayoutModel",
     "state": {
      "_model_module": "@jupyter-widgets/base",
      "_model_module_version": "1.2.0",
      "_model_name": "LayoutModel",
      "_view_count": null,
      "_view_module": "@jupyter-widgets/base",
      "_view_module_version": "1.2.0",
      "_view_name": "LayoutView",
      "align_content": null,
      "align_items": null,
      "align_self": null,
      "border": null,
      "bottom": null,
      "display": null,
      "flex": null,
      "flex_flow": null,
      "grid_area": null,
      "grid_auto_columns": null,
      "grid_auto_flow": null,
      "grid_auto_rows": null,
      "grid_column": null,
      "grid_gap": null,
      "grid_row": null,
      "grid_template_areas": null,
      "grid_template_columns": null,
      "grid_template_rows": null,
      "height": null,
      "justify_content": null,
      "justify_items": null,
      "left": null,
      "margin": null,
      "max_height": null,
      "max_width": null,
      "min_height": null,
      "min_width": null,
      "object_fit": null,
      "object_position": null,
      "order": null,
      "overflow": null,
      "overflow_x": null,
      "overflow_y": null,
      "padding": null,
      "right": null,
      "top": null,
      "visibility": null,
      "width": null
     }
    },
    "42c3b21743b94d5aaf708e4360313c8d": {
     "model_module": "@jupyter-widgets/controls",
     "model_name": "DescriptionStyleModel",
     "state": {
      "_model_module": "@jupyter-widgets/controls",
      "_model_module_version": "1.5.0",
      "_model_name": "DescriptionStyleModel",
      "_view_count": null,
      "_view_module": "@jupyter-widgets/base",
      "_view_module_version": "1.2.0",
      "_view_name": "StyleView",
      "description_width": ""
     }
    },
    "45338f3fd8394918b1d60c23fb884098": {
     "model_module": "@jupyter-widgets/controls",
     "model_name": "HBoxModel",
     "state": {
      "_dom_classes": [],
      "_model_module": "@jupyter-widgets/controls",
      "_model_module_version": "1.5.0",
      "_model_name": "HBoxModel",
      "_view_count": null,
      "_view_module": "@jupyter-widgets/controls",
      "_view_module_version": "1.5.0",
      "_view_name": "HBoxView",
      "box_style": "",
      "children": [
       "IPY_MODEL_4bc7439e713c4ad0a5546c9e1459f613",
       "IPY_MODEL_8522e1c3e6cf405597e422c125cf01eb"
      ],
      "layout": "IPY_MODEL_a228d50488c445d3821dd17cc2d5b13b"
     }
    },
    "48209ea58c2f4c15ad7f623337810daf": {
     "model_module": "@jupyter-widgets/controls",
     "model_name": "FloatProgressModel",
     "state": {
      "_dom_classes": [],
      "_model_module": "@jupyter-widgets/controls",
      "_model_module_version": "1.5.0",
      "_model_name": "FloatProgressModel",
      "_view_count": null,
      "_view_module": "@jupyter-widgets/controls",
      "_view_module_version": "1.5.0",
      "_view_name": "ProgressView",
      "bar_style": "success",
      "description": "Downloading: 100%",
      "description_tooltip": null,
      "layout": "IPY_MODEL_14d47b1e75fe41a1908fdf0fecd508b1",
      "max": 1355863,
      "min": 0,
      "orientation": "horizontal",
      "style": "IPY_MODEL_ed13afe2992d498bbb8d92bc7c1ae237",
      "value": 1355863
     }
    },
    "48ee1c4a38914fdd8528638dfd6ac9c6": {
     "model_module": "@jupyter-widgets/controls",
     "model_name": "FloatProgressModel",
     "state": {
      "_dom_classes": [],
      "_model_module": "@jupyter-widgets/controls",
      "_model_module_version": "1.5.0",
      "_model_name": "FloatProgressModel",
      "_view_count": null,
      "_view_module": "@jupyter-widgets/controls",
      "_view_module_version": "1.5.0",
      "_view_name": "ProgressView",
      "bar_style": "success",
      "description": "Downloading: 100%",
      "description_tooltip": null,
      "layout": "IPY_MODEL_07a87532d19543fbbbb5ab5473a6301c",
      "max": 1425941629,
      "min": 0,
      "orientation": "horizontal",
      "style": "IPY_MODEL_1842c81784d94a60a2913cdd9285d1b1",
      "value": 1425941629
     }
    },
    "4bc7439e713c4ad0a5546c9e1459f613": {
     "model_module": "@jupyter-widgets/controls",
     "model_name": "FloatProgressModel",
     "state": {
      "_dom_classes": [],
      "_model_module": "@jupyter-widgets/controls",
      "_model_module_version": "1.5.0",
      "_model_name": "FloatProgressModel",
      "_view_count": null,
      "_view_module": "@jupyter-widgets/controls",
      "_view_module_version": "1.5.0",
      "_view_name": "ProgressView",
      "bar_style": "success",
      "description": "Downloading: 100%",
      "description_tooltip": null,
      "layout": "IPY_MODEL_a3327a247e5e4529a070a189eec45f99",
      "max": 482,
      "min": 0,
      "orientation": "horizontal",
      "style": "IPY_MODEL_e2f948f020b34a4b9072b0c350cf67e6",
      "value": 482
     }
    },
    "52e1395a5ecd4c948b15900d72b9dccc": {
     "model_module": "@jupyter-widgets/base",
     "model_name": "LayoutModel",
     "state": {
      "_model_module": "@jupyter-widgets/base",
      "_model_module_version": "1.2.0",
      "_model_name": "LayoutModel",
      "_view_count": null,
      "_view_module": "@jupyter-widgets/base",
      "_view_module_version": "1.2.0",
      "_view_name": "LayoutView",
      "align_content": null,
      "align_items": null,
      "align_self": null,
      "border": null,
      "bottom": null,
      "display": null,
      "flex": null,
      "flex_flow": null,
      "grid_area": null,
      "grid_auto_columns": null,
      "grid_auto_flow": null,
      "grid_auto_rows": null,
      "grid_column": null,
      "grid_gap": null,
      "grid_row": null,
      "grid_template_areas": null,
      "grid_template_columns": null,
      "grid_template_rows": null,
      "height": null,
      "justify_content": null,
      "justify_items": null,
      "left": null,
      "margin": null,
      "max_height": null,
      "max_width": null,
      "min_height": null,
      "min_width": null,
      "object_fit": null,
      "object_position": null,
      "order": null,
      "overflow": null,
      "overflow_x": null,
      "overflow_y": null,
      "padding": null,
      "right": null,
      "top": null,
      "visibility": null,
      "width": null
     }
    },
    "533512c23d7b47b59a83bc177460a8d9": {
     "model_module": "@jupyter-widgets/controls",
     "model_name": "DescriptionStyleModel",
     "state": {
      "_model_module": "@jupyter-widgets/controls",
      "_model_module_version": "1.5.0",
      "_model_name": "DescriptionStyleModel",
      "_view_count": null,
      "_view_module": "@jupyter-widgets/base",
      "_view_module_version": "1.2.0",
      "_view_name": "StyleView",
      "description_width": ""
     }
    },
    "5b05fe75a5874d33bbc55b1e891dc64b": {
     "model_module": "@jupyter-widgets/controls",
     "model_name": "DescriptionStyleModel",
     "state": {
      "_model_module": "@jupyter-widgets/controls",
      "_model_module_version": "1.5.0",
      "_model_name": "DescriptionStyleModel",
      "_view_count": null,
      "_view_module": "@jupyter-widgets/base",
      "_view_module_version": "1.2.0",
      "_view_name": "StyleView",
      "description_width": ""
     }
    },
    "6cc53dd5ac7e40e7ad12eae540e5d26b": {
     "model_module": "@jupyter-widgets/controls",
     "model_name": "HBoxModel",
     "state": {
      "_dom_classes": [],
      "_model_module": "@jupyter-widgets/controls",
      "_model_module_version": "1.5.0",
      "_model_name": "HBoxModel",
      "_view_count": null,
      "_view_module": "@jupyter-widgets/controls",
      "_view_module_version": "1.5.0",
      "_view_name": "HBoxView",
      "box_style": "",
      "children": [
       "IPY_MODEL_48209ea58c2f4c15ad7f623337810daf",
       "IPY_MODEL_f8db0e8a09f94b0683c9d6c525c0db5b"
      ],
      "layout": "IPY_MODEL_08bf4cd88d43479cac47241869943ebd"
     }
    },
    "7c092f40762e496ebc1fffd98f22a8cb": {
     "model_module": "@jupyter-widgets/base",
     "model_name": "LayoutModel",
     "state": {
      "_model_module": "@jupyter-widgets/base",
      "_model_module_version": "1.2.0",
      "_model_name": "LayoutModel",
      "_view_count": null,
      "_view_module": "@jupyter-widgets/base",
      "_view_module_version": "1.2.0",
      "_view_name": "LayoutView",
      "align_content": null,
      "align_items": null,
      "align_self": null,
      "border": null,
      "bottom": null,
      "display": null,
      "flex": null,
      "flex_flow": null,
      "grid_area": null,
      "grid_auto_columns": null,
      "grid_auto_flow": null,
      "grid_auto_rows": null,
      "grid_column": null,
      "grid_gap": null,
      "grid_row": null,
      "grid_template_areas": null,
      "grid_template_columns": null,
      "grid_template_rows": null,
      "height": null,
      "justify_content": null,
      "justify_items": null,
      "left": null,
      "margin": null,
      "max_height": null,
      "max_width": null,
      "min_height": null,
      "min_width": null,
      "object_fit": null,
      "object_position": null,
      "order": null,
      "overflow": null,
      "overflow_x": null,
      "overflow_y": null,
      "padding": null,
      "right": null,
      "top": null,
      "visibility": null,
      "width": null
     }
    },
    "80200d38a1784678a4469d692ff0dc97": {
     "model_module": "@jupyter-widgets/controls",
     "model_name": "DescriptionStyleModel",
     "state": {
      "_model_module": "@jupyter-widgets/controls",
      "_model_module_version": "1.5.0",
      "_model_name": "DescriptionStyleModel",
      "_view_count": null,
      "_view_module": "@jupyter-widgets/base",
      "_view_module_version": "1.2.0",
      "_view_name": "StyleView",
      "description_width": ""
     }
    },
    "8522e1c3e6cf405597e422c125cf01eb": {
     "model_module": "@jupyter-widgets/controls",
     "model_name": "HTMLModel",
     "state": {
      "_dom_classes": [],
      "_model_module": "@jupyter-widgets/controls",
      "_model_module_version": "1.5.0",
      "_model_name": "HTMLModel",
      "_view_count": null,
      "_view_module": "@jupyter-widgets/controls",
      "_view_module_version": "1.5.0",
      "_view_name": "HTMLView",
      "description": "",
      "description_tooltip": null,
      "layout": "IPY_MODEL_a89410bc3d88485eb9fe3dd7897823b0",
      "placeholder": "​",
      "style": "IPY_MODEL_533512c23d7b47b59a83bc177460a8d9",
      "value": " 482/482 [00:31&lt;00:00, 15.3B/s]"
     }
    },
    "a228d50488c445d3821dd17cc2d5b13b": {
     "model_module": "@jupyter-widgets/base",
     "model_name": "LayoutModel",
     "state": {
      "_model_module": "@jupyter-widgets/base",
      "_model_module_version": "1.2.0",
      "_model_name": "LayoutModel",
      "_view_count": null,
      "_view_module": "@jupyter-widgets/base",
      "_view_module_version": "1.2.0",
      "_view_name": "LayoutView",
      "align_content": null,
      "align_items": null,
      "align_self": null,
      "border": null,
      "bottom": null,
      "display": null,
      "flex": null,
      "flex_flow": null,
      "grid_area": null,
      "grid_auto_columns": null,
      "grid_auto_flow": null,
      "grid_auto_rows": null,
      "grid_column": null,
      "grid_gap": null,
      "grid_row": null,
      "grid_template_areas": null,
      "grid_template_columns": null,
      "grid_template_rows": null,
      "height": null,
      "justify_content": null,
      "justify_items": null,
      "left": null,
      "margin": null,
      "max_height": null,
      "max_width": null,
      "min_height": null,
      "min_width": null,
      "object_fit": null,
      "object_position": null,
      "order": null,
      "overflow": null,
      "overflow_x": null,
      "overflow_y": null,
      "padding": null,
      "right": null,
      "top": null,
      "visibility": null,
      "width": null
     }
    },
    "a3327a247e5e4529a070a189eec45f99": {
     "model_module": "@jupyter-widgets/base",
     "model_name": "LayoutModel",
     "state": {
      "_model_module": "@jupyter-widgets/base",
      "_model_module_version": "1.2.0",
      "_model_name": "LayoutModel",
      "_view_count": null,
      "_view_module": "@jupyter-widgets/base",
      "_view_module_version": "1.2.0",
      "_view_name": "LayoutView",
      "align_content": null,
      "align_items": null,
      "align_self": null,
      "border": null,
      "bottom": null,
      "display": null,
      "flex": null,
      "flex_flow": null,
      "grid_area": null,
      "grid_auto_columns": null,
      "grid_auto_flow": null,
      "grid_auto_rows": null,
      "grid_column": null,
      "grid_gap": null,
      "grid_row": null,
      "grid_template_areas": null,
      "grid_template_columns": null,
      "grid_template_rows": null,
      "height": null,
      "justify_content": null,
      "justify_items": null,
      "left": null,
      "margin": null,
      "max_height": null,
      "max_width": null,
      "min_height": null,
      "min_width": null,
      "object_fit": null,
      "object_position": null,
      "order": null,
      "overflow": null,
      "overflow_x": null,
      "overflow_y": null,
      "padding": null,
      "right": null,
      "top": null,
      "visibility": null,
      "width": null
     }
    },
    "a49177bf86cf44758bffc3aa3fe6a7f3": {
     "model_module": "@jupyter-widgets/controls",
     "model_name": "ProgressStyleModel",
     "state": {
      "_model_module": "@jupyter-widgets/controls",
      "_model_module_version": "1.5.0",
      "_model_name": "ProgressStyleModel",
      "_view_count": null,
      "_view_module": "@jupyter-widgets/base",
      "_view_module_version": "1.2.0",
      "_view_name": "StyleView",
      "bar_color": null,
      "description_width": "initial"
     }
    },
    "a89410bc3d88485eb9fe3dd7897823b0": {
     "model_module": "@jupyter-widgets/base",
     "model_name": "LayoutModel",
     "state": {
      "_model_module": "@jupyter-widgets/base",
      "_model_module_version": "1.2.0",
      "_model_name": "LayoutModel",
      "_view_count": null,
      "_view_module": "@jupyter-widgets/base",
      "_view_module_version": "1.2.0",
      "_view_name": "LayoutView",
      "align_content": null,
      "align_items": null,
      "align_self": null,
      "border": null,
      "bottom": null,
      "display": null,
      "flex": null,
      "flex_flow": null,
      "grid_area": null,
      "grid_auto_columns": null,
      "grid_auto_flow": null,
      "grid_auto_rows": null,
      "grid_column": null,
      "grid_gap": null,
      "grid_row": null,
      "grid_template_areas": null,
      "grid_template_columns": null,
      "grid_template_rows": null,
      "height": null,
      "justify_content": null,
      "justify_items": null,
      "left": null,
      "margin": null,
      "max_height": null,
      "max_width": null,
      "min_height": null,
      "min_width": null,
      "object_fit": null,
      "object_position": null,
      "order": null,
      "overflow": null,
      "overflow_x": null,
      "overflow_y": null,
      "padding": null,
      "right": null,
      "top": null,
      "visibility": null,
      "width": null
     }
    },
    "aa03183357924c47bf484f83baee140a": {
     "model_module": "@jupyter-widgets/controls",
     "model_name": "HBoxModel",
     "state": {
      "_dom_classes": [],
      "_model_module": "@jupyter-widgets/controls",
      "_model_module_version": "1.5.0",
      "_model_name": "HBoxModel",
      "_view_count": null,
      "_view_module": "@jupyter-widgets/controls",
      "_view_module_version": "1.5.0",
      "_view_name": "HBoxView",
      "box_style": "",
      "children": [
       "IPY_MODEL_fb406b5bc5e44a44a5bd4f3df08bab85",
       "IPY_MODEL_b99c6c80d9f84eac9d97aa6ddff8cfa1"
      ],
      "layout": "IPY_MODEL_faf3e5055d3a4068bd27598971bd36db"
     }
    },
    "b99c6c80d9f84eac9d97aa6ddff8cfa1": {
     "model_module": "@jupyter-widgets/controls",
     "model_name": "HTMLModel",
     "state": {
      "_dom_classes": [],
      "_model_module": "@jupyter-widgets/controls",
      "_model_module_version": "1.5.0",
      "_model_name": "HTMLModel",
      "_view_count": null,
      "_view_module": "@jupyter-widgets/controls",
      "_view_module_version": "1.5.0",
      "_view_name": "HTMLView",
      "description": "",
      "description_tooltip": null,
      "layout": "IPY_MODEL_52e1395a5ecd4c948b15900d72b9dccc",
      "placeholder": "​",
      "style": "IPY_MODEL_5b05fe75a5874d33bbc55b1e891dc64b",
      "value": " 456k/456k [00:00&lt;00:00, 591kB/s]"
     }
    },
    "c04cfecb13c247b7807a64c800027df5": {
     "model_module": "@jupyter-widgets/controls",
     "model_name": "DescriptionStyleModel",
     "state": {
      "_model_module": "@jupyter-widgets/controls",
      "_model_module_version": "1.5.0",
      "_model_name": "DescriptionStyleModel",
      "_view_count": null,
      "_view_module": "@jupyter-widgets/base",
      "_view_module_version": "1.2.0",
      "_view_name": "StyleView",
      "description_width": ""
     }
    },
    "c388af267a0f4be7aeb58769df49301c": {
     "model_module": "@jupyter-widgets/base",
     "model_name": "LayoutModel",
     "state": {
      "_model_module": "@jupyter-widgets/base",
      "_model_module_version": "1.2.0",
      "_model_name": "LayoutModel",
      "_view_count": null,
      "_view_module": "@jupyter-widgets/base",
      "_view_module_version": "1.2.0",
      "_view_name": "LayoutView",
      "align_content": null,
      "align_items": null,
      "align_self": null,
      "border": null,
      "bottom": null,
      "display": null,
      "flex": null,
      "flex_flow": null,
      "grid_area": null,
      "grid_auto_columns": null,
      "grid_auto_flow": null,
      "grid_auto_rows": null,
      "grid_column": null,
      "grid_gap": null,
      "grid_row": null,
      "grid_template_areas": null,
      "grid_template_columns": null,
      "grid_template_rows": null,
      "height": null,
      "justify_content": null,
      "justify_items": null,
      "left": null,
      "margin": null,
      "max_height": null,
      "max_width": null,
      "min_height": null,
      "min_width": null,
      "object_fit": null,
      "object_position": null,
      "order": null,
      "overflow": null,
      "overflow_x": null,
      "overflow_y": null,
      "padding": null,
      "right": null,
      "top": null,
      "visibility": null,
      "width": null
     }
    },
    "d519bf6c33ac42c69cd24d806c48869e": {
     "model_module": "@jupyter-widgets/base",
     "model_name": "LayoutModel",
     "state": {
      "_model_module": "@jupyter-widgets/base",
      "_model_module_version": "1.2.0",
      "_model_name": "LayoutModel",
      "_view_count": null,
      "_view_module": "@jupyter-widgets/base",
      "_view_module_version": "1.2.0",
      "_view_name": "LayoutView",
      "align_content": null,
      "align_items": null,
      "align_self": null,
      "border": null,
      "bottom": null,
      "display": null,
      "flex": null,
      "flex_flow": null,
      "grid_area": null,
      "grid_auto_columns": null,
      "grid_auto_flow": null,
      "grid_auto_rows": null,
      "grid_column": null,
      "grid_gap": null,
      "grid_row": null,
      "grid_template_areas": null,
      "grid_template_columns": null,
      "grid_template_rows": null,
      "height": null,
      "justify_content": null,
      "justify_items": null,
      "left": null,
      "margin": null,
      "max_height": null,
      "max_width": null,
      "min_height": null,
      "min_width": null,
      "object_fit": null,
      "object_position": null,
      "order": null,
      "overflow": null,
      "overflow_x": null,
      "overflow_y": null,
      "padding": null,
      "right": null,
      "top": null,
      "visibility": null,
      "width": null
     }
    },
    "d9711988746448feb3be7ce9f90d631e": {
     "model_module": "@jupyter-widgets/controls",
     "model_name": "HTMLModel",
     "state": {
      "_dom_classes": [],
      "_model_module": "@jupyter-widgets/controls",
      "_model_module_version": "1.5.0",
      "_model_name": "HTMLModel",
      "_view_count": null,
      "_view_module": "@jupyter-widgets/controls",
      "_view_module_version": "1.5.0",
      "_view_name": "HTMLView",
      "description": "",
      "description_tooltip": null,
      "layout": "IPY_MODEL_2732ffcd64b849aa893cde10b77f88bc",
      "placeholder": "​",
      "style": "IPY_MODEL_42c3b21743b94d5aaf708e4360313c8d",
      "value": " 1.43G/1.43G [00:18&lt;00:00, 75.9MB/s]"
     }
    },
    "e2f948f020b34a4b9072b0c350cf67e6": {
     "model_module": "@jupyter-widgets/controls",
     "model_name": "ProgressStyleModel",
     "state": {
      "_model_module": "@jupyter-widgets/controls",
      "_model_module_version": "1.5.0",
      "_model_name": "ProgressStyleModel",
      "_view_count": null,
      "_view_module": "@jupyter-widgets/base",
      "_view_module_version": "1.2.0",
      "_view_name": "StyleView",
      "bar_color": null,
      "description_width": "initial"
     }
    },
    "ec1b8883ccf54417aa63bfefd69b9e63": {
     "model_module": "@jupyter-widgets/base",
     "model_name": "LayoutModel",
     "state": {
      "_model_module": "@jupyter-widgets/base",
      "_model_module_version": "1.2.0",
      "_model_name": "LayoutModel",
      "_view_count": null,
      "_view_module": "@jupyter-widgets/base",
      "_view_module_version": "1.2.0",
      "_view_name": "LayoutView",
      "align_content": null,
      "align_items": null,
      "align_self": null,
      "border": null,
      "bottom": null,
      "display": null,
      "flex": null,
      "flex_flow": null,
      "grid_area": null,
      "grid_auto_columns": null,
      "grid_auto_flow": null,
      "grid_auto_rows": null,
      "grid_column": null,
      "grid_gap": null,
      "grid_row": null,
      "grid_template_areas": null,
      "grid_template_columns": null,
      "grid_template_rows": null,
      "height": null,
      "justify_content": null,
      "justify_items": null,
      "left": null,
      "margin": null,
      "max_height": null,
      "max_width": null,
      "min_height": null,
      "min_width": null,
      "object_fit": null,
      "object_position": null,
      "order": null,
      "overflow": null,
      "overflow_x": null,
      "overflow_y": null,
      "padding": null,
      "right": null,
      "top": null,
      "visibility": null,
      "width": null
     }
    },
    "ed13afe2992d498bbb8d92bc7c1ae237": {
     "model_module": "@jupyter-widgets/controls",
     "model_name": "ProgressStyleModel",
     "state": {
      "_model_module": "@jupyter-widgets/controls",
      "_model_module_version": "1.5.0",
      "_model_name": "ProgressStyleModel",
      "_view_count": null,
      "_view_module": "@jupyter-widgets/base",
      "_view_module_version": "1.2.0",
      "_view_name": "StyleView",
      "bar_color": null,
      "description_width": "initial"
     }
    },
    "f8db0e8a09f94b0683c9d6c525c0db5b": {
     "model_module": "@jupyter-widgets/controls",
     "model_name": "HTMLModel",
     "state": {
      "_dom_classes": [],
      "_model_module": "@jupyter-widgets/controls",
      "_model_module_version": "1.5.0",
      "_model_name": "HTMLModel",
      "_view_count": null,
      "_view_module": "@jupyter-widgets/controls",
      "_view_module_version": "1.5.0",
      "_view_name": "HTMLView",
      "description": "",
      "description_tooltip": null,
      "layout": "IPY_MODEL_212de0a64329480bb50cfd8d1433a4fe",
      "placeholder": "​",
      "style": "IPY_MODEL_80200d38a1784678a4469d692ff0dc97",
      "value": " 1.36M/1.36M [00:29&lt;00:00, 46.0kB/s]"
     }
    },
    "faf3e5055d3a4068bd27598971bd36db": {
     "model_module": "@jupyter-widgets/base",
     "model_name": "LayoutModel",
     "state": {
      "_model_module": "@jupyter-widgets/base",
      "_model_module_version": "1.2.0",
      "_model_name": "LayoutModel",
      "_view_count": null,
      "_view_module": "@jupyter-widgets/base",
      "_view_module_version": "1.2.0",
      "_view_name": "LayoutView",
      "align_content": null,
      "align_items": null,
      "align_self": null,
      "border": null,
      "bottom": null,
      "display": null,
      "flex": null,
      "flex_flow": null,
      "grid_area": null,
      "grid_auto_columns": null,
      "grid_auto_flow": null,
      "grid_auto_rows": null,
      "grid_column": null,
      "grid_gap": null,
      "grid_row": null,
      "grid_template_areas": null,
      "grid_template_columns": null,
      "grid_template_rows": null,
      "height": null,
      "justify_content": null,
      "justify_items": null,
      "left": null,
      "margin": null,
      "max_height": null,
      "max_width": null,
      "min_height": null,
      "min_width": null,
      "object_fit": null,
      "object_position": null,
      "order": null,
      "overflow": null,
      "overflow_x": null,
      "overflow_y": null,
      "padding": null,
      "right": null,
      "top": null,
      "visibility": null,
      "width": null
     }
    },
    "fb406b5bc5e44a44a5bd4f3df08bab85": {
     "model_module": "@jupyter-widgets/controls",
     "model_name": "FloatProgressModel",
     "state": {
      "_dom_classes": [],
      "_model_module": "@jupyter-widgets/controls",
      "_model_module_version": "1.5.0",
      "_model_name": "FloatProgressModel",
      "_view_count": null,
      "_view_module": "@jupyter-widgets/controls",
      "_view_module_version": "1.5.0",
      "_view_name": "ProgressView",
      "bar_style": "success",
      "description": "Downloading: 100%",
      "description_tooltip": null,
      "layout": "IPY_MODEL_7c092f40762e496ebc1fffd98f22a8cb",
      "max": 456318,
      "min": 0,
      "orientation": "horizontal",
      "style": "IPY_MODEL_a49177bf86cf44758bffc3aa3fe6a7f3",
      "value": 456318
     }
    }
   }
  }
 },
 "nbformat": 4,
 "nbformat_minor": 1
}
